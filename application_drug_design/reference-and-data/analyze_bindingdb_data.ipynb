{
 "cells": [
  {
   "cell_type": "code",
   "execution_count": 29,
   "id": "417f309a",
   "metadata": {},
   "outputs": [],
   "source": [
    "import pickle\n",
    "\n",
    "import numpy as np\n",
    "import pandas as pd\n",
    "import matplotlib.pyplot as plt\n",
    "import seaborn as sns\n",
    "import plotly.express as px\n",
    "import plotly.graph_objects as go\n",
    "\n",
    "from rdkit import Chem \n",
    "from rdkit.Chem import AllChem \n",
    "\n",
    "# from mordred import Calculator, descriptors\n",
    "\n",
    "from sklearn.preprocessing import StandardScaler, MinMaxScaler\n",
    "from sklearn.decomposition import PCA\n",
    "\n",
    "\n",
    "# from ngboost import NGBRegressor, NGBClassifier\n",
    "# from ngboost.distns import Bernoulli\n",
    "\n",
    "from sklearn.metrics import r2_score, mean_absolute_error, mean_squared_error\n",
    "from scipy.stats import pearsonr, spearmanr\n",
    "from sklearn.metrics import accuracy_score, roc_auc_score\n",
    "\n",
    "from olympus.utils.misc import get_hypervolume, get_pareto, get_pareto_set"
   ]
  },
  {
   "cell_type": "code",
   "execution_count": 30,
   "id": "b9e23683",
   "metadata": {},
   "outputs": [],
   "source": [
    "def check_if_float(row):\n",
    "    try:\n",
    "        float(row['IC50 (nM)'])\n",
    "        return True\n",
    "    except:\n",
    "        return False\n",
    "    \n",
    "def mfs(s):\n",
    "    return Chem.MolFromSmiles(s)\n",
    "\n",
    "def mts(m):\n",
    "    return Chem.MolToCXSmiles(m)\n",
    "\n",
    "def sanitize_smiles(smi):\n",
    "    m = mfs(smi)\n",
    "    Chem.SanitizeMol(m)\n",
    "    return mts(m)\n",
    "\n",
    "def check_smiles(row):\n",
    "    try:\n",
    "        m = mfs(row['smiles'])\n",
    "        Chem.SanitizeMol(m)\n",
    "        return True\n",
    "    except:\n",
    "        return False\n",
    "    \n",
    "    \n",
    "def convert_dataset(filename):\n",
    "    df = pd.read_csv(filename, sep='\\t')\n",
    "    df = df[~df['IC50 (nM)'].isnull()]\n",
    "    map_ = df.apply(check_if_float, axis=1)\n",
    "    df=df[map_]\n",
    "    \n",
    "    cols_to_keep = ['Ligand SMILES', 'IC50 (nM)']\n",
    "    df = df[cols_to_keep]\n",
    "    df = df.rename(columns={'Ligand SMILES': 'smiles', 'IC50 (nM)': 'ic50_nm'})\n",
    "    df = df.astype({'smiles': str, 'ic50_nm': float })\n",
    "    df['ic50_m'] = df['ic50_nm']*1.e-9\n",
    "    df['pic50'] = -np.log10(df['ic50_m'])\n",
    "    \n",
    "    # drop all bad smiles\n",
    "    map_ = df.apply(check_smiles, axis=1)\n",
    "    df= df[map_]\n",
    "    \n",
    "    df['smiles'] = [sanitize_smiles(s) for s in df['smiles'].tolist()]\n",
    "    \n",
    "    return df"
   ]
  },
  {
   "cell_type": "markdown",
   "id": "ced571c0",
   "metadata": {},
   "source": [
    "## Load in datasets"
   ]
  },
  {
   "cell_type": "code",
   "execution_count": 31,
   "id": "01295297",
   "metadata": {},
   "outputs": [
    {
     "name": "stderr",
     "output_type": "stream",
     "text": [
      "[07:05:21] Explicit valence for atom # 4 N, 4, is greater than permitted\n"
     ]
    },
    {
     "name": "stdout",
     "output_type": "stream",
     "text": [
      "(866, 4)\n"
     ]
    },
    {
     "data": {
      "text/html": [
       "<div>\n",
       "<style scoped>\n",
       "    .dataframe tbody tr th:only-of-type {\n",
       "        vertical-align: middle;\n",
       "    }\n",
       "\n",
       "    .dataframe tbody tr th {\n",
       "        vertical-align: top;\n",
       "    }\n",
       "\n",
       "    .dataframe thead th {\n",
       "        text-align: right;\n",
       "    }\n",
       "</style>\n",
       "<table border=\"1\" class=\"dataframe\">\n",
       "  <thead>\n",
       "    <tr style=\"text-align: right;\">\n",
       "      <th></th>\n",
       "      <th>smiles</th>\n",
       "      <th>ic50_nm</th>\n",
       "      <th>ic50_m</th>\n",
       "      <th>pic50</th>\n",
       "    </tr>\n",
       "  </thead>\n",
       "  <tbody>\n",
       "    <tr>\n",
       "      <th>1942</th>\n",
       "      <td>CCc1cc(NC(=O)Nc2ccc(-c3cnc(Nc4cc(N5CCN(CC)CC5)...</td>\n",
       "      <td>0.020</td>\n",
       "      <td>2.000000e-11</td>\n",
       "      <td>10.698970</td>\n",
       "    </tr>\n",
       "    <tr>\n",
       "      <th>1943</th>\n",
       "      <td>COc1cc2c(Oc3ccc(NC(=O)NN4C(=O)CSC4c4c(F)cccc4F...</td>\n",
       "      <td>0.029</td>\n",
       "      <td>2.900000e-11</td>\n",
       "      <td>10.537602</td>\n",
       "    </tr>\n",
       "    <tr>\n",
       "      <th>1944</th>\n",
       "      <td>COc1cc2nccc(Oc3ccc(NC(=O)C4(C(=O)Nc5ccc(F)cc5)...</td>\n",
       "      <td>0.053</td>\n",
       "      <td>5.300000e-11</td>\n",
       "      <td>10.275724</td>\n",
       "    </tr>\n",
       "    <tr>\n",
       "      <th>1945</th>\n",
       "      <td>CCc1cc(NC(=O)Nc2ccc(-c3cnc(Nc4cc(N5CCN(CC)CC5)...</td>\n",
       "      <td>0.120</td>\n",
       "      <td>1.200000e-10</td>\n",
       "      <td>9.920819</td>\n",
       "    </tr>\n",
       "    <tr>\n",
       "      <th>1946</th>\n",
       "      <td>CN[C@@H]1CC2OC([C@@H]1OC)n1c3ccccc3c3c4c(c5c6c...</td>\n",
       "      <td>0.180</td>\n",
       "      <td>1.800000e-10</td>\n",
       "      <td>9.744727</td>\n",
       "    </tr>\n",
       "  </tbody>\n",
       "</table>\n",
       "</div>"
      ],
      "text/plain": [
       "                                                 smiles  ic50_nm  \\\n",
       "1942  CCc1cc(NC(=O)Nc2ccc(-c3cnc(Nc4cc(N5CCN(CC)CC5)...    0.020   \n",
       "1943  COc1cc2c(Oc3ccc(NC(=O)NN4C(=O)CSC4c4c(F)cccc4F...    0.029   \n",
       "1944  COc1cc2nccc(Oc3ccc(NC(=O)C4(C(=O)Nc5ccc(F)cc5)...    0.053   \n",
       "1945  CCc1cc(NC(=O)Nc2ccc(-c3cnc(Nc4cc(N5CCN(CC)CC5)...    0.120   \n",
       "1946  CN[C@@H]1CC2OC([C@@H]1OC)n1c3ccccc3c3c4c(c5c6c...    0.180   \n",
       "\n",
       "            ic50_m      pic50  \n",
       "1942  2.000000e-11  10.698970  \n",
       "1943  2.900000e-11  10.537602  \n",
       "1944  5.300000e-11  10.275724  \n",
       "1945  1.200000e-10   9.920819  \n",
       "1946  1.800000e-10   9.744727  "
      ]
     },
     "execution_count": 31,
     "metadata": {},
     "output_type": "execute_result"
    }
   ],
   "source": [
    "# KIT\n",
    "kdf = convert_dataset(filename='bindingdb/kit.tsv')\n",
    "\n",
    "k_smi = kdf['smiles'].tolist()\n",
    "k_mols = [mfs(s) for s in k_smi]\n",
    "k_X = np.array([AllChem.GetMorganFingerprintAsBitVect(m,3,nBits=2048) for m in k_mols]).astype(np.float32)\n",
    "\n",
    "print(kdf.shape)\n",
    "kdf.head()"
   ]
  },
  {
   "cell_type": "code",
   "execution_count": null,
   "id": "e2ab1dd8",
   "metadata": {},
   "outputs": [],
   "source": []
  },
  {
   "cell_type": "code",
   "execution_count": 13,
   "id": "b0e31e43",
   "metadata": {},
   "outputs": [
    {
     "name": "stdout",
     "output_type": "stream",
     "text": [
      "(2491, 4)\n"
     ]
    },
    {
     "data": {
      "text/html": [
       "<div>\n",
       "<style scoped>\n",
       "    .dataframe tbody tr th:only-of-type {\n",
       "        vertical-align: middle;\n",
       "    }\n",
       "\n",
       "    .dataframe tbody tr th {\n",
       "        vertical-align: top;\n",
       "    }\n",
       "\n",
       "    .dataframe thead th {\n",
       "        text-align: right;\n",
       "    }\n",
       "</style>\n",
       "<table border=\"1\" class=\"dataframe\">\n",
       "  <thead>\n",
       "    <tr style=\"text-align: right;\">\n",
       "      <th></th>\n",
       "      <th>smiles</th>\n",
       "      <th>ic50_nm</th>\n",
       "      <th>ic50_m</th>\n",
       "      <th>pic50</th>\n",
       "    </tr>\n",
       "  </thead>\n",
       "  <tbody>\n",
       "    <tr>\n",
       "      <th>50</th>\n",
       "      <td>Cc1ccc(O)cc1Nc1ccnc2c1C(=O)Nc1cc(CNC3CCOC3)ccc1N2</td>\n",
       "      <td>2.97</td>\n",
       "      <td>2.970000e-09</td>\n",
       "      <td>8.527244</td>\n",
       "    </tr>\n",
       "    <tr>\n",
       "      <th>51</th>\n",
       "      <td>CCCCNCc1ccc2c(c1)NC(=O)c1c(Nc3cc(O)ccc3C)ccnc1N2</td>\n",
       "      <td>2.98</td>\n",
       "      <td>2.980000e-09</td>\n",
       "      <td>8.525784</td>\n",
       "    </tr>\n",
       "    <tr>\n",
       "      <th>52</th>\n",
       "      <td>Cc1ccn(CCCNCc2ccc3c(c2)NC(=O)c2c(Nc4cc(O)ccc4C...</td>\n",
       "      <td>2.98</td>\n",
       "      <td>2.980000e-09</td>\n",
       "      <td>8.525784</td>\n",
       "    </tr>\n",
       "    <tr>\n",
       "      <th>53</th>\n",
       "      <td>Cc1ccc(O)cc1Nc1ccnc2c1C(=O)Nc1cc(CNCCCO)ccc1N2</td>\n",
       "      <td>2.99</td>\n",
       "      <td>2.990000e-09</td>\n",
       "      <td>8.524329</td>\n",
       "    </tr>\n",
       "    <tr>\n",
       "      <th>54</th>\n",
       "      <td>CCN(CC)CCNC(=O)c1c(C)[nH]c(/C=C2\\C(=O)Nc3ccc(C...</td>\n",
       "      <td>3.00</td>\n",
       "      <td>3.000000e-09</td>\n",
       "      <td>8.522879</td>\n",
       "    </tr>\n",
       "  </tbody>\n",
       "</table>\n",
       "</div>"
      ],
      "text/plain": [
       "                                               smiles  ic50_nm        ic50_m  \\\n",
       "50  Cc1ccc(O)cc1Nc1ccnc2c1C(=O)Nc1cc(CNC3CCOC3)ccc1N2     2.97  2.970000e-09   \n",
       "51   CCCCNCc1ccc2c(c1)NC(=O)c1c(Nc3cc(O)ccc3C)ccnc1N2     2.98  2.980000e-09   \n",
       "52  Cc1ccn(CCCNCc2ccc3c(c2)NC(=O)c2c(Nc4cc(O)ccc4C...     2.98  2.980000e-09   \n",
       "53     Cc1ccc(O)cc1Nc1ccnc2c1C(=O)Nc1cc(CNCCCO)ccc1N2     2.99  2.990000e-09   \n",
       "54  CCN(CC)CCNC(=O)c1c(C)[nH]c(/C=C2\\C(=O)Nc3ccc(C...     3.00  3.000000e-09   \n",
       "\n",
       "       pic50  \n",
       "50  8.527244  \n",
       "51  8.525784  \n",
       "52  8.525784  \n",
       "53  8.524329  \n",
       "54  8.522879  "
      ]
     },
     "execution_count": 13,
     "metadata": {},
     "output_type": "execute_result"
    }
   ],
   "source": [
    "# PDGF \n",
    "pdf = convert_dataset(filename='bindingdb/pdgf.tsv')\n",
    "\n",
    "p_smi = pdf['smiles'].tolist()\n",
    "p_mols = [mfs(s) for s in p_smi]\n",
    "p_X = np.array([AllChem.GetMorganFingerprintAsBitVect(m,3,nBits=2048) for m in p_mols]).astype(np.float32)\n",
    "\n",
    "print(pdf.shape)\n",
    "pdf.head()"
   ]
  },
  {
   "cell_type": "code",
   "execution_count": null,
   "id": "ea5a50bb",
   "metadata": {},
   "outputs": [],
   "source": []
  },
  {
   "cell_type": "code",
   "execution_count": 11,
   "id": "0aa23558",
   "metadata": {},
   "outputs": [],
   "source": [
    "# load in the BCR-Abl1 inhibitors \n",
    "adf = pd.read_csv('lookup_table.csv')\n",
    "\n",
    "a_smi = adf['molecule_smi'].tolist()\n",
    "a_mols = [mfs(s) for s in a_smi]\n",
    "a_X = np.array([AllChem.GetMorganFingerprintAsBitVect(m,3,nBits=2048) for m in a_mols]).astype(np.float32)\n"
   ]
  },
  {
   "cell_type": "code",
   "execution_count": 10,
   "id": "b249f35d",
   "metadata": {},
   "outputs": [
    {
     "ename": "NameError",
     "evalue": "name 'k_X' is not defined",
     "output_type": "error",
     "traceback": [
      "\u001b[0;31m---------------------------------------------------------------------------\u001b[0m",
      "\u001b[0;31mNameError\u001b[0m                                 Traceback (most recent call last)",
      "\u001b[0;32m/tmp/ipykernel_30810/256556168.py\u001b[0m in \u001b[0;36m<module>\u001b[0;34m\u001b[0m\n\u001b[0;32m----> 1\u001b[0;31m \u001b[0mX_comb\u001b[0m \u001b[0;34m=\u001b[0m \u001b[0mnp\u001b[0m\u001b[0;34m.\u001b[0m\u001b[0mconcatenate\u001b[0m\u001b[0;34m(\u001b[0m\u001b[0;34m(\u001b[0m\u001b[0ma_X\u001b[0m\u001b[0;34m,\u001b[0m \u001b[0mk_X\u001b[0m\u001b[0;34m,\u001b[0m \u001b[0mp_X\u001b[0m\u001b[0;34m)\u001b[0m\u001b[0;34m)\u001b[0m\u001b[0;34m\u001b[0m\u001b[0;34m\u001b[0m\u001b[0m\n\u001b[0m\u001b[1;32m      2\u001b[0m \u001b[0mprint\u001b[0m\u001b[0;34m(\u001b[0m\u001b[0mX_comb\u001b[0m\u001b[0;34m.\u001b[0m\u001b[0mshape\u001b[0m\u001b[0;34m)\u001b[0m\u001b[0;34m\u001b[0m\u001b[0;34m\u001b[0m\u001b[0m\n\u001b[1;32m      3\u001b[0m \u001b[0mpca\u001b[0m \u001b[0;34m=\u001b[0m \u001b[0mPCA\u001b[0m\u001b[0;34m(\u001b[0m\u001b[0mn_components\u001b[0m\u001b[0;34m=\u001b[0m\u001b[0;36m2\u001b[0m\u001b[0;34m)\u001b[0m\u001b[0;34m\u001b[0m\u001b[0;34m\u001b[0m\u001b[0m\n\u001b[1;32m      4\u001b[0m \u001b[0mX_trans\u001b[0m \u001b[0;34m=\u001b[0m \u001b[0mpca\u001b[0m\u001b[0;34m.\u001b[0m\u001b[0mfit_transform\u001b[0m\u001b[0;34m(\u001b[0m\u001b[0mX_comb\u001b[0m\u001b[0;34m)\u001b[0m\u001b[0;34m\u001b[0m\u001b[0;34m\u001b[0m\u001b[0m\n",
      "\u001b[0;31mNameError\u001b[0m: name 'k_X' is not defined"
     ]
    }
   ],
   "source": [
    "X_comb = np.concatenate((a_X, k_X, p_X))\n",
    "print(X_comb.shape)\n",
    "pca = PCA(n_components=2)\n",
    "X_trans = pca.fit_transform(X_comb)"
   ]
  },
  {
   "cell_type": "code",
   "execution_count": 16,
   "id": "c79f7cfb",
   "metadata": {},
   "outputs": [
    {
     "data": {
      "image/png": "[encoded data removed]",
      "text/plain": [
       "<Figure size 640x480 with 1 Axes>"
      ]
     },
     "metadata": {},
     "output_type": "display_data"
    }
   ],
   "source": [
    "fig, ax = plt.subplots()\n",
    "\n",
    "ax.scatter(\n",
    "    X_trans[:a_X.shape[0], 0], X_trans[:a_X.shape[0], 1],\n",
    "    label='BCR-Abl1', alpha=0.3,c='b'\n",
    ")\n",
    "ax.scatter(\n",
    "    X_trans[a_X.shape[0]:a_X.shape[0]+k_X.shape[0], 0], X_trans[a_X.shape[0]:a_X.shape[0]+k_X.shape[0], 1],\n",
    "    label='KIT', alpha=0.3, c='orange'\n",
    ")\n",
    "ax.scatter(\n",
    "    X_trans[-p_X.shape[0]:, 0], X_trans[-p_X.shape[0]:, 1],\n",
    "    label='PDGF', alpha=0.3, c='g',\n",
    ")\n",
    "\n",
    "\n",
    "\n",
    "\n",
    "ax.set_xlabel('PC1',fontsize=14)\n",
    "ax.set_ylabel('PC2',fontsize=14)\n",
    "ax.legend(loc='lower right', fontsize=14)\n",
    "\n",
    "plt.tight_layout()"
   ]
  },
  {
   "cell_type": "code",
   "execution_count": null,
   "id": "afc58024",
   "metadata": {},
   "outputs": [],
   "source": []
  },
  {
   "cell_type": "code",
   "execution_count": 9,
   "id": "67f7e824",
   "metadata": {},
   "outputs": [],
   "source": [
    "# write chemprop files to disk\n",
    "\n",
    "# keep_cols = ['smiles', 'pic50']\n",
    "# pdf[keep_cols].to_csv('chemprop/pdgf_pic50.csv',index=False)\n",
    "# kdf[keep_cols].to_csv('chemprop/kit_pic50.csv',index=False)"
   ]
  },
  {
   "cell_type": "markdown",
   "id": "449f3846",
   "metadata": {},
   "source": [
    "## Analyze Chemprop results"
   ]
  },
  {
   "cell_type": "code",
   "execution_count": 71,
   "id": "2c7379c4",
   "metadata": {},
   "outputs": [
    {
     "data": {
      "text/plain": [
       "((270,), (270,), (270,))"
      ]
     },
     "execution_count": 71,
     "metadata": {},
     "output_type": "execute_result"
    }
   ],
   "source": [
    "smi = adf['molecule_smi'].tolist()\n",
    "mols = [mfs(s) for s in smi]\n",
    "abl_vals = adf['abl1_pIC50'].values\n",
    "kit_vals = pd.read_csv('chemprop/kit_pic50_abl_preds_reg.csv')['pic50'].values\n",
    "pdgf_vals = pd.read_csv('chemprop/pdgf_pic50_abl_preds_reg.csv')['pic50'].values\n",
    "\n",
    "abl_vals.shape, kit_vals.shape, pdgf_vals.shape"
   ]
  },
  {
   "cell_type": "code",
   "execution_count": 72,
   "id": "1c717b42",
   "metadata": {},
   "outputs": [],
   "source": [
    "df = pd.DataFrame({'smiles':smi,'mol':mols,'abl':abl_vals,'kit':kit_vals, 'pdgf':pdgf_vals})"
   ]
  },
  {
   "cell_type": "code",
   "execution_count": 76,
   "id": "8471fa96",
   "metadata": {},
   "outputs": [
    {
     "name": "stderr",
     "output_type": "stream",
     "text": [
      "/home/riley/Software/anaconda3/envs/olympus/lib/python3.7/site-packages/seaborn/distributions.py:2619: FutureWarning:\n",
      "\n",
      "`distplot` is a deprecated function and will be removed in a future version. Please adapt your code to use either `displot` (a figure-level function with similar flexibility) or `histplot` (an axes-level function for histograms).\n",
      "\n",
      "/home/riley/Software/anaconda3/envs/olympus/lib/python3.7/site-packages/seaborn/distributions.py:2619: FutureWarning:\n",
      "\n",
      "`distplot` is a deprecated function and will be removed in a future version. Please adapt your code to use either `displot` (a figure-level function with similar flexibility) or `histplot` (an axes-level function for histograms).\n",
      "\n",
      "/home/riley/Software/anaconda3/envs/olympus/lib/python3.7/site-packages/seaborn/distributions.py:2619: FutureWarning:\n",
      "\n",
      "`distplot` is a deprecated function and will be removed in a future version. Please adapt your code to use either `displot` (a figure-level function with similar flexibility) or `histplot` (an axes-level function for histograms).\n",
      "\n"
     ]
    },
    {
     "data": {
      "image/png": "[encoded data removed]",
      "text/plain": [
       "<Figure size 432x288 with 1 Axes>"
      ]
     },
     "metadata": {
      "needs_background": "light"
     },
     "output_type": "display_data"
    }
   ],
   "source": [
    "sns.distplot(df['abl'],label='abl (experiment)')\n",
    "sns.distplot(df['kit'],label='kit (virtual)')\n",
    "sns.distplot(df['pdgf'],label='pdgf (virtual)')\n",
    "\n",
    "plt.xlabel(r'pIC$_{50}$ value')\n",
    "plt.tight_layout()\n",
    "plt.legend()\n",
    "plt.savefig('desai_chemprop_pred_dists.png', dpi=300)"
   ]
  },
  {
   "cell_type": "code",
   "execution_count": 16,
   "id": "812afe34",
   "metadata": {},
   "outputs": [],
   "source": [
    "# df[\n",
    "#     (df['abl']>7.5) &\\\n",
    "#     (df['kit']>7.5) &\\\n",
    "#     (df['pdgf']>7.5)\n",
    "# ]"
   ]
  },
  {
   "cell_type": "code",
   "execution_count": 17,
   "id": "40ddec35",
   "metadata": {},
   "outputs": [
    {
     "name": "stdout",
     "output_type": "stream",
     "text": [
      "(270, 3)\n"
     ]
    }
   ],
   "source": [
    "params = df['smiles'].values.reshape(-1, 1)\n",
    "vals = -df[['abl', 'kit', 'pdgf']].values\n",
    "print(vals.shape)\n",
    "pareto_front, pareto_set = get_pareto_set(params, vals)"
   ]
  },
  {
   "cell_type": "code",
   "execution_count": 84,
   "id": "d855c8d1",
   "metadata": {},
   "outputs": [
    {
     "data": {
      "image/png": "[encoded data removed]",
      "text/plain": [
       "<IPython.core.display.Image object>"
      ]
     },
     "execution_count": 84,
     "metadata": {},
     "output_type": "execute_result"
    }
   ],
   "source": [
    "pareto_smi = [p[0] for p in pareto_set]\n",
    "pareto_mols = [mfs(s) for s in pareto_smi]\n",
    "\n",
    "AllChem.Draw.MolsToGridImage(pareto_mols, molsPerRow=6)\n"
   ]
  },
  {
   "cell_type": "code",
   "execution_count": 19,
   "id": "cc7e6b32",
   "metadata": {},
   "outputs": [],
   "source": [
    "pareto_front_pos = -pareto_front"
   ]
  },
  {
   "cell_type": "code",
   "execution_count": 23,
   "id": "75e347a2",
   "metadata": {},
   "outputs": [],
   "source": [
    "df['size']=50"
   ]
  },
  {
   "cell_type": "code",
   "execution_count": 27,
   "id": "99f398fe",
   "metadata": {},
   "outputs": [
    {
     "data": {
      "application/vnd.plotly.v1+json": {
       "config": {
        "plotlyServerURL": "https://plot.ly"
       },
       "data": [
        {
         "hovertemplate": "abl=%{x}<br>kit=%{y}<br>pdgf=%{z}<br>size=%{marker.size}<extra></extra>",
         "legendgroup": "",
         "marker": {
          "color": "#636efa",
          "size": [
           50,
           50,
           50,
           50,
           50,
           50,
           50,
           50,
           50,
           50,
           50,
           50,
           50,
           50,
           50,
           50,
           50,
           50,
           50,
           50,
           50,
           50,
           50,
           50,
           50,
           50,
           50,
           50,
           50,
           50,
           50,
           50,
           50,
           50,
           50,
           50,
           50,
           50,
           50,
           50,
           50,
           50,
           50,
           50,
           50,
           50,
           50,
           50,
           50,
           50,
           50,
           50,
           50,
           50,
           50,
           50,
           50,
           50,
           50,
           50,
           50,
           50,
           50,
           50,
           50,
           50,
           50,
           50,
           50,
           50,
           50,
           50,
           50,
           50,
           50,
           50,
           50,
           50,
           50,
           50,
           50,
           50,
           50,
           50,
           50,
           50,
           50,
           50,
           50,
           50,
           50,
           50,
           50,
           50,
           50,
           50,
           50,
           50,
           50,
           50,
           50,
           50,
           50,
           50,
           50,
           50,
           50,
           50,
           50,
           50,
           50,
           50,
           50,
           50,
           50,
           50,
           50,
           50,
           50,
           50,
           50,
           50,
           50,
           50,
           50,
           50,
           50,
           50,
           50,
           50,
           50,
           50,
           50,
           50,
           50,
           50,
           50,
           50,
           50,
           50,
           50,
           50,
           50,
           50,
           50,
           50,
           50,
           50,
           50,
           50,
           50,
           50,
           50,
           50,
           50,
           50,
           50,
           50,
           50,
           50,
           50,
           50,
           50,
           50,
           50,
           50,
           50,
           50,
           50,
           50,
           50,
           50,
           50,
           50,
           50,
           50,
           50,
           50,
           50,
           50,
           50,
           50,
           50,
           50,
           50,
           50,
           50,
           50,
           50,
           50,
           50,
           50,
           50,
           50,
           50,
           50,
           50,
           50,
           50,
           50,
           50,
           50,
           50,
           50,
           50,
           50,
           50,
           50,
           50,
           50,
           50,
           50,
           50,
           50,
           50,
           50,
           50,
           50,
           50,
           50,
           50,
           50,
           50,
           50,
           50,
           50,
           50,
           50,
           50,
           50,
           50,
           50,
           50,
           50,
           50,
           50,
           50,
           50,
           50,
           50,
           50,
           50,
           50,
           50,
           50,
           50,
           50,
           50,
           50,
           50,
           50,
           50,
           50,
           50,
           50,
           50,
           50,
           50,
           50,
           50,
           50,
           50,
           50,
           50,
           50,
           50,
           50,
           50,
           50,
           50
          ],
          "sizemode": "area",
          "sizeref": 0.125,
          "symbol": "circle"
         },
         "mode": "markers",
         "name": "",
         "scene": "scene",
         "showlegend": false,
         "type": "scatter3d",
         "x": [
          7.390089465233937,
          8.045757490560675,
          7.515735100290019,
          8.065501548756432,
          9.69897000433602,
          8.638272163982407,
          7.045757490560675,
          5.907613298855183,
          7.250820757052067,
          7.241945994198421,
          7.265728410270801,
          7.187452562052926,
          7.052106052930368,
          7.409050952218686,
          7.165380102110916,
          5.9036544181986095,
          5.888498327814676,
          5.935589996394826,
          5.922049701512694,
          5.875106246277373,
          7.283928174327151,
          7.30507048199207,
          7.055517327849832,
          5.964336761799826,
          7.317688115482943,
          7.886056647693163,
          7.268420770420533,
          7.258004406037351,
          7.721246399047171,
          7.229147988357855,
          7.920818753952375,
          8.221848749616356,
          8.522878745280337,
          7.346188831600036,
          5.324138503214547,
          7.187718509254093,
          7.185767587581025,
          7.233213219687283,
          7.160375331301817,
          7.074695134944838,
          7.384177660559361,
          7.16172787386764,
          5.411186450113538,
          5.361629638194737,
          5.3914941494116615,
          5.40620901169248,
          5.379485224960113,
          7.244163519216511,
          7.221568346217969,
          7.189548103174487,
          5.398698756828306,
          7.297689010844734,
          7.853871964321762,
          7.132113183689908,
          6.635743029150323,
          6.974287143338842,
          6.753432680725116,
          6.978935721276442,
          7.346787486224656,
          7.806552092722706,
          6.721246399047171,
          4.9602345177660006,
          6.595447101366852,
          6.657577319177793,
          6.552841968657781,
          6.60364208137826,
          6.491723589521941,
          7.009205334136476,
          6.574960152872224,
          5,
          5.0040105779736095,
          5.009767642977476,
          5,
          5,
          6.571291675313388,
          6.671360622410951,
          6.7447274948966935,
          5.009344225334287,
          6.589953029809757,
          7.005238953570919,
          6.5265164239554965,
          6.746155671157657,
          7.180718086132228,
          6.8617700508540205,
          7.02111178138508,
          7.769551078621726,
          8.074944928490543,
          6.83296736912807,
          5,
          6.649100937951318,
          6.723423602148618,
          6.66517195734412,
          6.630746789719609,
          6.52612085002712,
          7.052344803829003,
          6.588335945489381,
          4.99429266217276,
          5,
          5.015660792042238,
          5,
          5.000099749001828,
          6.596606395948184,
          6.698692929655525,
          6.615556389666686,
          5.009437534434143,
          6.614490596677163,
          7.021731134608103,
          6.574823618879496,
          5,
          5.62047847186817,
          5.436496475065896,
          5.505874394787568,
          5.991600488736651,
          6.200378726527234,
          5.153331198725102,
          4.878591450214541,
          5.215095611857132,
          5.268981119240389,
          5.28744397842262,
          5.221848749616356,
          5,
          5.825031393304288,
          5.197465008476529,
          4.961541824901934,
          5,
          5,
          4.991482502696567,
          4.9726002558683575,
          5.234578842378826,
          5.248230725143436,
          5.181990167669432,
          5,
          5.288656122014556,
          5.673407290920806,
          5.096910013008056,
          7.420005775411013,
          8.045757490560675,
          7.619788758288394,
          7.346787486224656,
          9.259379983836151,
          9,
          7.958607314841775,
          5.874562095810406,
          7.296047646991991,
          7.373149452316322,
          7.325938188035515,
          7.29759672744246,
          7.080477871821223,
          7.509245302768607,
          7.2089528606909425,
          5.900373730081353,
          5.9208726634293285,
          5.934447857077945,
          5.905133755035312,
          5.769551078621726,
          7.296332001960221,
          7.317565007128988,
          7.185690303166481,
          5.963567261718478,
          7.271296431454467,
          7.795880017344075,
          7.277226061010096,
          7.287661151367466,
          7.568636235841013,
          7.3980118495335265,
          7.522878745280337,
          8.301029995663981,
          8.698970004336019,
          7.292429823902063,
          5.221848749616356,
          7.230879376775779,
          7.284334790344211,
          7.263844457090946,
          7.26646608602294,
          7.221848749616356,
          7.4932020639447074,
          7.1957323431876095,
          5.400174828205788,
          5.398922714059602,
          5.399146095224303,
          5.436687729977288,
          5.417467604371658,
          7.269926126469243,
          7.247610667947304,
          7.173720059414228,
          5.416499485061179,
          7.307536659362432,
          7.769551078621726,
          7.147176624989141,
          6.673814230616592,
          6.929254874912629,
          6.781681879450717,
          6.841310395544681,
          7.337242168318426,
          7.830933140852207,
          6.804313428285601,
          4.936651083497541,
          6.606186626704935,
          6.804488043194049,
          6.657577319177793,
          6.7447274948966935,
          6.519481356907344,
          7.121360824457737,
          6.58644515524762,
          5.008425254532741,
          5.008989113186417,
          5.023019143330813,
          5.016545072227687,
          5,
          6.574290927738818,
          6.69188310301107,
          6.6304334610703854,
          5,
          6.584203532590825,
          6.9449459103925495,
          6.557953160792932,
          6.773387331673886,
          7.143567241297928,
          6.8646370410982485,
          6.889793545734591,
          7.795880017344075,
          8.154901959985743,
          6.895409174254598,
          4.978183714717293,
          6.624360341204158,
          6.886056647693163,
          6.672124170100374,
          6.710875806071252,
          6.55583760837068,
          7.1291668111836906,
          6.5905690925226175,
          5,
          5.021235383606546,
          5.030258887532627,
          5.016308654136632,
          5.017641807085578,
          6.638272163982407,
          6.638272163982407,
          6.629615395673064,
          5.030409435679251,
          6.620671420384377,
          6.964595692504986,
          6.591353156984504,
          5.737016067745871,
          5.522878745280337,
          5.835478204596625,
          7.568636235841013,
          8.698970004336019,
          9.397940008672036,
          7.42021640338319,
          7.2052783530932905,
          7.623206214745923,
          7.638272163982407,
          8.045757490560675,
          7.495568434559601,
          6.958607314841775,
          8.221848749616356,
          7.481486060122112,
          7.303720152198237,
          7.170710118101356,
          7.202787594335185,
          7.234018740376882,
          7.376750709602099,
          8.154901959985743,
          7.762365584465234,
          7.493321473847263,
          7.109971639416722,
          7.683009556776932,
          8.522878745280337,
          7.527763951771799
         ],
         "y": [
          7.5598469526488,
          7.617656539444525,
          7.53207441340547,
          7.654377527449268,
          7.306832503035309,
          7.247813710698301,
          7.535330668336956,
          7.446674833156101,
          7.211549835306256,
          7.458354628639546,
          7.595176973086697,
          7.2277754983365,
          6.773086368921022,
          7.481273601665991,
          7.376438309912586,
          6.978762805839309,
          7.229922691406407,
          7.094908597671028,
          7.30870206547699,
          7.370068088863823,
          7.430478418777951,
          7.532668506611717,
          7.377484920023712,
          7.376198264336686,
          7.303714297466633,
          7.295242662297953,
          7.694653883275859,
          7.8022941243277,
          7.873885846993479,
          7.747899825329418,
          7.906951359122313,
          7.655946623226192,
          7.602970296031405,
          7.819334438913909,
          7.732564268964927,
          7.585919935014147,
          7.732198607375281,
          7.8534774842111394,
          7.611322300294197,
          7.222238667931402,
          7.785192889893644,
          7.709307564852176,
          7.43729438785961,
          7.585908463557418,
          7.512102607240386,
          7.676413198307585,
          7.699200997720129,
          7.77820940904323,
          7.805537839033197,
          7.681981343652014,
          7.685771769459878,
          7.667891473486232,
          7.641355856533673,
          7.973679896647861,
          7.550618343838578,
          7.605886112327792,
          7.518829369714438,
          7.641116024711626,
          7.261329794273784,
          7.201356234730764,
          7.526703349112669,
          7.433356471893802,
          7.1619232091019605,
          7.437940993262188,
          7.58175629498053,
          7.167445361742549,
          6.709533744102732,
          7.445687931620991,
          7.339492452855441,
          6.922694742927862,
          7.199300955817257,
          7.046115825243745,
          7.275305698010761,
          7.345192056818907,
          7.3815484520032655,
          7.520316099007022,
          7.355006992445418,
          7.358108133331568,
          7.250466110997626,
          7.251432777168071,
          7.683551864454619,
          7.556404731865994,
          7.627460716127146,
          7.67084248791693,
          7.700453737795956,
          7.563294517277908,
          7.484379017629184,
          7.548102033491751,
          7.471268781367539,
          7.438757461725896,
          7.497303359290793,
          7.6271579694213,
          7.456829779910006,
          7.299110645128485,
          7.6327962972805,
          7.49724885205851,
          7.235504445746086,
          7.242840050442181,
          7.069902247027621,
          7.356227455689579,
          7.373790184690301,
          7.678399755357644,
          7.503091386097742,
          7.461814163484371,
          7.346859408116509,
          7.546258050261037,
          7.523505662736656,
          7.6979814607426595,
          7.418759150083153,
          7.524566950612293,
          7.523495758808176,
          7.668743781345806,
          7.428459299891089,
          7.25779797500131,
          7.345893953217893,
          7.0583549076811885,
          7.037510843297001,
          7.204104289878901,
          7.550081394162123,
          7.046332856654902,
          6.954299799675098,
          7.496996480010473,
          7.074331333719894,
          6.487264430344199,
          6.398336557760915,
          6.131396258437481,
          6.684031927338068,
          6.681064061978696,
          7.604179786577825,
          7.35169680029192,
          7.077275864283746,
          6.712314358861069,
          7.246211411823019,
          7.373584197228168,
          7.716487556743949,
          7.5650982435331455,
          7.623687533130017,
          7.540485342480155,
          7.66240284457478,
          7.327477420080632,
          7.267272293864512,
          7.541237827290803,
          7.455035672578113,
          7.231921468051677,
          7.467520607571105,
          7.602593091733746,
          7.249427409779027,
          6.799375941830206,
          7.497355087722999,
          7.392230515756429,
          7.000124279235306,
          7.244292685995356,
          7.108245626769744,
          7.323468039076941,
          7.38180431536422,
          7.45128008864814,
          7.536597943674725,
          7.390211539372136,
          7.385267911532235,
          7.324333172167641,
          7.314721231449335,
          7.700706394849129,
          7.808381050271157,
          7.881275246409017,
          7.75729494839042,
          7.916324180531413,
          7.670110024717094,
          7.617482401306353,
          7.827175642721486,
          7.741693838490346,
          7.601639322045711,
          7.741678020705291,
          7.862283572907059,
          7.626598290585239,
          7.248415890925286,
          7.79686313770503,
          7.721795777404234,
          7.455998562430503,
          7.596637838163178,
          7.523148907557514,
          7.687342575267618,
          7.708451979433536,
          7.792268926162015,
          7.810294289749949,
          7.692782895808497,
          7.694389327258253,
          7.681702181121182,
          7.654657046236521,
          7.979949582134857,
          7.55574159616552,
          7.612952814677955,
          7.528355595138056,
          7.64866923082915,
          7.28435307918005,
          7.223827856570423,
          7.533056469853264,
          7.441392904219622,
          7.1852064186923705,
          7.448576387424311,
          7.589474519071869,
          7.192651251606884,
          6.73781309567765,
          7.463883158270055,
          7.358798558273826,
          6.94622962986629,
          7.214327780368044,
          7.061654483393365,
          7.291740305431425,
          7.358000971400386,
          7.40610043320841,
          7.524347639160046,
          7.368842851783631,
          7.367770234953833,
          7.274114162787916,
          7.2735362079975,
          7.689629955238856,
          7.555347077805842,
          7.626455574263325,
          7.673269591656151,
          7.700286297278485,
          7.564019641595489,
          7.484692523278919,
          7.546420075680922,
          7.4705177215825715,
          7.438702455734624,
          7.4966876056942,
          7.626193725794512,
          7.45715689455499,
          7.305801105073323,
          7.632988319490963,
          7.496537977997735,
          7.23577267120482,
          7.2428914938692515,
          7.07108412770148,
          7.356513030835973,
          7.373683450266824,
          7.679365281507544,
          7.501624179656981,
          7.460582798793753,
          7.346708569148216,
          7.54606260798894,
          7.525311740284265,
          7.697484981795534,
          7.66495456680977,
          7.744214138909079,
          7.620167363442482,
          7.788702514391144,
          7.513536824336639,
          7.446388046737877,
          7.654935353751944,
          7.563523162648363,
          7.402558888135664,
          7.590770081169399,
          7.727972764970706,
          7.453487168422274,
          7.079192096316468,
          7.654086608456571,
          7.542596019266996,
          7.208907766443114,
          7.383422432024557,
          7.263904566299159,
          7.493506877123786,
          7.525187834301336,
          7.643421003750018,
          7.672895308661138,
          7.518849747581671,
          7.512138090379833,
          7.526329707379212,
          7.491509489878554,
          7.828613208628089
         ],
         "z": [
          7.953599356260181,
          7.895027039385306,
          7.809318794101261,
          7.8156235954152,
          7.39517470303611,
          7.504765668975598,
          8.023912113426778,
          7.324706068943311,
          7.598830799442229,
          7.535382411674479,
          7.335973170939089,
          7.862677062502549,
          7.207108574544281,
          7.952159904961957,
          7.853222637161696,
          7.492687019717327,
          7.486652245676339,
          7.481614204696861,
          7.583178781559046,
          7.446833442457256,
          7.990955288619547,
          7.804474037425129,
          7.660237824218494,
          7.62986642763651,
          7.881847379181199,
          7.520205737431169,
          8.062090699568861,
          8.003019977598925,
          8.008554803972599,
          7.864612373651616,
          7.924231865700685,
          7.508960694218615,
          7.616768060990155,
          8.045056845461117,
          7.440575072568143,
          7.664510363717241,
          7.745294409854106,
          7.464759828870795,
          7.993075939824856,
          7.288370432436625,
          7.994047143315573,
          7.954483173032745,
          7.616838865056584,
          7.694766915794962,
          7.647469568034357,
          7.750235037395785,
          7.616796521448229,
          7.996161161460192,
          7.8542950333922334,
          7.690392412270267,
          7.823374789602504,
          7.901575335729438,
          7.653275578610172,
          8.081073285204276,
          8.111886011707947,
          8.138546287962793,
          7.979769094538459,
          8.04435883151647,
          7.652835328489063,
          7.759700414999636,
          8.165207952532668,
          7.591814023904751,
          7.813341282637739,
          7.891383715108705,
          7.607114335314168,
          8.120038043295287,
          7.420006182755984,
          8.103942381632036,
          8.097771938361365,
          7.7759288921339005,
          7.872910024059672,
          7.812132831534456,
          7.922342523204769,
          7.783486107860344,
          8.121028066167494,
          7.956694141843488,
          7.834988353326387,
          7.998806441488869,
          8.02471008605344,
          7.799223121474687,
          8.196935115868131,
          7.207521405443588,
          6.9692215272139615,
          7.150289468163965,
          6.89248642472772,
          6.513829786815744,
          6.606407742655063,
          7.335163011991623,
          6.423670005805102,
          6.702581709187649,
          6.584212277889269,
          6.452655786860504,
          6.948029688879435,
          6.413049068044105,
          7.149216339211607,
          6.884726977778862,
          6.550475306805978,
          6.4736145618097005,
          6.559305472438049,
          6.620833810880964,
          6.502577956285276,
          7.339062596083815,
          7.091071469108139,
          6.86714335092002,
          6.633882873061671,
          7.152260142781941,
          6.596710159721697,
          7.70958478773214,
          6.823198089794582,
          6.421672548276377,
          6.989513004688508,
          6.334700473545153,
          5.844449878187005,
          5.949496426268091,
          6.989621871725289,
          5.694378576917579,
          6.0177559426368505,
          5.910945925955722,
          5.758595242796116,
          6.408356100477703,
          5.77130272163347,
          6.742720041787401,
          6.232018303085408,
          5.812752872139095,
          5.690637607817339,
          5.830789243954299,
          5.884535160762856,
          5.746238004988888,
          7.017326777910112,
          6.729222984085684,
          6.30130891331262,
          5.887903290149459,
          6.746568200377096,
          5.938370932405172,
          7.636780699247752,
          7.806352119143597,
          7.752644689512761,
          7.625427136077174,
          7.673897995679524,
          7.1389207106566905,
          7.264510156207468,
          7.902507435013533,
          7.033253701450997,
          7.316974966759608,
          7.380113914533334,
          7.081016828903504,
          7.733141254355997,
          6.911335539298914,
          7.828269911262707,
          7.665007843268951,
          7.223784474760633,
          7.263919659548881,
          7.236193851510025,
          7.347629618171615,
          7.195362966635512,
          7.81903298860958,
          7.65863447461835,
          7.359793610239803,
          7.421275102691599,
          7.657173118794128,
          7.298445203209167,
          7.95361262238156,
          7.853738936094897,
          7.856684709198529,
          7.67414650406954,
          7.769376122330233,
          7.233571131600553,
          7.352076738285137,
          7.916145316305501,
          7.135811694844347,
          7.373571325706539,
          7.554441971665337,
          7.190132875410489,
          7.85089535840305,
          6.991557375695888,
          7.867222791547367,
          7.746984066371826,
          7.328514949787005,
          7.446373293154078,
          7.374885867216547,
          7.487256316970756,
          7.338157029042479,
          7.81403189223557,
          7.698099026119449,
          7.39294938830341,
          7.585239658089537,
          7.664205242925527,
          7.397902819194792,
          7.969328039984356,
          7.970226588321939,
          7.993126613323379,
          7.785381697773887,
          7.89892882164296,
          7.364251335537567,
          7.484589286673306,
          8.037899541591358,
          7.269206825947277,
          7.512217372759911,
          7.701486283401993,
          7.321308939198346,
          7.98408914526261,
          7.1055962137528725,
          7.9822853383981425,
          7.900283431467248,
          7.4735638286210175,
          7.606105955832145,
          7.5251411973558,
          7.645235769154264,
          7.491050736199575,
          7.942603129952094,
          7.80700493572122,
          7.51925350757917,
          7.748756404762325,
          7.794655102260807,
          7.536589088819671,
          8.083462112595832,
          7.066219916666819,
          6.822166292137538,
          6.97304535172636,
          6.749871673691293,
          6.292136855822745,
          6.406095807919159,
          7.186687578846913,
          6.167468518728757,
          6.468934243335776,
          6.439056026385346,
          6.238065070625665,
          6.808120824691924,
          6.1392940921143175,
          7.012168589834249,
          6.716027954800367,
          6.3174982091116485,
          6.291131407228004,
          6.334131264383663,
          6.414177074004375,
          6.277256818223757,
          7.168094916912841,
          6.963883205263214,
          6.59776721699939,
          6.450324863774909,
          6.96410498858894,
          6.412776495526935,
          7.572000377467837,
          7.860890763833156,
          7.865560824201596,
          7.732024586301789,
          7.793140527693844,
          7.45847739485453,
          7.553269308238332,
          7.86756801921767,
          7.372983991321072,
          7.561628198764847,
          7.6935758186295296,
          7.404788784605185,
          7.847016406214747,
          7.23581719393006,
          7.804045433724532,
          7.790056925759375,
          7.507792118608081,
          7.627780638564127,
          7.578226276211017,
          7.665668141322002,
          7.548764765872678,
          7.828635578015368,
          7.729188104442308,
          7.5655778007623535,
          7.742078917991974,
          7.741730528048553,
          7.585321491547578,
          7.859309550144848
         ]
        },
        {
         "color": "blue",
         "opacity": 0.2,
         "type": "mesh3d",
         "x": [
          8.045757490560675,
          8.065501548756432,
          9.69897000433602,
          7.268420770420533,
          7.721246399047171,
          7.920818753952375,
          8.221848749616356,
          8.522878745280337,
          7.346188831600036,
          7.132113183689908,
          6.974287143338842,
          6.721246399047171,
          7.009205334136476,
          6.5265164239554965,
          7.958607314841775,
          7.522878745280337,
          8.301029995663981,
          8.698970004336019,
          7.147176624989141,
          6.557953160792932,
          8.698970004336019,
          9.397940008672036,
          8.045757490560675,
          8.221848749616356,
          8.154901959985743
         ],
         "y": [
          7.617656539444525,
          7.654377527449268,
          7.306832503035309,
          7.694653883275859,
          7.873885846993479,
          7.906951359122313,
          7.655946623226192,
          7.602970296031405,
          7.819334438913909,
          7.973679896647861,
          7.605886112327792,
          7.526703349112669,
          7.445687931620991,
          7.683551864454619,
          7.541237827290803,
          7.916324180531413,
          7.670110024717094,
          7.617482401306353,
          7.979949582134857,
          7.689629955238856,
          7.513536824336639,
          7.446388046737877,
          7.727972764970706,
          7.654086608456571,
          7.643421003750018
         ],
         "z": [
          7.895027039385306,
          7.8156235954152,
          7.39517470303611,
          8.062090699568861,
          8.008554803972599,
          7.924231865700685,
          7.508960694218615,
          7.616768060990155,
          8.045056845461117,
          8.081073285204276,
          8.138546287962793,
          8.165207952532668,
          8.103942381632036,
          8.196935115868131,
          7.902507435013533,
          7.769376122330233,
          7.233571131600553,
          7.352076738285137,
          7.969328039984356,
          8.083462112595832,
          7.45847739485453,
          7.553269308238332,
          7.404788784605185,
          7.804045433724532,
          7.828635578015368
         ]
        }
       ],
       "layout": {
        "legend": {
         "itemsizing": "constant",
         "tracegroupgap": 0
        },
        "margin": {
         "b": 0,
         "l": 0,
         "r": 0,
         "t": 0
        },
        "scene": {
         "domain": {
          "x": [
           0,
           1
          ],
          "y": [
           0,
           1
          ]
         },
         "xaxis": {
          "title": {
           "text": "BCR Abl pIC50"
          }
         },
         "yaxis": {
          "title": {
           "text": "KIT pIC50"
          }
         },
         "zaxis": {
          "title": {
           "text": "PDGF pIC50"
          }
         }
        },
        "template": {
         "data": {
          "bar": [
           {
            "error_x": {
             "color": "#2a3f5f"
            },
            "error_y": {
             "color": "#2a3f5f"
            },
            "marker": {
             "line": {
              "color": "#E5ECF6",
              "width": 0.5
             },
             "pattern": {
              "fillmode": "overlay",
              "size": 10,
              "solidity": 0.2
             }
            },
            "type": "bar"
           }
          ],
          "barpolar": [
           {
            "marker": {
             "line": {
              "color": "#E5ECF6",
              "width": 0.5
             },
             "pattern": {
              "fillmode": "overlay",
              "size": 10,
              "solidity": 0.2
             }
            },
            "type": "barpolar"
           }
          ],
          "carpet": [
           {
            "aaxis": {
             "endlinecolor": "#2a3f5f",
             "gridcolor": "white",
             "linecolor": "white",
             "minorgridcolor": "white",
             "startlinecolor": "#2a3f5f"
            },
            "baxis": {
             "endlinecolor": "#2a3f5f",
             "gridcolor": "white",
             "linecolor": "white",
             "minorgridcolor": "white",
             "startlinecolor": "#2a3f5f"
            },
            "type": "carpet"
           }
          ],
          "choropleth": [
           {
            "colorbar": {
             "outlinewidth": 0,
             "ticks": ""
            },
            "type": "choropleth"
           }
          ],
          "contour": [
           {
            "colorbar": {
             "outlinewidth": 0,
             "ticks": ""
            },
            "colorscale": [
             [
              0,
              "#0d0887"
             ],
             [
              0.1111111111111111,
              "#46039f"
             ],
             [
              0.2222222222222222,
              "#7201a8"
             ],
             [
              0.3333333333333333,
              "#9c179e"
             ],
             [
              0.4444444444444444,
              "#bd3786"
             ],
             [
              0.5555555555555556,
              "#d8576b"
             ],
             [
              0.6666666666666666,
              "#ed7953"
             ],
             [
              0.7777777777777778,
              "#fb9f3a"
             ],
             [
              0.8888888888888888,
              "#fdca26"
             ],
             [
              1,
              "#f0f921"
             ]
            ],
            "type": "contour"
           }
          ],
          "contourcarpet": [
           {
            "colorbar": {
             "outlinewidth": 0,
             "ticks": ""
            },
            "type": "contourcarpet"
           }
          ],
          "heatmap": [
           {
            "colorbar": {
             "outlinewidth": 0,
             "ticks": ""
            },
            "colorscale": [
             [
              0,
              "#0d0887"
             ],
             [
              0.1111111111111111,
              "#46039f"
             ],
             [
              0.2222222222222222,
              "#7201a8"
             ],
             [
              0.3333333333333333,
              "#9c179e"
             ],
             [
              0.4444444444444444,
              "#bd3786"
             ],
             [
              0.5555555555555556,
              "#d8576b"
             ],
             [
              0.6666666666666666,
              "#ed7953"
             ],
             [
              0.7777777777777778,
              "#fb9f3a"
             ],
             [
              0.8888888888888888,
              "#fdca26"
             ],
             [
              1,
              "#f0f921"
             ]
            ],
            "type": "heatmap"
           }
          ],
          "heatmapgl": [
           {
            "colorbar": {
             "outlinewidth": 0,
             "ticks": ""
            },
            "colorscale": [
             [
              0,
              "#0d0887"
             ],
             [
              0.1111111111111111,
              "#46039f"
             ],
             [
              0.2222222222222222,
              "#7201a8"
             ],
             [
              0.3333333333333333,
              "#9c179e"
             ],
             [
              0.4444444444444444,
              "#bd3786"
             ],
             [
              0.5555555555555556,
              "#d8576b"
             ],
             [
              0.6666666666666666,
              "#ed7953"
             ],
             [
              0.7777777777777778,
              "#fb9f3a"
             ],
             [
              0.8888888888888888,
              "#fdca26"
             ],
             [
              1,
              "#f0f921"
             ]
            ],
            "type": "heatmapgl"
           }
          ],
          "histogram": [
           {
            "marker": {
             "pattern": {
              "fillmode": "overlay",
              "size": 10,
              "solidity": 0.2
             }
            },
            "type": "histogram"
           }
          ],
          "histogram2d": [
           {
            "colorbar": {
             "outlinewidth": 0,
             "ticks": ""
            },
            "colorscale": [
             [
              0,
              "#0d0887"
             ],
             [
              0.1111111111111111,
              "#46039f"
             ],
             [
              0.2222222222222222,
              "#7201a8"
             ],
             [
              0.3333333333333333,
              "#9c179e"
             ],
             [
              0.4444444444444444,
              "#bd3786"
             ],
             [
              0.5555555555555556,
              "#d8576b"
             ],
             [
              0.6666666666666666,
              "#ed7953"
             ],
             [
              0.7777777777777778,
              "#fb9f3a"
             ],
             [
              0.8888888888888888,
              "#fdca26"
             ],
             [
              1,
              "#f0f921"
             ]
            ],
            "type": "histogram2d"
           }
          ],
          "histogram2dcontour": [
           {
            "colorbar": {
             "outlinewidth": 0,
             "ticks": ""
            },
            "colorscale": [
             [
              0,
              "#0d0887"
             ],
             [
              0.1111111111111111,
              "#46039f"
             ],
             [
              0.2222222222222222,
              "#7201a8"
             ],
             [
              0.3333333333333333,
              "#9c179e"
             ],
             [
              0.4444444444444444,
              "#bd3786"
             ],
             [
              0.5555555555555556,
              "#d8576b"
             ],
             [
              0.6666666666666666,
              "#ed7953"
             ],
             [
              0.7777777777777778,
              "#fb9f3a"
             ],
             [
              0.8888888888888888,
              "#fdca26"
             ],
             [
              1,
              "#f0f921"
             ]
            ],
            "type": "histogram2dcontour"
           }
          ],
          "mesh3d": [
           {
            "colorbar": {
             "outlinewidth": 0,
             "ticks": ""
            },
            "type": "mesh3d"
           }
          ],
          "parcoords": [
           {
            "line": {
             "colorbar": {
              "outlinewidth": 0,
              "ticks": ""
             }
            },
            "type": "parcoords"
           }
          ],
          "pie": [
           {
            "automargin": true,
            "type": "pie"
           }
          ],
          "scatter": [
           {
            "fillpattern": {
             "fillmode": "overlay",
             "size": 10,
             "solidity": 0.2
            },
            "type": "scatter"
           }
          ],
          "scatter3d": [
           {
            "line": {
             "colorbar": {
              "outlinewidth": 0,
              "ticks": ""
             }
            },
            "marker": {
             "colorbar": {
              "outlinewidth": 0,
              "ticks": ""
             }
            },
            "type": "scatter3d"
           }
          ],
          "scattercarpet": [
           {
            "marker": {
             "colorbar": {
              "outlinewidth": 0,
              "ticks": ""
             }
            },
            "type": "scattercarpet"
           }
          ],
          "scattergeo": [
           {
            "marker": {
             "colorbar": {
              "outlinewidth": 0,
              "ticks": ""
             }
            },
            "type": "scattergeo"
           }
          ],
          "scattergl": [
           {
            "marker": {
             "colorbar": {
              "outlinewidth": 0,
              "ticks": ""
             }
            },
            "type": "scattergl"
           }
          ],
          "scattermapbox": [
           {
            "marker": {
             "colorbar": {
              "outlinewidth": 0,
              "ticks": ""
             }
            },
            "type": "scattermapbox"
           }
          ],
          "scatterpolar": [
           {
            "marker": {
             "colorbar": {
              "outlinewidth": 0,
              "ticks": ""
             }
            },
            "type": "scatterpolar"
           }
          ],
          "scatterpolargl": [
           {
            "marker": {
             "colorbar": {
              "outlinewidth": 0,
              "ticks": ""
             }
            },
            "type": "scatterpolargl"
           }
          ],
          "scatterternary": [
           {
            "marker": {
             "colorbar": {
              "outlinewidth": 0,
              "ticks": ""
             }
            },
            "type": "scatterternary"
           }
          ],
          "surface": [
           {
            "colorbar": {
             "outlinewidth": 0,
             "ticks": ""
            },
            "colorscale": [
             [
              0,
              "#0d0887"
             ],
             [
              0.1111111111111111,
              "#46039f"
             ],
             [
              0.2222222222222222,
              "#7201a8"
             ],
             [
              0.3333333333333333,
              "#9c179e"
             ],
             [
              0.4444444444444444,
              "#bd3786"
             ],
             [
              0.5555555555555556,
              "#d8576b"
             ],
             [
              0.6666666666666666,
              "#ed7953"
             ],
             [
              0.7777777777777778,
              "#fb9f3a"
             ],
             [
              0.8888888888888888,
              "#fdca26"
             ],
             [
              1,
              "#f0f921"
             ]
            ],
            "type": "surface"
           }
          ],
          "table": [
           {
            "cells": {
             "fill": {
              "color": "#EBF0F8"
             },
             "line": {
              "color": "white"
             }
            },
            "header": {
             "fill": {
              "color": "#C8D4E3"
             },
             "line": {
              "color": "white"
             }
            },
            "type": "table"
           }
          ]
         },
         "layout": {
          "annotationdefaults": {
           "arrowcolor": "#2a3f5f",
           "arrowhead": 0,
           "arrowwidth": 1
          },
          "autotypenumbers": "strict",
          "coloraxis": {
           "colorbar": {
            "outlinewidth": 0,
            "ticks": ""
           }
          },
          "colorscale": {
           "diverging": [
            [
             0,
             "#8e0152"
            ],
            [
             0.1,
             "#c51b7d"
            ],
            [
             0.2,
             "#de77ae"
            ],
            [
             0.3,
             "#f1b6da"
            ],
            [
             0.4,
             "#fde0ef"
            ],
            [
             0.5,
             "#f7f7f7"
            ],
            [
             0.6,
             "#e6f5d0"
            ],
            [
             0.7,
             "#b8e186"
            ],
            [
             0.8,
             "#7fbc41"
            ],
            [
             0.9,
             "#4d9221"
            ],
            [
             1,
             "#276419"
            ]
           ],
           "sequential": [
            [
             0,
             "#0d0887"
            ],
            [
             0.1111111111111111,
             "#46039f"
            ],
            [
             0.2222222222222222,
             "#7201a8"
            ],
            [
             0.3333333333333333,
             "#9c179e"
            ],
            [
             0.4444444444444444,
             "#bd3786"
            ],
            [
             0.5555555555555556,
             "#d8576b"
            ],
            [
             0.6666666666666666,
             "#ed7953"
            ],
            [
             0.7777777777777778,
             "#fb9f3a"
            ],
            [
             0.8888888888888888,
             "#fdca26"
            ],
            [
             1,
             "#f0f921"
            ]
           ],
           "sequentialminus": [
            [
             0,
             "#0d0887"
            ],
            [
             0.1111111111111111,
             "#46039f"
            ],
            [
             0.2222222222222222,
             "#7201a8"
            ],
            [
             0.3333333333333333,
             "#9c179e"
            ],
            [
             0.4444444444444444,
             "#bd3786"
            ],
            [
             0.5555555555555556,
             "#d8576b"
            ],
            [
             0.6666666666666666,
             "#ed7953"
            ],
            [
             0.7777777777777778,
             "#fb9f3a"
            ],
            [
             0.8888888888888888,
             "#fdca26"
            ],
            [
             1,
             "#f0f921"
            ]
           ]
          },
          "colorway": [
           "#636efa",
           "#EF553B",
           "#00cc96",
           "#ab63fa",
           "#FFA15A",
           "#19d3f3",
           "#FF6692",
           "#B6E880",
           "#FF97FF",
           "#FECB52"
          ],
          "font": {
           "color": "#2a3f5f"
          },
          "geo": {
           "bgcolor": "white",
           "lakecolor": "white",
           "landcolor": "#E5ECF6",
           "showlakes": true,
           "showland": true,
           "subunitcolor": "white"
          },
          "hoverlabel": {
           "align": "left"
          },
          "hovermode": "closest",
          "mapbox": {
           "style": "light"
          },
          "paper_bgcolor": "white",
          "plot_bgcolor": "#E5ECF6",
          "polar": {
           "angularaxis": {
            "gridcolor": "white",
            "linecolor": "white",
            "ticks": ""
           },
           "bgcolor": "#E5ECF6",
           "radialaxis": {
            "gridcolor": "white",
            "linecolor": "white",
            "ticks": ""
           }
          },
          "scene": {
           "xaxis": {
            "backgroundcolor": "#E5ECF6",
            "gridcolor": "white",
            "gridwidth": 2,
            "linecolor": "white",
            "showbackground": true,
            "ticks": "",
            "zerolinecolor": "white"
           },
           "yaxis": {
            "backgroundcolor": "#E5ECF6",
            "gridcolor": "white",
            "gridwidth": 2,
            "linecolor": "white",
            "showbackground": true,
            "ticks": "",
            "zerolinecolor": "white"
           },
           "zaxis": {
            "backgroundcolor": "#E5ECF6",
            "gridcolor": "white",
            "gridwidth": 2,
            "linecolor": "white",
            "showbackground": true,
            "ticks": "",
            "zerolinecolor": "white"
           }
          },
          "shapedefaults": {
           "line": {
            "color": "#2a3f5f"
           }
          },
          "ternary": {
           "aaxis": {
            "gridcolor": "white",
            "linecolor": "white",
            "ticks": ""
           },
           "baxis": {
            "gridcolor": "white",
            "linecolor": "white",
            "ticks": ""
           },
           "bgcolor": "#E5ECF6",
           "caxis": {
            "gridcolor": "white",
            "linecolor": "white",
            "ticks": ""
           }
          },
          "title": {
           "x": 0.05
          },
          "xaxis": {
           "automargin": true,
           "gridcolor": "white",
           "linecolor": "white",
           "ticks": "",
           "title": {
            "standoff": 15
           },
           "zerolinecolor": "white",
           "zerolinewidth": 2
          },
          "yaxis": {
           "automargin": true,
           "gridcolor": "white",
           "linecolor": "white",
           "ticks": "",
           "title": {
            "standoff": 15
           },
           "zerolinecolor": "white",
           "zerolinewidth": 2
          }
         }
        }
       }
      },
      "text/html": [
       "<div>                            <div id=\"185c2471-def1-45ee-98a2-ce422f860c53\" class=\"plotly-graph-div\" style=\"height:525px; width:100%;\"></div>            <script type=\"text/javascript\">                require([\"plotly\"], function(Plotly) {                    window.PLOTLYENV=window.PLOTLYENV || {};                                    if (document.getElementById(\"185c2471-def1-45ee-98a2-ce422f860c53\")) {                    Plotly.newPlot(                        \"185c2471-def1-45ee-98a2-ce422f860c53\",                        [{\"hovertemplate\":\"abl=%{x}<br>kit=%{y}<br>pdgf=%{z}<br>size=%{marker.size}<extra></extra>\",\"legendgroup\":\"\",\"marker\":{\"color\":\"#636efa\",\"size\":[50,50,50,50,50,50,50,50,50,50,50,50,50,50,50,50,50,50,50,50,50,50,50,50,50,50,50,50,50,50,50,50,50,50,50,50,50,50,50,50,50,50,50,50,50,50,50,50,50,50,50,50,50,50,50,50,50,50,50,50,50,50,50,50,50,50,50,50,50,50,50,50,50,50,50,50,50,50,50,50,50,50,50,50,50,50,50,50,50,50,50,50,50,50,50,50,50,50,50,50,50,50,50,50,50,50,50,50,50,50,50,50,50,50,50,50,50,50,50,50,50,50,50,50,50,50,50,50,50,50,50,50,50,50,50,50,50,50,50,50,50,50,50,50,50,50,50,50,50,50,50,50,50,50,50,50,50,50,50,50,50,50,50,50,50,50,50,50,50,50,50,50,50,50,50,50,50,50,50,50,50,50,50,50,50,50,50,50,50,50,50,50,50,50,50,50,50,50,50,50,50,50,50,50,50,50,50,50,50,50,50,50,50,50,50,50,50,50,50,50,50,50,50,50,50,50,50,50,50,50,50,50,50,50,50,50,50,50,50,50,50,50,50,50,50,50,50,50,50,50,50,50,50,50,50,50,50,50,50,50,50,50,50,50,50,50,50,50,50,50],\"sizemode\":\"area\",\"sizeref\":0.125,\"symbol\":\"circle\"},\"mode\":\"markers\",\"name\":\"\",\"scene\":\"scene\",\"showlegend\":false,\"x\":[7.390089465233937,8.045757490560675,7.515735100290019,8.065501548756432,9.69897000433602,8.638272163982407,7.045757490560675,5.907613298855183,7.250820757052067,7.241945994198421,7.265728410270801,7.187452562052926,7.052106052930368,7.409050952218686,7.165380102110916,5.9036544181986095,5.888498327814676,5.935589996394826,5.922049701512694,5.875106246277373,7.283928174327151,7.30507048199207,7.055517327849832,5.964336761799826,7.317688115482943,7.886056647693163,7.268420770420533,7.258004406037351,7.721246399047171,7.229147988357855,7.920818753952375,8.221848749616356,8.522878745280337,7.346188831600036,5.324138503214547,7.187718509254093,7.185767587581025,7.233213219687283,7.160375331301817,7.074695134944838,7.384177660559361,7.16172787386764,5.411186450113538,5.361629638194737,5.3914941494116615,5.40620901169248,5.379485224960113,7.244163519216511,7.221568346217969,7.189548103174487,5.398698756828306,7.297689010844734,7.853871964321762,7.132113183689908,6.635743029150323,6.974287143338842,6.753432680725116,6.978935721276442,7.346787486224656,7.806552092722706,6.721246399047171,4.9602345177660006,6.595447101366852,6.657577319177793,6.552841968657781,6.60364208137826,6.491723589521941,7.009205334136476,6.574960152872224,5.0,5.0040105779736095,5.009767642977476,5.0,5.0,6.571291675313388,6.671360622410951,6.7447274948966935,5.009344225334287,6.589953029809757,7.005238953570919,6.5265164239554965,6.746155671157657,7.180718086132228,6.8617700508540205,7.02111178138508,7.769551078621726,8.074944928490543,6.83296736912807,5.0,6.649100937951318,6.723423602148618,6.66517195734412,6.630746789719609,6.52612085002712,7.052344803829003,6.588335945489381,4.99429266217276,5.0,5.015660792042238,5.0,5.000099749001828,6.596606395948184,6.698692929655525,6.615556389666686,5.009437534434143,6.614490596677163,7.021731134608103,6.574823618879496,5.0,5.62047847186817,5.436496475065896,5.505874394787568,5.991600488736651,6.200378726527234,5.153331198725102,4.878591450214541,5.215095611857132,5.268981119240389,5.28744397842262,5.221848749616356,5.0,5.825031393304288,5.197465008476529,4.961541824901934,5.0,5.0,4.991482502696567,4.9726002558683575,5.234578842378826,5.248230725143436,5.181990167669432,5.0,5.288656122014556,5.673407290920806,5.096910013008056,7.420005775411013,8.045757490560675,7.619788758288394,7.346787486224656,9.259379983836151,9.0,7.958607314841775,5.874562095810406,7.296047646991991,7.373149452316322,7.325938188035515,7.29759672744246,7.080477871821223,7.509245302768607,7.2089528606909425,5.900373730081353,5.9208726634293285,5.934447857077945,5.905133755035312,5.769551078621726,7.296332001960221,7.317565007128988,7.185690303166481,5.963567261718478,7.271296431454467,7.795880017344075,7.277226061010096,7.287661151367466,7.568636235841013,7.3980118495335265,7.522878745280337,8.301029995663981,8.698970004336019,7.292429823902063,5.221848749616356,7.230879376775779,7.284334790344211,7.263844457090946,7.26646608602294,7.221848749616356,7.4932020639447074,7.1957323431876095,5.400174828205788,5.398922714059602,5.399146095224303,5.436687729977288,5.417467604371658,7.269926126469243,7.247610667947304,7.173720059414228,5.416499485061179,7.307536659362432,7.769551078621726,7.147176624989141,6.673814230616592,6.929254874912629,6.781681879450717,6.841310395544681,7.337242168318426,7.830933140852207,6.804313428285601,4.936651083497541,6.606186626704935,6.804488043194049,6.657577319177793,6.7447274948966935,6.519481356907344,7.121360824457737,6.58644515524762,5.008425254532741,5.008989113186417,5.023019143330813,5.016545072227687,5.0,6.574290927738818,6.69188310301107,6.6304334610703854,5.0,6.584203532590825,6.9449459103925495,6.557953160792932,6.773387331673886,7.143567241297928,6.8646370410982485,6.889793545734591,7.795880017344075,8.154901959985743,6.895409174254598,4.978183714717293,6.624360341204158,6.886056647693163,6.672124170100374,6.710875806071252,6.55583760837068,7.1291668111836906,6.5905690925226175,5.0,5.021235383606546,5.030258887532627,5.016308654136632,5.017641807085578,6.638272163982407,6.638272163982407,6.629615395673064,5.030409435679251,6.620671420384377,6.964595692504986,6.591353156984504,5.737016067745871,5.522878745280337,5.835478204596625,7.568636235841013,8.698970004336019,9.397940008672036,7.42021640338319,7.2052783530932905,7.623206214745923,7.638272163982407,8.045757490560675,7.495568434559601,6.958607314841775,8.221848749616356,7.481486060122112,7.303720152198237,7.170710118101356,7.202787594335185,7.234018740376882,7.376750709602099,8.154901959985743,7.762365584465234,7.493321473847263,7.109971639416722,7.683009556776932,8.522878745280337,7.527763951771799],\"y\":[7.5598469526488,7.617656539444525,7.53207441340547,7.654377527449268,7.306832503035309,7.247813710698301,7.535330668336956,7.446674833156101,7.211549835306256,7.458354628639546,7.595176973086697,7.2277754983365,6.773086368921022,7.481273601665991,7.376438309912586,6.978762805839309,7.229922691406407,7.094908597671028,7.30870206547699,7.370068088863823,7.430478418777951,7.532668506611717,7.377484920023712,7.376198264336686,7.303714297466633,7.295242662297953,7.694653883275859,7.8022941243277,7.873885846993479,7.747899825329418,7.906951359122313,7.655946623226192,7.602970296031405,7.819334438913909,7.732564268964927,7.585919935014147,7.732198607375281,7.8534774842111394,7.611322300294197,7.222238667931402,7.785192889893644,7.709307564852176,7.43729438785961,7.585908463557418,7.512102607240386,7.676413198307585,7.699200997720129,7.77820940904323,7.805537839033197,7.681981343652014,7.685771769459878,7.667891473486232,7.641355856533673,7.973679896647861,7.550618343838578,7.605886112327792,7.518829369714438,7.641116024711626,7.261329794273784,7.201356234730764,7.526703349112669,7.433356471893802,7.1619232091019605,7.437940993262188,7.58175629498053,7.167445361742549,6.709533744102732,7.445687931620991,7.339492452855441,6.922694742927862,7.199300955817257,7.046115825243745,7.275305698010761,7.345192056818907,7.3815484520032655,7.520316099007022,7.355006992445418,7.358108133331568,7.250466110997626,7.251432777168071,7.683551864454619,7.556404731865994,7.627460716127146,7.67084248791693,7.700453737795956,7.563294517277908,7.484379017629184,7.548102033491751,7.471268781367539,7.438757461725896,7.497303359290793,7.6271579694213,7.456829779910006,7.299110645128485,7.6327962972805,7.49724885205851,7.235504445746086,7.242840050442181,7.069902247027621,7.356227455689579,7.373790184690301,7.678399755357644,7.503091386097742,7.461814163484371,7.346859408116509,7.546258050261037,7.523505662736656,7.6979814607426595,7.418759150083153,7.524566950612293,7.523495758808176,7.668743781345806,7.428459299891089,7.25779797500131,7.345893953217893,7.0583549076811885,7.037510843297001,7.204104289878901,7.550081394162123,7.046332856654902,6.954299799675098,7.496996480010473,7.074331333719894,6.487264430344199,6.398336557760915,6.131396258437481,6.684031927338068,6.681064061978696,7.604179786577825,7.35169680029192,7.077275864283746,6.712314358861069,7.246211411823019,7.373584197228168,7.716487556743949,7.5650982435331455,7.623687533130017,7.540485342480155,7.66240284457478,7.327477420080632,7.267272293864512,7.541237827290803,7.455035672578113,7.231921468051677,7.467520607571105,7.602593091733746,7.249427409779027,6.799375941830206,7.497355087722999,7.392230515756429,7.000124279235306,7.244292685995356,7.108245626769744,7.323468039076941,7.38180431536422,7.45128008864814,7.536597943674725,7.390211539372136,7.385267911532235,7.324333172167641,7.314721231449335,7.700706394849129,7.808381050271157,7.881275246409017,7.75729494839042,7.916324180531413,7.670110024717094,7.617482401306353,7.827175642721486,7.741693838490346,7.601639322045711,7.741678020705291,7.862283572907059,7.626598290585239,7.248415890925286,7.79686313770503,7.721795777404234,7.455998562430503,7.596637838163178,7.523148907557514,7.687342575267618,7.708451979433536,7.792268926162015,7.810294289749949,7.692782895808497,7.694389327258253,7.681702181121182,7.654657046236521,7.979949582134857,7.55574159616552,7.612952814677955,7.528355595138056,7.64866923082915,7.28435307918005,7.223827856570423,7.533056469853264,7.441392904219622,7.1852064186923705,7.448576387424311,7.589474519071869,7.192651251606884,6.73781309567765,7.463883158270055,7.358798558273826,6.94622962986629,7.214327780368044,7.061654483393365,7.291740305431425,7.358000971400386,7.40610043320841,7.524347639160046,7.368842851783631,7.367770234953833,7.274114162787916,7.2735362079975,7.689629955238856,7.555347077805842,7.626455574263325,7.673269591656151,7.700286297278485,7.564019641595489,7.484692523278919,7.546420075680922,7.4705177215825715,7.438702455734624,7.4966876056942,7.626193725794512,7.45715689455499,7.305801105073323,7.632988319490963,7.496537977997735,7.23577267120482,7.2428914938692515,7.07108412770148,7.356513030835973,7.373683450266824,7.679365281507544,7.501624179656981,7.460582798793753,7.346708569148216,7.54606260798894,7.525311740284265,7.697484981795534,7.66495456680977,7.744214138909079,7.620167363442482,7.788702514391144,7.513536824336639,7.446388046737877,7.654935353751944,7.563523162648363,7.402558888135664,7.590770081169399,7.727972764970706,7.453487168422274,7.079192096316468,7.654086608456571,7.542596019266996,7.208907766443114,7.383422432024557,7.263904566299159,7.493506877123786,7.525187834301336,7.643421003750018,7.672895308661138,7.518849747581671,7.512138090379833,7.526329707379212,7.491509489878554,7.828613208628089],\"z\":[7.953599356260181,7.895027039385306,7.809318794101261,7.8156235954152,7.39517470303611,7.504765668975598,8.023912113426778,7.324706068943311,7.598830799442229,7.535382411674479,7.335973170939089,7.862677062502549,7.207108574544281,7.952159904961957,7.853222637161696,7.492687019717327,7.486652245676339,7.481614204696861,7.583178781559046,7.446833442457256,7.990955288619547,7.804474037425129,7.660237824218494,7.62986642763651,7.881847379181199,7.520205737431169,8.062090699568861,8.003019977598925,8.008554803972599,7.864612373651616,7.924231865700685,7.508960694218615,7.616768060990155,8.045056845461117,7.440575072568143,7.664510363717241,7.745294409854106,7.464759828870795,7.993075939824856,7.288370432436625,7.994047143315573,7.954483173032745,7.616838865056584,7.694766915794962,7.647469568034357,7.750235037395785,7.616796521448229,7.996161161460192,7.8542950333922334,7.690392412270267,7.823374789602504,7.901575335729438,7.653275578610172,8.081073285204276,8.111886011707947,8.138546287962793,7.979769094538459,8.04435883151647,7.652835328489063,7.759700414999636,8.165207952532668,7.591814023904751,7.813341282637739,7.891383715108705,7.607114335314168,8.120038043295287,7.420006182755984,8.103942381632036,8.097771938361365,7.7759288921339005,7.872910024059672,7.812132831534456,7.922342523204769,7.783486107860344,8.121028066167494,7.956694141843488,7.834988353326387,7.998806441488869,8.02471008605344,7.799223121474687,8.196935115868131,7.207521405443588,6.9692215272139615,7.150289468163965,6.89248642472772,6.513829786815744,6.606407742655063,7.335163011991623,6.423670005805102,6.702581709187649,6.584212277889269,6.452655786860504,6.948029688879435,6.413049068044105,7.149216339211607,6.884726977778862,6.550475306805978,6.4736145618097005,6.559305472438049,6.620833810880964,6.502577956285276,7.339062596083815,7.091071469108139,6.86714335092002,6.633882873061671,7.152260142781941,6.596710159721697,7.70958478773214,6.823198089794582,6.421672548276377,6.989513004688508,6.334700473545153,5.844449878187005,5.949496426268091,6.989621871725289,5.694378576917579,6.0177559426368505,5.910945925955722,5.758595242796116,6.408356100477703,5.77130272163347,6.742720041787401,6.232018303085408,5.812752872139095,5.690637607817339,5.830789243954299,5.884535160762856,5.746238004988888,7.017326777910112,6.729222984085684,6.30130891331262,5.887903290149459,6.746568200377096,5.938370932405172,7.636780699247752,7.806352119143597,7.752644689512761,7.625427136077174,7.673897995679524,7.1389207106566905,7.264510156207468,7.902507435013533,7.033253701450997,7.316974966759608,7.380113914533334,7.081016828903504,7.733141254355997,6.911335539298914,7.828269911262707,7.665007843268951,7.223784474760633,7.263919659548881,7.236193851510025,7.347629618171615,7.195362966635512,7.81903298860958,7.65863447461835,7.359793610239803,7.421275102691599,7.657173118794128,7.298445203209167,7.95361262238156,7.853738936094897,7.856684709198529,7.67414650406954,7.769376122330233,7.233571131600553,7.352076738285137,7.916145316305501,7.135811694844347,7.373571325706539,7.554441971665337,7.190132875410489,7.85089535840305,6.991557375695888,7.867222791547367,7.746984066371826,7.328514949787005,7.446373293154078,7.374885867216547,7.487256316970756,7.338157029042479,7.81403189223557,7.698099026119449,7.39294938830341,7.585239658089537,7.664205242925527,7.397902819194792,7.969328039984356,7.970226588321939,7.993126613323379,7.785381697773887,7.89892882164296,7.364251335537567,7.484589286673306,8.037899541591358,7.269206825947277,7.512217372759911,7.701486283401993,7.321308939198346,7.98408914526261,7.1055962137528725,7.9822853383981425,7.900283431467248,7.4735638286210175,7.606105955832145,7.5251411973558,7.645235769154264,7.491050736199575,7.942603129952094,7.80700493572122,7.51925350757917,7.748756404762325,7.794655102260807,7.536589088819671,8.083462112595832,7.066219916666819,6.822166292137538,6.97304535172636,6.749871673691293,6.292136855822745,6.406095807919159,7.186687578846913,6.167468518728757,6.468934243335776,6.439056026385346,6.238065070625665,6.808120824691924,6.1392940921143175,7.012168589834249,6.716027954800367,6.3174982091116485,6.291131407228004,6.334131264383663,6.414177074004375,6.277256818223757,7.168094916912841,6.963883205263214,6.59776721699939,6.450324863774909,6.96410498858894,6.412776495526935,7.572000377467837,7.860890763833156,7.865560824201596,7.732024586301789,7.793140527693844,7.45847739485453,7.553269308238332,7.86756801921767,7.372983991321072,7.561628198764847,7.6935758186295296,7.404788784605185,7.847016406214747,7.23581719393006,7.804045433724532,7.790056925759375,7.507792118608081,7.627780638564127,7.578226276211017,7.665668141322002,7.548764765872678,7.828635578015368,7.729188104442308,7.5655778007623535,7.742078917991974,7.741730528048553,7.585321491547578,7.859309550144848],\"type\":\"scatter3d\"},{\"color\":\"blue\",\"opacity\":0.2,\"x\":[8.045757490560675,8.065501548756432,9.69897000433602,7.268420770420533,7.721246399047171,7.920818753952375,8.221848749616356,8.522878745280337,7.346188831600036,7.132113183689908,6.974287143338842,6.721246399047171,7.009205334136476,6.5265164239554965,7.958607314841775,7.522878745280337,8.301029995663981,8.698970004336019,7.147176624989141,6.557953160792932,8.698970004336019,9.397940008672036,8.045757490560675,8.221848749616356,8.154901959985743],\"y\":[7.617656539444525,7.654377527449268,7.306832503035309,7.694653883275859,7.873885846993479,7.906951359122313,7.655946623226192,7.602970296031405,7.819334438913909,7.973679896647861,7.605886112327792,7.526703349112669,7.445687931620991,7.683551864454619,7.541237827290803,7.916324180531413,7.670110024717094,7.617482401306353,7.979949582134857,7.689629955238856,7.513536824336639,7.446388046737877,7.727972764970706,7.654086608456571,7.643421003750018],\"z\":[7.895027039385306,7.8156235954152,7.39517470303611,8.062090699568861,8.008554803972599,7.924231865700685,7.508960694218615,7.616768060990155,8.045056845461117,8.081073285204276,8.138546287962793,8.165207952532668,8.103942381632036,8.196935115868131,7.902507435013533,7.769376122330233,7.233571131600553,7.352076738285137,7.969328039984356,8.083462112595832,7.45847739485453,7.553269308238332,7.404788784605185,7.804045433724532,7.828635578015368],\"type\":\"mesh3d\"}],                        {\"template\":{\"data\":{\"histogram2dcontour\":[{\"type\":\"histogram2dcontour\",\"colorbar\":{\"outlinewidth\":0,\"ticks\":\"\"},\"colorscale\":[[0.0,\"#0d0887\"],[0.1111111111111111,\"#46039f\"],[0.2222222222222222,\"#7201a8\"],[0.3333333333333333,\"#9c179e\"],[0.4444444444444444,\"#bd3786\"],[0.5555555555555556,\"#d8576b\"],[0.6666666666666666,\"#ed7953\"],[0.7777777777777778,\"#fb9f3a\"],[0.8888888888888888,\"#fdca26\"],[1.0,\"#f0f921\"]]}],\"choropleth\":[{\"type\":\"choropleth\",\"colorbar\":{\"outlinewidth\":0,\"ticks\":\"\"}}],\"histogram2d\":[{\"type\":\"histogram2d\",\"colorbar\":{\"outlinewidth\":0,\"ticks\":\"\"},\"colorscale\":[[0.0,\"#0d0887\"],[0.1111111111111111,\"#46039f\"],[0.2222222222222222,\"#7201a8\"],[0.3333333333333333,\"#9c179e\"],[0.4444444444444444,\"#bd3786\"],[0.5555555555555556,\"#d8576b\"],[0.6666666666666666,\"#ed7953\"],[0.7777777777777778,\"#fb9f3a\"],[0.8888888888888888,\"#fdca26\"],[1.0,\"#f0f921\"]]}],\"heatmap\":[{\"type\":\"heatmap\",\"colorbar\":{\"outlinewidth\":0,\"ticks\":\"\"},\"colorscale\":[[0.0,\"#0d0887\"],[0.1111111111111111,\"#46039f\"],[0.2222222222222222,\"#7201a8\"],[0.3333333333333333,\"#9c179e\"],[0.4444444444444444,\"#bd3786\"],[0.5555555555555556,\"#d8576b\"],[0.6666666666666666,\"#ed7953\"],[0.7777777777777778,\"#fb9f3a\"],[0.8888888888888888,\"#fdca26\"],[1.0,\"#f0f921\"]]}],\"heatmapgl\":[{\"type\":\"heatmapgl\",\"colorbar\":{\"outlinewidth\":0,\"ticks\":\"\"},\"colorscale\":[[0.0,\"#0d0887\"],[0.1111111111111111,\"#46039f\"],[0.2222222222222222,\"#7201a8\"],[0.3333333333333333,\"#9c179e\"],[0.4444444444444444,\"#bd3786\"],[0.5555555555555556,\"#d8576b\"],[0.6666666666666666,\"#ed7953\"],[0.7777777777777778,\"#fb9f3a\"],[0.8888888888888888,\"#fdca26\"],[1.0,\"#f0f921\"]]}],\"contourcarpet\":[{\"type\":\"contourcarpet\",\"colorbar\":{\"outlinewidth\":0,\"ticks\":\"\"}}],\"contour\":[{\"type\":\"contour\",\"colorbar\":{\"outlinewidth\":0,\"ticks\":\"\"},\"colorscale\":[[0.0,\"#0d0887\"],[0.1111111111111111,\"#46039f\"],[0.2222222222222222,\"#7201a8\"],[0.3333333333333333,\"#9c179e\"],[0.4444444444444444,\"#bd3786\"],[0.5555555555555556,\"#d8576b\"],[0.6666666666666666,\"#ed7953\"],[0.7777777777777778,\"#fb9f3a\"],[0.8888888888888888,\"#fdca26\"],[1.0,\"#f0f921\"]]}],\"surface\":[{\"type\":\"surface\",\"colorbar\":{\"outlinewidth\":0,\"ticks\":\"\"},\"colorscale\":[[0.0,\"#0d0887\"],[0.1111111111111111,\"#46039f\"],[0.2222222222222222,\"#7201a8\"],[0.3333333333333333,\"#9c179e\"],[0.4444444444444444,\"#bd3786\"],[0.5555555555555556,\"#d8576b\"],[0.6666666666666666,\"#ed7953\"],[0.7777777777777778,\"#fb9f3a\"],[0.8888888888888888,\"#fdca26\"],[1.0,\"#f0f921\"]]}],\"mesh3d\":[{\"type\":\"mesh3d\",\"colorbar\":{\"outlinewidth\":0,\"ticks\":\"\"}}],\"scatter\":[{\"fillpattern\":{\"fillmode\":\"overlay\",\"size\":10,\"solidity\":0.2},\"type\":\"scatter\"}],\"parcoords\":[{\"type\":\"parcoords\",\"line\":{\"colorbar\":{\"outlinewidth\":0,\"ticks\":\"\"}}}],\"scatterpolargl\":[{\"type\":\"scatterpolargl\",\"marker\":{\"colorbar\":{\"outlinewidth\":0,\"ticks\":\"\"}}}],\"bar\":[{\"error_x\":{\"color\":\"#2a3f5f\"},\"error_y\":{\"color\":\"#2a3f5f\"},\"marker\":{\"line\":{\"color\":\"#E5ECF6\",\"width\":0.5},\"pattern\":{\"fillmode\":\"overlay\",\"size\":10,\"solidity\":0.2}},\"type\":\"bar\"}],\"scattergeo\":[{\"type\":\"scattergeo\",\"marker\":{\"colorbar\":{\"outlinewidth\":0,\"ticks\":\"\"}}}],\"scatterpolar\":[{\"type\":\"scatterpolar\",\"marker\":{\"colorbar\":{\"outlinewidth\":0,\"ticks\":\"\"}}}],\"histogram\":[{\"marker\":{\"pattern\":{\"fillmode\":\"overlay\",\"size\":10,\"solidity\":0.2}},\"type\":\"histogram\"}],\"scattergl\":[{\"type\":\"scattergl\",\"marker\":{\"colorbar\":{\"outlinewidth\":0,\"ticks\":\"\"}}}],\"scatter3d\":[{\"type\":\"scatter3d\",\"line\":{\"colorbar\":{\"outlinewidth\":0,\"ticks\":\"\"}},\"marker\":{\"colorbar\":{\"outlinewidth\":0,\"ticks\":\"\"}}}],\"scattermapbox\":[{\"type\":\"scattermapbox\",\"marker\":{\"colorbar\":{\"outlinewidth\":0,\"ticks\":\"\"}}}],\"scatterternary\":[{\"type\":\"scatterternary\",\"marker\":{\"colorbar\":{\"outlinewidth\":0,\"ticks\":\"\"}}}],\"scattercarpet\":[{\"type\":\"scattercarpet\",\"marker\":{\"colorbar\":{\"outlinewidth\":0,\"ticks\":\"\"}}}],\"carpet\":[{\"aaxis\":{\"endlinecolor\":\"#2a3f5f\",\"gridcolor\":\"white\",\"linecolor\":\"white\",\"minorgridcolor\":\"white\",\"startlinecolor\":\"#2a3f5f\"},\"baxis\":{\"endlinecolor\":\"#2a3f5f\",\"gridcolor\":\"white\",\"linecolor\":\"white\",\"minorgridcolor\":\"white\",\"startlinecolor\":\"#2a3f5f\"},\"type\":\"carpet\"}],\"table\":[{\"cells\":{\"fill\":{\"color\":\"#EBF0F8\"},\"line\":{\"color\":\"white\"}},\"header\":{\"fill\":{\"color\":\"#C8D4E3\"},\"line\":{\"color\":\"white\"}},\"type\":\"table\"}],\"barpolar\":[{\"marker\":{\"line\":{\"color\":\"#E5ECF6\",\"width\":0.5},\"pattern\":{\"fillmode\":\"overlay\",\"size\":10,\"solidity\":0.2}},\"type\":\"barpolar\"}],\"pie\":[{\"automargin\":true,\"type\":\"pie\"}]},\"layout\":{\"autotypenumbers\":\"strict\",\"colorway\":[\"#636efa\",\"#EF553B\",\"#00cc96\",\"#ab63fa\",\"#FFA15A\",\"#19d3f3\",\"#FF6692\",\"#B6E880\",\"#FF97FF\",\"#FECB52\"],\"font\":{\"color\":\"#2a3f5f\"},\"hovermode\":\"closest\",\"hoverlabel\":{\"align\":\"left\"},\"paper_bgcolor\":\"white\",\"plot_bgcolor\":\"#E5ECF6\",\"polar\":{\"bgcolor\":\"#E5ECF6\",\"angularaxis\":{\"gridcolor\":\"white\",\"linecolor\":\"white\",\"ticks\":\"\"},\"radialaxis\":{\"gridcolor\":\"white\",\"linecolor\":\"white\",\"ticks\":\"\"}},\"ternary\":{\"bgcolor\":\"#E5ECF6\",\"aaxis\":{\"gridcolor\":\"white\",\"linecolor\":\"white\",\"ticks\":\"\"},\"baxis\":{\"gridcolor\":\"white\",\"linecolor\":\"white\",\"ticks\":\"\"},\"caxis\":{\"gridcolor\":\"white\",\"linecolor\":\"white\",\"ticks\":\"\"}},\"coloraxis\":{\"colorbar\":{\"outlinewidth\":0,\"ticks\":\"\"}},\"colorscale\":{\"sequential\":[[0.0,\"#0d0887\"],[0.1111111111111111,\"#46039f\"],[0.2222222222222222,\"#7201a8\"],[0.3333333333333333,\"#9c179e\"],[0.4444444444444444,\"#bd3786\"],[0.5555555555555556,\"#d8576b\"],[0.6666666666666666,\"#ed7953\"],[0.7777777777777778,\"#fb9f3a\"],[0.8888888888888888,\"#fdca26\"],[1.0,\"#f0f921\"]],\"sequentialminus\":[[0.0,\"#0d0887\"],[0.1111111111111111,\"#46039f\"],[0.2222222222222222,\"#7201a8\"],[0.3333333333333333,\"#9c179e\"],[0.4444444444444444,\"#bd3786\"],[0.5555555555555556,\"#d8576b\"],[0.6666666666666666,\"#ed7953\"],[0.7777777777777778,\"#fb9f3a\"],[0.8888888888888888,\"#fdca26\"],[1.0,\"#f0f921\"]],\"diverging\":[[0,\"#8e0152\"],[0.1,\"#c51b7d\"],[0.2,\"#de77ae\"],[0.3,\"#f1b6da\"],[0.4,\"#fde0ef\"],[0.5,\"#f7f7f7\"],[0.6,\"#e6f5d0\"],[0.7,\"#b8e186\"],[0.8,\"#7fbc41\"],[0.9,\"#4d9221\"],[1,\"#276419\"]]},\"xaxis\":{\"gridcolor\":\"white\",\"linecolor\":\"white\",\"ticks\":\"\",\"title\":{\"standoff\":15},\"zerolinecolor\":\"white\",\"automargin\":true,\"zerolinewidth\":2},\"yaxis\":{\"gridcolor\":\"white\",\"linecolor\":\"white\",\"ticks\":\"\",\"title\":{\"standoff\":15},\"zerolinecolor\":\"white\",\"automargin\":true,\"zerolinewidth\":2},\"scene\":{\"xaxis\":{\"backgroundcolor\":\"#E5ECF6\",\"gridcolor\":\"white\",\"linecolor\":\"white\",\"showbackground\":true,\"ticks\":\"\",\"zerolinecolor\":\"white\",\"gridwidth\":2},\"yaxis\":{\"backgroundcolor\":\"#E5ECF6\",\"gridcolor\":\"white\",\"linecolor\":\"white\",\"showbackground\":true,\"ticks\":\"\",\"zerolinecolor\":\"white\",\"gridwidth\":2},\"zaxis\":{\"backgroundcolor\":\"#E5ECF6\",\"gridcolor\":\"white\",\"linecolor\":\"white\",\"showbackground\":true,\"ticks\":\"\",\"zerolinecolor\":\"white\",\"gridwidth\":2}},\"shapedefaults\":{\"line\":{\"color\":\"#2a3f5f\"}},\"annotationdefaults\":{\"arrowcolor\":\"#2a3f5f\",\"arrowhead\":0,\"arrowwidth\":1},\"geo\":{\"bgcolor\":\"white\",\"landcolor\":\"#E5ECF6\",\"subunitcolor\":\"white\",\"showland\":true,\"showlakes\":true,\"lakecolor\":\"white\"},\"title\":{\"x\":0.05},\"mapbox\":{\"style\":\"light\"}}},\"scene\":{\"domain\":{\"x\":[0.0,1.0],\"y\":[0.0,1.0]},\"xaxis\":{\"title\":{\"text\":\"BCR Abl pIC50\"}},\"yaxis\":{\"title\":{\"text\":\"KIT pIC50\"}},\"zaxis\":{\"title\":{\"text\":\"PDGF pIC50\"}}},\"legend\":{\"tracegroupgap\":0,\"itemsizing\":\"constant\"},\"margin\":{\"t\":0,\"l\":0,\"r\":0,\"b\":0}},                        {\"responsive\": true}                    ).then(function(){\n",
       "                            \n",
       "var gd = document.getElementById('185c2471-def1-45ee-98a2-ce422f860c53');\n",
       "var x = new MutationObserver(function (mutations, observer) {{\n",
       "        var display = window.getComputedStyle(gd).display;\n",
       "        if (!display || display === 'none') {{\n",
       "            console.log([gd, 'removed!']);\n",
       "            Plotly.purge(gd);\n",
       "            observer.disconnect();\n",
       "        }}\n",
       "}});\n",
       "\n",
       "// Listen for the removal of the full notebook cells\n",
       "var notebookContainer = gd.closest('#notebook-container');\n",
       "if (notebookContainer) {{\n",
       "    x.observe(notebookContainer, {childList: true});\n",
       "}}\n",
       "\n",
       "// Listen for the clearing of the current output cell\n",
       "var outputEl = gd.closest('.output');\n",
       "if (outputEl) {{\n",
       "    x.observe(outputEl, {childList: true});\n",
       "}}\n",
       "\n",
       "                        })                };                });            </script>        </div>"
      ]
     },
     "metadata": {},
     "output_type": "display_data"
    }
   ],
   "source": [
    "fig = px.scatter_3d(df, x='abl', y='kit', z='pdgf', size='size')\n",
    "\n",
    "fig.add_trace(go.Mesh3d(\n",
    "                   x=pareto_front_pos[:,0],\n",
    "                   y=pareto_front_pos[:,1],\n",
    "                   z=pareto_front_pos[:,2],\n",
    "                   opacity=0.2,\n",
    "                   color='blue',\n",
    "                  ))\n",
    "fig.update_layout(margin=dict(l=0, r=0, b=0, t=0))\n",
    "\n",
    "\n",
    "\n",
    "fig.update_scenes(\n",
    "                  xaxis_title_text=r'BCR Abl pIC50',  \n",
    "                  yaxis_title_text=r'KIT pIC50',  \n",
    "                  zaxis_title_text=r'PDGF pIC50',\n",
    "                )"
   ]
  },
  {
   "cell_type": "code",
   "execution_count": null,
   "id": "1e29fa6b",
   "metadata": {},
   "outputs": [],
   "source": []
  },
  {
   "cell_type": "markdown",
   "id": "6f61f8b4",
   "metadata": {},
   "source": [
    "## Chemprop parity plots for KIT and PDGF inhibitors"
   ]
  },
  {
   "cell_type": "code",
   "execution_count": 37,
   "id": "e6c4d2b0",
   "metadata": {},
   "outputs": [
    {
     "name": "stdout",
     "output_type": "stream",
     "text": [
      "(1560,) (1560,)\n",
      "(195,) (195,)\n"
     ]
    }
   ],
   "source": [
    "kit_train = pd.read_csv('chemprop/kit_pic50_checkpoints_reg/fold_0/train_full.csv')['pic50'].values\n",
    "kit_train_preds = pd.read_csv('chemprop/kit_pic50_train_preds_reg.csv')['pic50'].values\n",
    "\n",
    "kit_test = pd.read_csv('chemprop/kit_pic50_checkpoints_reg/fold_0/test_full.csv')['pic50'].values\n",
    "kit_test_preds = pd.read_csv('chemprop/kit_pic50_test_preds_reg.csv')['pic50'].values\n",
    "\n",
    "print(kit_train.shape, kit_train_preds.shape)\n",
    "print(kit_test.shape, kit_test_preds.shape)"
   ]
  },
  {
   "cell_type": "code",
   "execution_count": 39,
   "id": "6412ab42",
   "metadata": {},
   "outputs": [
    {
     "name": "stdout",
     "output_type": "stream",
     "text": [
      "(1992,) (1992,)\n",
      "(250,) (250,)\n"
     ]
    }
   ],
   "source": [
    "pdgf_train = pd.read_csv('chemprop/pdgf_pic50_checkpoints_reg/fold_0/train_full.csv')['pic50'].values\n",
    "pdgf_train_preds = pd.read_csv('chemprop/pdgf_pic50_train_preds_reg.csv')['pic50'].values\n",
    "\n",
    "pdgf_test = pd.read_csv('chemprop/pdgf_pic50_checkpoints_reg/fold_0/test_full.csv')['pic50'].values\n",
    "pdgf_test_preds = pd.read_csv('chemprop/pdgf_pic50_test_preds_reg.csv')['pic50'].values\n",
    "\n",
    "print(pdgf_train.shape, pdgf_train_preds.shape)\n",
    "print(pdgf_test.shape, pdgf_test_preds.shape)"
   ]
  },
  {
   "cell_type": "code",
   "execution_count": null,
   "id": "d071b98c",
   "metadata": {},
   "outputs": [],
   "source": []
  },
  {
   "cell_type": "code",
   "execution_count": 70,
   "id": "8665d9fd",
   "metadata": {},
   "outputs": [
    {
     "data": {
      "image/png": "[encoded data removed]",
      "text/plain": [
       "<Figure size 720x360 with 2 Axes>"
      ]
     },
     "metadata": {
      "needs_background": "light"
     },
     "output_type": "display_data"
    }
   ],
   "source": [
    "fig, (ax0, ax1) = plt.subplots(1, 2, figsize=(10, 5))\n",
    "\n",
    "#-----\n",
    "# kit\n",
    "#-----\n",
    "kit_train_p = round(pearsonr(kit_train, kit_train_preds)[0], 2)\n",
    "kit_test_p = round(pearsonr(kit_test, kit_test_preds)[0], 2)\n",
    "\n",
    "ax0.scatter(kit_train, kit_train_preds, label='train', zorder=2)\n",
    "ax0.scatter(kit_test, kit_test_preds, label='test',zorder=3)\n",
    "\n",
    "ax0.plot([3., 11.], [3., 11.], ls=':', lw=2, alpha=0.8, c='k', zorder=1)\n",
    "\n",
    "textstr = r'train $\\rho$'+f' = {kit_train_p}\\n'+r'test $\\rho$'+f' = {kit_test_p}'\n",
    "props = dict(boxstyle='round', facecolor='b', alpha=0.2)\n",
    "ax0.text(0.05, 0.95, textstr, transform=ax0.transAxes, fontsize=14,\n",
    "        verticalalignment='top', bbox=props, fontweight='book')\n",
    "\n",
    "ax0.set_xlabel(r'true pIC$_{50}$',fontsize=14)\n",
    "ax0.set_ylabel(r'predicted pIC$_{50}$',fontsize=14)\n",
    "\n",
    "tot_points = kit_train.shape[0]+kit_test.shape[0]\n",
    "ax0.set_title(f'KIT inhibitors ({tot_points} points)', fontsize=14)\n",
    "\n",
    "ax0.legend(loc='lower right', fontsize=14)\n",
    "\n",
    "\n",
    "\n",
    "#-----\n",
    "# pdgf\n",
    "#-----\n",
    "pdgf_train_p = round(pearsonr(pdgf_train, pdgf_train_preds)[0], 2)\n",
    "pdgf_test_p = round(pearsonr(pdgf_test, pdgf_test_preds)[0], 2)\n",
    "\n",
    "ax1.scatter(pdgf_train, pdgf_train_preds, label='train', zorder=2)\n",
    "ax1.scatter(pdgf_test, pdgf_test_preds, label='test',zorder=3)\n",
    "\n",
    "ax1.plot([3.5, 11.], [3.5, 11.], ls=':', lw=2, alpha=0.8, c='k', zorder=1)\n",
    "\n",
    "textstr = r'train $\\rho$'+f' = {pdgf_train_p}\\n'+r'test $\\rho$'+f' = {pdgf_test_p}'\n",
    "props = dict(boxstyle='round', facecolor='b', alpha=0.2)\n",
    "ax1.text(0.05, 0.95, textstr, transform=ax1.transAxes, fontsize=14,\n",
    "        verticalalignment='top', bbox=props, fontweight='book')\n",
    "\n",
    "ax1.set_xlabel(r'true pIC$_{50}$',fontsize=14)\n",
    "tot_points = pdgf_train.shape[0]+pdgf_test.shape[0]\n",
    "ax1.set_title(f'PDGF inhibitors ({tot_points} points)', fontsize=14)\n",
    "\n",
    "\n",
    "plt.tight_layout()\n",
    "plt.savefig('chemprop_parity_inhibitors.png', dpi=300)"
   ]
  },
  {
   "cell_type": "code",
   "execution_count": null,
   "id": "b7663cb7",
   "metadata": {},
   "outputs": [],
   "source": []
  },
  {
   "cell_type": "code",
   "execution_count": 85,
   "id": "43a84b7e",
   "metadata": {},
   "outputs": [
    {
     "data": {
      "text/html": [
       "<div>\n",
       "<style scoped>\n",
       "    .dataframe tbody tr th:only-of-type {\n",
       "        vertical-align: middle;\n",
       "    }\n",
       "\n",
       "    .dataframe tbody tr th {\n",
       "        vertical-align: top;\n",
       "    }\n",
       "\n",
       "    .dataframe thead th {\n",
       "        text-align: right;\n",
       "    }\n",
       "</style>\n",
       "<table border=\"1\" class=\"dataframe\">\n",
       "  <thead>\n",
       "    <tr style=\"text-align: right;\">\n",
       "      <th></th>\n",
       "      <th>template_name</th>\n",
       "      <th>alkyne_name</th>\n",
       "      <th>template_smi</th>\n",
       "      <th>alkyne_smi</th>\n",
       "      <th>molecule_smi</th>\n",
       "      <th>synthesis_success</th>\n",
       "      <th>synthesis_success_prob</th>\n",
       "      <th>is_experiment_x</th>\n",
       "      <th>abl1_pIC50</th>\n",
       "      <th>abl1_pIC50_std</th>\n",
       "    </tr>\n",
       "  </thead>\n",
       "  <tbody>\n",
       "    <tr>\n",
       "      <th>0</th>\n",
       "      <td>8-1</td>\n",
       "      <td>22-1</td>\n",
       "      <td>Cc1ccc(C(=O)Nc2ccc(CN3CCN(C)CC3)c(C(F)(F)F)c2)...</td>\n",
       "      <td>C#Cc1cnc2ccc(C(=N)OC)cn12</td>\n",
       "      <td>COC(=N)c1ccc2ncc(C#Cc3cc(C(=O)Nc4ccc(CN5CCN(C)...</td>\n",
       "      <td>1</td>\n",
       "      <td>0.536046</td>\n",
       "      <td>0</td>\n",
       "      <td>7.390089</td>\n",
       "      <td>7.156328</td>\n",
       "    </tr>\n",
       "    <tr>\n",
       "      <th>1</th>\n",
       "      <td>8-1</td>\n",
       "      <td>22-2</td>\n",
       "      <td>Cc1ccc(C(=O)Nc2ccc(CN3CCN(C)CC3)c(C(F)(F)F)c2)...</td>\n",
       "      <td>C#Cc1cnc2ccccn12</td>\n",
       "      <td>Cc1ccc(C(=O)Nc2ccc(CN3CCN(C)CC3)c(C(F)(F)F)c2)...</td>\n",
       "      <td>1</td>\n",
       "      <td>1.000000</td>\n",
       "      <td>1</td>\n",
       "      <td>8.045757</td>\n",
       "      <td>1.000000</td>\n",
       "    </tr>\n",
       "    <tr>\n",
       "      <th>2</th>\n",
       "      <td>8-1</td>\n",
       "      <td>22-3</td>\n",
       "      <td>Cc1ccc(C(=O)Nc2ccc(CN3CCN(C)CC3)c(C(F)(F)F)c2)...</td>\n",
       "      <td>C#Cc1cnc2ccc(C(F)(F)F)cn12</td>\n",
       "      <td>Cc1ccc(C(=O)Nc2ccc(CN3CCN(C)CC3)c(C(F)(F)F)c2)...</td>\n",
       "      <td>0</td>\n",
       "      <td>0.000000</td>\n",
       "      <td>1</td>\n",
       "      <td>7.515735</td>\n",
       "      <td>7.152991</td>\n",
       "    </tr>\n",
       "    <tr>\n",
       "      <th>3</th>\n",
       "      <td>8-1</td>\n",
       "      <td>22-4</td>\n",
       "      <td>Cc1ccc(C(=O)Nc2ccc(CN3CCN(C)CC3)c(C(F)(F)F)c2)...</td>\n",
       "      <td>C#Cc1cnc2cccnn12</td>\n",
       "      <td>Cc1ccc(C(=O)Nc2ccc(CN3CCN(C)CC3)c(C(F)(F)F)c2)...</td>\n",
       "      <td>1</td>\n",
       "      <td>1.000000</td>\n",
       "      <td>1</td>\n",
       "      <td>8.065502</td>\n",
       "      <td>1.000000</td>\n",
       "    </tr>\n",
       "    <tr>\n",
       "      <th>4</th>\n",
       "      <td>8-1</td>\n",
       "      <td>22-5</td>\n",
       "      <td>Cc1ccc(C(=O)Nc2ccc(CN3CCN(C)CC3)c(C(F)(F)F)c2)...</td>\n",
       "      <td>C#Cc1cncc2nccn12</td>\n",
       "      <td>Cc1ccc(C(=O)Nc2ccc(CN3CCN(C)CC3)c(C(F)(F)F)c2)...</td>\n",
       "      <td>1</td>\n",
       "      <td>1.000000</td>\n",
       "      <td>1</td>\n",
       "      <td>9.698970</td>\n",
       "      <td>1.000000</td>\n",
       "    </tr>\n",
       "    <tr>\n",
       "      <th>...</th>\n",
       "      <td>...</td>\n",
       "      <td>...</td>\n",
       "      <td>...</td>\n",
       "      <td>...</td>\n",
       "      <td>...</td>\n",
       "      <td>...</td>\n",
       "      <td>...</td>\n",
       "      <td>...</td>\n",
       "      <td>...</td>\n",
       "      <td>...</td>\n",
       "    </tr>\n",
       "    <tr>\n",
       "      <th>265</th>\n",
       "      <td>19</td>\n",
       "      <td>22-23</td>\n",
       "      <td>CN1CCN(Cc2ccc(NC(=O)Nc3cc(Br)n(C)n3)cc2C(F)(F)...</td>\n",
       "      <td>C#Cc1ccc(N)nc1</td>\n",
       "      <td>CN1CCN(Cc2ccc(NC(=O)Nc3cc(C#Cc4ccc(N)nc4)n(C)n...</td>\n",
       "      <td>1</td>\n",
       "      <td>0.985571</td>\n",
       "      <td>0</td>\n",
       "      <td>7.493321</td>\n",
       "      <td>7.067724</td>\n",
       "    </tr>\n",
       "    <tr>\n",
       "      <th>266</th>\n",
       "      <td>19</td>\n",
       "      <td>22-24</td>\n",
       "      <td>CN1CCN(Cc2ccc(NC(=O)Nc3cc(Br)n(C)n3)cc2C(F)(F)...</td>\n",
       "      <td>C#Cc1ccccc1F</td>\n",
       "      <td>CN1CCN(Cc2ccc(NC(=O)Nc3cc(C#Cc4ccccc4F)n(C)n3)...</td>\n",
       "      <td>1</td>\n",
       "      <td>0.988859</td>\n",
       "      <td>0</td>\n",
       "      <td>7.109972</td>\n",
       "      <td>7.062334</td>\n",
       "    </tr>\n",
       "    <tr>\n",
       "      <th>267</th>\n",
       "      <td>19</td>\n",
       "      <td>22-25</td>\n",
       "      <td>CN1CCN(Cc2ccc(NC(=O)Nc3cc(Br)n(C)n3)cc2C(F)(F)...</td>\n",
       "      <td>C[Si](C)(C)C#Cc1cnc2nccn2c1</td>\n",
       "      <td>CN1CCN(Cc2ccc(NC(=O)Nc3cc(C#Cc4cnc5nccn5c4)n(C...</td>\n",
       "      <td>0</td>\n",
       "      <td>0.000000</td>\n",
       "      <td>1</td>\n",
       "      <td>7.683010</td>\n",
       "      <td>7.071301</td>\n",
       "    </tr>\n",
       "    <tr>\n",
       "      <th>268</th>\n",
       "      <td>19</td>\n",
       "      <td>22-26</td>\n",
       "      <td>CN1CCN(Cc2ccc(NC(=O)Nc3cc(Br)n(C)n3)cc2C(F)(F)...</td>\n",
       "      <td>C[Si](C)(C)C#Cc1cncc2nc[nH]c12</td>\n",
       "      <td>CN1CCN(Cc2ccc(NC(=O)Nc3cc(C#Cc4cncc5nc[nH]c45)...</td>\n",
       "      <td>1</td>\n",
       "      <td>1.000000</td>\n",
       "      <td>1</td>\n",
       "      <td>8.522879</td>\n",
       "      <td>1.000000</td>\n",
       "    </tr>\n",
       "    <tr>\n",
       "      <th>269</th>\n",
       "      <td>19</td>\n",
       "      <td>22-27</td>\n",
       "      <td>CN1CCN(Cc2ccc(NC(=O)Nc3cc(Br)n(C)n3)cc2C(F)(F)...</td>\n",
       "      <td>C#Cc1cnc(C)s1</td>\n",
       "      <td>Cc1ncc(C#Cc2cc(NC(=O)Nc3ccc(CN4CCN(C)CC4)c(C(F...</td>\n",
       "      <td>0</td>\n",
       "      <td>0.000000</td>\n",
       "      <td>1</td>\n",
       "      <td>7.527764</td>\n",
       "      <td>7.077820</td>\n",
       "    </tr>\n",
       "  </tbody>\n",
       "</table>\n",
       "<p>270 rows × 10 columns</p>\n",
       "</div>"
      ],
      "text/plain": [
       "    template_name alkyne_name  \\\n",
       "0             8-1        22-1   \n",
       "1             8-1        22-2   \n",
       "2             8-1        22-3   \n",
       "3             8-1        22-4   \n",
       "4             8-1        22-5   \n",
       "..            ...         ...   \n",
       "265            19       22-23   \n",
       "266            19       22-24   \n",
       "267            19       22-25   \n",
       "268            19       22-26   \n",
       "269            19       22-27   \n",
       "\n",
       "                                          template_smi  \\\n",
       "0    Cc1ccc(C(=O)Nc2ccc(CN3CCN(C)CC3)c(C(F)(F)F)c2)...   \n",
       "1    Cc1ccc(C(=O)Nc2ccc(CN3CCN(C)CC3)c(C(F)(F)F)c2)...   \n",
       "2    Cc1ccc(C(=O)Nc2ccc(CN3CCN(C)CC3)c(C(F)(F)F)c2)...   \n",
       "3    Cc1ccc(C(=O)Nc2ccc(CN3CCN(C)CC3)c(C(F)(F)F)c2)...   \n",
       "4    Cc1ccc(C(=O)Nc2ccc(CN3CCN(C)CC3)c(C(F)(F)F)c2)...   \n",
       "..                                                 ...   \n",
       "265  CN1CCN(Cc2ccc(NC(=O)Nc3cc(Br)n(C)n3)cc2C(F)(F)...   \n",
       "266  CN1CCN(Cc2ccc(NC(=O)Nc3cc(Br)n(C)n3)cc2C(F)(F)...   \n",
       "267  CN1CCN(Cc2ccc(NC(=O)Nc3cc(Br)n(C)n3)cc2C(F)(F)...   \n",
       "268  CN1CCN(Cc2ccc(NC(=O)Nc3cc(Br)n(C)n3)cc2C(F)(F)...   \n",
       "269  CN1CCN(Cc2ccc(NC(=O)Nc3cc(Br)n(C)n3)cc2C(F)(F)...   \n",
       "\n",
       "                         alkyne_smi  \\\n",
       "0         C#Cc1cnc2ccc(C(=N)OC)cn12   \n",
       "1                  C#Cc1cnc2ccccn12   \n",
       "2        C#Cc1cnc2ccc(C(F)(F)F)cn12   \n",
       "3                  C#Cc1cnc2cccnn12   \n",
       "4                  C#Cc1cncc2nccn12   \n",
       "..                              ...   \n",
       "265                  C#Cc1ccc(N)nc1   \n",
       "266                    C#Cc1ccccc1F   \n",
       "267     C[Si](C)(C)C#Cc1cnc2nccn2c1   \n",
       "268  C[Si](C)(C)C#Cc1cncc2nc[nH]c12   \n",
       "269                   C#Cc1cnc(C)s1   \n",
       "\n",
       "                                          molecule_smi  synthesis_success  \\\n",
       "0    COC(=N)c1ccc2ncc(C#Cc3cc(C(=O)Nc4ccc(CN5CCN(C)...                  1   \n",
       "1    Cc1ccc(C(=O)Nc2ccc(CN3CCN(C)CC3)c(C(F)(F)F)c2)...                  1   \n",
       "2    Cc1ccc(C(=O)Nc2ccc(CN3CCN(C)CC3)c(C(F)(F)F)c2)...                  0   \n",
       "3    Cc1ccc(C(=O)Nc2ccc(CN3CCN(C)CC3)c(C(F)(F)F)c2)...                  1   \n",
       "4    Cc1ccc(C(=O)Nc2ccc(CN3CCN(C)CC3)c(C(F)(F)F)c2)...                  1   \n",
       "..                                                 ...                ...   \n",
       "265  CN1CCN(Cc2ccc(NC(=O)Nc3cc(C#Cc4ccc(N)nc4)n(C)n...                  1   \n",
       "266  CN1CCN(Cc2ccc(NC(=O)Nc3cc(C#Cc4ccccc4F)n(C)n3)...                  1   \n",
       "267  CN1CCN(Cc2ccc(NC(=O)Nc3cc(C#Cc4cnc5nccn5c4)n(C...                  0   \n",
       "268  CN1CCN(Cc2ccc(NC(=O)Nc3cc(C#Cc4cncc5nc[nH]c45)...                  1   \n",
       "269  Cc1ncc(C#Cc2cc(NC(=O)Nc3ccc(CN4CCN(C)CC4)c(C(F...                  0   \n",
       "\n",
       "     synthesis_success_prob  is_experiment_x  abl1_pIC50  abl1_pIC50_std  \n",
       "0                  0.536046                0    7.390089        7.156328  \n",
       "1                  1.000000                1    8.045757        1.000000  \n",
       "2                  0.000000                1    7.515735        7.152991  \n",
       "3                  1.000000                1    8.065502        1.000000  \n",
       "4                  1.000000                1    9.698970        1.000000  \n",
       "..                      ...              ...         ...             ...  \n",
       "265                0.985571                0    7.493321        7.067724  \n",
       "266                0.988859                0    7.109972        7.062334  \n",
       "267                0.000000                1    7.683010        7.071301  \n",
       "268                1.000000                1    8.522879        1.000000  \n",
       "269                0.000000                1    7.527764        7.077820  \n",
       "\n",
       "[270 rows x 10 columns]"
      ]
     },
     "execution_count": 85,
     "metadata": {},
     "output_type": "execute_result"
    }
   ],
   "source": [
    "adf"
   ]
  },
  {
   "cell_type": "code",
   "execution_count": 87,
   "id": "de49e98d",
   "metadata": {},
   "outputs": [],
   "source": [
    "# add new values to the lookup table\n",
    "adf['kit_pIC50'] = df['kit']\n",
    "adf['pdgf_pIC50'] = df['pdgf']"
   ]
  },
  {
   "cell_type": "code",
   "execution_count": 89,
   "id": "b83baa98",
   "metadata": {},
   "outputs": [],
   "source": [
    "# save new lookup table to disk\n",
    "adf.to_csv('lookup_table_multiobj.csv', index=False)"
   ]
  },
  {
   "cell_type": "code",
   "execution_count": null,
   "id": "15744c9a",
   "metadata": {},
   "outputs": [],
   "source": []
  }
 ],
 "metadata": {
  "kernelspec": {
   "display_name": "atlas",
   "language": "python",
   "name": "atlas"
  },
  "language_info": {
   "codemirror_mode": {
    "name": "ipython",
    "version": 3
   },
   "file_extension": ".py",
   "mimetype": "text/x-python",
   "name": "python",
   "nbconvert_exporter": "python",
   "pygments_lexer": "ipython3",
   "version": "3.10.8"
  }
 },
 "nbformat": 4,
 "nbformat_minor": 5
}
