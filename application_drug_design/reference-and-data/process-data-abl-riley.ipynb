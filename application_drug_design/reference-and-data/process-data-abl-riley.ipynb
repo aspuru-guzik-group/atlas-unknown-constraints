{
 "cells": [
  {
   "cell_type": "code",
   "execution_count": 1,
   "id": "367ff6ad",
   "metadata": {},
   "outputs": [],
   "source": [
    "import pickle\n",
    "from rdkit import Chem\n",
    "from rdkit.Chem import Draw\n",
    "from rdkit.Chem import AllChem\n",
    "from PIL import Image\n",
    "\n",
    "import pandas as pd\n",
    "import numpy as np\n",
    "\n",
    "# regression metrics\n",
    "from sklearn.metrics import r2_score, mean_absolute_error, mean_squared_error\n",
    "from scipy.stats import pearsonr, spearmanr\n",
    "\n",
    "from sklearn.preprocessing import StandardScaler, MinMaxScaler\n",
    "\n",
    "# classification metrics\n",
    "from sklearn.metrics import accuracy_score, roc_auc_score\n",
    "\n",
    "import matplotlib.pyplot as plt\n",
    "import matplotlib\n",
    "%matplotlib inline\n",
    "import seaborn as sns\n",
    "sns.set(style='ticks', context='notebook', font_scale=1.2)\n",
    "\n",
    "from ngboost import NGBRegressor, NGBClassifier\n",
    "from ngboost.distns import Bernoulli"
   ]
  },
  {
   "cell_type": "markdown",
   "id": "88d2cc34",
   "metadata": {},
   "source": [
    "## Create combinatorial library"
   ]
  },
  {
   "cell_type": "code",
   "execution_count": 2,
   "id": "15f28c4d",
   "metadata": {},
   "outputs": [],
   "source": [
    "def mfs(s):\n",
    "    return Chem.MolFromSmiles(s)\n",
    "\n",
    "def mts(m):\n",
    "    return Chem.MolToCXSmiles(m)\n",
    "\n",
    "def sanitize_smiles(smi):\n",
    "    m = Chem.MolFromSmiles(smi) \n",
    "    Chem.SanitizeMol(m)\n",
    "    return Chem.MolToSmiles(m)\n",
    "\n",
    "def sonogashira(smi_template, smi_alkyne):\n",
    "    mol1 = Chem.MolFromSmiles(smi_template)\n",
    "    mol2 = Chem.MolFromSmiles(smi_alkyne)\n",
    "    smarts = \"[#6:1]-[I,Br,Cl].[C:2]#[$([CH1]),$([#6X2][Si])]>>[*:1]C#[C:2]\"\n",
    "    rxn = AllChem.ReactionFromSmarts(smarts)\n",
    "    reacts = (mol1, mol2)\n",
    "    products = rxn.RunReactants(reacts) # tuple\n",
    "    p = products[0][0]\n",
    "    Chem.SanitizeMol(p)\n",
    "    return p"
   ]
  },
  {
   "cell_type": "code",
   "execution_count": 3,
   "id": "4fb7c956",
   "metadata": {},
   "outputs": [
    {
     "name": "stdout",
     "output_type": "stream",
     "text": [
      "NUM TEMPLATE FRAGS :  10\n",
      "NUM ALKYNE FRAGS :  27\n"
     ]
    }
   ],
   "source": [
    "df_templates = pd.read_csv('template_frags.csv').iloc[:10, :]\n",
    "df_alkynes = pd.read_csv('alkyne_frags.csv').iloc[:27, :]\n",
    "\n",
    "print('NUM TEMPLATE FRAGS : ', df_templates.shape[0])\n",
    "print('NUM ALKYNE FRAGS : ', df_alkynes.shape[0])"
   ]
  },
  {
   "cell_type": "code",
   "execution_count": 4,
   "id": "47161e5b",
   "metadata": {},
   "outputs": [],
   "source": [
    "mols = []\n",
    "templates_smi = []\n",
    "alkynes_smi = []\n",
    "templates_name = []\n",
    "alkynes_name = []\n",
    "\n",
    "for i_tem in df_templates.index:\n",
    "    for i_alk in df_alkynes.index:\n",
    "        smi_tem = df_templates.loc[i_tem, 'smiles']\n",
    "        smi_alk = df_alkynes.loc[i_alk, 'smiles']\n",
    "        \n",
    "        name_tem = df_templates.loc[i_tem, 'name']\n",
    "        name_alk = df_alkynes.loc[i_alk, 'name']\n",
    "        \n",
    "        # react\n",
    "        p = sonogashira(smi_tem, smi_alk)\n",
    "        \n",
    "        # append info\n",
    "        mols.append(p)\n",
    "        templates_smi.append(sanitize_smiles(smi_tem))\n",
    "        alkynes_smi.append(sanitize_smiles(smi_alk))\n",
    "        templates_name.append(name_tem)\n",
    "        alkynes_name.append(name_alk)"
   ]
  },
  {
   "cell_type": "code",
   "execution_count": 5,
   "id": "4043eafa",
   "metadata": {},
   "outputs": [
    {
     "name": "stdout",
     "output_type": "stream",
     "text": [
      "(270, 5)\n",
      "Index(['template_name', 'alkyne_name', 'template_smi', 'alkyne_smi',\n",
      "       'molecule_smi'],\n",
      "      dtype='object')\n"
     ]
    },
    {
     "data": {
      "text/html": [
       "<div>\n",
       "<style scoped>\n",
       "    .dataframe tbody tr th:only-of-type {\n",
       "        vertical-align: middle;\n",
       "    }\n",
       "\n",
       "    .dataframe tbody tr th {\n",
       "        vertical-align: top;\n",
       "    }\n",
       "\n",
       "    .dataframe thead th {\n",
       "        text-align: right;\n",
       "    }\n",
       "</style>\n",
       "<table border=\"1\" class=\"dataframe\">\n",
       "  <thead>\n",
       "    <tr style=\"text-align: right;\">\n",
       "      <th></th>\n",
       "      <th>template_name</th>\n",
       "      <th>alkyne_name</th>\n",
       "      <th>template_smi</th>\n",
       "      <th>alkyne_smi</th>\n",
       "      <th>molecule_smi</th>\n",
       "    </tr>\n",
       "  </thead>\n",
       "  <tbody>\n",
       "    <tr>\n",
       "      <th>0</th>\n",
       "      <td>8-1</td>\n",
       "      <td>22-1</td>\n",
       "      <td>Cc1ccc(C(=O)Nc2ccc(CN3CCN(C)CC3)c(C(F)(F)F)c2)...</td>\n",
       "      <td>C#Cc1cnc2ccc(C(=N)OC)cn12</td>\n",
       "      <td>COC(=N)c1ccc2ncc(C#Cc3cc(C(=O)Nc4ccc(CN5CCN(C)...</td>\n",
       "    </tr>\n",
       "    <tr>\n",
       "      <th>1</th>\n",
       "      <td>8-1</td>\n",
       "      <td>22-2</td>\n",
       "      <td>Cc1ccc(C(=O)Nc2ccc(CN3CCN(C)CC3)c(C(F)(F)F)c2)...</td>\n",
       "      <td>C#Cc1cnc2ccccn12</td>\n",
       "      <td>Cc1ccc(C(=O)Nc2ccc(CN3CCN(C)CC3)c(C(F)(F)F)c2)...</td>\n",
       "    </tr>\n",
       "    <tr>\n",
       "      <th>2</th>\n",
       "      <td>8-1</td>\n",
       "      <td>22-3</td>\n",
       "      <td>Cc1ccc(C(=O)Nc2ccc(CN3CCN(C)CC3)c(C(F)(F)F)c2)...</td>\n",
       "      <td>C#Cc1cnc2ccc(C(F)(F)F)cn12</td>\n",
       "      <td>Cc1ccc(C(=O)Nc2ccc(CN3CCN(C)CC3)c(C(F)(F)F)c2)...</td>\n",
       "    </tr>\n",
       "    <tr>\n",
       "      <th>3</th>\n",
       "      <td>8-1</td>\n",
       "      <td>22-4</td>\n",
       "      <td>Cc1ccc(C(=O)Nc2ccc(CN3CCN(C)CC3)c(C(F)(F)F)c2)...</td>\n",
       "      <td>C#Cc1cnc2cccnn12</td>\n",
       "      <td>Cc1ccc(C(=O)Nc2ccc(CN3CCN(C)CC3)c(C(F)(F)F)c2)...</td>\n",
       "    </tr>\n",
       "    <tr>\n",
       "      <th>4</th>\n",
       "      <td>8-1</td>\n",
       "      <td>22-5</td>\n",
       "      <td>Cc1ccc(C(=O)Nc2ccc(CN3CCN(C)CC3)c(C(F)(F)F)c2)...</td>\n",
       "      <td>C#Cc1cncc2nccn12</td>\n",
       "      <td>Cc1ccc(C(=O)Nc2ccc(CN3CCN(C)CC3)c(C(F)(F)F)c2)...</td>\n",
       "    </tr>\n",
       "  </tbody>\n",
       "</table>\n",
       "</div>"
      ],
      "text/plain": [
       "  template_name alkyne_name  \\\n",
       "0           8-1        22-1   \n",
       "1           8-1        22-2   \n",
       "2           8-1        22-3   \n",
       "3           8-1        22-4   \n",
       "4           8-1        22-5   \n",
       "\n",
       "                                        template_smi  \\\n",
       "0  Cc1ccc(C(=O)Nc2ccc(CN3CCN(C)CC3)c(C(F)(F)F)c2)...   \n",
       "1  Cc1ccc(C(=O)Nc2ccc(CN3CCN(C)CC3)c(C(F)(F)F)c2)...   \n",
       "2  Cc1ccc(C(=O)Nc2ccc(CN3CCN(C)CC3)c(C(F)(F)F)c2)...   \n",
       "3  Cc1ccc(C(=O)Nc2ccc(CN3CCN(C)CC3)c(C(F)(F)F)c2)...   \n",
       "4  Cc1ccc(C(=O)Nc2ccc(CN3CCN(C)CC3)c(C(F)(F)F)c2)...   \n",
       "\n",
       "                   alkyne_smi  \\\n",
       "0   C#Cc1cnc2ccc(C(=N)OC)cn12   \n",
       "1            C#Cc1cnc2ccccn12   \n",
       "2  C#Cc1cnc2ccc(C(F)(F)F)cn12   \n",
       "3            C#Cc1cnc2cccnn12   \n",
       "4            C#Cc1cncc2nccn12   \n",
       "\n",
       "                                        molecule_smi  \n",
       "0  COC(=N)c1ccc2ncc(C#Cc3cc(C(=O)Nc4ccc(CN5CCN(C)...  \n",
       "1  Cc1ccc(C(=O)Nc2ccc(CN3CCN(C)CC3)c(C(F)(F)F)c2)...  \n",
       "2  Cc1ccc(C(=O)Nc2ccc(CN3CCN(C)CC3)c(C(F)(F)F)c2)...  \n",
       "3  Cc1ccc(C(=O)Nc2ccc(CN3CCN(C)CC3)c(C(F)(F)F)c2)...  \n",
       "4  Cc1ccc(C(=O)Nc2ccc(CN3CCN(C)CC3)c(C(F)(F)F)c2)...  "
      ]
     },
     "execution_count": 5,
     "metadata": {},
     "output_type": "execute_result"
    }
   ],
   "source": [
    "# generate dataframe including the reactant and product smiles\n",
    "d = {'template_name':templates_name, 'alkyne_name':alkynes_name, \n",
    "     'template_smi':templates_smi, 'alkyne_smi':alkynes_smi, \n",
    "     'molecule_smi':[Chem.MolToSmiles(m) for m in mols]}\n",
    "df = pd.DataFrame(d)\n",
    "print(df.shape)\n",
    "print(df.columns)\n",
    "df.head()"
   ]
  },
  {
   "cell_type": "code",
   "execution_count": 6,
   "id": "d4b36610",
   "metadata": {},
   "outputs": [],
   "source": [
    "img = Draw.MolsToGridImage(mols, molsPerRow=4, subImgSize=(300, 300), maxMols=300)\n",
    "png = img.data\n",
    "with open('all_momlecules.png', 'wb+') as outf:\n",
    "    outf.write(png)"
   ]
  },
  {
   "cell_type": "code",
   "execution_count": 7,
   "id": "b76fcb3f",
   "metadata": {},
   "outputs": [
    {
     "data": {
      "image/png": "[encoded data removed]",
      "text/plain": [
       "<IPython.core.display.Image object>"
      ]
     },
     "execution_count": 7,
     "metadata": {},
     "output_type": "execute_result"
    }
   ],
   "source": [
    "# check some molecules at random\n",
    "Draw.MolsToGridImage(np.random.choice(mols, size=8), molsPerRow=4, subImgSize=(300, 200))"
   ]
  },
  {
   "cell_type": "code",
   "execution_count": 8,
   "id": "6a5fc879",
   "metadata": {},
   "outputs": [
    {
     "name": "stdout",
     "output_type": "stream",
     "text": [
      "(96, 3)\n",
      "Index(['molecule_smi', 'synthesis_success', 'abl1_pIC50'], dtype='object')\n"
     ]
    },
    {
     "data": {
      "text/html": [
       "<div>\n",
       "<style scoped>\n",
       "    .dataframe tbody tr th:only-of-type {\n",
       "        vertical-align: middle;\n",
       "    }\n",
       "\n",
       "    .dataframe tbody tr th {\n",
       "        vertical-align: top;\n",
       "    }\n",
       "\n",
       "    .dataframe thead th {\n",
       "        text-align: right;\n",
       "    }\n",
       "</style>\n",
       "<table border=\"1\" class=\"dataframe\">\n",
       "  <thead>\n",
       "    <tr style=\"text-align: right;\">\n",
       "      <th></th>\n",
       "      <th>molecule_smi</th>\n",
       "      <th>synthesis_success</th>\n",
       "      <th>abl1_pIC50</th>\n",
       "    </tr>\n",
       "  </thead>\n",
       "  <tbody>\n",
       "    <tr>\n",
       "      <th>0</th>\n",
       "      <td>Cc1ccc(C(=O)Nc2ccc(CN3CCN(C)CC3)c(C(F)(F)F)c2)...</td>\n",
       "      <td>yes</td>\n",
       "      <td>8.045757</td>\n",
       "    </tr>\n",
       "    <tr>\n",
       "      <th>1</th>\n",
       "      <td>Cc1ccc(C(=O)Nc2ccc(CN3CCN(C)CC3)c(C(F)(F)F)c2)...</td>\n",
       "      <td>no</td>\n",
       "      <td>NaN</td>\n",
       "    </tr>\n",
       "    <tr>\n",
       "      <th>2</th>\n",
       "      <td>Cc1ccc(C(=O)Nc2ccc(CN3CCN(C)CC3)c(C(F)(F)F)c2)...</td>\n",
       "      <td>yes</td>\n",
       "      <td>8.065502</td>\n",
       "    </tr>\n",
       "    <tr>\n",
       "      <th>3</th>\n",
       "      <td>Cc1ccc(C(=O)Nc2ccc(CN3CCN(C)CC3)c(C(F)(F)F)c2)...</td>\n",
       "      <td>yes</td>\n",
       "      <td>9.698970</td>\n",
       "    </tr>\n",
       "    <tr>\n",
       "      <th>4</th>\n",
       "      <td>Cc1ccc(C(=O)Nc2ccc(CN3CCN(C)CC3)c(C(F)(F)F)c2)...</td>\n",
       "      <td>yes</td>\n",
       "      <td>8.638272</td>\n",
       "    </tr>\n",
       "  </tbody>\n",
       "</table>\n",
       "</div>"
      ],
      "text/plain": [
       "                                        molecule_smi synthesis_success  \\\n",
       "0  Cc1ccc(C(=O)Nc2ccc(CN3CCN(C)CC3)c(C(F)(F)F)c2)...               yes   \n",
       "1  Cc1ccc(C(=O)Nc2ccc(CN3CCN(C)CC3)c(C(F)(F)F)c2)...                no   \n",
       "2  Cc1ccc(C(=O)Nc2ccc(CN3CCN(C)CC3)c(C(F)(F)F)c2)...               yes   \n",
       "3  Cc1ccc(C(=O)Nc2ccc(CN3CCN(C)CC3)c(C(F)(F)F)c2)...               yes   \n",
       "4  Cc1ccc(C(=O)Nc2ccc(CN3CCN(C)CC3)c(C(F)(F)F)c2)...               yes   \n",
       "\n",
       "   abl1_pIC50  \n",
       "0    8.045757  \n",
       "1         NaN  \n",
       "2    8.065502  \n",
       "3    9.698970  \n",
       "4    8.638272  "
      ]
     },
     "execution_count": 8,
     "metadata": {},
     "output_type": "execute_result"
    }
   ],
   "source": [
    "# load IC50s\n",
    "df_results = pd.read_csv('exp_results.csv').iloc[:96, :]\n",
    "df_results = df_results.rename(columns={'template':'template_name', 'alkyne':'alkyne_name'})\n",
    "ic50 = df_results.loc[:, 'abl1_ic50_nM'].to_numpy()\n",
    "# take log of IC50 values\n",
    "df_results.loc[:, 'abl1_pIC50'] = - np.log10(ic50 * 10**(-9))\n",
    "# combine the two dataframes\n",
    "df_merged = df.merge(df_results, on=['template_name', 'alkyne_name'])\n",
    "df_minimal = df_merged.drop(columns=['template_name', 'alkyne_name', 'template_smi', 'alkyne_smi', \n",
    "                        'synthesis_order', 'abl1_ic50_nM', 'abl2_ic50_nM'])\n",
    "print(df_minimal.shape)\n",
    "print(df_minimal.columns)\n",
    "df_minimal.head()"
   ]
  },
  {
   "cell_type": "code",
   "execution_count": 9,
   "id": "a6c022ea",
   "metadata": {},
   "outputs": [
    {
     "data": {
      "image/png": "[encoded data removed]",
      "text/plain": [
       "<Figure size 432x288 with 1 Axes>"
      ]
     },
     "metadata": {},
     "output_type": "display_data"
    }
   ],
   "source": [
    "_ =sns.histplot(df_merged.loc[:, 'abl1_pIC50'])"
   ]
  },
  {
   "cell_type": "code",
   "execution_count": 10,
   "id": "d869af1e",
   "metadata": {},
   "outputs": [],
   "source": [
    "df_regression = df_minimal.drop(columns=['synthesis_success'])\n",
    "df_regression = df_regression.dropna()\n",
    "#df_regression.to_csv('../chemprop/regression.csv', index=False)\n",
    "\n",
    "df_classification = df_minimal.drop(columns=['abl1_pIC50'])\n",
    "b = [0 if s=='no' else 1 for s in df_classification.loc[:, 'synthesis_success']]\n",
    "df_classification.loc[:, 'synthesis_success'] = b"
   ]
  },
  {
   "cell_type": "code",
   "execution_count": 11,
   "id": "693e8c37",
   "metadata": {},
   "outputs": [
    {
     "data": {
      "text/html": [
       "<div>\n",
       "<style scoped>\n",
       "    .dataframe tbody tr th:only-of-type {\n",
       "        vertical-align: middle;\n",
       "    }\n",
       "\n",
       "    .dataframe tbody tr th {\n",
       "        vertical-align: top;\n",
       "    }\n",
       "\n",
       "    .dataframe thead th {\n",
       "        text-align: right;\n",
       "    }\n",
       "</style>\n",
       "<table border=\"1\" class=\"dataframe\">\n",
       "  <thead>\n",
       "    <tr style=\"text-align: right;\">\n",
       "      <th></th>\n",
       "      <th>molecule_smi</th>\n",
       "      <th>synthesis_success</th>\n",
       "    </tr>\n",
       "  </thead>\n",
       "  <tbody>\n",
       "    <tr>\n",
       "      <th>0</th>\n",
       "      <td>Cc1ccc(C(=O)Nc2ccc(CN3CCN(C)CC3)c(C(F)(F)F)c2)...</td>\n",
       "      <td>1</td>\n",
       "    </tr>\n",
       "    <tr>\n",
       "      <th>1</th>\n",
       "      <td>Cc1ccc(C(=O)Nc2ccc(CN3CCN(C)CC3)c(C(F)(F)F)c2)...</td>\n",
       "      <td>0</td>\n",
       "    </tr>\n",
       "    <tr>\n",
       "      <th>2</th>\n",
       "      <td>Cc1ccc(C(=O)Nc2ccc(CN3CCN(C)CC3)c(C(F)(F)F)c2)...</td>\n",
       "      <td>1</td>\n",
       "    </tr>\n",
       "    <tr>\n",
       "      <th>3</th>\n",
       "      <td>Cc1ccc(C(=O)Nc2ccc(CN3CCN(C)CC3)c(C(F)(F)F)c2)...</td>\n",
       "      <td>1</td>\n",
       "    </tr>\n",
       "    <tr>\n",
       "      <th>4</th>\n",
       "      <td>Cc1ccc(C(=O)Nc2ccc(CN3CCN(C)CC3)c(C(F)(F)F)c2)...</td>\n",
       "      <td>1</td>\n",
       "    </tr>\n",
       "    <tr>\n",
       "      <th>...</th>\n",
       "      <td>...</td>\n",
       "      <td>...</td>\n",
       "    </tr>\n",
       "    <tr>\n",
       "      <th>91</th>\n",
       "      <td>CN1CCN(Cc2ccc(NC(=O)Nc3cc(C#Cc4ccc(F)cc4)n(C)n...</td>\n",
       "      <td>1</td>\n",
       "    </tr>\n",
       "    <tr>\n",
       "      <th>92</th>\n",
       "      <td>CN1CCN(Cc2ccc(NC(=O)Nc3cc(C#Cc4cncnc4)n(C)n3)c...</td>\n",
       "      <td>1</td>\n",
       "    </tr>\n",
       "    <tr>\n",
       "      <th>93</th>\n",
       "      <td>CN1CCN(Cc2ccc(NC(=O)Nc3cc(C#Cc4cnc5nccn5c4)n(C...</td>\n",
       "      <td>0</td>\n",
       "    </tr>\n",
       "    <tr>\n",
       "      <th>94</th>\n",
       "      <td>CN1CCN(Cc2ccc(NC(=O)Nc3cc(C#Cc4cncc5nc[nH]c45)...</td>\n",
       "      <td>1</td>\n",
       "    </tr>\n",
       "    <tr>\n",
       "      <th>95</th>\n",
       "      <td>Cc1ncc(C#Cc2cc(NC(=O)Nc3ccc(CN4CCN(C)CC4)c(C(F...</td>\n",
       "      <td>0</td>\n",
       "    </tr>\n",
       "  </tbody>\n",
       "</table>\n",
       "<p>96 rows × 2 columns</p>\n",
       "</div>"
      ],
      "text/plain": [
       "                                         molecule_smi  synthesis_success\n",
       "0   Cc1ccc(C(=O)Nc2ccc(CN3CCN(C)CC3)c(C(F)(F)F)c2)...                  1\n",
       "1   Cc1ccc(C(=O)Nc2ccc(CN3CCN(C)CC3)c(C(F)(F)F)c2)...                  0\n",
       "2   Cc1ccc(C(=O)Nc2ccc(CN3CCN(C)CC3)c(C(F)(F)F)c2)...                  1\n",
       "3   Cc1ccc(C(=O)Nc2ccc(CN3CCN(C)CC3)c(C(F)(F)F)c2)...                  1\n",
       "4   Cc1ccc(C(=O)Nc2ccc(CN3CCN(C)CC3)c(C(F)(F)F)c2)...                  1\n",
       "..                                                ...                ...\n",
       "91  CN1CCN(Cc2ccc(NC(=O)Nc3cc(C#Cc4ccc(F)cc4)n(C)n...                  1\n",
       "92  CN1CCN(Cc2ccc(NC(=O)Nc3cc(C#Cc4cncnc4)n(C)n3)c...                  1\n",
       "93  CN1CCN(Cc2ccc(NC(=O)Nc3cc(C#Cc4cnc5nccn5c4)n(C...                  0\n",
       "94  CN1CCN(Cc2ccc(NC(=O)Nc3cc(C#Cc4cncc5nc[nH]c45)...                  1\n",
       "95  Cc1ncc(C#Cc2cc(NC(=O)Nc3ccc(CN4CCN(C)CC4)c(C(F...                  0\n",
       "\n",
       "[96 rows x 2 columns]"
      ]
     },
     "execution_count": 11,
     "metadata": {},
     "output_type": "execute_result"
    }
   ],
   "source": [
    "df_regression.shape, df_classification.shape\n",
    "df_classification"
   ]
  },
  {
   "cell_type": "markdown",
   "id": "14e6a37c",
   "metadata": {},
   "source": [
    "## Build emulators - Regression\n",
    "\n",
    "Emulators to try \n",
    "\n",
    "* GP on fingerprints (tanimoto kernel)\n",
    "* GP on Mordred (RBF or Matern52)\n",
    "* Deep kernel on FPs (warm up on ChemBL?)\n",
    "* NGBoost on fingerprints\n",
    "\n",
    "\n",
    "standard scale the targets, 10 fold cross-validation? optimizing the hyperparameters here?\n",
    "\n",
    "Matteo's models achieving avg cross validation accuracy of RMSE=0.55+/-0.24, Pears=0.90+/-0.12 in predicting the pIC50 values\n",
    "\n",
    "NGBoost with Morgan FPs seem to reduce the average RMSE over the 10 folds by about 38% to about RMSE=0.34+/-0.059"
   ]
  },
  {
   "cell_type": "code",
   "execution_count": 12,
   "id": "64ad87d5",
   "metadata": {},
   "outputs": [],
   "source": [
    "def featurize_regression(\n",
    "        df, \n",
    "        features='ecfp',\n",
    "        num_folds=10, \n",
    "        fold_size=8, \n",
    "        random_seed=100700, \n",
    "        make_holdout=False,\n",
    "    ):\n",
    "    ''' prepare the data for regression setting\n",
    "    '''\n",
    "    np.random.seed(random_seed)\n",
    "    smiles = df.molecule_smi.tolist()\n",
    "    y = df_regression.abl1_pIC50.values.reshape(-1, 1)\n",
    "    print(np.isnan(np.sum(y)))\n",
    "    mols = [mfs(s) for s in smiles]\n",
    "    if features=='ecfp':\n",
    "        X = np.array([AllChem.GetMorganFingerprintAsBitVect(m,3,nBits=1024) for m in mols]).astype(np.float32)\n",
    "    else:\n",
    "        raise NotImplementedError\n",
    "    indices = np.arange(X.shape[0])\n",
    "    np.random.shuffle(indices)\n",
    "    \n",
    "    folds = []\n",
    "    \n",
    "    for fold_ix in range(num_folds):\n",
    "        \n",
    "        X_tr = X[indices[fold_size:], :]\n",
    "        y_tr = y[indices[fold_size:], :]\n",
    "\n",
    "        scaler = StandardScaler()\n",
    "        scaler.fit(y_tr)\n",
    "        y_tr = scaler.transform(y_tr)\n",
    "\n",
    "        X_te = X[indices[:fold_size], :]\n",
    "        y_te = y[indices[:fold_size], :]\n",
    "\n",
    "        y_te = scaler.transform(y_te)\n",
    "\n",
    "        folds.append({'X_tr':X_tr, 'y_tr':y_tr, 'X_te':X_te, 'y_te':y_te, 'scaler': scaler})\n",
    "\n",
    "        indices = np.roll(indices, fold_size)\n",
    "\n",
    "    return folds\n",
    "\n",
    "def get_metrics_regression(true, pred):\n",
    "    true, pred = true.ravel(), pred.ravel()\n",
    "    r2 = r2_score(true, pred)\n",
    "    mae = mean_absolute_error(true, pred)\n",
    "    rmse = mean_squared_error(true, pred)\n",
    "    pears = pearsonr(true, pred)[0]\n",
    "    spear = spearmanr(true, pred)[0]\n",
    "    return {'r2':r2, 'mae': mae, 'rmse': rmse, 'pears': pears, 'spear':spear}\n",
    "\n",
    "def get_fold_metrics(metrics):\n",
    "    fold_metrics={}\n",
    "    for key in metrics[0].keys():\n",
    "        key_metrics=[]\n",
    "        for m in metrics:\n",
    "            key_metrics.append(m[key])\n",
    "        fold_metrics[f'{key}_mean'] = np.mean(key_metrics)\n",
    "        fold_metrics[f'{key}_stderr'] = np.std(key_metrics) / np.sqrt(len(key_metrics))\n",
    "    return fold_metrics\n",
    "        "
   ]
  },
  {
   "cell_type": "code",
   "execution_count": 13,
   "id": "63fd38c8",
   "metadata": {},
   "outputs": [
    {
     "name": "stdout",
     "output_type": "stream",
     "text": [
      "False\n"
     ]
    }
   ],
   "source": [
    "folds = featurize_regression(df_regression, random_seed=100700)"
   ]
  },
  {
   "cell_type": "code",
   "execution_count": 14,
   "id": "653a5c13",
   "metadata": {
    "scrolled": true
   },
   "outputs": [
    {
     "name": "stderr",
     "output_type": "stream",
     "text": [
      "/home/riley/Software/anaconda3/envs/feas/lib/python3.7/site-packages/sklearn/utils/validation.py:760: DataConversionWarning: A column-vector y was passed when a 1d array was expected. Please change the shape of y to (n_samples, ), for example using ravel().\n",
      "  y = column_or_1d(y, warn=True)\n"
     ]
    },
    {
     "name": "stdout",
     "output_type": "stream",
     "text": [
      "[iter 0] loss=1.4189 val_loss=0.0000 scale=2.0000 norm=2.0000\n",
      "[iter 100] loss=0.5033 val_loss=0.0000 scale=2.0000 norm=1.0203\n",
      "[iter 200] loss=-0.2928 val_loss=0.0000 scale=2.0000 norm=0.8715\n",
      "[iter 300] loss=-0.9172 val_loss=0.0000 scale=2.0000 norm=0.7286\n",
      "[iter 400] loss=-1.2379 val_loss=0.0000 scale=2.0000 norm=0.6449\n"
     ]
    },
    {
     "name": "stderr",
     "output_type": "stream",
     "text": [
      "/home/riley/Software/anaconda3/envs/feas/lib/python3.7/site-packages/sklearn/utils/validation.py:760: DataConversionWarning: A column-vector y was passed when a 1d array was expected. Please change the shape of y to (n_samples, ), for example using ravel().\n",
      "  y = column_or_1d(y, warn=True)\n"
     ]
    },
    {
     "name": "stdout",
     "output_type": "stream",
     "text": [
      "[iter 0] loss=1.4189 val_loss=0.0000 scale=1.0000 norm=1.0000\n",
      "[iter 100] loss=0.6176 val_loss=0.0000 scale=2.0000 norm=1.0630\n",
      "[iter 200] loss=-0.2137 val_loss=0.0000 scale=2.0000 norm=0.8831\n",
      "[iter 300] loss=-0.9148 val_loss=0.0000 scale=2.0000 norm=0.7765\n",
      "[iter 400] loss=-1.4663 val_loss=0.0000 scale=1.0000 norm=0.3524\n"
     ]
    },
    {
     "name": "stderr",
     "output_type": "stream",
     "text": [
      "/home/riley/Software/anaconda3/envs/feas/lib/python3.7/site-packages/sklearn/utils/validation.py:760: DataConversionWarning: A column-vector y was passed when a 1d array was expected. Please change the shape of y to (n_samples, ), for example using ravel().\n",
      "  y = column_or_1d(y, warn=True)\n"
     ]
    },
    {
     "name": "stdout",
     "output_type": "stream",
     "text": [
      "[iter 0] loss=1.4189 val_loss=0.0000 scale=2.0000 norm=2.0000\n",
      "[iter 100] loss=0.4030 val_loss=0.0000 scale=2.0000 norm=1.0030\n",
      "[iter 200] loss=-0.3872 val_loss=0.0000 scale=2.0000 norm=0.8656\n",
      "[iter 300] loss=-1.0406 val_loss=0.0000 scale=2.0000 norm=0.7487\n",
      "[iter 400] loss=-1.4375 val_loss=0.0000 scale=2.0000 norm=0.6515\n"
     ]
    },
    {
     "name": "stderr",
     "output_type": "stream",
     "text": [
      "/home/riley/Software/anaconda3/envs/feas/lib/python3.7/site-packages/sklearn/utils/validation.py:760: DataConversionWarning: A column-vector y was passed when a 1d array was expected. Please change the shape of y to (n_samples, ), for example using ravel().\n",
      "  y = column_or_1d(y, warn=True)\n"
     ]
    },
    {
     "name": "stdout",
     "output_type": "stream",
     "text": [
      "[iter 0] loss=1.4189 val_loss=0.0000 scale=2.0000 norm=2.0000\n",
      "[iter 100] loss=0.5330 val_loss=0.0000 scale=2.0000 norm=1.0312\n",
      "[iter 200] loss=-0.2518 val_loss=0.0000 scale=2.0000 norm=0.8705\n",
      "[iter 300] loss=-0.8675 val_loss=0.0000 scale=1.0000 norm=0.3816\n",
      "[iter 400] loss=-1.2657 val_loss=0.0000 scale=1.0000 norm=0.3515\n"
     ]
    },
    {
     "name": "stderr",
     "output_type": "stream",
     "text": [
      "/home/riley/Software/anaconda3/envs/feas/lib/python3.7/site-packages/sklearn/utils/validation.py:760: DataConversionWarning: A column-vector y was passed when a 1d array was expected. Please change the shape of y to (n_samples, ), for example using ravel().\n",
      "  y = column_or_1d(y, warn=True)\n"
     ]
    },
    {
     "name": "stdout",
     "output_type": "stream",
     "text": [
      "[iter 0] loss=1.4189 val_loss=0.0000 scale=2.0000 norm=2.0000\n",
      "[iter 100] loss=0.4165 val_loss=0.0000 scale=2.0000 norm=0.9938\n",
      "[iter 200] loss=-0.3664 val_loss=0.0000 scale=2.0000 norm=0.8587\n",
      "[iter 300] loss=-0.9841 val_loss=0.0000 scale=1.0000 norm=0.3661\n",
      "[iter 400] loss=-1.3915 val_loss=0.0000 scale=2.0000 norm=0.6977\n"
     ]
    },
    {
     "name": "stderr",
     "output_type": "stream",
     "text": [
      "/home/riley/Software/anaconda3/envs/feas/lib/python3.7/site-packages/sklearn/utils/validation.py:760: DataConversionWarning: A column-vector y was passed when a 1d array was expected. Please change the shape of y to (n_samples, ), for example using ravel().\n",
      "  y = column_or_1d(y, warn=True)\n"
     ]
    },
    {
     "name": "stdout",
     "output_type": "stream",
     "text": [
      "[iter 0] loss=1.4189 val_loss=0.0000 scale=1.0000 norm=1.0000\n",
      "[iter 100] loss=0.4654 val_loss=0.0000 scale=2.0000 norm=1.0050\n",
      "[iter 200] loss=-0.3193 val_loss=0.0000 scale=2.0000 norm=0.8636\n",
      "[iter 300] loss=-0.9175 val_loss=0.0000 scale=2.0000 norm=0.7151\n",
      "[iter 400] loss=-1.2596 val_loss=0.0000 scale=1.0000 norm=0.3269\n"
     ]
    },
    {
     "name": "stderr",
     "output_type": "stream",
     "text": [
      "/home/riley/Software/anaconda3/envs/feas/lib/python3.7/site-packages/sklearn/utils/validation.py:760: DataConversionWarning: A column-vector y was passed when a 1d array was expected. Please change the shape of y to (n_samples, ), for example using ravel().\n",
      "  y = column_or_1d(y, warn=True)\n"
     ]
    },
    {
     "name": "stdout",
     "output_type": "stream",
     "text": [
      "[iter 0] loss=1.4189 val_loss=0.0000 scale=1.0000 norm=1.0000\n",
      "[iter 100] loss=0.4215 val_loss=0.0000 scale=2.0000 norm=1.0116\n",
      "[iter 200] loss=-0.3394 val_loss=0.0000 scale=2.0000 norm=0.8567\n",
      "[iter 300] loss=-0.9291 val_loss=0.0000 scale=2.0000 norm=0.7642\n",
      "[iter 400] loss=-1.3599 val_loss=0.0000 scale=2.0000 norm=0.6762\n"
     ]
    },
    {
     "name": "stderr",
     "output_type": "stream",
     "text": [
      "/home/riley/Software/anaconda3/envs/feas/lib/python3.7/site-packages/sklearn/utils/validation.py:760: DataConversionWarning: A column-vector y was passed when a 1d array was expected. Please change the shape of y to (n_samples, ), for example using ravel().\n",
      "  y = column_or_1d(y, warn=True)\n"
     ]
    },
    {
     "name": "stdout",
     "output_type": "stream",
     "text": [
      "[iter 0] loss=1.4189 val_loss=0.0000 scale=2.0000 norm=2.0000\n",
      "[iter 100] loss=0.5741 val_loss=0.0000 scale=2.0000 norm=1.0392\n",
      "[iter 200] loss=-0.2377 val_loss=0.0000 scale=2.0000 norm=0.8706\n",
      "[iter 300] loss=-0.8336 val_loss=0.0000 scale=2.0000 norm=0.7460\n",
      "[iter 400] loss=-1.2367 val_loss=0.0000 scale=1.0000 norm=0.3491\n"
     ]
    },
    {
     "name": "stderr",
     "output_type": "stream",
     "text": [
      "/home/riley/Software/anaconda3/envs/feas/lib/python3.7/site-packages/sklearn/utils/validation.py:760: DataConversionWarning: A column-vector y was passed when a 1d array was expected. Please change the shape of y to (n_samples, ), for example using ravel().\n",
      "  y = column_or_1d(y, warn=True)\n"
     ]
    },
    {
     "name": "stdout",
     "output_type": "stream",
     "text": [
      "[iter 0] loss=1.4189 val_loss=0.0000 scale=1.0000 norm=1.0000\n",
      "[iter 100] loss=0.5839 val_loss=0.0000 scale=2.0000 norm=1.0419\n",
      "[iter 200] loss=-0.2053 val_loss=0.0000 scale=2.0000 norm=0.8796\n",
      "[iter 300] loss=-0.8320 val_loss=0.0000 scale=2.0000 norm=0.7647\n",
      "[iter 400] loss=-1.2571 val_loss=0.0000 scale=2.0000 norm=0.6536\n"
     ]
    },
    {
     "name": "stderr",
     "output_type": "stream",
     "text": [
      "/home/riley/Software/anaconda3/envs/feas/lib/python3.7/site-packages/sklearn/utils/validation.py:760: DataConversionWarning: A column-vector y was passed when a 1d array was expected. Please change the shape of y to (n_samples, ), for example using ravel().\n",
      "  y = column_or_1d(y, warn=True)\n"
     ]
    },
    {
     "name": "stdout",
     "output_type": "stream",
     "text": [
      "[iter 0] loss=1.4189 val_loss=0.0000 scale=2.0000 norm=2.0000\n",
      "[iter 100] loss=0.4535 val_loss=0.0000 scale=2.0000 norm=1.0047\n",
      "[iter 200] loss=-0.3507 val_loss=0.0000 scale=2.0000 norm=0.8829\n",
      "[iter 300] loss=-1.0237 val_loss=0.0000 scale=1.0000 norm=0.3860\n",
      "[iter 400] loss=-1.4021 val_loss=0.0000 scale=1.0000 norm=0.3188\n"
     ]
    }
   ],
   "source": [
    "# train regression model on folds\n",
    "fold_metrics_te = []\n",
    "fold_metrics_tr = []\n",
    "\n",
    "for fold in folds:\n",
    "    X_tr, y_tr = fold['X_tr'], fold['y_tr']\n",
    "    X_te, y_te = fold['X_te'], fold['y_te']\n",
    "    \n",
    "    model = NGBRegressor().fit(X_tr, y_tr)\n",
    "    \n",
    "    # train set prediction\n",
    "    y_preds_tr = model.predict(X_tr)\n",
    "    y_dists_tr = model.pred_dist(X_tr)\n",
    "    samples_tr = y_dists_tr.sample(m=50).T\n",
    "    y_std_tr = np.std(samples_tr, axis=-1)\n",
    "    y_mu_tr = np.mean(samples_tr, axis=-1)\n",
    "    \n",
    "    # rescale the targets and predictions\n",
    "    y_mu_tr = fold['scaler'].inverse_transform(y_mu_tr)\n",
    "    y_tr = fold['scaler'].inverse_transform(y_tr)\n",
    "    \n",
    "    metrics_tr = get_metrics_regression(y_tr, y_mu_tr)\n",
    "    fold_metrics_tr.append(metrics_tr)\n",
    "    \n",
    "    fold['y_tr_pred_mu'] = y_mu_tr.reshape(-1, 1)\n",
    "    fold['y_tr_pred_std'] = y_std_tr.reshape(-1, 1)\n",
    "    \n",
    "\n",
    "    # test set prediction\n",
    "    y_preds_te = model.predict(X_te)\n",
    "    y_dists_te = model.pred_dist(X_te)\n",
    "    samples_te = y_dists_te.sample(m=50).T\n",
    "    y_std_te = np.std(samples_te, axis=-1)\n",
    "    y_mu_te = np.mean(samples_te, axis=-1)\n",
    "    \n",
    "    y_mu_te = fold['scaler'].inverse_transform(y_mu_te)\n",
    "    y_te = fold['scaler'].inverse_transform(y_te)\n",
    "    \n",
    "    metrics_te = get_metrics_regression(y_te, y_mu_te)\n",
    "    \n",
    "    fold_metrics_te.append(metrics_te)\n",
    "    \n",
    "    fold['y_te_pred_mu'] = y_mu_te.reshape(-1, 1)\n",
    "    fold['y_te_pred_std'] = y_std_te.reshape(-1, 1)\n",
    "    \n",
    "    "
   ]
  },
  {
   "cell_type": "code",
   "execution_count": 15,
   "id": "455c14c2",
   "metadata": {},
   "outputs": [],
   "source": [
    "fold_stats_tr = get_fold_metrics(fold_metrics_tr)\n",
    "fold_stats_te = get_fold_metrics(fold_metrics_te)"
   ]
  },
  {
   "cell_type": "code",
   "execution_count": 16,
   "id": "357c5af6",
   "metadata": {},
   "outputs": [
    {
     "data": {
      "text/plain": [
       "{'r2_mean': 0.7723136672921402,\n",
       " 'r2_stderr': 0.04086154861347534,\n",
       " 'mae_mean': 0.37260859193945295,\n",
       " 'mae_stderr': 0.02411388667913102,\n",
       " 'rmse_mean': 0.33693835212033185,\n",
       " 'rmse_stderr': 0.0601559682494432,\n",
       " 'pears_mean': 0.9271253533823998,\n",
       " 'pears_stderr': 0.010671209046062516,\n",
       " 'spear_mean': 0.7698637058290648,\n",
       " 'spear_stderr': 0.1003219630828174}"
      ]
     },
     "execution_count": 16,
     "metadata": {},
     "output_type": "execute_result"
    }
   ],
   "source": [
    "fold_stats_te"
   ]
  },
  {
   "cell_type": "code",
   "execution_count": 17,
   "id": "fade357e",
   "metadata": {},
   "outputs": [
    {
     "data": {
      "image/png": "[encoded data removed]",
      "text/plain": [
       "<Figure size 360x360 with 1 Axes>"
      ]
     },
     "metadata": {},
     "output_type": "display_data"
    }
   ],
   "source": [
    "# plot the results\n",
    "fig, ax = plt.subplots(figsize=(5,5))\n",
    "\n",
    "for fold in folds:\n",
    "    ax.scatter(fold['scaler'].inverse_transform(fold['y_te']), fold['y_te_pred_mu'], s=100, edgecolor='white')\n",
    "\n",
    "ax.set_xlabel('pIC50')\n",
    "ax.set_ylabel('Predicted pIC50')\n",
    "\n",
    "ax.plot([1,100], [1,100], linestyle='--', color='k', zorder=0)\n",
    "\n",
    "ax.set_xlim([4.5, 10])\n",
    "ax.set_ylim([4.5, 10])\n",
    "\n",
    "plt.tight_layout()\n",
    "plt.savefig('ngboost_paitiry_plot.png', dpi=300)"
   ]
  },
  {
   "cell_type": "code",
   "execution_count": 18,
   "id": "5bd30d5c",
   "metadata": {},
   "outputs": [],
   "source": [
    "# generate a training set with all available pIC50 measurements from Desai et al.\n",
    "smiles = df_regression.molecule_smi.tolist()\n",
    "y_tr = df_regression.abl1_pIC50.values.reshape(-1, 1)\n",
    "mols = [mfs(s) for s in smiles]\n",
    "X_tr = np.array([AllChem.GetMorganFingerprintAsBitVect(m,3,nBits=1024) for m in mols]).astype(np.float32)\n",
    "\n",
    "scaler = StandardScaler()\n",
    "scaler.fit(y_tr)\n",
    "y_tr = scaler.transform(y_tr)\n",
    "\n",
    "assert X_tr.shape[0]==y_tr.shape[0]==df_regression.shape[0]"
   ]
  },
  {
   "cell_type": "code",
   "execution_count": 19,
   "id": "25c5a18d",
   "metadata": {},
   "outputs": [
    {
     "name": "stderr",
     "output_type": "stream",
     "text": [
      "/home/riley/Software/anaconda3/envs/feas/lib/python3.7/site-packages/sklearn/utils/validation.py:760: DataConversionWarning: A column-vector y was passed when a 1d array was expected. Please change the shape of y to (n_samples, ), for example using ravel().\n",
      "  y = column_or_1d(y, warn=True)\n"
     ]
    },
    {
     "name": "stdout",
     "output_type": "stream",
     "text": [
      "[iter 0] loss=1.4189 val_loss=0.0000 scale=2.0000 norm=2.0000\n",
      "[iter 100] loss=0.4885 val_loss=0.0000 scale=2.0000 norm=1.0174\n",
      "[iter 200] loss=-0.2838 val_loss=0.0000 scale=2.0000 norm=0.8586\n",
      "[iter 300] loss=-0.8677 val_loss=0.0000 scale=2.0000 norm=0.7368\n",
      "[iter 400] loss=-1.2131 val_loss=0.0000 scale=2.0000 norm=0.6841\n"
     ]
    }
   ],
   "source": [
    "# train the model on all available data\n",
    "model_reg = NGBRegressor().fit(X_tr, y_tr)\n",
    "\n",
    "# train set prediction\n",
    "y_preds_reg = model.predict(X_tr)\n",
    "y_dists_reg = model.pred_dist(X_tr)\n",
    "samples_reg = y_dists_reg.sample(m=50).T\n",
    "y_std_reg = np.std(samples_reg, axis=-1)\n",
    "y_mu_reg = np.mean(samples_reg, axis=-1)\n",
    "\n",
    "y_mu_reg = scaler.inverse_transform(y_mu_reg)\n",
    "y_tr = scaler.inverse_transform(y_tr)\n",
    "\n",
    "metrics_reg = get_metrics_regression(y_tr, y_mu_reg)\n",
    "\n",
    "# fold['y_tr_pred_mu'] = y_mu_reg.reshape(-1, 1)\n",
    "# fold['y_tr_pred_std'] = y_std_reg.reshape(-1, 1)"
   ]
  },
  {
   "cell_type": "code",
   "execution_count": 20,
   "id": "0f9acf49",
   "metadata": {},
   "outputs": [
    {
     "data": {
      "text/plain": [
       "{'r2': 0.9751278670497404,\n",
       " 'mae': 0.09901277664349825,\n",
       " 'rmse': 0.04256754848504885,\n",
       " 'pears': 0.9875794056410628,\n",
       " 'spear': 0.9809098282492201}"
      ]
     },
     "execution_count": 20,
     "metadata": {},
     "output_type": "execute_result"
    }
   ],
   "source": [
    "metrics_reg"
   ]
  },
  {
   "cell_type": "code",
   "execution_count": null,
   "id": "912c63c9",
   "metadata": {},
   "outputs": [],
   "source": []
  },
  {
   "cell_type": "markdown",
   "id": "0b709a6d",
   "metadata": {},
   "source": [
    "## Build emulators - Classification\n",
    "\n",
    "Emulators to try \n",
    "\n",
    "* GP on fingerprints (tanimoto kernel)\n",
    "* GP on Mordred (RBF or Matern52)\n",
    "* Deep kernel on FPs (warm up on ChemBL?)\n",
    "* NGBoost on fingerprints\n",
    "\n",
    "Might want to do something like stratfied splitting for this bit? it is a bit of an unbalanced training set with 71 successful syntheses and 25 unsucessful"
   ]
  },
  {
   "cell_type": "code",
   "execution_count": 26,
   "id": "9cbcc0c8",
   "metadata": {},
   "outputs": [],
   "source": [
    "def featurize_classification(df, features='ecfp', num_folds=5, fold_size=20, random_seed=100700, make_holdout=False):\n",
    "    ''' prepare the data for regression setting\n",
    "    '''\n",
    "    np.random.seed(random_seed)\n",
    "    smiles = df.molecule_smi.tolist()\n",
    "    y = df.synthesis_success.values.reshape(-1, 1)\n",
    "    mols = [mfs(s) for s in smiles]\n",
    "    if features=='ecfp':\n",
    "        X = np.array([AllChem.GetMorganFingerprintAsBitVect(m,3,nBits=1024) for m in mols]).astype(np.float32)\n",
    "    else:\n",
    "        raise NotImplementedError\n",
    "    indices = np.arange(X.shape[0])\n",
    "    np.random.shuffle(indices)\n",
    "    \n",
    "    folds = []\n",
    "    \n",
    "    for fold_ix in range(num_folds):\n",
    "        \n",
    "        X_tr = X[indices[fold_size:], :]\n",
    "        y_tr = y[indices[fold_size:], :]\n",
    "        \n",
    "        X_te = X[indices[:fold_size], :]\n",
    "        y_te = y[indices[:fold_size], :]\n",
    "        \n",
    "        folds.append({'X_tr':X_tr, 'y_tr':y_tr, 'X_te':X_te, 'y_te':y_te})\n",
    "        \n",
    "        indices = np.roll(indices, fold_size)\n",
    "\n",
    "    return folds\n",
    "\n",
    "def get_metrics_classification(true, pred_score, pred_label):\n",
    "    true, pred_score = true.ravel(), pred_score.ravel()\n",
    "    pred_label = pred_label.ravel()\n",
    "    acc = accuracy_score(true, pred_label)\n",
    "    roc_auc = roc_auc_score(true, pred_score)\n",
    "    return {'acc': acc, 'roc_auc': roc_auc}\n",
    "\n",
    "def get_fold_metrics(metrics):\n",
    "    fold_metrics={}\n",
    "    for key in metrics[0].keys():\n",
    "        key_metrics=[]\n",
    "        for m in metrics:\n",
    "            key_metrics.append(m[key])\n",
    "        fold_metrics[f'{key}_mean'] = np.mean(key_metrics)\n",
    "        fold_metrics[f'{key}_stderr'] = np.std(key_metrics) / np.sqrt(len(key_metrics))\n",
    "    return fold_metrics"
   ]
  },
  {
   "cell_type": "code",
   "execution_count": 27,
   "id": "75559257",
   "metadata": {},
   "outputs": [],
   "source": [
    "folds_cla = featurize_classification(df_classification)"
   ]
  },
  {
   "cell_type": "code",
   "execution_count": 28,
   "id": "905539fd",
   "metadata": {
    "scrolled": true
   },
   "outputs": [
    {
     "name": "stderr",
     "output_type": "stream",
     "text": [
      "/home/riley/Software/anaconda3/envs/feas/lib/python3.7/site-packages/sklearn/utils/validation.py:760: DataConversionWarning: A column-vector y was passed when a 1d array was expected. Please change the shape of y to (n_samples, ), for example using ravel().\n",
      "  y = column_or_1d(y, warn=True)\n",
      "/home/riley/Software/anaconda3/envs/feas/lib/python3.7/site-packages/sklearn/utils/validation.py:760: DataConversionWarning: A column-vector y was passed when a 1d array was expected. Please change the shape of y to (n_samples, ), for example using ravel().\n",
      "  y = column_or_1d(y, warn=True)\n",
      "/home/riley/Software/anaconda3/envs/feas/lib/python3.7/site-packages/sklearn/utils/validation.py:760: DataConversionWarning: A column-vector y was passed when a 1d array was expected. Please change the shape of y to (n_samples, ), for example using ravel().\n",
      "  y = column_or_1d(y, warn=True)\n",
      "/home/riley/Software/anaconda3/envs/feas/lib/python3.7/site-packages/sklearn/utils/validation.py:760: DataConversionWarning: A column-vector y was passed when a 1d array was expected. Please change the shape of y to (n_samples, ), for example using ravel().\n",
      "  y = column_or_1d(y, warn=True)\n",
      "/home/riley/Software/anaconda3/envs/feas/lib/python3.7/site-packages/sklearn/utils/validation.py:760: DataConversionWarning: A column-vector y was passed when a 1d array was expected. Please change the shape of y to (n_samples, ), for example using ravel().\n",
      "  y = column_or_1d(y, warn=True)\n"
     ]
    }
   ],
   "source": [
    "# train classifier on folds\n",
    "fold_metrics_te = []\n",
    "fold_metrics_tr = []\n",
    "\n",
    "for fold in folds_cla:\n",
    "    X_tr, y_tr = fold['X_tr'], fold['y_tr']\n",
    "    X_te, y_te = fold['X_te'], fold['y_te']\n",
    "    \n",
    "    model = NGBClassifier(Dist=Bernoulli, verbose=False)\n",
    "    _ = model.fit(X_tr, y_tr)\n",
    "    \n",
    "    # train set prediction\n",
    "    y_tr_pred_prob = model.predict_proba(X_tr)[:, 1] # this returns each class probability\n",
    "    y_tr_pred_label = model.predict(X_tr)\n",
    "    \n",
    "    \n",
    "    metrics_tr = get_metrics_classification(y_tr, y_tr_pred_prob, y_tr_pred_label)\n",
    "    fold_metrics_tr.append(metrics_tr)\n",
    "    \n",
    "    fold['y_tr_pred_prob'] = y_tr_pred_prob.reshape(-1, 1)\n",
    "    fold['y_tr_pred_label'] = y_tr_pred_label.reshape(-1, 1)\n",
    "    \n",
    "\n",
    "    # test set prediction\n",
    "    y_te_pred_prob = model.predict_proba(X_te)[:, 1]\n",
    "    y_te_pred_label = model.predict(X_te)\n",
    "    \n",
    "    metrics_te = get_metrics_classification(y_te, y_te_pred_prob, y_te_pred_label)\n",
    "    fold_metrics_te.append(metrics_te)\n",
    "    \n",
    "    fold['y_te_pred_prob'] = y_te_pred_prob.reshape(-1, 1)\n",
    "    fold['y_te_pred_label'] = y_te_pred_label.reshape(-1, 1)"
   ]
  },
  {
   "cell_type": "code",
   "execution_count": 29,
   "id": "dc78b6d5",
   "metadata": {},
   "outputs": [],
   "source": [
    "fold_stats_tr = get_fold_metrics(fold_metrics_tr)\n",
    "fold_stats_te = get_fold_metrics(fold_metrics_te)"
   ]
  },
  {
   "cell_type": "code",
   "execution_count": 30,
   "id": "f6c59bf9",
   "metadata": {},
   "outputs": [
    {
     "data": {
      "text/plain": [
       "{'acc_mean': 0.78,\n",
       " 'acc_stderr': 0.03633180424916991,\n",
       " 'roc_auc_mean': 0.7094940476190477,\n",
       " 'roc_auc_stderr': 0.027763785875172878}"
      ]
     },
     "execution_count": 30,
     "metadata": {},
     "output_type": "execute_result"
    }
   ],
   "source": [
    "fold_stats_te"
   ]
  },
  {
   "cell_type": "code",
   "execution_count": 116,
   "id": "7c30de0f",
   "metadata": {},
   "outputs": [
    {
     "name": "stdout",
     "output_type": "stream",
     "text": [
      "(96, 1024) (96, 1)\n"
     ]
    }
   ],
   "source": [
    "# generate a training set with all available synthesis data from Desai et al.\n",
    "folds_ = featurize_classification(df_classification, num_folds=1, fold_size=df_classification.shape[0])\n",
    "X_tr, y_tr = folds_[0]['X_te'], folds_[0]['y_te']\n",
    "assert X_tr.shape[0]==y_tr.shape[0]==df_classification.shape[0]\n",
    "print(X_tr.shape, y_tr.shape)"
   ]
  },
  {
   "cell_type": "code",
   "execution_count": 117,
   "id": "a0c9960a",
   "metadata": {},
   "outputs": [
    {
     "name": "stderr",
     "output_type": "stream",
     "text": [
      "/home/riley/Software/anaconda3/envs/feas/lib/python3.7/site-packages/sklearn/utils/validation.py:760: DataConversionWarning: A column-vector y was passed when a 1d array was expected. Please change the shape of y to (n_samples, ), for example using ravel().\n",
      "  y = column_or_1d(y, warn=True)\n"
     ]
    }
   ],
   "source": [
    "# train the classification model on the full dataset\n",
    "\n",
    "model_cla = NGBClassifier(Dist=Bernoulli, verbose=False)\n",
    "_ = model_cla.fit(X_tr, y_tr)\n",
    "\n",
    " # train set prediction\n",
    "y_cla_pred_prob = model_cla.predict_proba(X_tr)[:, 1] # this returns each class probability\n",
    "y_cla_pred_label = model_cla.predict(X_tr)\n",
    "\n",
    "\n",
    "metrics_cla = get_metrics_classification(y_tr, y_cla_pred_prob, y_cla_pred_label)\n",
    "\n",
    "fold['y_tr_pred_prob'] = y_cla_pred_prob.reshape(-1, 1)\n",
    "fold['y_tr_pred_label'] = y_cla_pred_label.reshape(-1, 1)\n"
   ]
  },
  {
   "cell_type": "code",
   "execution_count": 118,
   "id": "ef6cb731",
   "metadata": {},
   "outputs": [
    {
     "data": {
      "text/plain": [
       "{'acc': 0.9166666666666666, 'roc_auc': 0.9856338028169014}"
      ]
     },
     "execution_count": 118,
     "metadata": {},
     "output_type": "execute_result"
    }
   ],
   "source": [
    "folds"
   ]
  },
  {
   "cell_type": "markdown",
   "id": "bf7047e1",
   "metadata": {},
   "source": [
    "## Use trained models to make prediction on unmeasured inhibitors\n",
    "\n",
    "make predictions on the 270-(71+25) inhibitors for which we do not have measurements from Desai $\\textit{et al.}$. These labels will then be taken as ground truth values for the subsequent constrained optimization experiments"
   ]
  },
  {
   "cell_type": "markdown",
   "id": "c8d7cc07",
   "metadata": {},
   "source": [
    "### Classification "
   ]
  },
  {
   "cell_type": "code",
   "execution_count": 132,
   "id": "0e97c470",
   "metadata": {},
   "outputs": [
    {
     "name": "stdout",
     "output_type": "stream",
     "text": [
      "(174, 5)\n"
     ]
    },
    {
     "data": {
      "text/html": [
       "<div>\n",
       "<style scoped>\n",
       "    .dataframe tbody tr th:only-of-type {\n",
       "        vertical-align: middle;\n",
       "    }\n",
       "\n",
       "    .dataframe tbody tr th {\n",
       "        vertical-align: top;\n",
       "    }\n",
       "\n",
       "    .dataframe thead th {\n",
       "        text-align: right;\n",
       "    }\n",
       "</style>\n",
       "<table border=\"1\" class=\"dataframe\">\n",
       "  <thead>\n",
       "    <tr style=\"text-align: right;\">\n",
       "      <th></th>\n",
       "      <th>template_name</th>\n",
       "      <th>alkyne_name</th>\n",
       "      <th>template_smi</th>\n",
       "      <th>alkyne_smi</th>\n",
       "      <th>molecule_smi</th>\n",
       "    </tr>\n",
       "  </thead>\n",
       "  <tbody>\n",
       "    <tr>\n",
       "      <th>0</th>\n",
       "      <td>8-1</td>\n",
       "      <td>22-1</td>\n",
       "      <td>Cc1ccc(C(=O)Nc2ccc(CN3CCN(C)CC3)c(C(F)(F)F)c2)...</td>\n",
       "      <td>C#Cc1cnc2ccc(C(=N)OC)cn12</td>\n",
       "      <td>COC(=N)c1ccc2ncc(C#Cc3cc(C(=O)Nc4ccc(CN5CCN(C)...</td>\n",
       "    </tr>\n",
       "    <tr>\n",
       "      <th>7</th>\n",
       "      <td>8-1</td>\n",
       "      <td>22-8</td>\n",
       "      <td>Cc1ccc(C(=O)Nc2ccc(CN3CCN(C)CC3)c(C(F)(F)F)c2)...</td>\n",
       "      <td>C#Cc1ccccn1</td>\n",
       "      <td>Cc1ccc(C(=O)Nc2ccc(CN3CCN(C)CC3)c(C(F)(F)F)c2)...</td>\n",
       "    </tr>\n",
       "    <tr>\n",
       "      <th>8</th>\n",
       "      <td>8-1</td>\n",
       "      <td>22-9</td>\n",
       "      <td>Cc1ccc(C(=O)Nc2ccc(CN3CCN(C)CC3)c(C(F)(F)F)c2)...</td>\n",
       "      <td>C#Cc1cnccn1</td>\n",
       "      <td>Cc1ccc(C(=O)Nc2ccc(CN3CCN(C)CC3)c(C(F)(F)F)c2)...</td>\n",
       "    </tr>\n",
       "    <tr>\n",
       "      <th>9</th>\n",
       "      <td>8-1</td>\n",
       "      <td>22-10</td>\n",
       "      <td>Cc1ccc(C(=O)Nc2ccc(CN3CCN(C)CC3)c(C(F)(F)F)c2)...</td>\n",
       "      <td>C#Cc1cnc2ccccc2n1</td>\n",
       "      <td>Cc1ccc(C(=O)Nc2ccc(CN3CCN(C)CC3)c(C(F)(F)F)c2)...</td>\n",
       "    </tr>\n",
       "    <tr>\n",
       "      <th>10</th>\n",
       "      <td>8-1</td>\n",
       "      <td>22-11</td>\n",
       "      <td>Cc1ccc(C(=O)Nc2ccc(CN3CCN(C)CC3)c(C(F)(F)F)c2)...</td>\n",
       "      <td>C#Cc1cnc2[nH]ccc2n1</td>\n",
       "      <td>Cc1ccc(C(=O)Nc2ccc(CN3CCN(C)CC3)c(C(F)(F)F)c2)...</td>\n",
       "    </tr>\n",
       "  </tbody>\n",
       "</table>\n",
       "</div>"
      ],
      "text/plain": [
       "   template_name alkyne_name  \\\n",
       "0            8-1        22-1   \n",
       "7            8-1        22-8   \n",
       "8            8-1        22-9   \n",
       "9            8-1       22-10   \n",
       "10           8-1       22-11   \n",
       "\n",
       "                                         template_smi  \\\n",
       "0   Cc1ccc(C(=O)Nc2ccc(CN3CCN(C)CC3)c(C(F)(F)F)c2)...   \n",
       "7   Cc1ccc(C(=O)Nc2ccc(CN3CCN(C)CC3)c(C(F)(F)F)c2)...   \n",
       "8   Cc1ccc(C(=O)Nc2ccc(CN3CCN(C)CC3)c(C(F)(F)F)c2)...   \n",
       "9   Cc1ccc(C(=O)Nc2ccc(CN3CCN(C)CC3)c(C(F)(F)F)c2)...   \n",
       "10  Cc1ccc(C(=O)Nc2ccc(CN3CCN(C)CC3)c(C(F)(F)F)c2)...   \n",
       "\n",
       "                   alkyne_smi  \\\n",
       "0   C#Cc1cnc2ccc(C(=N)OC)cn12   \n",
       "7                 C#Cc1ccccn1   \n",
       "8                 C#Cc1cnccn1   \n",
       "9           C#Cc1cnc2ccccc2n1   \n",
       "10        C#Cc1cnc2[nH]ccc2n1   \n",
       "\n",
       "                                         molecule_smi  \n",
       "0   COC(=N)c1ccc2ncc(C#Cc3cc(C(=O)Nc4ccc(CN5CCN(C)...  \n",
       "7   Cc1ccc(C(=O)Nc2ccc(CN3CCN(C)CC3)c(C(F)(F)F)c2)...  \n",
       "8   Cc1ccc(C(=O)Nc2ccc(CN3CCN(C)CC3)c(C(F)(F)F)c2)...  \n",
       "9   Cc1ccc(C(=O)Nc2ccc(CN3CCN(C)CC3)c(C(F)(F)F)c2)...  \n",
       "10  Cc1ccc(C(=O)Nc2ccc(CN3CCN(C)CC3)c(C(F)(F)F)c2)...  "
      ]
     },
     "execution_count": 132,
     "metadata": {},
     "output_type": "execute_result"
    }
   ],
   "source": [
    "# get the umeasured classification molecules\n",
    "cla_smiles = df_classification.molecule_smi.tolist()\n",
    "df_uncla = df[~(df.molecule_smi.isin(cla_smiles))]   # should be 270-96=174\n",
    "print(df_uncla.shape)\n",
    "df_uncla.head()"
   ]
  },
  {
   "cell_type": "code",
   "execution_count": 133,
   "id": "e12990d7",
   "metadata": {},
   "outputs": [
    {
     "data": {
      "text/plain": [
       "(174, 1024)"
      ]
     },
     "execution_count": 133,
     "metadata": {},
     "output_type": "execute_result"
    }
   ],
   "source": [
    "# make unmeasured classification features\n",
    "smiles_uncla = df_uncla.molecule_smi.tolist()\n",
    "mols_uncla = [mfs(s) for s in smiles_uncla]\n",
    "X_uncla = np.array([AllChem.GetMorganFingerprintAsBitVect(m,3,nBits=1024) for m in mols_uncla]).astype(np.float32)\n",
    "X_uncla.shape"
   ]
  },
  {
   "cell_type": "code",
   "execution_count": 138,
   "id": "f256f18c",
   "metadata": {},
   "outputs": [],
   "source": [
    "# make predictions with trained model\n",
    "y_uncla_pred_prob = model_cla.predict_proba(X_uncla)[:, 1] # this returns each class probability\n",
    "y_uncla_pred_label = model_cla.predict(X_uncla)"
   ]
  },
  {
   "cell_type": "code",
   "execution_count": 148,
   "id": "f3bfacce",
   "metadata": {},
   "outputs": [],
   "source": [
    "df_pred_uncla = pd.DataFrame({\n",
    "    'molecule_smi': cla_smiles+smiles_uncla,\n",
    "    'synthesis_success': df_classification.synthesis_success.tolist()+y_uncla_pred_label.tolist(),\n",
    "    'synthesis_success_prob': df_classification.synthesis_success.values.astype(np.float32).tolist()+y_uncla_pred_prob.tolist(),\n",
    "    'is_experiment': [1 for _ in range(df_classification.shape[0])]+[0 for _ in range(y_uncla_pred_label.shape[0])]\n",
    "    \n",
    "})"
   ]
  },
  {
   "cell_type": "code",
   "execution_count": 149,
   "id": "27f358a6",
   "metadata": {},
   "outputs": [
    {
     "name": "stdout",
     "output_type": "stream",
     "text": [
      "(270, 4)\n"
     ]
    },
    {
     "data": {
      "text/html": [
       "<div>\n",
       "<style scoped>\n",
       "    .dataframe tbody tr th:only-of-type {\n",
       "        vertical-align: middle;\n",
       "    }\n",
       "\n",
       "    .dataframe tbody tr th {\n",
       "        vertical-align: top;\n",
       "    }\n",
       "\n",
       "    .dataframe thead th {\n",
       "        text-align: right;\n",
       "    }\n",
       "</style>\n",
       "<table border=\"1\" class=\"dataframe\">\n",
       "  <thead>\n",
       "    <tr style=\"text-align: right;\">\n",
       "      <th></th>\n",
       "      <th>molecule_smi</th>\n",
       "      <th>synthesis_success</th>\n",
       "      <th>synthesis_success_prob</th>\n",
       "      <th>is_experiment</th>\n",
       "    </tr>\n",
       "  </thead>\n",
       "  <tbody>\n",
       "    <tr>\n",
       "      <th>0</th>\n",
       "      <td>Cc1ccc(C(=O)Nc2ccc(CN3CCN(C)CC3)c(C(F)(F)F)c2)...</td>\n",
       "      <td>1</td>\n",
       "      <td>1.000000</td>\n",
       "      <td>1</td>\n",
       "    </tr>\n",
       "    <tr>\n",
       "      <th>1</th>\n",
       "      <td>Cc1ccc(C(=O)Nc2ccc(CN3CCN(C)CC3)c(C(F)(F)F)c2)...</td>\n",
       "      <td>0</td>\n",
       "      <td>0.000000</td>\n",
       "      <td>1</td>\n",
       "    </tr>\n",
       "    <tr>\n",
       "      <th>2</th>\n",
       "      <td>Cc1ccc(C(=O)Nc2ccc(CN3CCN(C)CC3)c(C(F)(F)F)c2)...</td>\n",
       "      <td>1</td>\n",
       "      <td>1.000000</td>\n",
       "      <td>1</td>\n",
       "    </tr>\n",
       "    <tr>\n",
       "      <th>3</th>\n",
       "      <td>Cc1ccc(C(=O)Nc2ccc(CN3CCN(C)CC3)c(C(F)(F)F)c2)...</td>\n",
       "      <td>1</td>\n",
       "      <td>1.000000</td>\n",
       "      <td>1</td>\n",
       "    </tr>\n",
       "    <tr>\n",
       "      <th>4</th>\n",
       "      <td>Cc1ccc(C(=O)Nc2ccc(CN3CCN(C)CC3)c(C(F)(F)F)c2)...</td>\n",
       "      <td>1</td>\n",
       "      <td>1.000000</td>\n",
       "      <td>1</td>\n",
       "    </tr>\n",
       "    <tr>\n",
       "      <th>...</th>\n",
       "      <td>...</td>\n",
       "      <td>...</td>\n",
       "      <td>...</td>\n",
       "      <td>...</td>\n",
       "    </tr>\n",
       "    <tr>\n",
       "      <th>265</th>\n",
       "      <td>CN1CCN(Cc2ccc(NC(=O)Nc3cc(C#Cc4cccc(C#N)c4)n(C...</td>\n",
       "      <td>1</td>\n",
       "      <td>0.725197</td>\n",
       "      <td>0</td>\n",
       "    </tr>\n",
       "    <tr>\n",
       "      <th>266</th>\n",
       "      <td>CN1CCN(Cc2ccc(NC(=O)Nc3cc(C#Cc4cccc(F)c4)n(C)n...</td>\n",
       "      <td>1</td>\n",
       "      <td>0.985571</td>\n",
       "      <td>0</td>\n",
       "    </tr>\n",
       "    <tr>\n",
       "      <th>267</th>\n",
       "      <td>CN1CCN(Cc2ccc(NC(=O)Nc3cc(C#Cc4cnc(Nc5ccccc5)n...</td>\n",
       "      <td>1</td>\n",
       "      <td>0.805942</td>\n",
       "      <td>0</td>\n",
       "    </tr>\n",
       "    <tr>\n",
       "      <th>268</th>\n",
       "      <td>CN1CCN(Cc2ccc(NC(=O)Nc3cc(C#Cc4ccc(N)nc4)n(C)n...</td>\n",
       "      <td>1</td>\n",
       "      <td>0.985571</td>\n",
       "      <td>0</td>\n",
       "    </tr>\n",
       "    <tr>\n",
       "      <th>269</th>\n",
       "      <td>CN1CCN(Cc2ccc(NC(=O)Nc3cc(C#Cc4ccccc4F)n(C)n3)...</td>\n",
       "      <td>1</td>\n",
       "      <td>0.988859</td>\n",
       "      <td>0</td>\n",
       "    </tr>\n",
       "  </tbody>\n",
       "</table>\n",
       "<p>270 rows × 4 columns</p>\n",
       "</div>"
      ],
      "text/plain": [
       "                                          molecule_smi  synthesis_success  \\\n",
       "0    Cc1ccc(C(=O)Nc2ccc(CN3CCN(C)CC3)c(C(F)(F)F)c2)...                  1   \n",
       "1    Cc1ccc(C(=O)Nc2ccc(CN3CCN(C)CC3)c(C(F)(F)F)c2)...                  0   \n",
       "2    Cc1ccc(C(=O)Nc2ccc(CN3CCN(C)CC3)c(C(F)(F)F)c2)...                  1   \n",
       "3    Cc1ccc(C(=O)Nc2ccc(CN3CCN(C)CC3)c(C(F)(F)F)c2)...                  1   \n",
       "4    Cc1ccc(C(=O)Nc2ccc(CN3CCN(C)CC3)c(C(F)(F)F)c2)...                  1   \n",
       "..                                                 ...                ...   \n",
       "265  CN1CCN(Cc2ccc(NC(=O)Nc3cc(C#Cc4cccc(C#N)c4)n(C...                  1   \n",
       "266  CN1CCN(Cc2ccc(NC(=O)Nc3cc(C#Cc4cccc(F)c4)n(C)n...                  1   \n",
       "267  CN1CCN(Cc2ccc(NC(=O)Nc3cc(C#Cc4cnc(Nc5ccccc5)n...                  1   \n",
       "268  CN1CCN(Cc2ccc(NC(=O)Nc3cc(C#Cc4ccc(N)nc4)n(C)n...                  1   \n",
       "269  CN1CCN(Cc2ccc(NC(=O)Nc3cc(C#Cc4ccccc4F)n(C)n3)...                  1   \n",
       "\n",
       "     synthesis_success_prob  is_experiment  \n",
       "0                  1.000000              1  \n",
       "1                  0.000000              1  \n",
       "2                  1.000000              1  \n",
       "3                  1.000000              1  \n",
       "4                  1.000000              1  \n",
       "..                      ...            ...  \n",
       "265                0.725197              0  \n",
       "266                0.985571              0  \n",
       "267                0.805942              0  \n",
       "268                0.985571              0  \n",
       "269                0.988859              0  \n",
       "\n",
       "[270 rows x 4 columns]"
      ]
     },
     "execution_count": 149,
     "metadata": {},
     "output_type": "execute_result"
    }
   ],
   "source": [
    "print(df_pred_uncla.shape)\n",
    "df_pred_uncla"
   ]
  },
  {
   "cell_type": "markdown",
   "id": "2d90e5b9",
   "metadata": {},
   "source": [
    "### Regression"
   ]
  },
  {
   "cell_type": "code",
   "execution_count": 192,
   "id": "0c0f3226",
   "metadata": {},
   "outputs": [
    {
     "name": "stdout",
     "output_type": "stream",
     "text": [
      "(199, 5)\n"
     ]
    },
    {
     "data": {
      "text/html": [
       "<div>\n",
       "<style scoped>\n",
       "    .dataframe tbody tr th:only-of-type {\n",
       "        vertical-align: middle;\n",
       "    }\n",
       "\n",
       "    .dataframe tbody tr th {\n",
       "        vertical-align: top;\n",
       "    }\n",
       "\n",
       "    .dataframe thead th {\n",
       "        text-align: right;\n",
       "    }\n",
       "</style>\n",
       "<table border=\"1\" class=\"dataframe\">\n",
       "  <thead>\n",
       "    <tr style=\"text-align: right;\">\n",
       "      <th></th>\n",
       "      <th>template_name</th>\n",
       "      <th>alkyne_name</th>\n",
       "      <th>template_smi</th>\n",
       "      <th>alkyne_smi</th>\n",
       "      <th>molecule_smi</th>\n",
       "    </tr>\n",
       "  </thead>\n",
       "  <tbody>\n",
       "    <tr>\n",
       "      <th>0</th>\n",
       "      <td>8-1</td>\n",
       "      <td>22-1</td>\n",
       "      <td>Cc1ccc(C(=O)Nc2ccc(CN3CCN(C)CC3)c(C(F)(F)F)c2)...</td>\n",
       "      <td>C#Cc1cnc2ccc(C(=N)OC)cn12</td>\n",
       "      <td>COC(=N)c1ccc2ncc(C#Cc3cc(C(=O)Nc4ccc(CN5CCN(C)...</td>\n",
       "    </tr>\n",
       "    <tr>\n",
       "      <th>2</th>\n",
       "      <td>8-1</td>\n",
       "      <td>22-3</td>\n",
       "      <td>Cc1ccc(C(=O)Nc2ccc(CN3CCN(C)CC3)c(C(F)(F)F)c2)...</td>\n",
       "      <td>C#Cc1cnc2ccc(C(F)(F)F)cn12</td>\n",
       "      <td>Cc1ccc(C(=O)Nc2ccc(CN3CCN(C)CC3)c(C(F)(F)F)c2)...</td>\n",
       "    </tr>\n",
       "    <tr>\n",
       "      <th>7</th>\n",
       "      <td>8-1</td>\n",
       "      <td>22-8</td>\n",
       "      <td>Cc1ccc(C(=O)Nc2ccc(CN3CCN(C)CC3)c(C(F)(F)F)c2)...</td>\n",
       "      <td>C#Cc1ccccn1</td>\n",
       "      <td>Cc1ccc(C(=O)Nc2ccc(CN3CCN(C)CC3)c(C(F)(F)F)c2)...</td>\n",
       "    </tr>\n",
       "    <tr>\n",
       "      <th>8</th>\n",
       "      <td>8-1</td>\n",
       "      <td>22-9</td>\n",
       "      <td>Cc1ccc(C(=O)Nc2ccc(CN3CCN(C)CC3)c(C(F)(F)F)c2)...</td>\n",
       "      <td>C#Cc1cnccn1</td>\n",
       "      <td>Cc1ccc(C(=O)Nc2ccc(CN3CCN(C)CC3)c(C(F)(F)F)c2)...</td>\n",
       "    </tr>\n",
       "    <tr>\n",
       "      <th>9</th>\n",
       "      <td>8-1</td>\n",
       "      <td>22-10</td>\n",
       "      <td>Cc1ccc(C(=O)Nc2ccc(CN3CCN(C)CC3)c(C(F)(F)F)c2)...</td>\n",
       "      <td>C#Cc1cnc2ccccc2n1</td>\n",
       "      <td>Cc1ccc(C(=O)Nc2ccc(CN3CCN(C)CC3)c(C(F)(F)F)c2)...</td>\n",
       "    </tr>\n",
       "  </tbody>\n",
       "</table>\n",
       "</div>"
      ],
      "text/plain": [
       "  template_name alkyne_name  \\\n",
       "0           8-1        22-1   \n",
       "2           8-1        22-3   \n",
       "7           8-1        22-8   \n",
       "8           8-1        22-9   \n",
       "9           8-1       22-10   \n",
       "\n",
       "                                        template_smi  \\\n",
       "0  Cc1ccc(C(=O)Nc2ccc(CN3CCN(C)CC3)c(C(F)(F)F)c2)...   \n",
       "2  Cc1ccc(C(=O)Nc2ccc(CN3CCN(C)CC3)c(C(F)(F)F)c2)...   \n",
       "7  Cc1ccc(C(=O)Nc2ccc(CN3CCN(C)CC3)c(C(F)(F)F)c2)...   \n",
       "8  Cc1ccc(C(=O)Nc2ccc(CN3CCN(C)CC3)c(C(F)(F)F)c2)...   \n",
       "9  Cc1ccc(C(=O)Nc2ccc(CN3CCN(C)CC3)c(C(F)(F)F)c2)...   \n",
       "\n",
       "                   alkyne_smi  \\\n",
       "0   C#Cc1cnc2ccc(C(=N)OC)cn12   \n",
       "2  C#Cc1cnc2ccc(C(F)(F)F)cn12   \n",
       "7                 C#Cc1ccccn1   \n",
       "8                 C#Cc1cnccn1   \n",
       "9           C#Cc1cnc2ccccc2n1   \n",
       "\n",
       "                                        molecule_smi  \n",
       "0  COC(=N)c1ccc2ncc(C#Cc3cc(C(=O)Nc4ccc(CN5CCN(C)...  \n",
       "2  Cc1ccc(C(=O)Nc2ccc(CN3CCN(C)CC3)c(C(F)(F)F)c2)...  \n",
       "7  Cc1ccc(C(=O)Nc2ccc(CN3CCN(C)CC3)c(C(F)(F)F)c2)...  \n",
       "8  Cc1ccc(C(=O)Nc2ccc(CN3CCN(C)CC3)c(C(F)(F)F)c2)...  \n",
       "9  Cc1ccc(C(=O)Nc2ccc(CN3CCN(C)CC3)c(C(F)(F)F)c2)...  "
      ]
     },
     "execution_count": 192,
     "metadata": {},
     "output_type": "execute_result"
    }
   ],
   "source": [
    "# get the umeasured regression molecules\n",
    "reg_smiles = df_regression.molecule_smi.tolist()\n",
    "df_unreg = df[~(df.molecule_smi.isin(reg_smiles))]   # should be 270-71=199\n",
    "print(df_unreg.shape)\n",
    "df_unreg.head()"
   ]
  },
  {
   "cell_type": "code",
   "execution_count": 193,
   "id": "bd2dc9e9",
   "metadata": {},
   "outputs": [
    {
     "data": {
      "text/plain": [
       "(199, 1024)"
      ]
     },
     "execution_count": 193,
     "metadata": {},
     "output_type": "execute_result"
    }
   ],
   "source": [
    "# make unmeasured regression features\n",
    "smiles_unreg = df_unreg.molecule_smi.tolist()\n",
    "mols_unreg = [mfs(s) for s in smiles_unreg]\n",
    "X_unreg = np.array([AllChem.GetMorganFingerprintAsBitVect(m,3,nBits=1024) for m in mols_unreg]).astype(np.float32)\n",
    "X_unreg.shape"
   ]
  },
  {
   "cell_type": "code",
   "execution_count": 194,
   "id": "069d7134",
   "metadata": {},
   "outputs": [],
   "source": [
    "# make unmeasured regression predictions\n",
    "y_preds_unreg = model_reg.predict(X_unreg)\n",
    "y_dists_unreg = model_reg.pred_dist(X_unreg)\n",
    "samples_unreg = y_dists_unreg.sample(m=50).T\n",
    "y_std_unreg = np.std(samples_unreg, axis=-1)\n",
    "y_mu_unreg = np.mean(samples_unreg, axis=-1)\n",
    "\n",
    "# inverse transform the predictions\n",
    "y_std_unreg = scaler.inverse_transform(y_std_unreg)\n",
    "y_mu_unreg = scaler.inverse_transform(y_mu_unreg)"
   ]
  },
  {
   "cell_type": "code",
   "execution_count": 195,
   "id": "d8472653",
   "metadata": {},
   "outputs": [
    {
     "name": "stdout",
     "output_type": "stream",
     "text": [
      "(270, 4)\n"
     ]
    }
   ],
   "source": [
    "df_pred_unreg = pd.DataFrame({\n",
    "    'molecule_smi': reg_smiles+smiles_unreg,\n",
    "    'abl1_pIC50': df_regression['abl1_pIC50'].tolist()+y_mu_unreg.tolist(),\n",
    "    'abl1_pIC50_std': [1 for _ in range(df_regression.shape[0])]+y_std_unreg.tolist(),\n",
    "    'is_experiment': [1 for _ in range(df_regression.shape[0])]+[0 for _ in range(y_mu_unreg.shape[0])]\n",
    "})\n",
    "print(df_pred_unreg.shape)"
   ]
  },
  {
   "cell_type": "code",
   "execution_count": 196,
   "id": "4592d78a",
   "metadata": {},
   "outputs": [
    {
     "data": {
      "text/html": [
       "<div>\n",
       "<style scoped>\n",
       "    .dataframe tbody tr th:only-of-type {\n",
       "        vertical-align: middle;\n",
       "    }\n",
       "\n",
       "    .dataframe tbody tr th {\n",
       "        vertical-align: top;\n",
       "    }\n",
       "\n",
       "    .dataframe thead th {\n",
       "        text-align: right;\n",
       "    }\n",
       "</style>\n",
       "<table border=\"1\" class=\"dataframe\">\n",
       "  <thead>\n",
       "    <tr style=\"text-align: right;\">\n",
       "      <th></th>\n",
       "      <th>molecule_smi</th>\n",
       "      <th>synthesis_success</th>\n",
       "      <th>synthesis_success_prob</th>\n",
       "      <th>is_experiment_x</th>\n",
       "      <th>abl1_pIC50</th>\n",
       "      <th>abl1_pIC50_std</th>\n",
       "    </tr>\n",
       "  </thead>\n",
       "  <tbody>\n",
       "    <tr>\n",
       "      <th>0</th>\n",
       "      <td>Cc1ccc(C(=O)Nc2ccc(CN3CCN(C)CC3)c(C(F)(F)F)c2)...</td>\n",
       "      <td>1</td>\n",
       "      <td>1.000000</td>\n",
       "      <td>1</td>\n",
       "      <td>8.045757</td>\n",
       "      <td>1.000000</td>\n",
       "    </tr>\n",
       "    <tr>\n",
       "      <th>1</th>\n",
       "      <td>Cc1ccc(C(=O)Nc2ccc(CN3CCN(C)CC3)c(C(F)(F)F)c2)...</td>\n",
       "      <td>0</td>\n",
       "      <td>0.000000</td>\n",
       "      <td>1</td>\n",
       "      <td>7.515735</td>\n",
       "      <td>7.152991</td>\n",
       "    </tr>\n",
       "    <tr>\n",
       "      <th>2</th>\n",
       "      <td>Cc1ccc(C(=O)Nc2ccc(CN3CCN(C)CC3)c(C(F)(F)F)c2)...</td>\n",
       "      <td>1</td>\n",
       "      <td>1.000000</td>\n",
       "      <td>1</td>\n",
       "      <td>8.065502</td>\n",
       "      <td>1.000000</td>\n",
       "    </tr>\n",
       "    <tr>\n",
       "      <th>3</th>\n",
       "      <td>Cc1ccc(C(=O)Nc2ccc(CN3CCN(C)CC3)c(C(F)(F)F)c2)...</td>\n",
       "      <td>1</td>\n",
       "      <td>1.000000</td>\n",
       "      <td>1</td>\n",
       "      <td>9.698970</td>\n",
       "      <td>1.000000</td>\n",
       "    </tr>\n",
       "    <tr>\n",
       "      <th>4</th>\n",
       "      <td>Cc1ccc(C(=O)Nc2ccc(CN3CCN(C)CC3)c(C(F)(F)F)c2)...</td>\n",
       "      <td>1</td>\n",
       "      <td>1.000000</td>\n",
       "      <td>1</td>\n",
       "      <td>8.638272</td>\n",
       "      <td>1.000000</td>\n",
       "    </tr>\n",
       "    <tr>\n",
       "      <th>...</th>\n",
       "      <td>...</td>\n",
       "      <td>...</td>\n",
       "      <td>...</td>\n",
       "      <td>...</td>\n",
       "      <td>...</td>\n",
       "      <td>...</td>\n",
       "    </tr>\n",
       "    <tr>\n",
       "      <th>265</th>\n",
       "      <td>CN1CCN(Cc2ccc(NC(=O)Nc3cc(C#Cc4cccc(C#N)c4)n(C...</td>\n",
       "      <td>1</td>\n",
       "      <td>0.725197</td>\n",
       "      <td>0</td>\n",
       "      <td>7.202788</td>\n",
       "      <td>7.053084</td>\n",
       "    </tr>\n",
       "    <tr>\n",
       "      <th>266</th>\n",
       "      <td>CN1CCN(Cc2ccc(NC(=O)Nc3cc(C#Cc4cccc(F)c4)n(C)n...</td>\n",
       "      <td>1</td>\n",
       "      <td>0.985571</td>\n",
       "      <td>0</td>\n",
       "      <td>7.234019</td>\n",
       "      <td>7.051716</td>\n",
       "    </tr>\n",
       "    <tr>\n",
       "      <th>267</th>\n",
       "      <td>CN1CCN(Cc2ccc(NC(=O)Nc3cc(C#Cc4cnc(Nc5ccccc5)n...</td>\n",
       "      <td>1</td>\n",
       "      <td>0.805942</td>\n",
       "      <td>0</td>\n",
       "      <td>7.762366</td>\n",
       "      <td>7.084657</td>\n",
       "    </tr>\n",
       "    <tr>\n",
       "      <th>268</th>\n",
       "      <td>CN1CCN(Cc2ccc(NC(=O)Nc3cc(C#Cc4ccc(N)nc4)n(C)n...</td>\n",
       "      <td>1</td>\n",
       "      <td>0.985571</td>\n",
       "      <td>0</td>\n",
       "      <td>7.493321</td>\n",
       "      <td>7.067724</td>\n",
       "    </tr>\n",
       "    <tr>\n",
       "      <th>269</th>\n",
       "      <td>CN1CCN(Cc2ccc(NC(=O)Nc3cc(C#Cc4ccccc4F)n(C)n3)...</td>\n",
       "      <td>1</td>\n",
       "      <td>0.988859</td>\n",
       "      <td>0</td>\n",
       "      <td>7.109972</td>\n",
       "      <td>7.062334</td>\n",
       "    </tr>\n",
       "  </tbody>\n",
       "</table>\n",
       "<p>270 rows × 6 columns</p>\n",
       "</div>"
      ],
      "text/plain": [
       "                                          molecule_smi  synthesis_success  \\\n",
       "0    Cc1ccc(C(=O)Nc2ccc(CN3CCN(C)CC3)c(C(F)(F)F)c2)...                  1   \n",
       "1    Cc1ccc(C(=O)Nc2ccc(CN3CCN(C)CC3)c(C(F)(F)F)c2)...                  0   \n",
       "2    Cc1ccc(C(=O)Nc2ccc(CN3CCN(C)CC3)c(C(F)(F)F)c2)...                  1   \n",
       "3    Cc1ccc(C(=O)Nc2ccc(CN3CCN(C)CC3)c(C(F)(F)F)c2)...                  1   \n",
       "4    Cc1ccc(C(=O)Nc2ccc(CN3CCN(C)CC3)c(C(F)(F)F)c2)...                  1   \n",
       "..                                                 ...                ...   \n",
       "265  CN1CCN(Cc2ccc(NC(=O)Nc3cc(C#Cc4cccc(C#N)c4)n(C...                  1   \n",
       "266  CN1CCN(Cc2ccc(NC(=O)Nc3cc(C#Cc4cccc(F)c4)n(C)n...                  1   \n",
       "267  CN1CCN(Cc2ccc(NC(=O)Nc3cc(C#Cc4cnc(Nc5ccccc5)n...                  1   \n",
       "268  CN1CCN(Cc2ccc(NC(=O)Nc3cc(C#Cc4ccc(N)nc4)n(C)n...                  1   \n",
       "269  CN1CCN(Cc2ccc(NC(=O)Nc3cc(C#Cc4ccccc4F)n(C)n3)...                  1   \n",
       "\n",
       "     synthesis_success_prob  is_experiment_x  abl1_pIC50  abl1_pIC50_std  \n",
       "0                  1.000000                1    8.045757        1.000000  \n",
       "1                  0.000000                1    7.515735        7.152991  \n",
       "2                  1.000000                1    8.065502        1.000000  \n",
       "3                  1.000000                1    9.698970        1.000000  \n",
       "4                  1.000000                1    8.638272        1.000000  \n",
       "..                      ...              ...         ...             ...  \n",
       "265                0.725197                0    7.202788        7.053084  \n",
       "266                0.985571                0    7.234019        7.051716  \n",
       "267                0.805942                0    7.762366        7.084657  \n",
       "268                0.985571                0    7.493321        7.067724  \n",
       "269                0.988859                0    7.109972        7.062334  \n",
       "\n",
       "[270 rows x 6 columns]"
      ]
     },
     "execution_count": 196,
     "metadata": {},
     "output_type": "execute_result"
    }
   ],
   "source": [
    "df_all = df_pred_uncla.merge(df_pred_unreg, how='outer', on='molecule_smi')\n",
    "cols = [col for col in df_all.columns if col != 'is_experiment_y']\n",
    "df_all = df_all[cols]\n",
    "df_all"
   ]
  },
  {
   "cell_type": "code",
   "execution_count": 197,
   "id": "68931240",
   "metadata": {},
   "outputs": [],
   "source": [
    "# save the dataset to disk\n",
    "df_all.to_csv('lookup_table.csv', index=False)"
   ]
  },
  {
   "cell_type": "markdown",
   "id": "f45adb10",
   "metadata": {},
   "source": [
    "## Playground"
   ]
  },
  {
   "cell_type": "code",
   "execution_count": 99,
   "id": "4cfd7b00",
   "metadata": {},
   "outputs": [],
   "source": [
    "prob = np.array([[0.1, 0.9], [0.51, 0.49]])"
   ]
  },
  {
   "cell_type": "code",
   "execution_count": 100,
   "id": "52609eca",
   "metadata": {},
   "outputs": [
    {
     "data": {
      "text/plain": [
       "array([1, 0])"
      ]
     },
     "execution_count": 100,
     "metadata": {},
     "output_type": "execute_result"
    }
   ],
   "source": [
    "lab = np.argmax(prob, axis=1)\n",
    "lab"
   ]
  },
  {
   "cell_type": "code",
   "execution_count": null,
   "id": "34764a2b",
   "metadata": {},
   "outputs": [],
   "source": []
  }
 ],
 "metadata": {
  "kernelspec": {
   "display_name": "feas",
   "language": "python",
   "name": "feas"
  },
  "language_info": {
   "codemirror_mode": {
    "name": "ipython",
    "version": 3
   },
   "file_extension": ".py",
   "mimetype": "text/x-python",
   "name": "python",
   "nbconvert_exporter": "python",
   "pygments_lexer": "ipython3",
   "version": "3.7.11"
  }
 },
 "nbformat": 4,
 "nbformat_minor": 5
}
