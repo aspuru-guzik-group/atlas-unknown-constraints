{
 "cells": [
  {
   "cell_type": "code",
   "execution_count": 1,
   "id": "48365b8b",
   "metadata": {},
   "outputs": [],
   "source": [
    "import pickle\n",
    "import numpy as np\n",
    "import pandas as pd\n",
    "\n",
    "import matplotlib.pyplot as plt\n",
    "from mpl_toolkits.axes_grid1 import make_axes_locatable\n",
    "import seaborn as sns"
   ]
  },
  {
   "cell_type": "code",
   "execution_count": 2,
   "id": "6373b848",
   "metadata": {},
   "outputs": [
    {
     "name": "stdout",
     "output_type": "stream",
     "text": [
      "(270, 10)\n"
     ]
    },
    {
     "data": {
      "text/html": [
       "<div>\n",
       "<style scoped>\n",
       "    .dataframe tbody tr th:only-of-type {\n",
       "        vertical-align: middle;\n",
       "    }\n",
       "\n",
       "    .dataframe tbody tr th {\n",
       "        vertical-align: top;\n",
       "    }\n",
       "\n",
       "    .dataframe thead th {\n",
       "        text-align: right;\n",
       "    }\n",
       "</style>\n",
       "<table border=\"1\" class=\"dataframe\">\n",
       "  <thead>\n",
       "    <tr style=\"text-align: right;\">\n",
       "      <th></th>\n",
       "      <th>template_name</th>\n",
       "      <th>alkyne_name</th>\n",
       "      <th>template_smi</th>\n",
       "      <th>alkyne_smi</th>\n",
       "      <th>molecule_smi</th>\n",
       "      <th>synthesis_success</th>\n",
       "      <th>synthesis_success_prob</th>\n",
       "      <th>is_experiment_x</th>\n",
       "      <th>abl1_pIC50</th>\n",
       "      <th>abl1_pIC50_std</th>\n",
       "    </tr>\n",
       "  </thead>\n",
       "  <tbody>\n",
       "    <tr>\n",
       "      <th>0</th>\n",
       "      <td>8-1</td>\n",
       "      <td>22-1</td>\n",
       "      <td>Cc1ccc(C(=O)Nc2ccc(CN3CCN(C)CC3)c(C(F)(F)F)c2)...</td>\n",
       "      <td>C#Cc1cnc2ccc(C(=N)OC)cn12</td>\n",
       "      <td>COC(=N)c1ccc2ncc(C#Cc3cc(C(=O)Nc4ccc(CN5CCN(C)...</td>\n",
       "      <td>1</td>\n",
       "      <td>0.536046</td>\n",
       "      <td>0</td>\n",
       "      <td>7.390089</td>\n",
       "      <td>7.156328</td>\n",
       "    </tr>\n",
       "    <tr>\n",
       "      <th>1</th>\n",
       "      <td>8-1</td>\n",
       "      <td>22-2</td>\n",
       "      <td>Cc1ccc(C(=O)Nc2ccc(CN3CCN(C)CC3)c(C(F)(F)F)c2)...</td>\n",
       "      <td>C#Cc1cnc2ccccn12</td>\n",
       "      <td>Cc1ccc(C(=O)Nc2ccc(CN3CCN(C)CC3)c(C(F)(F)F)c2)...</td>\n",
       "      <td>1</td>\n",
       "      <td>1.000000</td>\n",
       "      <td>1</td>\n",
       "      <td>8.045757</td>\n",
       "      <td>1.000000</td>\n",
       "    </tr>\n",
       "    <tr>\n",
       "      <th>2</th>\n",
       "      <td>8-1</td>\n",
       "      <td>22-3</td>\n",
       "      <td>Cc1ccc(C(=O)Nc2ccc(CN3CCN(C)CC3)c(C(F)(F)F)c2)...</td>\n",
       "      <td>C#Cc1cnc2ccc(C(F)(F)F)cn12</td>\n",
       "      <td>Cc1ccc(C(=O)Nc2ccc(CN3CCN(C)CC3)c(C(F)(F)F)c2)...</td>\n",
       "      <td>0</td>\n",
       "      <td>0.000000</td>\n",
       "      <td>1</td>\n",
       "      <td>7.515735</td>\n",
       "      <td>7.152991</td>\n",
       "    </tr>\n",
       "    <tr>\n",
       "      <th>3</th>\n",
       "      <td>8-1</td>\n",
       "      <td>22-4</td>\n",
       "      <td>Cc1ccc(C(=O)Nc2ccc(CN3CCN(C)CC3)c(C(F)(F)F)c2)...</td>\n",
       "      <td>C#Cc1cnc2cccnn12</td>\n",
       "      <td>Cc1ccc(C(=O)Nc2ccc(CN3CCN(C)CC3)c(C(F)(F)F)c2)...</td>\n",
       "      <td>1</td>\n",
       "      <td>1.000000</td>\n",
       "      <td>1</td>\n",
       "      <td>8.065502</td>\n",
       "      <td>1.000000</td>\n",
       "    </tr>\n",
       "    <tr>\n",
       "      <th>4</th>\n",
       "      <td>8-1</td>\n",
       "      <td>22-5</td>\n",
       "      <td>Cc1ccc(C(=O)Nc2ccc(CN3CCN(C)CC3)c(C(F)(F)F)c2)...</td>\n",
       "      <td>C#Cc1cncc2nccn12</td>\n",
       "      <td>Cc1ccc(C(=O)Nc2ccc(CN3CCN(C)CC3)c(C(F)(F)F)c2)...</td>\n",
       "      <td>1</td>\n",
       "      <td>1.000000</td>\n",
       "      <td>1</td>\n",
       "      <td>9.698970</td>\n",
       "      <td>1.000000</td>\n",
       "    </tr>\n",
       "  </tbody>\n",
       "</table>\n",
       "</div>"
      ],
      "text/plain": [
       "  template_name alkyne_name  \\\n",
       "0           8-1        22-1   \n",
       "1           8-1        22-2   \n",
       "2           8-1        22-3   \n",
       "3           8-1        22-4   \n",
       "4           8-1        22-5   \n",
       "\n",
       "                                        template_smi  \\\n",
       "0  Cc1ccc(C(=O)Nc2ccc(CN3CCN(C)CC3)c(C(F)(F)F)c2)...   \n",
       "1  Cc1ccc(C(=O)Nc2ccc(CN3CCN(C)CC3)c(C(F)(F)F)c2)...   \n",
       "2  Cc1ccc(C(=O)Nc2ccc(CN3CCN(C)CC3)c(C(F)(F)F)c2)...   \n",
       "3  Cc1ccc(C(=O)Nc2ccc(CN3CCN(C)CC3)c(C(F)(F)F)c2)...   \n",
       "4  Cc1ccc(C(=O)Nc2ccc(CN3CCN(C)CC3)c(C(F)(F)F)c2)...   \n",
       "\n",
       "                   alkyne_smi  \\\n",
       "0   C#Cc1cnc2ccc(C(=N)OC)cn12   \n",
       "1            C#Cc1cnc2ccccn12   \n",
       "2  C#Cc1cnc2ccc(C(F)(F)F)cn12   \n",
       "3            C#Cc1cnc2cccnn12   \n",
       "4            C#Cc1cncc2nccn12   \n",
       "\n",
       "                                        molecule_smi  synthesis_success  \\\n",
       "0  COC(=N)c1ccc2ncc(C#Cc3cc(C(=O)Nc4ccc(CN5CCN(C)...                  1   \n",
       "1  Cc1ccc(C(=O)Nc2ccc(CN3CCN(C)CC3)c(C(F)(F)F)c2)...                  1   \n",
       "2  Cc1ccc(C(=O)Nc2ccc(CN3CCN(C)CC3)c(C(F)(F)F)c2)...                  0   \n",
       "3  Cc1ccc(C(=O)Nc2ccc(CN3CCN(C)CC3)c(C(F)(F)F)c2)...                  1   \n",
       "4  Cc1ccc(C(=O)Nc2ccc(CN3CCN(C)CC3)c(C(F)(F)F)c2)...                  1   \n",
       "\n",
       "   synthesis_success_prob  is_experiment_x  abl1_pIC50  abl1_pIC50_std  \n",
       "0                0.536046                0    7.390089        7.156328  \n",
       "1                1.000000                1    8.045757        1.000000  \n",
       "2                0.000000                1    7.515735        7.152991  \n",
       "3                1.000000                1    8.065502        1.000000  \n",
       "4                1.000000                1    9.698970        1.000000  "
      ]
     },
     "execution_count": 2,
     "metadata": {},
     "output_type": "execute_result"
    }
   ],
   "source": [
    "df_results = pd.read_csv('reference-and-data/lookup_table.csv')\n",
    "best_params = {'template_name': '8-1', 'alkyne_name': '22-5'}\n",
    "\n",
    "print(df_results.shape)\n",
    "df_results.head()"
   ]
  },
  {
   "cell_type": "code",
   "execution_count": 3,
   "id": "8f1c124c",
   "metadata": {},
   "outputs": [
    {
     "data": {
      "text/plain": [
       "0.08699059561128526"
      ]
     },
     "execution_count": 3,
     "metadata": {},
     "output_type": "execute_result"
    }
   ],
   "source": [
    "111/1276"
   ]
  },
  {
   "cell_type": "code",
   "execution_count": 4,
   "id": "3003d053",
   "metadata": {},
   "outputs": [],
   "source": [
    "def plot_constr_surface_cat(df, pkl_file=None, n=0, ax=None, mark_best=True):\n",
    "    \n",
    "    if ax is None:\n",
    "        fig, ax = plt.subplots(nrows=1, ncols=1, figsize=(10,5))\n",
    "        \n",
    "        \n",
    "    domain_template = df['template_name'].unique().tolist()\n",
    "    domain_alkyne = df['alkyne_name'].unique().tolist()\n",
    "    \n",
    "    print(domain_template)\n",
    "    print(domain_alkyne)\n",
    "    \n",
    "    Z = np.zeros((len(domain_alkyne), len(domain_template)))\n",
    "    Z_feas = np.empty((len(domain_alkyne), len(domain_template)))\n",
    "    X = []\n",
    "    X_str = []\n",
    "    z_flat = []\n",
    "    for x_index, x in enumerate(domain_template):\n",
    "        for y_index, y in enumerate(domain_alkyne):\n",
    "            \n",
    "            row = df[(df['template_name']==x)&(df['alkyne_name']==y)].to_dict('r')[0]\n",
    "            #print(row)\n",
    "            z = row['abl1_pIC50']\n",
    "            feas_val = row['synthesis_success'] # 1=success, 0=failure\n",
    "            if feas_val==1:\n",
    "                feas_bool=True\n",
    "            else:\n",
    "                feas_bool=False\n",
    "            X.append([y_index, x_index])\n",
    "            X_str.append([y, x])\n",
    "            z_flat.append(z)\n",
    "            Z[y_index, x_index] = z\n",
    "            Z_feas[y_index, x_index] = feas_bool\n",
    "            \n",
    "    \n",
    "    #Z = np.log(Z)\n",
    "\n",
    "    im = ax.imshow(Z.T, origin='lower', cmap = 'RdYlGn')#plt.get_cmap('golem'))\n",
    "    ax.imshow(Z_feas.T, origin='lower', cmap='gray', alpha=0.55, interpolation='none')\n",
    "    \n",
    "    x_tick_labels = [l.get_text() for l in ax.get_xticklabels()]\n",
    "    y_tick_labels = [l.get_text() for l in ax.get_yticklabels()]\n",
    "    \n",
    "    \n",
    "    x_tick_labels = domain_alkyne\n",
    "    y_tick_labels = domain_template\n",
    "    \n",
    "    ax.set_xticks(np.arange(len(domain_alkyne)))\n",
    "    ax.set_yticks(np.arange(len(domain_template)))\n",
    "    ax.set_xticklabels(x_tick_labels, rotation=90)\n",
    "    ax.set_yticklabels(y_tick_labels)\n",
    "    \n",
    "    ax.set_ylabel('template name', fontsize=12)\n",
    "    ax.set_xlabel('alkyne name', fontsize=12)\n",
    "    \n",
    "    divider = make_axes_locatable(ax)\n",
    "    cax = divider.append_axes(\"right\", size=\"5%\", pad=0.05)\n",
    "    plt.colorbar(im, cax=cax)\n",
    "    \n",
    "    if mark_best is True:\n",
    "        best_ix = np.argmax(z_flat)\n",
    "        X_best = X[best_ix]\n",
    "        _ = ax.scatter(X_best[0], X_best[1], marker='*', s=200, color='#ffc6ff', linewidth=2, zorder=20)\n",
    "        \n",
    "    if pkl_file is not None:\n",
    "        with open(pkl_file, 'rb') as content:\n",
    "            data = pickle.load(content)\n",
    "            \n",
    "        X_str_ = data[n].loc[:, ['template', 'alkyne']][:20]#[:-1] # remove last data point\n",
    "        X_  = pd.DataFrame([[domain_template.index(x[0]), domain_alkyne.index(x[1])] for x in X_str_.to_numpy() ], \n",
    "            columns=X_str_.columns\n",
    "                          )\n",
    "        \n",
    "        ax.scatter(X_['alkyne'], X_['template'], marker='X', s=100, color='#adb5bd', edgecolor='k', zorder=10)\n",
    "        "
   ]
  },
  {
   "cell_type": "code",
   "execution_count": 12,
   "id": "ec440f91",
   "metadata": {},
   "outputs": [
    {
     "name": "stdout",
     "output_type": "stream",
     "text": [
      "['8-1', '8-2', '8-3', '8-4', '8-5', '16-1', '16-2', '16-3', '16-4', '19']\n",
      "['22-1', '22-2', '22-3', '22-4', '22-5', '22-6', '22-7', '22-8', '22-9', '22-10', '22-11', '22-12', '22-13', '22-14', '22-15', '22-16', '22-17', '22-18', '22-19', '22-20', '22-21', '22-22', '22-23', '22-24', '22-25', '22-26', '22-27']\n"
     ]
    },
    {
     "name": "stderr",
     "output_type": "stream",
     "text": [
      "/home/riley/Software/anaconda3/envs/atlas/lib/python3.7/site-packages/ipykernel_launcher.py:21: FutureWarning: Using short name for 'orient' is deprecated. Only the options: ('dict', list, 'series', 'split', 'records', 'index') will be used in a future version. Use one of the above to silence this warning.\n"
     ]
    },
    {
     "data": {
      "image/png": "[encoded data removed]",
      "text/plain": [
       "<Figure size 720x360 with 2 Axes>"
      ]
     },
     "metadata": {
      "needs_background": "light"
     },
     "output_type": "display_data"
    }
   ],
   "source": [
    "plot_constr_surface_cat(df_results, pkl_file='desc_botorch-fwa-0/results.pkl', n=6)\n",
    "\n",
    "plt.savefig('abl_kinase_space_example.png', dpi=400)"
   ]
  },
  {
   "cell_type": "code",
   "execution_count": 122,
   "id": "81b6756f",
   "metadata": {},
   "outputs": [
    {
     "data": {
      "text/html": [
       "<div>\n",
       "<style scoped>\n",
       "    .dataframe tbody tr th:only-of-type {\n",
       "        vertical-align: middle;\n",
       "    }\n",
       "\n",
       "    .dataframe tbody tr th {\n",
       "        vertical-align: top;\n",
       "    }\n",
       "\n",
       "    .dataframe thead th {\n",
       "        text-align: right;\n",
       "    }\n",
       "</style>\n",
       "<table border=\"1\" class=\"dataframe\">\n",
       "  <thead>\n",
       "    <tr style=\"text-align: right;\">\n",
       "      <th></th>\n",
       "      <th>template_name</th>\n",
       "      <th>alkyne_name</th>\n",
       "      <th>template_smi</th>\n",
       "      <th>alkyne_smi</th>\n",
       "      <th>molecule_smi</th>\n",
       "      <th>synthesis_success</th>\n",
       "      <th>synthesis_success_prob</th>\n",
       "      <th>is_experiment_x</th>\n",
       "      <th>abl1_pIC50</th>\n",
       "      <th>abl1_pIC50_std</th>\n",
       "    </tr>\n",
       "  </thead>\n",
       "  <tbody>\n",
       "    <tr>\n",
       "      <th>247</th>\n",
       "      <td>19</td>\n",
       "      <td>22-5</td>\n",
       "      <td>CN1CCN(Cc2ccc(NC(=O)Nc3cc(Br)n(C)n3)cc2C(F)(F)...</td>\n",
       "      <td>C#Cc1cncc2nccn12</td>\n",
       "      <td>CN1CCN(Cc2ccc(NC(=O)Nc3cc(C#Cc4cncc5nccn45)n(C...</td>\n",
       "      <td>1</td>\n",
       "      <td>1.0</td>\n",
       "      <td>1</td>\n",
       "      <td>8.69897</td>\n",
       "      <td>1.000000</td>\n",
       "    </tr>\n",
       "    <tr>\n",
       "      <th>140</th>\n",
       "      <td>16-1</td>\n",
       "      <td>22-6</td>\n",
       "      <td>Cc1ccc(NC(=O)c2ccc(CN3CCN(C)CC3)c(C(F)(F)F)c2)...</td>\n",
       "      <td>C#Cc1cnc2cnccn12</td>\n",
       "      <td>Cc1ccc(NC(=O)c2ccc(CN3CCN(C)CC3)c(C(F)(F)F)c2)...</td>\n",
       "      <td>1</td>\n",
       "      <td>1.0</td>\n",
       "      <td>1</td>\n",
       "      <td>9.00000</td>\n",
       "      <td>1.000000</td>\n",
       "    </tr>\n",
       "    <tr>\n",
       "      <th>139</th>\n",
       "      <td>16-1</td>\n",
       "      <td>22-5</td>\n",
       "      <td>Cc1ccc(NC(=O)c2ccc(CN3CCN(C)CC3)c(C(F)(F)F)c2)...</td>\n",
       "      <td>C#Cc1cncc2nccn12</td>\n",
       "      <td>Cc1ccc(NC(=O)c2ccc(CN3CCN(C)CC3)c(C(F)(F)F)c2)...</td>\n",
       "      <td>0</td>\n",
       "      <td>0.0</td>\n",
       "      <td>1</td>\n",
       "      <td>9.25938</td>\n",
       "      <td>7.339233</td>\n",
       "    </tr>\n",
       "    <tr>\n",
       "      <th>248</th>\n",
       "      <td>19</td>\n",
       "      <td>22-6</td>\n",
       "      <td>CN1CCN(Cc2ccc(NC(=O)Nc3cc(Br)n(C)n3)cc2C(F)(F)...</td>\n",
       "      <td>C#Cc1cnc2cnccn12</td>\n",
       "      <td>CN1CCN(Cc2ccc(NC(=O)Nc3cc(C#Cc4cnc5cnccn45)n(C...</td>\n",
       "      <td>1</td>\n",
       "      <td>1.0</td>\n",
       "      <td>1</td>\n",
       "      <td>9.39794</td>\n",
       "      <td>1.000000</td>\n",
       "    </tr>\n",
       "    <tr>\n",
       "      <th>4</th>\n",
       "      <td>8-1</td>\n",
       "      <td>22-5</td>\n",
       "      <td>Cc1ccc(C(=O)Nc2ccc(CN3CCN(C)CC3)c(C(F)(F)F)c2)...</td>\n",
       "      <td>C#Cc1cncc2nccn12</td>\n",
       "      <td>Cc1ccc(C(=O)Nc2ccc(CN3CCN(C)CC3)c(C(F)(F)F)c2)...</td>\n",
       "      <td>1</td>\n",
       "      <td>1.0</td>\n",
       "      <td>1</td>\n",
       "      <td>9.69897</td>\n",
       "      <td>1.000000</td>\n",
       "    </tr>\n",
       "  </tbody>\n",
       "</table>\n",
       "</div>"
      ],
      "text/plain": [
       "    template_name alkyne_name  \\\n",
       "247            19        22-5   \n",
       "140          16-1        22-6   \n",
       "139          16-1        22-5   \n",
       "248            19        22-6   \n",
       "4             8-1        22-5   \n",
       "\n",
       "                                          template_smi        alkyne_smi  \\\n",
       "247  CN1CCN(Cc2ccc(NC(=O)Nc3cc(Br)n(C)n3)cc2C(F)(F)...  C#Cc1cncc2nccn12   \n",
       "140  Cc1ccc(NC(=O)c2ccc(CN3CCN(C)CC3)c(C(F)(F)F)c2)...  C#Cc1cnc2cnccn12   \n",
       "139  Cc1ccc(NC(=O)c2ccc(CN3CCN(C)CC3)c(C(F)(F)F)c2)...  C#Cc1cncc2nccn12   \n",
       "248  CN1CCN(Cc2ccc(NC(=O)Nc3cc(Br)n(C)n3)cc2C(F)(F)...  C#Cc1cnc2cnccn12   \n",
       "4    Cc1ccc(C(=O)Nc2ccc(CN3CCN(C)CC3)c(C(F)(F)F)c2)...  C#Cc1cncc2nccn12   \n",
       "\n",
       "                                          molecule_smi  synthesis_success  \\\n",
       "247  CN1CCN(Cc2ccc(NC(=O)Nc3cc(C#Cc4cncc5nccn45)n(C...                  1   \n",
       "140  Cc1ccc(NC(=O)c2ccc(CN3CCN(C)CC3)c(C(F)(F)F)c2)...                  1   \n",
       "139  Cc1ccc(NC(=O)c2ccc(CN3CCN(C)CC3)c(C(F)(F)F)c2)...                  0   \n",
       "248  CN1CCN(Cc2ccc(NC(=O)Nc3cc(C#Cc4cnc5cnccn45)n(C...                  1   \n",
       "4    Cc1ccc(C(=O)Nc2ccc(CN3CCN(C)CC3)c(C(F)(F)F)c2)...                  1   \n",
       "\n",
       "     synthesis_success_prob  is_experiment_x  abl1_pIC50  abl1_pIC50_std  \n",
       "247                     1.0                1     8.69897        1.000000  \n",
       "140                     1.0                1     9.00000        1.000000  \n",
       "139                     0.0                1     9.25938        7.339233  \n",
       "248                     1.0                1     9.39794        1.000000  \n",
       "4                       1.0                1     9.69897        1.000000  "
      ]
     },
     "execution_count": 122,
     "metadata": {},
     "output_type": "execute_result"
    }
   ],
   "source": [
    "df_results.sort_values(by='abl1_pIC50').tail()"
   ]
  },
  {
   "cell_type": "code",
   "execution_count": 123,
   "id": "f6e683b9",
   "metadata": {},
   "outputs": [
    {
     "name": "stderr",
     "output_type": "stream",
     "text": [
      "/home/riley/Software/anaconda3/envs/feas/lib/python3.7/site-packages/seaborn/distributions.py:2619: FutureWarning: `distplot` is a deprecated function and will be removed in a future version. Please adapt your code to use either `displot` (a figure-level function with similar flexibility) or `histplot` (an axes-level function for histograms).\n",
      "  warnings.warn(msg, FutureWarning)\n"
     ]
    },
    {
     "data": {
      "text/plain": [
       "<AxesSubplot:xlabel='abl1_pIC50', ylabel='Density'>"
      ]
     },
     "execution_count": 123,
     "metadata": {},
     "output_type": "execute_result"
    },
    {
     "data": {
      "image/png": "[encoded data removed]",
      "text/plain": [
       "<Figure size 432x288 with 1 Axes>"
      ]
     },
     "metadata": {
      "needs_background": "light"
     },
     "output_type": "display_data"
    }
   ],
   "source": [
    "sns.distplot(df_results['abl1_pIC50'])"
   ]
  },
  {
   "cell_type": "code",
   "execution_count": null,
   "id": "df5bcf91",
   "metadata": {},
   "outputs": [],
   "source": []
  }
 ],
 "metadata": {
  "kernelspec": {
   "display_name": "atlas",
   "language": "python",
   "name": "atlas"
  },
  "language_info": {
   "codemirror_mode": {
    "name": "ipython",
    "version": 3
   },
   "file_extension": ".py",
   "mimetype": "text/x-python",
   "name": "python",
   "nbconvert_exporter": "python",
   "pygments_lexer": "ipython3",
   "version": "3.7.12"
  }
 },
 "nbformat": 4,
 "nbformat_minor": 5
}
