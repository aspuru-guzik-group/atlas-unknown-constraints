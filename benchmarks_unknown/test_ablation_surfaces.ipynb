{
 "cells": [
  {
   "cell_type": "code",
   "execution_count": 1,
   "id": "dc5cfb0b",
   "metadata": {},
   "outputs": [],
   "source": [
    "%load_ext autoreload\n",
    "%autoreload 2"
   ]
  },
  {
   "cell_type": "code",
   "execution_count": 2,
   "id": "aa10039b",
   "metadata": {},
   "outputs": [],
   "source": [
    "import pickle\n",
    "import numpy as np\n",
    "import pandas as pd\n",
    "import matplotlib.pyplot as plt\n",
    "from matplotlib.colors import LinearSegmentedColormap, ListedColormap\n",
    "import seaborn as sns\n",
    "\n",
    "from benchmark_functions import AbstractCont\n",
    "\n",
    "from olympus.surfaces import Surface"
   ]
  },
  {
   "cell_type": "code",
   "execution_count": 3,
   "id": "d991034e",
   "metadata": {},
   "outputs": [],
   "source": [
    "# Golem colormap\n",
    "_reference_colors = ['#008080', '#70a494', '#b4c8a8', '#f6edbd', '#edbb8a', '#de8a5a','#ca562c']\n",
    "_cmap = LinearSegmentedColormap.from_list('golem', _reference_colors)\n",
    "_cmap_r = LinearSegmentedColormap.from_list('golem_r', _reference_colors[::-1])\n",
    "# plt.register_cmap(cmap=_cmap)\n",
    "# plt.register_cmap(cmap=_cmap_r)\n",
    "\n",
    "def get_golem_colors(n):\n",
    "    _cmap = plt.get_cmap('golem')\n",
    "    return [_cmap(x) for x in np.linspace(0, 1, n)]\n",
    "\n",
    "def plot_contour(ax, X0, X1, y, xlims, ylims, vlims=[None, None], alpha=0.5, contour_lines=True, contour_labels=True, \n",
    "                 labels_fs=8, labels_fmt='%d', n_contour_lines=8, contour_color='k', contour_alpha=1, cbar=False, cmap='golem'):\n",
    "    # background surface\n",
    "    if contour_lines is True:\n",
    "        contours = ax.contour(X0, X1, y, n_contour_lines, colors=contour_color, alpha=contour_alpha, linestyles='dashed')\n",
    "        if contour_labels is True:\n",
    "            _ = ax.clabel(contours, inline=True, fontsize=labels_fs, fmt=labels_fmt)\n",
    "    mappable = ax.imshow(y, extent=[xlims[0],xlims[1],ylims[0],ylims[1]], \n",
    "                         origin='lower', cmap=cmap, alpha=alpha, vmin=vlims[0], vmax=vlims[1])\n",
    "    \n",
    "    if cbar is True:\n",
    "        cbar = plt.colorbar(mappable=mappable, ax=ax, shrink=0.5)\n",
    "        \n",
    "    return mappable\n",
    "\n",
    "def plot_constr_surface(surface, ax=None, N=100):\n",
    "    \n",
    "    if ax is None:\n",
    "        fig, ax = plt.subplots(nrows=1, ncols=1, figsize=(5,5))\n",
    "\n",
    "    x0 = np.linspace(0,1,N)\n",
    "    x1 = np.linspace(0,1,N)\n",
    "    X0, X1 = np.meshgrid(x0,x1)\n",
    "    X = np.array([X0.flatten(), X1.flatten()]).T\n",
    "    y = np.array(surface.run(X)).flatten()\n",
    "    Y = np.reshape(y, newshape=np.shape(X0))\n",
    "\n",
    "    _ = plot_contour(ax, X0, X1, Y, xlims=[0,1], ylims=[0,1], alpha=1, contour_lines=True, contour_labels=True, \n",
    "                 labels_fs=8, labels_fmt='%d', n_contour_lines=8, contour_alpha=0.8, cbar=False, cmap='golem')\n",
    "    for param in surface.minima:\n",
    "        x_min = param['params']\n",
    "        ax.scatter(x_min[0], x_min[1], s=200, marker='*', color='#ffc6ff', zorder=20)\n",
    "    \n",
    "    y_feas = np.array(surface.eval_constr(X))\n",
    "    Y_feas = np.reshape(y_feas, newshape=np.shape(X0))\n",
    "    ax.imshow(Y_feas, extent=[0,1,0,1], origin='lower', cmap='gray', alpha=0.5, interpolation='none')\n",
    "    \n",
    "def plot_constr_surface_cat(surface, ax=None, mark_min=False):\n",
    "    \n",
    "    if ax is None:\n",
    "        fig, ax = plt.subplots(nrows=1, ncols=1, figsize=(5,5))\n",
    "        \n",
    "        \n",
    "    domain = np.arange(surface.num_opts)\n",
    "    Z = np.zeros((surface.num_opts, surface.num_opts))\n",
    "    Z_feas = np.empty((surface.num_opts, surface.num_opts))\n",
    "    X = []\n",
    "    for x_index, x in enumerate(domain):\n",
    "        for y_index, y in enumerate(domain):\n",
    "            x = ['x_{}'.format(x_index), 'x_{}'.format(y_index)]\n",
    "            X.append(x)\n",
    "            loss_value = surface.run(x)\n",
    "            feas_bool = surface.is_feasible(x)\n",
    "    \n",
    "            Z[y_index, x_index] = loss_value\n",
    "            Z_feas[y_index, x_index] = feas_bool\n",
    "            \n",
    "    # scale Camel for visualization \n",
    "    print(type(surface.surface))\n",
    "    if type(surface.surface).__name__ == 'CatCamel':\n",
    "        Z = np.log(Z)\n",
    "\n",
    "    ax.imshow(Z, origin='lower', cmap = plt.get_cmap('golem'))\n",
    "    ax.imshow(Z_feas, origin='lower', cmap='gray', alpha=0.5, interpolation='none')\n",
    "    \n",
    "    if mark_min is True:\n",
    "        X_best = surface.str2array(surface.best)\n",
    "        _ = ax.scatter(X_best[0], X_best[1], marker='*', s=200, color='#ffc6ff', linewidth=2, zorder=20)"
   ]
  },
  {
   "cell_type": "code",
   "execution_count": 4,
   "id": "d0092f6f",
   "metadata": {},
   "outputs": [],
   "source": [
    "def sort_feas_frac(feas_frac):\n",
    "    if 0.1 <= feas_frac < 0.3:\n",
    "        bin_ = '0.1-0.3'\n",
    "    elif 0.3 <= feas_frac < 0.5:\n",
    "        bin_ = '0.3-0.5'\n",
    "    elif 0.5 <= feas_frac < 0.7:\n",
    "        bin_ = '0.5-0.7'\n",
    "    elif 0.7 <= feas_frac < 0.9:\n",
    "        bin_ = '0.7-0.9'\n",
    "    else:\n",
    "        bin_ = None\n",
    "        \n",
    "    return bin_"
   ]
  },
  {
   "cell_type": "code",
   "execution_count": null,
   "id": "9d1d0d56",
   "metadata": {
    "scrolled": true
   },
   "outputs": [],
   "source": [
    "# bin surfaces circles\n",
    "\n",
    "surfs_to_use = [\n",
    "        'Dejong', 'StyblinskiTang', 'Branin', 'HyperEllipsoid', 'Schwefel',\n",
    "        'Michalewicz', 'Rastrigin',\n",
    "    ]\n",
    "\n",
    "bins = {'0.1-0.3': {\n",
    "            'objs': [], 'vals':[],\n",
    "            },\n",
    "        '0.3-0.5': {\n",
    "            'objs': [], 'vals':[],\n",
    "            },\n",
    "        '0.5-0.7': {\n",
    "            'objs': [], 'vals':[],\n",
    "            },\n",
    "        '0.7-0.9': {\n",
    "            'objs': [], 'vals':[],\n",
    "            },\n",
    "}\n",
    "\n",
    "num_per_bin = 40\n",
    "\n",
    "bin_pops = [0,0,0,0]\n",
    "seed_counter = 0\n",
    "while not bin_pops ==[num_per_bin for _ in range(len(bins.keys()))]:\n",
    "    \n",
    "    surf_kind = np.random.choice(surfs_to_use)\n",
    "    \n",
    "    c = AbstractCont(\n",
    "        surface_type=str(surf_kind),\n",
    "        n_dims=2,\n",
    "        constraint_type='circles',\n",
    "        num_constraints=np.random.randint(4,12),\n",
    "        constraint_params=[\n",
    "            np.random.uniform(0.05,0.15),\n",
    "            np.random.uniform(0.15, 0.4)\n",
    "        ],\n",
    "        seed=seed_counter,\n",
    "    )\n",
    "    feas_frac = c.estimate_feas_frac()\n",
    "    bin_ = sort_feas_frac(feas_frac)\n",
    "    if bin_:\n",
    "        if len(bins[bin_]['objs']) < num_per_bin:\n",
    "            # add the surface\n",
    "            bins[bin_]['objs'].append(c)\n",
    "            bins[bin_]['vals'].append(feas_frac)\n",
    "        else:\n",
    "            pass\n",
    "    else:\n",
    "        pass\n",
    "    \n",
    "    bin_pops = [len(bins[k]['objs']) for k in bins.keys()]\n",
    "    print('bin_pops :', bin_pops)\n",
    "    seed_counter+=1\n",
    "    \n",
    "    \n",
    "    \n",
    "    "
   ]
  },
  {
   "cell_type": "code",
   "execution_count": null,
   "id": "4884db5e",
   "metadata": {},
   "outputs": [],
   "source": [
    "# save the surfaces to disk\n",
    "pickle.dump(bins, open('feas_ablation/circles/surfaces.pkl', 'wb'))"
   ]
  },
  {
   "cell_type": "code",
   "execution_count": null,
   "id": "04f56b9b",
   "metadata": {},
   "outputs": [],
   "source": []
  },
  {
   "cell_type": "code",
   "execution_count": 5,
   "id": "08c4a573",
   "metadata": {},
   "outputs": [
    {
     "name": "stderr",
     "output_type": "stream",
     "text": [
      "\u001b[1;33m[WARNING] Categorical surface chosen, but `num_opts` not defined. Setting `num_opts=21`\n",
      "\u001b[0m\u001b[1;33m[WARNING] Categorical surface chosen, but `num_opts` not defined. Setting `num_opts=21`\n",
      "\u001b[0m"
     ]
    },
    {
     "name": "stdout",
     "output_type": "stream",
     "text": [
      "bin_pops : [0, 0, 1, 0]\n",
      "bin_pops : [1, 0, 1, 0]\n",
      "bin_pops : [1, 1, 1, 0]\n",
      "bin_pops : [1, 1, 1, 0]\n"
     ]
    },
    {
     "name": "stderr",
     "output_type": "stream",
     "text": [
      "\u001b[1;33m[WARNING] Categorical surface chosen, but `num_opts` not defined. Setting `num_opts=21`\n",
      "\u001b[0m\u001b[1;33m[WARNING] Categorical surface chosen, but `num_opts` not defined. Setting `num_opts=21`\n",
      "\u001b[0m\u001b[1;33m[WARNING] Categorical surface chosen, but `num_opts` not defined. Setting `num_opts=21`\n",
      "\u001b[0m"
     ]
    },
    {
     "name": "stdout",
     "output_type": "stream",
     "text": [
      "bin_pops : [1, 2, 1, 0]\n"
     ]
    },
    {
     "name": "stderr",
     "output_type": "stream",
     "text": [
      "\u001b[1;33m[WARNING] Categorical surface chosen, but `num_opts` not defined. Setting `num_opts=21`\n",
      "\u001b[0m"
     ]
    },
    {
     "name": "stdout",
     "output_type": "stream",
     "text": [
      "bin_pops : [2, 2, 1, 0]\n",
      "bin_pops : [2, 2, 2, 0]\n"
     ]
    },
    {
     "name": "stderr",
     "output_type": "stream",
     "text": [
      "\u001b[1;33m[WARNING] Categorical surface chosen, but `num_opts` not defined. Setting `num_opts=21`\n",
      "\u001b[0m\u001b[1;33m[WARNING] Categorical surface chosen, but `num_opts` not defined. Setting `num_opts=21`\n",
      "\u001b[0m"
     ]
    },
    {
     "name": "stdout",
     "output_type": "stream",
     "text": [
      "bin_pops : [3, 2, 2, 0]\n"
     ]
    },
    {
     "name": "stderr",
     "output_type": "stream",
     "text": [
      "\u001b[1;33m[WARNING] Categorical surface chosen, but `num_opts` not defined. Setting `num_opts=21`\n",
      "\u001b[0m"
     ]
    },
    {
     "name": "stdout",
     "output_type": "stream",
     "text": [
      "bin_pops : [4, 2, 2, 0]\n",
      "bin_pops : [4, 3, 2, 0]\n",
      "bin_pops : [4, 3, 3, 0]\n"
     ]
    },
    {
     "name": "stderr",
     "output_type": "stream",
     "text": [
      "\u001b[1;33m[WARNING] Categorical surface chosen, but `num_opts` not defined. Setting `num_opts=21`\n",
      "\u001b[0m\u001b[1;33m[WARNING] Categorical surface chosen, but `num_opts` not defined. Setting `num_opts=21`\n",
      "\u001b[0m\u001b[1;33m[WARNING] Categorical surface chosen, but `num_opts` not defined. Setting `num_opts=21`\n",
      "\u001b[0m"
     ]
    },
    {
     "name": "stdout",
     "output_type": "stream",
     "text": [
      "bin_pops : [5, 3, 3, 0]\n",
      "bin_pops : [5, 4, 3, 0]\n"
     ]
    },
    {
     "name": "stderr",
     "output_type": "stream",
     "text": [
      "\u001b[1;33m[WARNING] Categorical surface chosen, but `num_opts` not defined. Setting `num_opts=21`\n",
      "\u001b[0m\u001b[1;33m[WARNING] Categorical surface chosen, but `num_opts` not defined. Setting `num_opts=21`\n",
      "\u001b[0m"
     ]
    },
    {
     "name": "stdout",
     "output_type": "stream",
     "text": [
      "bin_pops : [5, 4, 4, 0]\n",
      "bin_pops : [6, 4, 4, 0]\n"
     ]
    },
    {
     "name": "stderr",
     "output_type": "stream",
     "text": [
      "\u001b[1;33m[WARNING] Categorical surface chosen, but `num_opts` not defined. Setting `num_opts=21`\n",
      "\u001b[0m\u001b[1;33m[WARNING] Categorical surface chosen, but `num_opts` not defined. Setting `num_opts=21`\n",
      "\u001b[0m"
     ]
    },
    {
     "name": "stdout",
     "output_type": "stream",
     "text": [
      "bin_pops : [6, 4, 5, 0]\n"
     ]
    },
    {
     "name": "stderr",
     "output_type": "stream",
     "text": [
      "\u001b[1;33m[WARNING] Categorical surface chosen, but `num_opts` not defined. Setting `num_opts=21`\n",
      "\u001b[0m"
     ]
    },
    {
     "name": "stdout",
     "output_type": "stream",
     "text": [
      "bin_pops : [7, 4, 5, 0]\n",
      "bin_pops : [7, 5, 5, 0]\n"
     ]
    },
    {
     "name": "stderr",
     "output_type": "stream",
     "text": [
      "\u001b[1;33m[WARNING] Categorical surface chosen, but `num_opts` not defined. Setting `num_opts=21`\n",
      "\u001b[0m\u001b[1;33m[WARNING] Categorical surface chosen, but `num_opts` not defined. Setting `num_opts=21`\n",
      "\u001b[0m"
     ]
    },
    {
     "name": "stdout",
     "output_type": "stream",
     "text": [
      "bin_pops : [7, 5, 6, 0]\n",
      "bin_pops : [8, 5, 6, 0]\n"
     ]
    },
    {
     "name": "stderr",
     "output_type": "stream",
     "text": [
      "\u001b[1;33m[WARNING] Categorical surface chosen, but `num_opts` not defined. Setting `num_opts=21`\n",
      "\u001b[0m\u001b[1;33m[WARNING] Categorical surface chosen, but `num_opts` not defined. Setting `num_opts=21`\n",
      "\u001b[0m"
     ]
    },
    {
     "name": "stdout",
     "output_type": "stream",
     "text": [
      "bin_pops : [8, 6, 6, 0]\n"
     ]
    },
    {
     "name": "stderr",
     "output_type": "stream",
     "text": [
      "\u001b[1;33m[WARNING] Categorical surface chosen, but `num_opts` not defined. Setting `num_opts=21`\n",
      "\u001b[0m"
     ]
    },
    {
     "name": "stdout",
     "output_type": "stream",
     "text": [
      "bin_pops : [9, 6, 6, 0]\n",
      "bin_pops : [9, 7, 6, 0]\n"
     ]
    },
    {
     "name": "stderr",
     "output_type": "stream",
     "text": [
      "\u001b[1;33m[WARNING] Categorical surface chosen, but `num_opts` not defined. Setting `num_opts=21`\n",
      "\u001b[0m\u001b[1;33m[WARNING] Categorical surface chosen, but `num_opts` not defined. Setting `num_opts=21`\n",
      "\u001b[0m"
     ]
    },
    {
     "name": "stdout",
     "output_type": "stream",
     "text": [
      "bin_pops : [9, 7, 7, 0]\n",
      "bin_pops : [9, 8, 7, 0]\n"
     ]
    },
    {
     "name": "stderr",
     "output_type": "stream",
     "text": [
      "\u001b[1;33m[WARNING] Categorical surface chosen, but `num_opts` not defined. Setting `num_opts=21`\n",
      "\u001b[0m\u001b[1;33m[WARNING] Categorical surface chosen, but `num_opts` not defined. Setting `num_opts=21`\n",
      "\u001b[0m"
     ]
    },
    {
     "name": "stdout",
     "output_type": "stream",
     "text": [
      "bin_pops : [10, 8, 7, 0]\n"
     ]
    },
    {
     "name": "stderr",
     "output_type": "stream",
     "text": [
      "\u001b[1;33m[WARNING] Categorical surface chosen, but `num_opts` not defined. Setting `num_opts=21`\n",
      "\u001b[0m"
     ]
    },
    {
     "name": "stdout",
     "output_type": "stream",
     "text": [
      "bin_pops : [11, 8, 7, 0]\n",
      "bin_pops : [12, 8, 7, 0]\n"
     ]
    },
    {
     "name": "stderr",
     "output_type": "stream",
     "text": [
      "\u001b[1;33m[WARNING] Categorical surface chosen, but `num_opts` not defined. Setting `num_opts=21`\n",
      "\u001b[0m\u001b[1;33m[WARNING] Categorical surface chosen, but `num_opts` not defined. Setting `num_opts=21`\n",
      "\u001b[0m"
     ]
    },
    {
     "name": "stdout",
     "output_type": "stream",
     "text": [
      "bin_pops : [12, 9, 7, 0]\n"
     ]
    },
    {
     "name": "stderr",
     "output_type": "stream",
     "text": [
      "\u001b[1;33m[WARNING] Categorical surface chosen, but `num_opts` not defined. Setting `num_opts=21`\n",
      "\u001b[0m"
     ]
    },
    {
     "name": "stdout",
     "output_type": "stream",
     "text": [
      "bin_pops : [13, 9, 7, 0]\n",
      "bin_pops : [14, 9, 7, 0]\n"
     ]
    },
    {
     "name": "stderr",
     "output_type": "stream",
     "text": [
      "\u001b[1;33m[WARNING] Categorical surface chosen, but `num_opts` not defined. Setting `num_opts=21`\n",
      "\u001b[0m\u001b[1;33m[WARNING] Categorical surface chosen, but `num_opts` not defined. Setting `num_opts=21`\n",
      "\u001b[0m"
     ]
    },
    {
     "name": "stdout",
     "output_type": "stream",
     "text": [
      "bin_pops : [15, 9, 7, 0]\n",
      "bin_pops : [15, 9, 8, 0]\n"
     ]
    },
    {
     "name": "stderr",
     "output_type": "stream",
     "text": [
      "\u001b[1;33m[WARNING] Categorical surface chosen, but `num_opts` not defined. Setting `num_opts=21`\n",
      "\u001b[0m\u001b[1;33m[WARNING] Categorical surface chosen, but `num_opts` not defined. Setting `num_opts=21`\n",
      "\u001b[0m"
     ]
    },
    {
     "name": "stdout",
     "output_type": "stream",
     "text": [
      "bin_pops : [16, 9, 8, 0]\n",
      "bin_pops : [16, 9, 9, 0]\n",
      "bin_pops : [16, 9, 9, 0]\n"
     ]
    },
    {
     "name": "stderr",
     "output_type": "stream",
     "text": [
      "\u001b[1;33m[WARNING] Categorical surface chosen, but `num_opts` not defined. Setting `num_opts=21`\n",
      "\u001b[0m\u001b[1;33m[WARNING] Categorical surface chosen, but `num_opts` not defined. Setting `num_opts=21`\n",
      "\u001b[0m\u001b[1;33m[WARNING] Categorical surface chosen, but `num_opts` not defined. Setting `num_opts=21`\n",
      "\u001b[0m"
     ]
    },
    {
     "name": "stdout",
     "output_type": "stream",
     "text": [
      "bin_pops : [17, 9, 9, 0]\n",
      "bin_pops : [18, 9, 9, 0]\n"
     ]
    },
    {
     "name": "stderr",
     "output_type": "stream",
     "text": [
      "\u001b[1;33m[WARNING] Categorical surface chosen, but `num_opts` not defined. Setting `num_opts=21`\n",
      "\u001b[0m\u001b[1;33m[WARNING] Categorical surface chosen, but `num_opts` not defined. Setting `num_opts=21`\n",
      "\u001b[0m"
     ]
    },
    {
     "name": "stdout",
     "output_type": "stream",
     "text": [
      "bin_pops : [19, 9, 9, 0]\n",
      "bin_pops : [19, 9, 10, 0]\n"
     ]
    },
    {
     "name": "stderr",
     "output_type": "stream",
     "text": [
      "\u001b[1;33m[WARNING] Categorical surface chosen, but `num_opts` not defined. Setting `num_opts=21`\n",
      "\u001b[0m\u001b[1;33m[WARNING] Categorical surface chosen, but `num_opts` not defined. Setting `num_opts=21`\n",
      "\u001b[0m"
     ]
    },
    {
     "name": "stdout",
     "output_type": "stream",
     "text": [
      "bin_pops : [20, 9, 10, 0]\n",
      "bin_pops : [21, 9, 10, 0]\n"
     ]
    },
    {
     "name": "stderr",
     "output_type": "stream",
     "text": [
      "\u001b[1;33m[WARNING] Categorical surface chosen, but `num_opts` not defined. Setting `num_opts=21`\n",
      "\u001b[0m\u001b[1;33m[WARNING] Categorical surface chosen, but `num_opts` not defined. Setting `num_opts=21`\n",
      "\u001b[0m"
     ]
    },
    {
     "name": "stdout",
     "output_type": "stream",
     "text": [
      "bin_pops : [21, 9, 10, 1]\n"
     ]
    },
    {
     "name": "stderr",
     "output_type": "stream",
     "text": [
      "\u001b[1;33m[WARNING] Categorical surface chosen, but `num_opts` not defined. Setting `num_opts=21`\n",
      "\u001b[0m"
     ]
    },
    {
     "name": "stdout",
     "output_type": "stream",
     "text": [
      "bin_pops : [22, 9, 10, 1]\n",
      "bin_pops : [22, 9, 10, 2]\n",
      "bin_pops : [22, 10, 10, 2]\n"
     ]
    },
    {
     "name": "stderr",
     "output_type": "stream",
     "text": [
      "\u001b[1;33m[WARNING] Categorical surface chosen, but `num_opts` not defined. Setting `num_opts=21`\n",
      "\u001b[0m\u001b[1;33m[WARNING] Categorical surface chosen, but `num_opts` not defined. Setting `num_opts=21`\n",
      "\u001b[0m\u001b[1;33m[WARNING] Categorical surface chosen, but `num_opts` not defined. Setting `num_opts=21`\n",
      "\u001b[0m"
     ]
    },
    {
     "name": "stdout",
     "output_type": "stream",
     "text": [
      "bin_pops : [22, 10, 11, 2]\n",
      "bin_pops : [23, 10, 11, 2]\n"
     ]
    },
    {
     "name": "stderr",
     "output_type": "stream",
     "text": [
      "\u001b[1;33m[WARNING] Categorical surface chosen, but `num_opts` not defined. Setting `num_opts=21`\n",
      "\u001b[0m\u001b[1;33m[WARNING] Categorical surface chosen, but `num_opts` not defined. Setting `num_opts=21`\n",
      "\u001b[0m"
     ]
    },
    {
     "name": "stdout",
     "output_type": "stream",
     "text": [
      "bin_pops : [23, 11, 11, 2]\n",
      "bin_pops : [23, 11, 11, 3]\n",
      "bin_pops : [23, 11, 12, 3]\n"
     ]
    },
    {
     "name": "stderr",
     "output_type": "stream",
     "text": [
      "\u001b[1;33m[WARNING] Categorical surface chosen, but `num_opts` not defined. Setting `num_opts=21`\n",
      "\u001b[0m\u001b[1;33m[WARNING] Categorical surface chosen, but `num_opts` not defined. Setting `num_opts=21`\n",
      "\u001b[0m\u001b[1;33m[WARNING] Categorical surface chosen, but `num_opts` not defined. Setting `num_opts=21`\n",
      "\u001b[0m"
     ]
    },
    {
     "name": "stdout",
     "output_type": "stream",
     "text": [
      "bin_pops : [24, 11, 12, 3]\n",
      "bin_pops : [25, 11, 12, 3]\n"
     ]
    },
    {
     "name": "stderr",
     "output_type": "stream",
     "text": [
      "\u001b[1;33m[WARNING] Categorical surface chosen, but `num_opts` not defined. Setting `num_opts=21`\n",
      "\u001b[0m\u001b[1;33m[WARNING] Categorical surface chosen, but `num_opts` not defined. Setting `num_opts=21`\n",
      "\u001b[0m"
     ]
    },
    {
     "name": "stdout",
     "output_type": "stream",
     "text": [
      "bin_pops : [25, 11, 12, 3]\n",
      "bin_pops : [25, 11, 13, 3]\n",
      "bin_pops : [25, 11, 14, 3]\n",
      "bin_pops : [25, 11, 15, 3]\n"
     ]
    },
    {
     "name": "stderr",
     "output_type": "stream",
     "text": [
      "\u001b[1;33m[WARNING] Categorical surface chosen, but `num_opts` not defined. Setting `num_opts=21`\n",
      "\u001b[0m\u001b[1;33m[WARNING] Categorical surface chosen, but `num_opts` not defined. Setting `num_opts=21`\n",
      "\u001b[0m\u001b[1;33m[WARNING] Categorical surface chosen, but `num_opts` not defined. Setting `num_opts=21`\n",
      "\u001b[0m\u001b[1;33m[WARNING] Categorical surface chosen, but `num_opts` not defined. Setting `num_opts=21`\n",
      "\u001b[0m"
     ]
    },
    {
     "name": "stdout",
     "output_type": "stream",
     "text": [
      "bin_pops : [25, 12, 15, 3]\n",
      "bin_pops : [26, 12, 15, 3]\n"
     ]
    },
    {
     "name": "stderr",
     "output_type": "stream",
     "text": [
      "\u001b[1;33m[WARNING] Categorical surface chosen, but `num_opts` not defined. Setting `num_opts=21`\n",
      "\u001b[0m\u001b[1;33m[WARNING] Categorical surface chosen, but `num_opts` not defined. Setting `num_opts=21`\n",
      "\u001b[0m"
     ]
    },
    {
     "name": "stdout",
     "output_type": "stream",
     "text": [
      "bin_pops : [26, 12, 16, 3]\n",
      "bin_pops : [26, 12, 16, 4]\n"
     ]
    },
    {
     "name": "stderr",
     "output_type": "stream",
     "text": [
      "\u001b[1;33m[WARNING] Categorical surface chosen, but `num_opts` not defined. Setting `num_opts=21`\n",
      "\u001b[0m\u001b[1;33m[WARNING] Categorical surface chosen, but `num_opts` not defined. Setting `num_opts=21`\n",
      "\u001b[0m"
     ]
    },
    {
     "name": "stdout",
     "output_type": "stream",
     "text": [
      "bin_pops : [27, 12, 16, 4]\n",
      "bin_pops : [28, 12, 16, 4]\n",
      "bin_pops : [28, 12, 16, 4]\n"
     ]
    },
    {
     "name": "stderr",
     "output_type": "stream",
     "text": [
      "\u001b[1;33m[WARNING] Categorical surface chosen, but `num_opts` not defined. Setting `num_opts=21`\n",
      "\u001b[0m\u001b[1;33m[WARNING] Categorical surface chosen, but `num_opts` not defined. Setting `num_opts=21`\n",
      "\u001b[0m\u001b[1;33m[WARNING] Categorical surface chosen, but `num_opts` not defined. Setting `num_opts=21`\n",
      "\u001b[0m"
     ]
    },
    {
     "name": "stdout",
     "output_type": "stream",
     "text": [
      "bin_pops : [29, 12, 16, 4]\n",
      "bin_pops : [30, 12, 16, 4]\n"
     ]
    },
    {
     "name": "stderr",
     "output_type": "stream",
     "text": [
      "\u001b[1;33m[WARNING] Categorical surface chosen, but `num_opts` not defined. Setting `num_opts=21`\n",
      "\u001b[0m\u001b[1;33m[WARNING] Categorical surface chosen, but `num_opts` not defined. Setting `num_opts=21`\n",
      "\u001b[0m"
     ]
    },
    {
     "name": "stdout",
     "output_type": "stream",
     "text": [
      "bin_pops : [30, 12, 16, 5]\n",
      "bin_pops : [30, 13, 16, 5]\n"
     ]
    },
    {
     "name": "stderr",
     "output_type": "stream",
     "text": [
      "\u001b[1;33m[WARNING] Categorical surface chosen, but `num_opts` not defined. Setting `num_opts=21`\n",
      "\u001b[0m\u001b[1;33m[WARNING] Categorical surface chosen, but `num_opts` not defined. Setting `num_opts=21`\n",
      "\u001b[0m"
     ]
    },
    {
     "name": "stdout",
     "output_type": "stream",
     "text": [
      "bin_pops : [31, 13, 16, 5]\n",
      "bin_pops : [31, 13, 17, 5]\n"
     ]
    },
    {
     "name": "stderr",
     "output_type": "stream",
     "text": [
      "\u001b[1;33m[WARNING] Categorical surface chosen, but `num_opts` not defined. Setting `num_opts=21`\n",
      "\u001b[0m\u001b[1;33m[WARNING] Categorical surface chosen, but `num_opts` not defined. Setting `num_opts=21`\n",
      "\u001b[0m"
     ]
    },
    {
     "name": "stdout",
     "output_type": "stream",
     "text": [
      "bin_pops : [32, 13, 17, 5]\n",
      "bin_pops : [32, 14, 17, 5]\n"
     ]
    },
    {
     "name": "stderr",
     "output_type": "stream",
     "text": [
      "\u001b[1;33m[WARNING] Categorical surface chosen, but `num_opts` not defined. Setting `num_opts=21`\n",
      "\u001b[0m\u001b[1;33m[WARNING] Categorical surface chosen, but `num_opts` not defined. Setting `num_opts=21`\n",
      "\u001b[0m"
     ]
    },
    {
     "name": "stdout",
     "output_type": "stream",
     "text": [
      "bin_pops : [33, 14, 17, 5]\n",
      "bin_pops : [33, 15, 17, 5]\n"
     ]
    },
    {
     "name": "stderr",
     "output_type": "stream",
     "text": [
      "\u001b[1;33m[WARNING] Categorical surface chosen, but `num_opts` not defined. Setting `num_opts=21`\n",
      "\u001b[0m\u001b[1;33m[WARNING] Categorical surface chosen, but `num_opts` not defined. Setting `num_opts=21`\n",
      "\u001b[0m"
     ]
    },
    {
     "name": "stdout",
     "output_type": "stream",
     "text": [
      "bin_pops : [34, 15, 17, 5]\n"
     ]
    },
    {
     "name": "stderr",
     "output_type": "stream",
     "text": [
      "\u001b[1;33m[WARNING] Categorical surface chosen, but `num_opts` not defined. Setting `num_opts=21`\n",
      "\u001b[0m"
     ]
    },
    {
     "name": "stdout",
     "output_type": "stream",
     "text": [
      "bin_pops : [35, 15, 17, 5]\n",
      "bin_pops : [35, 15, 17, 6]\n"
     ]
    },
    {
     "name": "stderr",
     "output_type": "stream",
     "text": [
      "\u001b[1;33m[WARNING] Categorical surface chosen, but `num_opts` not defined. Setting `num_opts=21`\n",
      "\u001b[0m\u001b[1;33m[WARNING] Categorical surface chosen, but `num_opts` not defined. Setting `num_opts=21`\n",
      "\u001b[0m"
     ]
    },
    {
     "name": "stdout",
     "output_type": "stream",
     "text": [
      "bin_pops : [36, 15, 17, 6]\n",
      "bin_pops : [36, 16, 17, 6]\n"
     ]
    },
    {
     "name": "stderr",
     "output_type": "stream",
     "text": [
      "\u001b[1;33m[WARNING] Categorical surface chosen, but `num_opts` not defined. Setting `num_opts=21`\n",
      "\u001b[0m\u001b[1;33m[WARNING] Categorical surface chosen, but `num_opts` not defined. Setting `num_opts=21`\n",
      "\u001b[0m"
     ]
    },
    {
     "name": "stdout",
     "output_type": "stream",
     "text": [
      "bin_pops : [37, 16, 17, 6]\n"
     ]
    },
    {
     "name": "stderr",
     "output_type": "stream",
     "text": [
      "\u001b[1;33m[WARNING] Categorical surface chosen, but `num_opts` not defined. Setting `num_opts=21`\n",
      "\u001b[0m"
     ]
    },
    {
     "name": "stdout",
     "output_type": "stream",
     "text": [
      "bin_pops : [37, 16, 17, 6]\n",
      "bin_pops : [37, 17, 17, 6]\n",
      "bin_pops : [37, 18, 17, 6]\n"
     ]
    },
    {
     "name": "stderr",
     "output_type": "stream",
     "text": [
      "\u001b[1;33m[WARNING] Categorical surface chosen, but `num_opts` not defined. Setting `num_opts=21`\n",
      "\u001b[0m\u001b[1;33m[WARNING] Categorical surface chosen, but `num_opts` not defined. Setting `num_opts=21`\n",
      "\u001b[0m\u001b[1;33m[WARNING] Categorical surface chosen, but `num_opts` not defined. Setting `num_opts=21`\n",
      "\u001b[0m"
     ]
    },
    {
     "name": "stdout",
     "output_type": "stream",
     "text": [
      "bin_pops : [37, 18, 18, 6]\n",
      "bin_pops : [37, 18, 18, 6]\n"
     ]
    },
    {
     "name": "stderr",
     "output_type": "stream",
     "text": [
      "\u001b[1;33m[WARNING] Categorical surface chosen, but `num_opts` not defined. Setting `num_opts=21`\n",
      "\u001b[0m\u001b[1;33m[WARNING] Categorical surface chosen, but `num_opts` not defined. Setting `num_opts=21`\n",
      "\u001b[0m"
     ]
    },
    {
     "name": "stdout",
     "output_type": "stream",
     "text": [
      "bin_pops : [38, 18, 18, 6]\n",
      "bin_pops : [38, 18, 18, 7]\n",
      "bin_pops : [38, 18, 19, 7]\n"
     ]
    },
    {
     "name": "stderr",
     "output_type": "stream",
     "text": [
      "\u001b[1;33m[WARNING] Categorical surface chosen, but `num_opts` not defined. Setting `num_opts=21`\n",
      "\u001b[0m\u001b[1;33m[WARNING] Categorical surface chosen, but `num_opts` not defined. Setting `num_opts=21`\n",
      "\u001b[0m\u001b[1;33m[WARNING] Categorical surface chosen, but `num_opts` not defined. Setting `num_opts=21`\n",
      "\u001b[0m"
     ]
    },
    {
     "name": "stdout",
     "output_type": "stream",
     "text": [
      "bin_pops : [38, 19, 19, 7]\n",
      "bin_pops : [38, 20, 19, 7]\n"
     ]
    },
    {
     "name": "stderr",
     "output_type": "stream",
     "text": [
      "\u001b[1;33m[WARNING] Categorical surface chosen, but `num_opts` not defined. Setting `num_opts=21`\n",
      "\u001b[0m\u001b[1;33m[WARNING] Categorical surface chosen, but `num_opts` not defined. Setting `num_opts=21`\n",
      "\u001b[0m"
     ]
    },
    {
     "name": "stdout",
     "output_type": "stream",
     "text": [
      "bin_pops : [39, 20, 19, 7]\n",
      "bin_pops : [39, 21, 19, 7]\n"
     ]
    },
    {
     "name": "stderr",
     "output_type": "stream",
     "text": [
      "\u001b[1;33m[WARNING] Categorical surface chosen, but `num_opts` not defined. Setting `num_opts=21`\n",
      "\u001b[0m\u001b[1;33m[WARNING] Categorical surface chosen, but `num_opts` not defined. Setting `num_opts=21`\n",
      "\u001b[0m"
     ]
    },
    {
     "name": "stdout",
     "output_type": "stream",
     "text": [
      "bin_pops : [40, 21, 19, 7]\n",
      "bin_pops : [40, 22, 19, 7]\n"
     ]
    },
    {
     "name": "stderr",
     "output_type": "stream",
     "text": [
      "\u001b[1;33m[WARNING] Categorical surface chosen, but `num_opts` not defined. Setting `num_opts=21`\n",
      "\u001b[0m\u001b[1;33m[WARNING] Categorical surface chosen, but `num_opts` not defined. Setting `num_opts=21`\n",
      "\u001b[0m"
     ]
    },
    {
     "name": "stdout",
     "output_type": "stream",
     "text": [
      "bin_pops : [40, 22, 19, 7]\n",
      "bin_pops : [40, 22, 20, 7]\n"
     ]
    },
    {
     "name": "stderr",
     "output_type": "stream",
     "text": [
      "\u001b[1;33m[WARNING] Categorical surface chosen, but `num_opts` not defined. Setting `num_opts=21`\n",
      "\u001b[0m\u001b[1;33m[WARNING] Categorical surface chosen, but `num_opts` not defined. Setting `num_opts=21`\n",
      "\u001b[0m"
     ]
    },
    {
     "name": "stdout",
     "output_type": "stream",
     "text": [
      "bin_pops : [40, 23, 20, 7]\n",
      "bin_pops : [40, 23, 20, 7]\n"
     ]
    },
    {
     "name": "stderr",
     "output_type": "stream",
     "text": [
      "\u001b[1;33m[WARNING] Categorical surface chosen, but `num_opts` not defined. Setting `num_opts=21`\n",
      "\u001b[0m\u001b[1;33m[WARNING] Categorical surface chosen, but `num_opts` not defined. Setting `num_opts=21`\n",
      "\u001b[0m"
     ]
    },
    {
     "name": "stdout",
     "output_type": "stream",
     "text": [
      "bin_pops : [40, 23, 21, 7]\n",
      "bin_pops : [40, 24, 21, 7]\n"
     ]
    },
    {
     "name": "stderr",
     "output_type": "stream",
     "text": [
      "\u001b[1;33m[WARNING] Categorical surface chosen, but `num_opts` not defined. Setting `num_opts=21`\n",
      "\u001b[0m\u001b[1;33m[WARNING] Categorical surface chosen, but `num_opts` not defined. Setting `num_opts=21`\n",
      "\u001b[0m"
     ]
    },
    {
     "name": "stdout",
     "output_type": "stream",
     "text": [
      "bin_pops : [40, 24, 21, 7]\n"
     ]
    },
    {
     "name": "stderr",
     "output_type": "stream",
     "text": [
      "\u001b[1;33m[WARNING] Categorical surface chosen, but `num_opts` not defined. Setting `num_opts=21`\n",
      "\u001b[0m"
     ]
    },
    {
     "name": "stdout",
     "output_type": "stream",
     "text": [
      "bin_pops : [40, 24, 21, 7]\n",
      "bin_pops : [40, 25, 21, 7]\n"
     ]
    },
    {
     "name": "stderr",
     "output_type": "stream",
     "text": [
      "\u001b[1;33m[WARNING] Categorical surface chosen, but `num_opts` not defined. Setting `num_opts=21`\n",
      "\u001b[0m\u001b[1;33m[WARNING] Categorical surface chosen, but `num_opts` not defined. Setting `num_opts=21`\n",
      "\u001b[0m"
     ]
    },
    {
     "name": "stdout",
     "output_type": "stream",
     "text": [
      "bin_pops : [40, 25, 21, 7]\n",
      "bin_pops : [40, 25, 22, 7]\n"
     ]
    },
    {
     "name": "stderr",
     "output_type": "stream",
     "text": [
      "\u001b[1;33m[WARNING] Categorical surface chosen, but `num_opts` not defined. Setting `num_opts=21`\n",
      "\u001b[0m\u001b[1;33m[WARNING] Categorical surface chosen, but `num_opts` not defined. Setting `num_opts=21`\n",
      "\u001b[0m"
     ]
    },
    {
     "name": "stdout",
     "output_type": "stream",
     "text": [
      "bin_pops : [40, 25, 22, 7]\n",
      "bin_pops : [40, 25, 22, 7]\n"
     ]
    },
    {
     "name": "stderr",
     "output_type": "stream",
     "text": [
      "\u001b[1;33m[WARNING] Categorical surface chosen, but `num_opts` not defined. Setting `num_opts=21`\n",
      "\u001b[0m\u001b[1;33m[WARNING] Categorical surface chosen, but `num_opts` not defined. Setting `num_opts=21`\n",
      "\u001b[0m"
     ]
    },
    {
     "name": "stdout",
     "output_type": "stream",
     "text": [
      "bin_pops : [40, 25, 22, 7]\n",
      "bin_pops : [40, 25, 22, 8]\n"
     ]
    },
    {
     "name": "stderr",
     "output_type": "stream",
     "text": [
      "\u001b[1;33m[WARNING] Categorical surface chosen, but `num_opts` not defined. Setting `num_opts=21`\n",
      "\u001b[0m\u001b[1;33m[WARNING] Categorical surface chosen, but `num_opts` not defined. Setting `num_opts=21`\n",
      "\u001b[0m"
     ]
    },
    {
     "name": "stdout",
     "output_type": "stream",
     "text": [
      "bin_pops : [40, 25, 22, 8]\n",
      "bin_pops : [40, 25, 22, 8]\n"
     ]
    },
    {
     "name": "stderr",
     "output_type": "stream",
     "text": [
      "\u001b[1;33m[WARNING] Categorical surface chosen, but `num_opts` not defined. Setting `num_opts=21`\n",
      "\u001b[0m\u001b[1;33m[WARNING] Categorical surface chosen, but `num_opts` not defined. Setting `num_opts=21`\n",
      "\u001b[0m"
     ]
    },
    {
     "name": "stdout",
     "output_type": "stream",
     "text": [
      "bin_pops : [40, 25, 22, 8]\n",
      "bin_pops : [40, 25, 22, 8]\n"
     ]
    },
    {
     "name": "stderr",
     "output_type": "stream",
     "text": [
      "\u001b[1;33m[WARNING] Categorical surface chosen, but `num_opts` not defined. Setting `num_opts=21`\n",
      "\u001b[0m\u001b[1;33m[WARNING] Categorical surface chosen, but `num_opts` not defined. Setting `num_opts=21`\n",
      "\u001b[0m"
     ]
    },
    {
     "name": "stdout",
     "output_type": "stream",
     "text": [
      "bin_pops : [40, 26, 22, 8]\n",
      "bin_pops : [40, 26, 22, 9]\n"
     ]
    },
    {
     "name": "stderr",
     "output_type": "stream",
     "text": [
      "\u001b[1;33m[WARNING] Categorical surface chosen, but `num_opts` not defined. Setting `num_opts=21`\n",
      "\u001b[0m\u001b[1;33m[WARNING] Categorical surface chosen, but `num_opts` not defined. Setting `num_opts=21`\n",
      "\u001b[0m"
     ]
    },
    {
     "name": "stdout",
     "output_type": "stream",
     "text": [
      "bin_pops : [40, 26, 22, 9]\n",
      "bin_pops : [40, 26, 22, 9]\n"
     ]
    },
    {
     "name": "stderr",
     "output_type": "stream",
     "text": [
      "\u001b[1;33m[WARNING] Categorical surface chosen, but `num_opts` not defined. Setting `num_opts=21`\n",
      "\u001b[0m\u001b[1;33m[WARNING] Categorical surface chosen, but `num_opts` not defined. Setting `num_opts=21`\n",
      "\u001b[0m"
     ]
    },
    {
     "name": "stdout",
     "output_type": "stream",
     "text": [
      "bin_pops : [40, 26, 22, 9]\n"
     ]
    },
    {
     "name": "stderr",
     "output_type": "stream",
     "text": [
      "\u001b[1;33m[WARNING] Categorical surface chosen, but `num_opts` not defined. Setting `num_opts=21`\n",
      "\u001b[0m"
     ]
    },
    {
     "name": "stdout",
     "output_type": "stream",
     "text": [
      "bin_pops : [40, 26, 22, 9]\n",
      "bin_pops : [40, 27, 22, 9]\n"
     ]
    },
    {
     "name": "stderr",
     "output_type": "stream",
     "text": [
      "\u001b[1;33m[WARNING] Categorical surface chosen, but `num_opts` not defined. Setting `num_opts=21`\n",
      "\u001b[0m\u001b[1;33m[WARNING] Categorical surface chosen, but `num_opts` not defined. Setting `num_opts=21`\n",
      "\u001b[0m"
     ]
    },
    {
     "name": "stdout",
     "output_type": "stream",
     "text": [
      "bin_pops : [40, 28, 22, 9]\n"
     ]
    },
    {
     "name": "stderr",
     "output_type": "stream",
     "text": [
      "\u001b[1;33m[WARNING] Categorical surface chosen, but `num_opts` not defined. Setting `num_opts=21`\n",
      "\u001b[0m"
     ]
    },
    {
     "name": "stdout",
     "output_type": "stream",
     "text": [
      "bin_pops : [40, 28, 22, 9]\n",
      "bin_pops : [40, 28, 22, 10]\n",
      "bin_pops : [40, 28, 22, 10]\n"
     ]
    },
    {
     "name": "stderr",
     "output_type": "stream",
     "text": [
      "\u001b[1;33m[WARNING] Categorical surface chosen, but `num_opts` not defined. Setting `num_opts=21`\n",
      "\u001b[0m\u001b[1;33m[WARNING] Categorical surface chosen, but `num_opts` not defined. Setting `num_opts=21`\n",
      "\u001b[0m\u001b[1;33m[WARNING] Categorical surface chosen, but `num_opts` not defined. Setting `num_opts=21`\n",
      "\u001b[0m"
     ]
    },
    {
     "name": "stdout",
     "output_type": "stream",
     "text": [
      "bin_pops : [40, 28, 22, 10]\n"
     ]
    },
    {
     "name": "stderr",
     "output_type": "stream",
     "text": [
      "\u001b[1;33m[WARNING] Categorical surface chosen, but `num_opts` not defined. Setting `num_opts=21`\n",
      "\u001b[0m"
     ]
    },
    {
     "name": "stdout",
     "output_type": "stream",
     "text": [
      "bin_pops : [40, 28, 22, 10]\n"
     ]
    },
    {
     "name": "stderr",
     "output_type": "stream",
     "text": [
      "\u001b[1;33m[WARNING] Categorical surface chosen, but `num_opts` not defined. Setting `num_opts=21`\n",
      "\u001b[0m"
     ]
    },
    {
     "name": "stdout",
     "output_type": "stream",
     "text": [
      "bin_pops : [40, 28, 22, 10]\n"
     ]
    },
    {
     "name": "stderr",
     "output_type": "stream",
     "text": [
      "\u001b[1;33m[WARNING] Categorical surface chosen, but `num_opts` not defined. Setting `num_opts=21`\n",
      "\u001b[0m"
     ]
    },
    {
     "name": "stdout",
     "output_type": "stream",
     "text": [
      "bin_pops : [40, 28, 22, 10]\n",
      "bin_pops : [40, 28, 23, 10]\n"
     ]
    },
    {
     "name": "stderr",
     "output_type": "stream",
     "text": [
      "\u001b[1;33m[WARNING] Categorical surface chosen, but `num_opts` not defined. Setting `num_opts=21`\n",
      "\u001b[0m\u001b[1;33m[WARNING] Categorical surface chosen, but `num_opts` not defined. Setting `num_opts=21`\n",
      "\u001b[0m"
     ]
    },
    {
     "name": "stdout",
     "output_type": "stream",
     "text": [
      "bin_pops : [40, 29, 23, 10]\n"
     ]
    },
    {
     "name": "stderr",
     "output_type": "stream",
     "text": [
      "\u001b[1;33m[WARNING] Categorical surface chosen, but `num_opts` not defined. Setting `num_opts=21`\n",
      "\u001b[0m"
     ]
    },
    {
     "name": "stdout",
     "output_type": "stream",
     "text": [
      "bin_pops : [40, 29, 23, 10]\n"
     ]
    },
    {
     "name": "stderr",
     "output_type": "stream",
     "text": [
      "\u001b[1;33m[WARNING] Categorical surface chosen, but `num_opts` not defined. Setting `num_opts=21`\n",
      "\u001b[0m"
     ]
    },
    {
     "name": "stdout",
     "output_type": "stream",
     "text": [
      "bin_pops : [40, 29, 23, 10]\n",
      "bin_pops : [40, 29, 23, 10]\n"
     ]
    },
    {
     "name": "stderr",
     "output_type": "stream",
     "text": [
      "\u001b[1;33m[WARNING] Categorical surface chosen, but `num_opts` not defined. Setting `num_opts=21`\n",
      "\u001b[0m\u001b[1;33m[WARNING] Categorical surface chosen, but `num_opts` not defined. Setting `num_opts=21`\n",
      "\u001b[0m"
     ]
    },
    {
     "name": "stdout",
     "output_type": "stream",
     "text": [
      "bin_pops : [40, 30, 23, 10]\n"
     ]
    },
    {
     "name": "stderr",
     "output_type": "stream",
     "text": [
      "\u001b[1;33m[WARNING] Categorical surface chosen, but `num_opts` not defined. Setting `num_opts=21`\n",
      "\u001b[0m"
     ]
    },
    {
     "name": "stdout",
     "output_type": "stream",
     "text": [
      "bin_pops : [40, 30, 23, 10]\n",
      "bin_pops : [40, 30, 23, 10]\n",
      "bin_pops : [40, 30, 23, 10]\n"
     ]
    },
    {
     "name": "stderr",
     "output_type": "stream",
     "text": [
      "\u001b[1;33m[WARNING] Categorical surface chosen, but `num_opts` not defined. Setting `num_opts=21`\n",
      "\u001b[0m\u001b[1;33m[WARNING] Categorical surface chosen, but `num_opts` not defined. Setting `num_opts=21`\n",
      "\u001b[0m\u001b[1;33m[WARNING] Categorical surface chosen, but `num_opts` not defined. Setting `num_opts=21`\n",
      "\u001b[0m"
     ]
    },
    {
     "name": "stdout",
     "output_type": "stream",
     "text": [
      "bin_pops : [40, 30, 23, 10]\n",
      "bin_pops : [40, 30, 24, 10]\n",
      "bin_pops : [40, 31, 24, 10]\n"
     ]
    },
    {
     "name": "stderr",
     "output_type": "stream",
     "text": [
      "\u001b[1;33m[WARNING] Categorical surface chosen, but `num_opts` not defined. Setting `num_opts=21`\n",
      "\u001b[0m\u001b[1;33m[WARNING] Categorical surface chosen, but `num_opts` not defined. Setting `num_opts=21`\n",
      "\u001b[0m\u001b[1;33m[WARNING] Categorical surface chosen, but `num_opts` not defined. Setting `num_opts=21`\n",
      "\u001b[0m"
     ]
    },
    {
     "name": "stdout",
     "output_type": "stream",
     "text": [
      "bin_pops : [40, 32, 24, 10]\n",
      "bin_pops : [40, 32, 24, 10]\n"
     ]
    },
    {
     "name": "stderr",
     "output_type": "stream",
     "text": [
      "\u001b[1;33m[WARNING] Categorical surface chosen, but `num_opts` not defined. Setting `num_opts=21`\n",
      "\u001b[0m\u001b[1;33m[WARNING] Categorical surface chosen, but `num_opts` not defined. Setting `num_opts=21`\n",
      "\u001b[0m"
     ]
    },
    {
     "name": "stdout",
     "output_type": "stream",
     "text": [
      "bin_pops : [40, 32, 24, 10]\n"
     ]
    },
    {
     "name": "stderr",
     "output_type": "stream",
     "text": [
      "\u001b[1;33m[WARNING] Categorical surface chosen, but `num_opts` not defined. Setting `num_opts=21`\n",
      "\u001b[0m"
     ]
    },
    {
     "name": "stdout",
     "output_type": "stream",
     "text": [
      "bin_pops : [40, 32, 24, 10]\n"
     ]
    },
    {
     "name": "stderr",
     "output_type": "stream",
     "text": [
      "\u001b[1;33m[WARNING] Categorical surface chosen, but `num_opts` not defined. Setting `num_opts=21`\n",
      "\u001b[0m"
     ]
    },
    {
     "name": "stdout",
     "output_type": "stream",
     "text": [
      "bin_pops : [40, 32, 24, 10]\n",
      "bin_pops : [40, 33, 24, 10]\n",
      "bin_pops : [40, 33, 25, 10]\n"
     ]
    },
    {
     "name": "stderr",
     "output_type": "stream",
     "text": [
      "\u001b[1;33m[WARNING] Categorical surface chosen, but `num_opts` not defined. Setting `num_opts=21`\n",
      "\u001b[0m\u001b[1;33m[WARNING] Categorical surface chosen, but `num_opts` not defined. Setting `num_opts=21`\n",
      "\u001b[0m\u001b[1;33m[WARNING] Categorical surface chosen, but `num_opts` not defined. Setting `num_opts=21`\n",
      "\u001b[0m"
     ]
    },
    {
     "name": "stdout",
     "output_type": "stream",
     "text": [
      "bin_pops : [40, 33, 26, 10]\n",
      "bin_pops : [40, 33, 26, 10]\n",
      "bin_pops : [40, 34, 26, 10]\n"
     ]
    },
    {
     "name": "stderr",
     "output_type": "stream",
     "text": [
      "\u001b[1;33m[WARNING] Categorical surface chosen, but `num_opts` not defined. Setting `num_opts=21`\n",
      "\u001b[0m\u001b[1;33m[WARNING] Categorical surface chosen, but `num_opts` not defined. Setting `num_opts=21`\n",
      "\u001b[0m\u001b[1;33m[WARNING] Categorical surface chosen, but `num_opts` not defined. Setting `num_opts=21`\n",
      "\u001b[0m"
     ]
    },
    {
     "name": "stdout",
     "output_type": "stream",
     "text": [
      "bin_pops : [40, 34, 26, 10]\n",
      "bin_pops : [40, 34, 27, 10]\n",
      "bin_pops : [40, 34, 28, 10]\n",
      "bin_pops : [40, 34, 28, 11]\n"
     ]
    },
    {
     "name": "stderr",
     "output_type": "stream",
     "text": [
      "\u001b[1;33m[WARNING] Categorical surface chosen, but `num_opts` not defined. Setting `num_opts=21`\n",
      "\u001b[0m\u001b[1;33m[WARNING] Categorical surface chosen, but `num_opts` not defined. Setting `num_opts=21`\n",
      "\u001b[0m\u001b[1;33m[WARNING] Categorical surface chosen, but `num_opts` not defined. Setting `num_opts=21`\n",
      "\u001b[0m\u001b[1;33m[WARNING] Categorical surface chosen, but `num_opts` not defined. Setting `num_opts=21`\n",
      "\u001b[0m"
     ]
    },
    {
     "name": "stdout",
     "output_type": "stream",
     "text": [
      "bin_pops : [40, 34, 28, 11]\n"
     ]
    },
    {
     "name": "stderr",
     "output_type": "stream",
     "text": [
      "\u001b[1;33m[WARNING] Categorical surface chosen, but `num_opts` not defined. Setting `num_opts=21`\n",
      "\u001b[0m"
     ]
    },
    {
     "name": "stdout",
     "output_type": "stream",
     "text": [
      "bin_pops : [40, 34, 28, 11]\n",
      "bin_pops : [40, 34, 28, 11]\n"
     ]
    },
    {
     "name": "stderr",
     "output_type": "stream",
     "text": [
      "\u001b[1;33m[WARNING] Categorical surface chosen, but `num_opts` not defined. Setting `num_opts=21`\n",
      "\u001b[0m\u001b[1;33m[WARNING] Categorical surface chosen, but `num_opts` not defined. Setting `num_opts=21`\n",
      "\u001b[0m"
     ]
    },
    {
     "name": "stdout",
     "output_type": "stream",
     "text": [
      "bin_pops : [40, 34, 28, 11]\n",
      "bin_pops : [40, 34, 28, 11]\n"
     ]
    },
    {
     "name": "stderr",
     "output_type": "stream",
     "text": [
      "\u001b[1;33m[WARNING] Categorical surface chosen, but `num_opts` not defined. Setting `num_opts=21`\n",
      "\u001b[0m\u001b[1;33m[WARNING] Categorical surface chosen, but `num_opts` not defined. Setting `num_opts=21`\n",
      "\u001b[0m"
     ]
    },
    {
     "name": "stdout",
     "output_type": "stream",
     "text": [
      "bin_pops : [40, 34, 28, 11]\n"
     ]
    },
    {
     "name": "stderr",
     "output_type": "stream",
     "text": [
      "\u001b[1;33m[WARNING] Categorical surface chosen, but `num_opts` not defined. Setting `num_opts=21`\n",
      "\u001b[0m"
     ]
    },
    {
     "name": "stdout",
     "output_type": "stream",
     "text": [
      "bin_pops : [40, 34, 28, 11]\n"
     ]
    },
    {
     "name": "stderr",
     "output_type": "stream",
     "text": [
      "\u001b[1;33m[WARNING] Categorical surface chosen, but `num_opts` not defined. Setting `num_opts=21`\n",
      "\u001b[0m"
     ]
    },
    {
     "name": "stdout",
     "output_type": "stream",
     "text": [
      "bin_pops : [40, 34, 28, 11]\n"
     ]
    },
    {
     "name": "stderr",
     "output_type": "stream",
     "text": [
      "\u001b[1;33m[WARNING] Categorical surface chosen, but `num_opts` not defined. Setting `num_opts=21`\n",
      "\u001b[0m"
     ]
    },
    {
     "name": "stdout",
     "output_type": "stream",
     "text": [
      "bin_pops : [40, 34, 28, 11]\n",
      "bin_pops : [40, 34, 28, 11]\n"
     ]
    },
    {
     "name": "stderr",
     "output_type": "stream",
     "text": [
      "\u001b[1;33m[WARNING] Categorical surface chosen, but `num_opts` not defined. Setting `num_opts=21`\n",
      "\u001b[0m\u001b[1;33m[WARNING] Categorical surface chosen, but `num_opts` not defined. Setting `num_opts=21`\n",
      "\u001b[0m"
     ]
    },
    {
     "name": "stdout",
     "output_type": "stream",
     "text": [
      "bin_pops : [40, 34, 28, 11]\n",
      "bin_pops : [40, 34, 28, 11]\n",
      "bin_pops : [40, 34, 28, 12]\n"
     ]
    },
    {
     "name": "stderr",
     "output_type": "stream",
     "text": [
      "\u001b[1;33m[WARNING] Categorical surface chosen, but `num_opts` not defined. Setting `num_opts=21`\n",
      "\u001b[0m\u001b[1;33m[WARNING] Categorical surface chosen, but `num_opts` not defined. Setting `num_opts=21`\n",
      "\u001b[0m\u001b[1;33m[WARNING] Categorical surface chosen, but `num_opts` not defined. Setting `num_opts=21`\n",
      "\u001b[0m"
     ]
    },
    {
     "name": "stdout",
     "output_type": "stream",
     "text": [
      "bin_pops : [40, 34, 28, 12]\n",
      "bin_pops : [40, 34, 29, 12]\n"
     ]
    },
    {
     "name": "stderr",
     "output_type": "stream",
     "text": [
      "\u001b[1;33m[WARNING] Categorical surface chosen, but `num_opts` not defined. Setting `num_opts=21`\n",
      "\u001b[0m\u001b[1;33m[WARNING] Categorical surface chosen, but `num_opts` not defined. Setting `num_opts=21`\n",
      "\u001b[0m"
     ]
    },
    {
     "name": "stdout",
     "output_type": "stream",
     "text": [
      "bin_pops : [40, 34, 29, 12]\n",
      "bin_pops : [40, 34, 29, 13]\n",
      "bin_pops : [40, 34, 29, 14]\n"
     ]
    },
    {
     "name": "stderr",
     "output_type": "stream",
     "text": [
      "\u001b[1;33m[WARNING] Categorical surface chosen, but `num_opts` not defined. Setting `num_opts=21`\n",
      "\u001b[0m\u001b[1;33m[WARNING] Categorical surface chosen, but `num_opts` not defined. Setting `num_opts=21`\n",
      "\u001b[0m\u001b[1;33m[WARNING] Categorical surface chosen, but `num_opts` not defined. Setting `num_opts=21`\n",
      "\u001b[0m"
     ]
    },
    {
     "name": "stdout",
     "output_type": "stream",
     "text": [
      "bin_pops : [40, 34, 29, 14]\n"
     ]
    },
    {
     "name": "stderr",
     "output_type": "stream",
     "text": [
      "\u001b[1;33m[WARNING] Categorical surface chosen, but `num_opts` not defined. Setting `num_opts=21`\n",
      "\u001b[0m"
     ]
    },
    {
     "name": "stdout",
     "output_type": "stream",
     "text": [
      "bin_pops : [40, 34, 29, 14]\n",
      "bin_pops : [40, 34, 30, 14]\n",
      "bin_pops : [40, 34, 30, 15]\n"
     ]
    },
    {
     "name": "stderr",
     "output_type": "stream",
     "text": [
      "\u001b[1;33m[WARNING] Categorical surface chosen, but `num_opts` not defined. Setting `num_opts=21`\n",
      "\u001b[0m\u001b[1;33m[WARNING] Categorical surface chosen, but `num_opts` not defined. Setting `num_opts=21`\n",
      "\u001b[0m\u001b[1;33m[WARNING] Categorical surface chosen, but `num_opts` not defined. Setting `num_opts=21`\n",
      "\u001b[0m"
     ]
    },
    {
     "name": "stdout",
     "output_type": "stream",
     "text": [
      "bin_pops : [40, 35, 30, 15]\n",
      "bin_pops : [40, 35, 30, 15]\n"
     ]
    },
    {
     "name": "stderr",
     "output_type": "stream",
     "text": [
      "\u001b[1;33m[WARNING] Categorical surface chosen, but `num_opts` not defined. Setting `num_opts=21`\n",
      "\u001b[0m\u001b[1;33m[WARNING] Categorical surface chosen, but `num_opts` not defined. Setting `num_opts=21`\n",
      "\u001b[0m"
     ]
    },
    {
     "name": "stdout",
     "output_type": "stream",
     "text": [
      "bin_pops : [40, 35, 30, 15]\n",
      "bin_pops : [40, 35, 31, 15]\n"
     ]
    },
    {
     "name": "stderr",
     "output_type": "stream",
     "text": [
      "\u001b[1;33m[WARNING] Categorical surface chosen, but `num_opts` not defined. Setting `num_opts=21`\n",
      "\u001b[0m\u001b[1;33m[WARNING] Categorical surface chosen, but `num_opts` not defined. Setting `num_opts=21`\n",
      "\u001b[0m"
     ]
    },
    {
     "name": "stdout",
     "output_type": "stream",
     "text": [
      "bin_pops : [40, 35, 31, 15]\n"
     ]
    },
    {
     "name": "stderr",
     "output_type": "stream",
     "text": [
      "\u001b[1;33m[WARNING] Categorical surface chosen, but `num_opts` not defined. Setting `num_opts=21`\n",
      "\u001b[0m"
     ]
    },
    {
     "name": "stdout",
     "output_type": "stream",
     "text": [
      "bin_pops : [40, 35, 31, 15]\n",
      "bin_pops : [40, 35, 31, 15]\n"
     ]
    },
    {
     "name": "stderr",
     "output_type": "stream",
     "text": [
      "\u001b[1;33m[WARNING] Categorical surface chosen, but `num_opts` not defined. Setting `num_opts=21`\n",
      "\u001b[0m\u001b[1;33m[WARNING] Categorical surface chosen, but `num_opts` not defined. Setting `num_opts=21`\n",
      "\u001b[0m"
     ]
    },
    {
     "name": "stdout",
     "output_type": "stream",
     "text": [
      "bin_pops : [40, 36, 31, 15]\n",
      "bin_pops : [40, 36, 31, 15]\n"
     ]
    },
    {
     "name": "stderr",
     "output_type": "stream",
     "text": [
      "\u001b[1;33m[WARNING] Categorical surface chosen, but `num_opts` not defined. Setting `num_opts=21`\n",
      "\u001b[0m\u001b[1;33m[WARNING] Categorical surface chosen, but `num_opts` not defined. Setting `num_opts=21`\n",
      "\u001b[0m"
     ]
    },
    {
     "name": "stdout",
     "output_type": "stream",
     "text": [
      "bin_pops : [40, 36, 31, 15]\n"
     ]
    },
    {
     "name": "stderr",
     "output_type": "stream",
     "text": [
      "\u001b[1;33m[WARNING] Categorical surface chosen, but `num_opts` not defined. Setting `num_opts=21`\n",
      "\u001b[0m"
     ]
    },
    {
     "name": "stdout",
     "output_type": "stream",
     "text": [
      "bin_pops : [40, 36, 31, 15]\n"
     ]
    },
    {
     "name": "stderr",
     "output_type": "stream",
     "text": [
      "\u001b[1;33m[WARNING] Categorical surface chosen, but `num_opts` not defined. Setting `num_opts=21`\n",
      "\u001b[0m"
     ]
    },
    {
     "name": "stdout",
     "output_type": "stream",
     "text": [
      "bin_pops : [40, 36, 31, 15]\n"
     ]
    },
    {
     "name": "stderr",
     "output_type": "stream",
     "text": [
      "\u001b[1;33m[WARNING] Categorical surface chosen, but `num_opts` not defined. Setting `num_opts=21`\n",
      "\u001b[0m"
     ]
    },
    {
     "name": "stdout",
     "output_type": "stream",
     "text": [
      "bin_pops : [40, 36, 31, 15]\n",
      "bin_pops : [40, 37, 31, 15]\n"
     ]
    },
    {
     "name": "stderr",
     "output_type": "stream",
     "text": [
      "\u001b[1;33m[WARNING] Categorical surface chosen, but `num_opts` not defined. Setting `num_opts=21`\n",
      "\u001b[0m\u001b[1;33m[WARNING] Categorical surface chosen, but `num_opts` not defined. Setting `num_opts=21`\n",
      "\u001b[0m"
     ]
    },
    {
     "name": "stdout",
     "output_type": "stream",
     "text": [
      "bin_pops : [40, 38, 31, 15]\n",
      "bin_pops : [40, 38, 32, 15]\n"
     ]
    },
    {
     "name": "stderr",
     "output_type": "stream",
     "text": [
      "\u001b[1;33m[WARNING] Categorical surface chosen, but `num_opts` not defined. Setting `num_opts=21`\n",
      "\u001b[0m\u001b[1;33m[WARNING] Categorical surface chosen, but `num_opts` not defined. Setting `num_opts=21`\n",
      "\u001b[0m"
     ]
    },
    {
     "name": "stdout",
     "output_type": "stream",
     "text": [
      "bin_pops : [40, 39, 32, 15]\n",
      "bin_pops : [40, 40, 32, 15]\n",
      "bin_pops : [40, 40, 33, 15]\n"
     ]
    },
    {
     "name": "stderr",
     "output_type": "stream",
     "text": [
      "\u001b[1;33m[WARNING] Categorical surface chosen, but `num_opts` not defined. Setting `num_opts=21`\n",
      "\u001b[0m\u001b[1;33m[WARNING] Categorical surface chosen, but `num_opts` not defined. Setting `num_opts=21`\n",
      "\u001b[0m\u001b[1;33m[WARNING] Categorical surface chosen, but `num_opts` not defined. Setting `num_opts=21`\n",
      "\u001b[0m"
     ]
    },
    {
     "name": "stdout",
     "output_type": "stream",
     "text": [
      "bin_pops : [40, 40, 33, 15]\n",
      "bin_pops : [40, 40, 33, 16]\n"
     ]
    },
    {
     "name": "stderr",
     "output_type": "stream",
     "text": [
      "\u001b[1;33m[WARNING] Categorical surface chosen, but `num_opts` not defined. Setting `num_opts=21`\n",
      "\u001b[0m\u001b[1;33m[WARNING] Categorical surface chosen, but `num_opts` not defined. Setting `num_opts=21`\n",
      "\u001b[0m"
     ]
    },
    {
     "name": "stdout",
     "output_type": "stream",
     "text": [
      "bin_pops : [40, 40, 33, 16]\n",
      "bin_pops : [40, 40, 34, 16]\n"
     ]
    },
    {
     "name": "stderr",
     "output_type": "stream",
     "text": [
      "\u001b[1;33m[WARNING] Categorical surface chosen, but `num_opts` not defined. Setting `num_opts=21`\n",
      "\u001b[0m\u001b[1;33m[WARNING] Categorical surface chosen, but `num_opts` not defined. Setting `num_opts=21`\n",
      "\u001b[0m"
     ]
    },
    {
     "name": "stdout",
     "output_type": "stream",
     "text": [
      "bin_pops : [40, 40, 34, 16]\n",
      "bin_pops : [40, 40, 34, 16]\n"
     ]
    },
    {
     "name": "stderr",
     "output_type": "stream",
     "text": [
      "\u001b[1;33m[WARNING] Categorical surface chosen, but `num_opts` not defined. Setting `num_opts=21`\n",
      "\u001b[0m\u001b[1;33m[WARNING] Categorical surface chosen, but `num_opts` not defined. Setting `num_opts=21`\n",
      "\u001b[0m"
     ]
    },
    {
     "name": "stdout",
     "output_type": "stream",
     "text": [
      "bin_pops : [40, 40, 34, 17]\n"
     ]
    },
    {
     "name": "stderr",
     "output_type": "stream",
     "text": [
      "\u001b[1;33m[WARNING] Categorical surface chosen, but `num_opts` not defined. Setting `num_opts=21`\n",
      "\u001b[0m"
     ]
    },
    {
     "name": "stdout",
     "output_type": "stream",
     "text": [
      "bin_pops : [40, 40, 34, 17]\n",
      "bin_pops : [40, 40, 35, 17]\n"
     ]
    },
    {
     "name": "stderr",
     "output_type": "stream",
     "text": [
      "\u001b[1;33m[WARNING] Categorical surface chosen, but `num_opts` not defined. Setting `num_opts=21`\n",
      "\u001b[0m\u001b[1;33m[WARNING] Categorical surface chosen, but `num_opts` not defined. Setting `num_opts=21`\n",
      "\u001b[0m"
     ]
    },
    {
     "name": "stdout",
     "output_type": "stream",
     "text": [
      "bin_pops : [40, 40, 35, 17]\n"
     ]
    },
    {
     "name": "stderr",
     "output_type": "stream",
     "text": [
      "\u001b[1;33m[WARNING] Categorical surface chosen, but `num_opts` not defined. Setting `num_opts=21`\n",
      "\u001b[0m"
     ]
    },
    {
     "name": "stdout",
     "output_type": "stream",
     "text": [
      "bin_pops : [40, 40, 35, 17]\n",
      "bin_pops : [40, 40, 35, 18]\n",
      "bin_pops : [40, 40, 35, 18]\n"
     ]
    },
    {
     "name": "stderr",
     "output_type": "stream",
     "text": [
      "\u001b[1;33m[WARNING] Categorical surface chosen, but `num_opts` not defined. Setting `num_opts=21`\n",
      "\u001b[0m\u001b[1;33m[WARNING] Categorical surface chosen, but `num_opts` not defined. Setting `num_opts=21`\n",
      "\u001b[0m\u001b[1;33m[WARNING] Categorical surface chosen, but `num_opts` not defined. Setting `num_opts=21`\n",
      "\u001b[0m"
     ]
    },
    {
     "name": "stdout",
     "output_type": "stream",
     "text": [
      "bin_pops : [40, 40, 35, 18]\n",
      "bin_pops : [40, 40, 35, 18]\n"
     ]
    },
    {
     "name": "stderr",
     "output_type": "stream",
     "text": [
      "\u001b[1;33m[WARNING] Categorical surface chosen, but `num_opts` not defined. Setting `num_opts=21`\n",
      "\u001b[0m\u001b[1;33m[WARNING] Categorical surface chosen, but `num_opts` not defined. Setting `num_opts=21`\n",
      "\u001b[0m"
     ]
    },
    {
     "name": "stdout",
     "output_type": "stream",
     "text": [
      "bin_pops : [40, 40, 35, 18]\n",
      "bin_pops : [40, 40, 35, 18]\n"
     ]
    },
    {
     "name": "stderr",
     "output_type": "stream",
     "text": [
      "\u001b[1;33m[WARNING] Categorical surface chosen, but `num_opts` not defined. Setting `num_opts=21`\n",
      "\u001b[0m\u001b[1;33m[WARNING] Categorical surface chosen, but `num_opts` not defined. Setting `num_opts=21`\n",
      "\u001b[0m"
     ]
    },
    {
     "name": "stdout",
     "output_type": "stream",
     "text": [
      "bin_pops : [40, 40, 35, 18]\n",
      "bin_pops : [40, 40, 35, 19]\n",
      "bin_pops : [40, 40, 35, 19]\n",
      "bin_pops : [40, 40, 35, 19]\n"
     ]
    },
    {
     "name": "stderr",
     "output_type": "stream",
     "text": [
      "\u001b[1;33m[WARNING] Categorical surface chosen, but `num_opts` not defined. Setting `num_opts=21`\n",
      "\u001b[0m\u001b[1;33m[WARNING] Categorical surface chosen, but `num_opts` not defined. Setting `num_opts=21`\n",
      "\u001b[0m\u001b[1;33m[WARNING] Categorical surface chosen, but `num_opts` not defined. Setting `num_opts=21`\n",
      "\u001b[0m\u001b[1;33m[WARNING] Categorical surface chosen, but `num_opts` not defined. Setting `num_opts=21`\n",
      "\u001b[0m"
     ]
    },
    {
     "name": "stdout",
     "output_type": "stream",
     "text": [
      "bin_pops : [40, 40, 35, 20]\n"
     ]
    },
    {
     "name": "stderr",
     "output_type": "stream",
     "text": [
      "\u001b[1;33m[WARNING] Categorical surface chosen, but `num_opts` not defined. Setting `num_opts=21`\n",
      "\u001b[0m"
     ]
    },
    {
     "name": "stdout",
     "output_type": "stream",
     "text": [
      "bin_pops : [40, 40, 35, 20]\n",
      "bin_pops : [40, 40, 35, 21]\n"
     ]
    },
    {
     "name": "stderr",
     "output_type": "stream",
     "text": [
      "\u001b[1;33m[WARNING] Categorical surface chosen, but `num_opts` not defined. Setting `num_opts=21`\n",
      "\u001b[0m\u001b[1;33m[WARNING] Categorical surface chosen, but `num_opts` not defined. Setting `num_opts=21`\n",
      "\u001b[0m"
     ]
    },
    {
     "name": "stdout",
     "output_type": "stream",
     "text": [
      "bin_pops : [40, 40, 35, 21]\n"
     ]
    },
    {
     "name": "stderr",
     "output_type": "stream",
     "text": [
      "\u001b[1;33m[WARNING] Categorical surface chosen, but `num_opts` not defined. Setting `num_opts=21`\n",
      "\u001b[0m"
     ]
    },
    {
     "name": "stdout",
     "output_type": "stream",
     "text": [
      "bin_pops : [40, 40, 35, 21]\n",
      "bin_pops : [40, 40, 35, 21]\n"
     ]
    },
    {
     "name": "stderr",
     "output_type": "stream",
     "text": [
      "\u001b[1;33m[WARNING] Categorical surface chosen, but `num_opts` not defined. Setting `num_opts=21`\n",
      "\u001b[0m\u001b[1;33m[WARNING] Categorical surface chosen, but `num_opts` not defined. Setting `num_opts=21`\n",
      "\u001b[0m"
     ]
    },
    {
     "name": "stdout",
     "output_type": "stream",
     "text": [
      "bin_pops : [40, 40, 36, 21]\n",
      "bin_pops : [40, 40, 36, 21]\n",
      "bin_pops : [40, 40, 36, 22]\n"
     ]
    },
    {
     "name": "stderr",
     "output_type": "stream",
     "text": [
      "\u001b[1;33m[WARNING] Categorical surface chosen, but `num_opts` not defined. Setting `num_opts=21`\n",
      "\u001b[0m\u001b[1;33m[WARNING] Categorical surface chosen, but `num_opts` not defined. Setting `num_opts=21`\n",
      "\u001b[0m\u001b[1;33m[WARNING] Categorical surface chosen, but `num_opts` not defined. Setting `num_opts=21`\n",
      "\u001b[0m"
     ]
    },
    {
     "name": "stdout",
     "output_type": "stream",
     "text": [
      "bin_pops : [40, 40, 36, 22]\n",
      "bin_pops : [40, 40, 37, 22]\n"
     ]
    },
    {
     "name": "stderr",
     "output_type": "stream",
     "text": [
      "\u001b[1;33m[WARNING] Categorical surface chosen, but `num_opts` not defined. Setting `num_opts=21`\n",
      "\u001b[0m\u001b[1;33m[WARNING] Categorical surface chosen, but `num_opts` not defined. Setting `num_opts=21`\n",
      "\u001b[0m"
     ]
    },
    {
     "name": "stdout",
     "output_type": "stream",
     "text": [
      "bin_pops : [40, 40, 37, 22]\n"
     ]
    },
    {
     "name": "stderr",
     "output_type": "stream",
     "text": [
      "\u001b[1;33m[WARNING] Categorical surface chosen, but `num_opts` not defined. Setting `num_opts=21`\n",
      "\u001b[0m"
     ]
    },
    {
     "name": "stdout",
     "output_type": "stream",
     "text": [
      "bin_pops : [40, 40, 37, 22]\n",
      "bin_pops : [40, 40, 38, 22]\n",
      "bin_pops : [40, 40, 38, 23]\n"
     ]
    },
    {
     "name": "stderr",
     "output_type": "stream",
     "text": [
      "\u001b[1;33m[WARNING] Categorical surface chosen, but `num_opts` not defined. Setting `num_opts=21`\n",
      "\u001b[0m\u001b[1;33m[WARNING] Categorical surface chosen, but `num_opts` not defined. Setting `num_opts=21`\n",
      "\u001b[0m\u001b[1;33m[WARNING] Categorical surface chosen, but `num_opts` not defined. Setting `num_opts=21`\n",
      "\u001b[0m"
     ]
    },
    {
     "name": "stdout",
     "output_type": "stream",
     "text": [
      "bin_pops : [40, 40, 38, 23]\n",
      "bin_pops : [40, 40, 38, 23]\n",
      "bin_pops : [40, 40, 38, 24]\n"
     ]
    },
    {
     "name": "stderr",
     "output_type": "stream",
     "text": [
      "\u001b[1;33m[WARNING] Categorical surface chosen, but `num_opts` not defined. Setting `num_opts=21`\n",
      "\u001b[0m\u001b[1;33m[WARNING] Categorical surface chosen, but `num_opts` not defined. Setting `num_opts=21`\n",
      "\u001b[0m\u001b[1;33m[WARNING] Categorical surface chosen, but `num_opts` not defined. Setting `num_opts=21`\n",
      "\u001b[0m"
     ]
    },
    {
     "name": "stdout",
     "output_type": "stream",
     "text": [
      "bin_pops : [40, 40, 38, 24]\n",
      "bin_pops : [40, 40, 38, 24]\n"
     ]
    },
    {
     "name": "stderr",
     "output_type": "stream",
     "text": [
      "\u001b[1;33m[WARNING] Categorical surface chosen, but `num_opts` not defined. Setting `num_opts=21`\n",
      "\u001b[0m\u001b[1;33m[WARNING] Categorical surface chosen, but `num_opts` not defined. Setting `num_opts=21`\n",
      "\u001b[0m"
     ]
    },
    {
     "name": "stdout",
     "output_type": "stream",
     "text": [
      "bin_pops : [40, 40, 38, 24]\n",
      "bin_pops : [40, 40, 39, 24]\n"
     ]
    },
    {
     "name": "stderr",
     "output_type": "stream",
     "text": [
      "\u001b[1;33m[WARNING] Categorical surface chosen, but `num_opts` not defined. Setting `num_opts=21`\n",
      "\u001b[0m\u001b[1;33m[WARNING] Categorical surface chosen, but `num_opts` not defined. Setting `num_opts=21`\n",
      "\u001b[0m"
     ]
    },
    {
     "name": "stdout",
     "output_type": "stream",
     "text": [
      "bin_pops : [40, 40, 39, 24]\n",
      "bin_pops : [40, 40, 40, 24]\n"
     ]
    },
    {
     "name": "stderr",
     "output_type": "stream",
     "text": [
      "\u001b[1;33m[WARNING] Categorical surface chosen, but `num_opts` not defined. Setting `num_opts=21`\n",
      "\u001b[0m\u001b[1;33m[WARNING] Categorical surface chosen, but `num_opts` not defined. Setting `num_opts=21`\n",
      "\u001b[0m"
     ]
    },
    {
     "name": "stdout",
     "output_type": "stream",
     "text": [
      "bin_pops : [40, 40, 40, 24]\n",
      "bin_pops : [40, 40, 40, 24]\n"
     ]
    },
    {
     "name": "stderr",
     "output_type": "stream",
     "text": [
      "\u001b[1;33m[WARNING] Categorical surface chosen, but `num_opts` not defined. Setting `num_opts=21`\n",
      "\u001b[0m\u001b[1;33m[WARNING] Categorical surface chosen, but `num_opts` not defined. Setting `num_opts=21`\n",
      "\u001b[0m"
     ]
    },
    {
     "name": "stdout",
     "output_type": "stream",
     "text": [
      "bin_pops : [40, 40, 40, 25]\n",
      "bin_pops : [40, 40, 40, 25]\n",
      "bin_pops : [40, 40, 40, 26]\n"
     ]
    },
    {
     "name": "stderr",
     "output_type": "stream",
     "text": [
      "\u001b[1;33m[WARNING] Categorical surface chosen, but `num_opts` not defined. Setting `num_opts=21`\n",
      "\u001b[0m\u001b[1;33m[WARNING] Categorical surface chosen, but `num_opts` not defined. Setting `num_opts=21`\n",
      "\u001b[0m\u001b[1;33m[WARNING] Categorical surface chosen, but `num_opts` not defined. Setting `num_opts=21`\n",
      "\u001b[0m"
     ]
    },
    {
     "name": "stdout",
     "output_type": "stream",
     "text": [
      "bin_pops : [40, 40, 40, 26]\n",
      "bin_pops : [40, 40, 40, 27]\n"
     ]
    },
    {
     "name": "stderr",
     "output_type": "stream",
     "text": [
      "\u001b[1;33m[WARNING] Categorical surface chosen, but `num_opts` not defined. Setting `num_opts=21`\n",
      "\u001b[0m\u001b[1;33m[WARNING] Categorical surface chosen, but `num_opts` not defined. Setting `num_opts=21`\n",
      "\u001b[0m"
     ]
    },
    {
     "name": "stdout",
     "output_type": "stream",
     "text": [
      "bin_pops : [40, 40, 40, 27]\n",
      "bin_pops : [40, 40, 40, 27]\n"
     ]
    },
    {
     "name": "stderr",
     "output_type": "stream",
     "text": [
      "\u001b[1;33m[WARNING] Categorical surface chosen, but `num_opts` not defined. Setting `num_opts=21`\n",
      "\u001b[0m\u001b[1;33m[WARNING] Categorical surface chosen, but `num_opts` not defined. Setting `num_opts=21`\n",
      "\u001b[0m"
     ]
    },
    {
     "name": "stdout",
     "output_type": "stream",
     "text": [
      "bin_pops : [40, 40, 40, 27]\n",
      "bin_pops : [40, 40, 40, 27]\n",
      "bin_pops : [40, 40, 40, 28]\n"
     ]
    },
    {
     "name": "stderr",
     "output_type": "stream",
     "text": [
      "\u001b[1;33m[WARNING] Categorical surface chosen, but `num_opts` not defined. Setting `num_opts=21`\n",
      "\u001b[0m\u001b[1;33m[WARNING] Categorical surface chosen, but `num_opts` not defined. Setting `num_opts=21`\n",
      "\u001b[0m\u001b[1;33m[WARNING] Categorical surface chosen, but `num_opts` not defined. Setting `num_opts=21`\n",
      "\u001b[0m"
     ]
    },
    {
     "name": "stdout",
     "output_type": "stream",
     "text": [
      "bin_pops : [40, 40, 40, 28]\n",
      "bin_pops : [40, 40, 40, 28]\n",
      "bin_pops : [40, 40, 40, 28]\n"
     ]
    },
    {
     "name": "stderr",
     "output_type": "stream",
     "text": [
      "\u001b[1;33m[WARNING] Categorical surface chosen, but `num_opts` not defined. Setting `num_opts=21`\n",
      "\u001b[0m\u001b[1;33m[WARNING] Categorical surface chosen, but `num_opts` not defined. Setting `num_opts=21`\n",
      "\u001b[0m\u001b[1;33m[WARNING] Categorical surface chosen, but `num_opts` not defined. Setting `num_opts=21`\n",
      "\u001b[0m"
     ]
    },
    {
     "name": "stdout",
     "output_type": "stream",
     "text": [
      "bin_pops : [40, 40, 40, 28]\n",
      "bin_pops : [40, 40, 40, 28]\n"
     ]
    },
    {
     "name": "stderr",
     "output_type": "stream",
     "text": [
      "\u001b[1;33m[WARNING] Categorical surface chosen, but `num_opts` not defined. Setting `num_opts=21`\n",
      "\u001b[0m\u001b[1;33m[WARNING] Categorical surface chosen, but `num_opts` not defined. Setting `num_opts=21`\n",
      "\u001b[0m"
     ]
    },
    {
     "name": "stdout",
     "output_type": "stream",
     "text": [
      "bin_pops : [40, 40, 40, 28]\n",
      "bin_pops : [40, 40, 40, 28]\n"
     ]
    },
    {
     "name": "stderr",
     "output_type": "stream",
     "text": [
      "\u001b[1;33m[WARNING] Categorical surface chosen, but `num_opts` not defined. Setting `num_opts=21`\n",
      "\u001b[0m\u001b[1;33m[WARNING] Categorical surface chosen, but `num_opts` not defined. Setting `num_opts=21`\n",
      "\u001b[0m"
     ]
    },
    {
     "name": "stdout",
     "output_type": "stream",
     "text": [
      "bin_pops : [40, 40, 40, 28]\n",
      "bin_pops : [40, 40, 40, 29]\n"
     ]
    },
    {
     "name": "stderr",
     "output_type": "stream",
     "text": [
      "\u001b[1;33m[WARNING] Categorical surface chosen, but `num_opts` not defined. Setting `num_opts=21`\n",
      "\u001b[0m\u001b[1;33m[WARNING] Categorical surface chosen, but `num_opts` not defined. Setting `num_opts=21`\n",
      "\u001b[0m"
     ]
    },
    {
     "name": "stdout",
     "output_type": "stream",
     "text": [
      "bin_pops : [40, 40, 40, 29]\n"
     ]
    },
    {
     "name": "stderr",
     "output_type": "stream",
     "text": [
      "\u001b[1;33m[WARNING] Categorical surface chosen, but `num_opts` not defined. Setting `num_opts=21`\n",
      "\u001b[0m"
     ]
    },
    {
     "name": "stdout",
     "output_type": "stream",
     "text": [
      "bin_pops : [40, 40, 40, 29]\n",
      "bin_pops : [40, 40, 40, 29]\n"
     ]
    },
    {
     "name": "stderr",
     "output_type": "stream",
     "text": [
      "\u001b[1;33m[WARNING] Categorical surface chosen, but `num_opts` not defined. Setting `num_opts=21`\n",
      "\u001b[0m\u001b[1;33m[WARNING] Categorical surface chosen, but `num_opts` not defined. Setting `num_opts=21`\n",
      "\u001b[0m"
     ]
    },
    {
     "name": "stdout",
     "output_type": "stream",
     "text": [
      "bin_pops : [40, 40, 40, 29]\n",
      "bin_pops : [40, 40, 40, 30]\n"
     ]
    },
    {
     "name": "stderr",
     "output_type": "stream",
     "text": [
      "\u001b[1;33m[WARNING] Categorical surface chosen, but `num_opts` not defined. Setting `num_opts=21`\n",
      "\u001b[0m\u001b[1;33m[WARNING] Categorical surface chosen, but `num_opts` not defined. Setting `num_opts=21`\n",
      "\u001b[0m"
     ]
    },
    {
     "name": "stdout",
     "output_type": "stream",
     "text": [
      "bin_pops : [40, 40, 40, 30]\n",
      "bin_pops : [40, 40, 40, 30]\n"
     ]
    },
    {
     "name": "stderr",
     "output_type": "stream",
     "text": [
      "\u001b[1;33m[WARNING] Categorical surface chosen, but `num_opts` not defined. Setting `num_opts=21`\n",
      "\u001b[0m\u001b[1;33m[WARNING] Categorical surface chosen, but `num_opts` not defined. Setting `num_opts=21`\n",
      "\u001b[0m"
     ]
    },
    {
     "name": "stdout",
     "output_type": "stream",
     "text": [
      "bin_pops : [40, 40, 40, 30]\n",
      "bin_pops : [40, 40, 40, 30]\n"
     ]
    },
    {
     "name": "stderr",
     "output_type": "stream",
     "text": [
      "\u001b[1;33m[WARNING] Categorical surface chosen, but `num_opts` not defined. Setting `num_opts=21`\n",
      "\u001b[0m\u001b[1;33m[WARNING] Categorical surface chosen, but `num_opts` not defined. Setting `num_opts=21`\n",
      "\u001b[0m"
     ]
    },
    {
     "name": "stdout",
     "output_type": "stream",
     "text": [
      "bin_pops : [40, 40, 40, 30]\n"
     ]
    },
    {
     "name": "stderr",
     "output_type": "stream",
     "text": [
      "\u001b[1;33m[WARNING] Categorical surface chosen, but `num_opts` not defined. Setting `num_opts=21`\n",
      "\u001b[0m"
     ]
    },
    {
     "name": "stdout",
     "output_type": "stream",
     "text": [
      "bin_pops : [40, 40, 40, 30]\n",
      "bin_pops : [40, 40, 40, 30]\n"
     ]
    },
    {
     "name": "stderr",
     "output_type": "stream",
     "text": [
      "\u001b[1;33m[WARNING] Categorical surface chosen, but `num_opts` not defined. Setting `num_opts=21`\n",
      "\u001b[0m\u001b[1;33m[WARNING] Categorical surface chosen, but `num_opts` not defined. Setting `num_opts=21`\n",
      "\u001b[0m"
     ]
    },
    {
     "name": "stdout",
     "output_type": "stream",
     "text": [
      "bin_pops : [40, 40, 40, 30]\n",
      "bin_pops : [40, 40, 40, 30]\n"
     ]
    },
    {
     "name": "stderr",
     "output_type": "stream",
     "text": [
      "\u001b[1;33m[WARNING] Categorical surface chosen, but `num_opts` not defined. Setting `num_opts=21`\n",
      "\u001b[0m\u001b[1;33m[WARNING] Categorical surface chosen, but `num_opts` not defined. Setting `num_opts=21`\n",
      "\u001b[0m"
     ]
    },
    {
     "name": "stdout",
     "output_type": "stream",
     "text": [
      "bin_pops : [40, 40, 40, 30]\n",
      "bin_pops : [40, 40, 40, 31]\n"
     ]
    },
    {
     "name": "stderr",
     "output_type": "stream",
     "text": [
      "\u001b[1;33m[WARNING] Categorical surface chosen, but `num_opts` not defined. Setting `num_opts=21`\n",
      "\u001b[0m\u001b[1;33m[WARNING] Categorical surface chosen, but `num_opts` not defined. Setting `num_opts=21`\n",
      "\u001b[0m"
     ]
    },
    {
     "name": "stdout",
     "output_type": "stream",
     "text": [
      "bin_pops : [40, 40, 40, 31]\n"
     ]
    },
    {
     "name": "stderr",
     "output_type": "stream",
     "text": [
      "\u001b[1;33m[WARNING] Categorical surface chosen, but `num_opts` not defined. Setting `num_opts=21`\n",
      "\u001b[0m"
     ]
    },
    {
     "name": "stdout",
     "output_type": "stream",
     "text": [
      "bin_pops : [40, 40, 40, 31]\n",
      "bin_pops : [40, 40, 40, 32]\n"
     ]
    },
    {
     "name": "stderr",
     "output_type": "stream",
     "text": [
      "\u001b[1;33m[WARNING] Categorical surface chosen, but `num_opts` not defined. Setting `num_opts=21`\n",
      "\u001b[0m\u001b[1;33m[WARNING] Categorical surface chosen, but `num_opts` not defined. Setting `num_opts=21`\n",
      "\u001b[0m"
     ]
    },
    {
     "name": "stdout",
     "output_type": "stream",
     "text": [
      "bin_pops : [40, 40, 40, 32]\n",
      "bin_pops : [40, 40, 40, 32]\n"
     ]
    },
    {
     "name": "stderr",
     "output_type": "stream",
     "text": [
      "\u001b[1;33m[WARNING] Categorical surface chosen, but `num_opts` not defined. Setting `num_opts=21`\n",
      "\u001b[0m\u001b[1;33m[WARNING] Categorical surface chosen, but `num_opts` not defined. Setting `num_opts=21`\n",
      "\u001b[0m"
     ]
    },
    {
     "name": "stdout",
     "output_type": "stream",
     "text": [
      "bin_pops : [40, 40, 40, 32]\n"
     ]
    },
    {
     "name": "stderr",
     "output_type": "stream",
     "text": [
      "\u001b[1;33m[WARNING] Categorical surface chosen, but `num_opts` not defined. Setting `num_opts=21`\n",
      "\u001b[0m"
     ]
    },
    {
     "name": "stdout",
     "output_type": "stream",
     "text": [
      "bin_pops : [40, 40, 40, 32]\n",
      "bin_pops : [40, 40, 40, 32]\n",
      "bin_pops : [40, 40, 40, 32]\n"
     ]
    },
    {
     "name": "stderr",
     "output_type": "stream",
     "text": [
      "\u001b[1;33m[WARNING] Categorical surface chosen, but `num_opts` not defined. Setting `num_opts=21`\n",
      "\u001b[0m\u001b[1;33m[WARNING] Categorical surface chosen, but `num_opts` not defined. Setting `num_opts=21`\n",
      "\u001b[0m\u001b[1;33m[WARNING] Categorical surface chosen, but `num_opts` not defined. Setting `num_opts=21`\n",
      "\u001b[0m"
     ]
    },
    {
     "name": "stdout",
     "output_type": "stream",
     "text": [
      "bin_pops : [40, 40, 40, 32]\n",
      "bin_pops : [40, 40, 40, 32]\n"
     ]
    },
    {
     "name": "stderr",
     "output_type": "stream",
     "text": [
      "\u001b[1;33m[WARNING] Categorical surface chosen, but `num_opts` not defined. Setting `num_opts=21`\n",
      "\u001b[0m\u001b[1;33m[WARNING] Categorical surface chosen, but `num_opts` not defined. Setting `num_opts=21`\n",
      "\u001b[0m"
     ]
    },
    {
     "name": "stdout",
     "output_type": "stream",
     "text": [
      "bin_pops : [40, 40, 40, 32]\n"
     ]
    },
    {
     "name": "stderr",
     "output_type": "stream",
     "text": [
      "\u001b[1;33m[WARNING] Categorical surface chosen, but `num_opts` not defined. Setting `num_opts=21`\n",
      "\u001b[0m"
     ]
    },
    {
     "name": "stdout",
     "output_type": "stream",
     "text": [
      "bin_pops : [40, 40, 40, 32]\n",
      "bin_pops : [40, 40, 40, 33]\n"
     ]
    },
    {
     "name": "stderr",
     "output_type": "stream",
     "text": [
      "\u001b[1;33m[WARNING] Categorical surface chosen, but `num_opts` not defined. Setting `num_opts=21`\n",
      "\u001b[0m\u001b[1;33m[WARNING] Categorical surface chosen, but `num_opts` not defined. Setting `num_opts=21`\n",
      "\u001b[0m"
     ]
    },
    {
     "name": "stdout",
     "output_type": "stream",
     "text": [
      "bin_pops : [40, 40, 40, 33]\n",
      "bin_pops : [40, 40, 40, 34]\n",
      "bin_pops : [40, 40, 40, 34]\n"
     ]
    },
    {
     "name": "stderr",
     "output_type": "stream",
     "text": [
      "\u001b[1;33m[WARNING] Categorical surface chosen, but `num_opts` not defined. Setting `num_opts=21`\n",
      "\u001b[0m\u001b[1;33m[WARNING] Categorical surface chosen, but `num_opts` not defined. Setting `num_opts=21`\n",
      "\u001b[0m\u001b[1;33m[WARNING] Categorical surface chosen, but `num_opts` not defined. Setting `num_opts=21`\n",
      "\u001b[0m"
     ]
    },
    {
     "name": "stdout",
     "output_type": "stream",
     "text": [
      "bin_pops : [40, 40, 40, 34]\n"
     ]
    },
    {
     "name": "stderr",
     "output_type": "stream",
     "text": [
      "\u001b[1;33m[WARNING] Categorical surface chosen, but `num_opts` not defined. Setting `num_opts=21`\n",
      "\u001b[0m"
     ]
    },
    {
     "name": "stdout",
     "output_type": "stream",
     "text": [
      "bin_pops : [40, 40, 40, 34]\n",
      "bin_pops : [40, 40, 40, 35]\n",
      "bin_pops : [40, 40, 40, 35]\n"
     ]
    },
    {
     "name": "stderr",
     "output_type": "stream",
     "text": [
      "\u001b[1;33m[WARNING] Categorical surface chosen, but `num_opts` not defined. Setting `num_opts=21`\n",
      "\u001b[0m\u001b[1;33m[WARNING] Categorical surface chosen, but `num_opts` not defined. Setting `num_opts=21`\n",
      "\u001b[0m\u001b[1;33m[WARNING] Categorical surface chosen, but `num_opts` not defined. Setting `num_opts=21`\n",
      "\u001b[0m"
     ]
    },
    {
     "name": "stdout",
     "output_type": "stream",
     "text": [
      "bin_pops : [40, 40, 40, 35]\n"
     ]
    },
    {
     "name": "stderr",
     "output_type": "stream",
     "text": [
      "\u001b[1;33m[WARNING] Categorical surface chosen, but `num_opts` not defined. Setting `num_opts=21`\n",
      "\u001b[0m"
     ]
    },
    {
     "name": "stdout",
     "output_type": "stream",
     "text": [
      "bin_pops : [40, 40, 40, 35]\n",
      "bin_pops : [40, 40, 40, 35]\n",
      "bin_pops : [40, 40, 40, 35]\n"
     ]
    },
    {
     "name": "stderr",
     "output_type": "stream",
     "text": [
      "\u001b[1;33m[WARNING] Categorical surface chosen, but `num_opts` not defined. Setting `num_opts=21`\n",
      "\u001b[0m\u001b[1;33m[WARNING] Categorical surface chosen, but `num_opts` not defined. Setting `num_opts=21`\n",
      "\u001b[0m\u001b[1;33m[WARNING] Categorical surface chosen, but `num_opts` not defined. Setting `num_opts=21`\n",
      "\u001b[0m"
     ]
    },
    {
     "name": "stdout",
     "output_type": "stream",
     "text": [
      "bin_pops : [40, 40, 40, 35]\n",
      "bin_pops : [40, 40, 40, 35]\n",
      "bin_pops : [40, 40, 40, 35]\n"
     ]
    },
    {
     "name": "stderr",
     "output_type": "stream",
     "text": [
      "\u001b[1;33m[WARNING] Categorical surface chosen, but `num_opts` not defined. Setting `num_opts=21`\n",
      "\u001b[0m\u001b[1;33m[WARNING] Categorical surface chosen, but `num_opts` not defined. Setting `num_opts=21`\n",
      "\u001b[0m\u001b[1;33m[WARNING] Categorical surface chosen, but `num_opts` not defined. Setting `num_opts=21`\n",
      "\u001b[0m"
     ]
    },
    {
     "name": "stdout",
     "output_type": "stream",
     "text": [
      "bin_pops : [40, 40, 40, 35]\n"
     ]
    },
    {
     "name": "stderr",
     "output_type": "stream",
     "text": [
      "\u001b[1;33m[WARNING] Categorical surface chosen, but `num_opts` not defined. Setting `num_opts=21`\n",
      "\u001b[0m"
     ]
    },
    {
     "name": "stdout",
     "output_type": "stream",
     "text": [
      "bin_pops : [40, 40, 40, 35]\n"
     ]
    },
    {
     "name": "stderr",
     "output_type": "stream",
     "text": [
      "\u001b[1;33m[WARNING] Categorical surface chosen, but `num_opts` not defined. Setting `num_opts=21`\n",
      "\u001b[0m"
     ]
    },
    {
     "name": "stdout",
     "output_type": "stream",
     "text": [
      "bin_pops : [40, 40, 40, 35]\n",
      "bin_pops : [40, 40, 40, 35]\n"
     ]
    },
    {
     "name": "stderr",
     "output_type": "stream",
     "text": [
      "\u001b[1;33m[WARNING] Categorical surface chosen, but `num_opts` not defined. Setting `num_opts=21`\n",
      "\u001b[0m\u001b[1;33m[WARNING] Categorical surface chosen, but `num_opts` not defined. Setting `num_opts=21`\n",
      "\u001b[0m"
     ]
    },
    {
     "name": "stdout",
     "output_type": "stream",
     "text": [
      "bin_pops : [40, 40, 40, 35]\n",
      "bin_pops : [40, 40, 40, 35]\n"
     ]
    },
    {
     "name": "stderr",
     "output_type": "stream",
     "text": [
      "\u001b[1;33m[WARNING] Categorical surface chosen, but `num_opts` not defined. Setting `num_opts=21`\n",
      "\u001b[0m\u001b[1;33m[WARNING] Categorical surface chosen, but `num_opts` not defined. Setting `num_opts=21`\n",
      "\u001b[0m"
     ]
    },
    {
     "name": "stdout",
     "output_type": "stream",
     "text": [
      "bin_pops : [40, 40, 40, 35]\n",
      "bin_pops : [40, 40, 40, 35]\n",
      "bin_pops : [40, 40, 40, 35]\n"
     ]
    },
    {
     "name": "stderr",
     "output_type": "stream",
     "text": [
      "\u001b[1;33m[WARNING] Categorical surface chosen, but `num_opts` not defined. Setting `num_opts=21`\n",
      "\u001b[0m\u001b[1;33m[WARNING] Categorical surface chosen, but `num_opts` not defined. Setting `num_opts=21`\n",
      "\u001b[0m\u001b[1;33m[WARNING] Categorical surface chosen, but `num_opts` not defined. Setting `num_opts=21`\n",
      "\u001b[0m"
     ]
    },
    {
     "name": "stdout",
     "output_type": "stream",
     "text": [
      "bin_pops : [40, 40, 40, 35]\n",
      "bin_pops : [40, 40, 40, 35]\n",
      "bin_pops : [40, 40, 40, 35]\n"
     ]
    },
    {
     "name": "stderr",
     "output_type": "stream",
     "text": [
      "\u001b[1;33m[WARNING] Categorical surface chosen, but `num_opts` not defined. Setting `num_opts=21`\n",
      "\u001b[0m\u001b[1;33m[WARNING] Categorical surface chosen, but `num_opts` not defined. Setting `num_opts=21`\n",
      "\u001b[0m\u001b[1;33m[WARNING] Categorical surface chosen, but `num_opts` not defined. Setting `num_opts=21`\n",
      "\u001b[0m"
     ]
    },
    {
     "name": "stdout",
     "output_type": "stream",
     "text": [
      "bin_pops : [40, 40, 40, 35]\n",
      "bin_pops : [40, 40, 40, 35]\n",
      "bin_pops : [40, 40, 40, 36]\n"
     ]
    },
    {
     "name": "stderr",
     "output_type": "stream",
     "text": [
      "\u001b[1;33m[WARNING] Categorical surface chosen, but `num_opts` not defined. Setting `num_opts=21`\n",
      "\u001b[0m\u001b[1;33m[WARNING] Categorical surface chosen, but `num_opts` not defined. Setting `num_opts=21`\n",
      "\u001b[0m\u001b[1;33m[WARNING] Categorical surface chosen, but `num_opts` not defined. Setting `num_opts=21`\n",
      "\u001b[0m"
     ]
    },
    {
     "name": "stdout",
     "output_type": "stream",
     "text": [
      "bin_pops : [40, 40, 40, 36]\n",
      "bin_pops : [40, 40, 40, 36]\n"
     ]
    },
    {
     "name": "stderr",
     "output_type": "stream",
     "text": [
      "\u001b[1;33m[WARNING] Categorical surface chosen, but `num_opts` not defined. Setting `num_opts=21`\n",
      "\u001b[0m\u001b[1;33m[WARNING] Categorical surface chosen, but `num_opts` not defined. Setting `num_opts=21`\n",
      "\u001b[0m"
     ]
    },
    {
     "name": "stdout",
     "output_type": "stream",
     "text": [
      "bin_pops : [40, 40, 40, 36]\n"
     ]
    },
    {
     "name": "stderr",
     "output_type": "stream",
     "text": [
      "\u001b[1;33m[WARNING] Categorical surface chosen, but `num_opts` not defined. Setting `num_opts=21`\n",
      "\u001b[0m"
     ]
    },
    {
     "name": "stdout",
     "output_type": "stream",
     "text": [
      "bin_pops : [40, 40, 40, 36]\n",
      "bin_pops : [40, 40, 40, 36]\n",
      "bin_pops : [40, 40, 40, 36]\n"
     ]
    },
    {
     "name": "stderr",
     "output_type": "stream",
     "text": [
      "\u001b[1;33m[WARNING] Categorical surface chosen, but `num_opts` not defined. Setting `num_opts=21`\n",
      "\u001b[0m\u001b[1;33m[WARNING] Categorical surface chosen, but `num_opts` not defined. Setting `num_opts=21`\n",
      "\u001b[0m\u001b[1;33m[WARNING] Categorical surface chosen, but `num_opts` not defined. Setting `num_opts=21`\n",
      "\u001b[0m"
     ]
    },
    {
     "name": "stdout",
     "output_type": "stream",
     "text": [
      "bin_pops : [40, 40, 40, 36]\n"
     ]
    },
    {
     "name": "stderr",
     "output_type": "stream",
     "text": [
      "\u001b[1;33m[WARNING] Categorical surface chosen, but `num_opts` not defined. Setting `num_opts=21`\n",
      "\u001b[0m"
     ]
    },
    {
     "name": "stdout",
     "output_type": "stream",
     "text": [
      "bin_pops : [40, 40, 40, 36]\n",
      "bin_pops : [40, 40, 40, 36]\n"
     ]
    },
    {
     "name": "stderr",
     "output_type": "stream",
     "text": [
      "\u001b[1;33m[WARNING] Categorical surface chosen, but `num_opts` not defined. Setting `num_opts=21`\n",
      "\u001b[0m\u001b[1;33m[WARNING] Categorical surface chosen, but `num_opts` not defined. Setting `num_opts=21`\n",
      "\u001b[0m"
     ]
    },
    {
     "name": "stdout",
     "output_type": "stream",
     "text": [
      "bin_pops : [40, 40, 40, 36]\n"
     ]
    },
    {
     "name": "stderr",
     "output_type": "stream",
     "text": [
      "\u001b[1;33m[WARNING] Categorical surface chosen, but `num_opts` not defined. Setting `num_opts=21`\n",
      "\u001b[0m"
     ]
    },
    {
     "name": "stdout",
     "output_type": "stream",
     "text": [
      "bin_pops : [40, 40, 40, 36]\n",
      "bin_pops : [40, 40, 40, 36]\n"
     ]
    },
    {
     "name": "stderr",
     "output_type": "stream",
     "text": [
      "\u001b[1;33m[WARNING] Categorical surface chosen, but `num_opts` not defined. Setting `num_opts=21`\n",
      "\u001b[0m\u001b[1;33m[WARNING] Categorical surface chosen, but `num_opts` not defined. Setting `num_opts=21`\n",
      "\u001b[0m"
     ]
    },
    {
     "name": "stdout",
     "output_type": "stream",
     "text": [
      "bin_pops : [40, 40, 40, 36]\n"
     ]
    },
    {
     "name": "stderr",
     "output_type": "stream",
     "text": [
      "\u001b[1;33m[WARNING] Categorical surface chosen, but `num_opts` not defined. Setting `num_opts=21`\n",
      "\u001b[0m"
     ]
    },
    {
     "name": "stdout",
     "output_type": "stream",
     "text": [
      "bin_pops : [40, 40, 40, 36]\n",
      "bin_pops : [40, 40, 40, 36]\n",
      "bin_pops : [40, 40, 40, 37]\n",
      "bin_pops : [40, 40, 40, 37]\n"
     ]
    },
    {
     "name": "stderr",
     "output_type": "stream",
     "text": [
      "\u001b[1;33m[WARNING] Categorical surface chosen, but `num_opts` not defined. Setting `num_opts=21`\n",
      "\u001b[0m\u001b[1;33m[WARNING] Categorical surface chosen, but `num_opts` not defined. Setting `num_opts=21`\n",
      "\u001b[0m\u001b[1;33m[WARNING] Categorical surface chosen, but `num_opts` not defined. Setting `num_opts=21`\n",
      "\u001b[0m\u001b[1;33m[WARNING] Categorical surface chosen, but `num_opts` not defined. Setting `num_opts=21`\n",
      "\u001b[0m"
     ]
    },
    {
     "name": "stdout",
     "output_type": "stream",
     "text": [
      "bin_pops : [40, 40, 40, 37]\n",
      "bin_pops : [40, 40, 40, 37]\n"
     ]
    },
    {
     "name": "stderr",
     "output_type": "stream",
     "text": [
      "\u001b[1;33m[WARNING] Categorical surface chosen, but `num_opts` not defined. Setting `num_opts=21`\n",
      "\u001b[0m\u001b[1;33m[WARNING] Categorical surface chosen, but `num_opts` not defined. Setting `num_opts=21`\n",
      "\u001b[0m"
     ]
    },
    {
     "name": "stdout",
     "output_type": "stream",
     "text": [
      "bin_pops : [40, 40, 40, 37]\n",
      "bin_pops : [40, 40, 40, 37]\n"
     ]
    },
    {
     "name": "stderr",
     "output_type": "stream",
     "text": [
      "\u001b[1;33m[WARNING] Categorical surface chosen, but `num_opts` not defined. Setting `num_opts=21`\n",
      "\u001b[0m\u001b[1;33m[WARNING] Categorical surface chosen, but `num_opts` not defined. Setting `num_opts=21`\n",
      "\u001b[0m"
     ]
    },
    {
     "name": "stdout",
     "output_type": "stream",
     "text": [
      "bin_pops : [40, 40, 40, 37]\n",
      "bin_pops : [40, 40, 40, 37]\n",
      "bin_pops : [40, 40, 40, 37]\n"
     ]
    },
    {
     "name": "stderr",
     "output_type": "stream",
     "text": [
      "\u001b[1;33m[WARNING] Categorical surface chosen, but `num_opts` not defined. Setting `num_opts=21`\n",
      "\u001b[0m\u001b[1;33m[WARNING] Categorical surface chosen, but `num_opts` not defined. Setting `num_opts=21`\n",
      "\u001b[0m\u001b[1;33m[WARNING] Categorical surface chosen, but `num_opts` not defined. Setting `num_opts=21`\n",
      "\u001b[0m"
     ]
    },
    {
     "name": "stdout",
     "output_type": "stream",
     "text": [
      "bin_pops : [40, 40, 40, 37]\n"
     ]
    },
    {
     "name": "stderr",
     "output_type": "stream",
     "text": [
      "\u001b[1;33m[WARNING] Categorical surface chosen, but `num_opts` not defined. Setting `num_opts=21`\n",
      "\u001b[0m"
     ]
    },
    {
     "name": "stdout",
     "output_type": "stream",
     "text": [
      "bin_pops : [40, 40, 40, 37]\n",
      "bin_pops : [40, 40, 40, 37]\n"
     ]
    },
    {
     "name": "stderr",
     "output_type": "stream",
     "text": [
      "\u001b[1;33m[WARNING] Categorical surface chosen, but `num_opts` not defined. Setting `num_opts=21`\n",
      "\u001b[0m\u001b[1;33m[WARNING] Categorical surface chosen, but `num_opts` not defined. Setting `num_opts=21`\n",
      "\u001b[0m"
     ]
    },
    {
     "name": "stdout",
     "output_type": "stream",
     "text": [
      "bin_pops : [40, 40, 40, 37]\n",
      "bin_pops : [40, 40, 40, 37]\n"
     ]
    },
    {
     "name": "stderr",
     "output_type": "stream",
     "text": [
      "\u001b[1;33m[WARNING] Categorical surface chosen, but `num_opts` not defined. Setting `num_opts=21`\n",
      "\u001b[0m\u001b[1;33m[WARNING] Categorical surface chosen, but `num_opts` not defined. Setting `num_opts=21`\n",
      "\u001b[0m"
     ]
    },
    {
     "name": "stdout",
     "output_type": "stream",
     "text": [
      "bin_pops : [40, 40, 40, 37]\n",
      "bin_pops : [40, 40, 40, 37]\n",
      "bin_pops : [40, 40, 40, 37]\n"
     ]
    },
    {
     "name": "stderr",
     "output_type": "stream",
     "text": [
      "\u001b[1;33m[WARNING] Categorical surface chosen, but `num_opts` not defined. Setting `num_opts=21`\n",
      "\u001b[0m\u001b[1;33m[WARNING] Categorical surface chosen, but `num_opts` not defined. Setting `num_opts=21`\n",
      "\u001b[0m\u001b[1;33m[WARNING] Categorical surface chosen, but `num_opts` not defined. Setting `num_opts=21`\n",
      "\u001b[0m"
     ]
    },
    {
     "name": "stdout",
     "output_type": "stream",
     "text": [
      "bin_pops : [40, 40, 40, 38]\n"
     ]
    },
    {
     "name": "stderr",
     "output_type": "stream",
     "text": [
      "\u001b[1;33m[WARNING] Categorical surface chosen, but `num_opts` not defined. Setting `num_opts=21`\n",
      "\u001b[0m"
     ]
    },
    {
     "name": "stdout",
     "output_type": "stream",
     "text": [
      "bin_pops : [40, 40, 40, 38]\n",
      "bin_pops : [40, 40, 40, 38]\n"
     ]
    },
    {
     "name": "stderr",
     "output_type": "stream",
     "text": [
      "\u001b[1;33m[WARNING] Categorical surface chosen, but `num_opts` not defined. Setting `num_opts=21`\n",
      "\u001b[0m\u001b[1;33m[WARNING] Categorical surface chosen, but `num_opts` not defined. Setting `num_opts=21`\n",
      "\u001b[0m"
     ]
    },
    {
     "name": "stdout",
     "output_type": "stream",
     "text": [
      "bin_pops : [40, 40, 40, 38]\n"
     ]
    },
    {
     "name": "stderr",
     "output_type": "stream",
     "text": [
      "\u001b[1;33m[WARNING] Categorical surface chosen, but `num_opts` not defined. Setting `num_opts=21`\n",
      "\u001b[0m"
     ]
    },
    {
     "name": "stdout",
     "output_type": "stream",
     "text": [
      "bin_pops : [40, 40, 40, 38]\n",
      "bin_pops : [40, 40, 40, 38]\n"
     ]
    },
    {
     "name": "stderr",
     "output_type": "stream",
     "text": [
      "\u001b[1;33m[WARNING] Categorical surface chosen, but `num_opts` not defined. Setting `num_opts=21`\n",
      "\u001b[0m\u001b[1;33m[WARNING] Categorical surface chosen, but `num_opts` not defined. Setting `num_opts=21`\n",
      "\u001b[0m"
     ]
    },
    {
     "name": "stdout",
     "output_type": "stream",
     "text": [
      "bin_pops : [40, 40, 40, 38]\n"
     ]
    },
    {
     "name": "stderr",
     "output_type": "stream",
     "text": [
      "\u001b[1;33m[WARNING] Categorical surface chosen, but `num_opts` not defined. Setting `num_opts=21`\n",
      "\u001b[0m"
     ]
    },
    {
     "name": "stdout",
     "output_type": "stream",
     "text": [
      "bin_pops : [40, 40, 40, 38]\n",
      "bin_pops : [40, 40, 40, 39]\n",
      "bin_pops : [40, 40, 40, 39]\n"
     ]
    },
    {
     "name": "stderr",
     "output_type": "stream",
     "text": [
      "\u001b[1;33m[WARNING] Categorical surface chosen, but `num_opts` not defined. Setting `num_opts=21`\n",
      "\u001b[0m\u001b[1;33m[WARNING] Categorical surface chosen, but `num_opts` not defined. Setting `num_opts=21`\n",
      "\u001b[0m\u001b[1;33m[WARNING] Categorical surface chosen, but `num_opts` not defined. Setting `num_opts=21`\n",
      "\u001b[0m"
     ]
    },
    {
     "name": "stdout",
     "output_type": "stream",
     "text": [
      "bin_pops : [40, 40, 40, 39]\n",
      "bin_pops : [40, 40, 40, 40]\n"
     ]
    },
    {
     "name": "stderr",
     "output_type": "stream",
     "text": [
      "\u001b[1;33m[WARNING] Categorical surface chosen, but `num_opts` not defined. Setting `num_opts=21`\n",
      "\u001b[0m"
     ]
    }
   ],
   "source": [
    "# squares\n",
    "\n",
    "\n",
    "surfs_to_use = [\n",
    "        'CatDejong', 'CatCamel', 'CatMichalewicz', 'CatAckley',\n",
    "    ]\n",
    "\n",
    "bins = {'0.1-0.3': {\n",
    "            'objs': [], 'vals':[],\n",
    "            },\n",
    "        '0.3-0.5': {\n",
    "            'objs': [], 'vals':[],\n",
    "            },\n",
    "        '0.5-0.7': {\n",
    "            'objs': [], 'vals':[],\n",
    "            },\n",
    "        '0.7-0.9': {\n",
    "            'objs': [], 'vals':[],\n",
    "            },\n",
    "}\n",
    "\n",
    "num_per_bin = 40\n",
    "\n",
    "bin_pops = [0,0,0,0]\n",
    "seed_counter = 0\n",
    "while not bin_pops ==[num_per_bin for _ in range(len(bins.keys()))]:\n",
    "    \n",
    "    surf_kind = np.random.choice(surfs_to_use)\n",
    "    \n",
    "    c = AbstractCont(\n",
    "        surface_type=str(surf_kind),\n",
    "        n_dims=2,\n",
    "        constraint_type='squares',\n",
    "        num_constraints=np.random.randint(1,1000),\n",
    "        constraint_params=[],\n",
    "        seed=seed_counter,\n",
    "    )\n",
    "    feas_frac = c.estimate_feas_frac()\n",
    "    bin_ = sort_feas_frac(feas_frac)\n",
    "    if bin_:\n",
    "        if len(bins[bin_]['objs']) < num_per_bin:\n",
    "            # add the surface\n",
    "            bins[bin_]['objs'].append(c)\n",
    "            bins[bin_]['vals'].append(feas_frac)\n",
    "        else:\n",
    "            pass\n",
    "    else:\n",
    "        pass\n",
    "    \n",
    "    bin_pops = [len(bins[k]['objs']) for k in bins.keys()]\n",
    "    print('bin_pops :', bin_pops)\n",
    "    seed_counter+=1\n",
    "    \n"
   ]
  },
  {
   "cell_type": "code",
   "execution_count": 6,
   "id": "23340597",
   "metadata": {},
   "outputs": [],
   "source": [
    "# save the surfaces to disk\n",
    "pickle.dump(bins, open('feas_ablation/squares/surfaces.pkl', 'wb'))"
   ]
  },
  {
   "cell_type": "code",
   "execution_count": null,
   "id": "4dea17a8",
   "metadata": {},
   "outputs": [],
   "source": []
  },
  {
   "cell_type": "code",
   "execution_count": null,
   "id": "cac9a4ac",
   "metadata": {},
   "outputs": [],
   "source": []
  },
  {
   "cell_type": "code",
   "execution_count": null,
   "id": "d367c6bf",
   "metadata": {},
   "outputs": [],
   "source": []
  },
  {
   "cell_type": "code",
   "execution_count": null,
   "id": "de7f4c17",
   "metadata": {},
   "outputs": [],
   "source": [
    "c = AbstractCont(\n",
    "    surface_type='Dejong',\n",
    "    n_dims=2,\n",
    "    constraint_type='circles',\n",
    "    num_constraints=5,\n",
    "    constraint_params=[0.05, 0.15],\n",
    "    seed=100701,\n",
    ")"
   ]
  },
  {
   "cell_type": "code",
   "execution_count": null,
   "id": "3d361aad",
   "metadata": {},
   "outputs": [],
   "source": [
    "plot_constr_surface(c)"
   ]
  },
  {
   "cell_type": "code",
   "execution_count": null,
   "id": "be5fe392",
   "metadata": {},
   "outputs": [],
   "source": [
    "c.estimate_feas_frac()"
   ]
  },
  {
   "cell_type": "code",
   "execution_count": null,
   "id": "4aec7021",
   "metadata": {},
   "outputs": [],
   "source": [
    "c = AbstractCont(\n",
    "    surface_type='Schwefel',\n",
    "    n_dims=2,\n",
    "    constraint_type='rectangles',\n",
    "    num_constraints=10,\n",
    "    constraint_params=[0.05, 0.1],\n",
    "    seed=100704,\n",
    ")"
   ]
  },
  {
   "cell_type": "code",
   "execution_count": null,
   "id": "2fad189c",
   "metadata": {},
   "outputs": [],
   "source": [
    "plot_constr_surface(c)"
   ]
  },
  {
   "cell_type": "code",
   "execution_count": null,
   "id": "76e08132",
   "metadata": {},
   "outputs": [],
   "source": [
    "c.estimate_feas_frac()"
   ]
  },
  {
   "cell_type": "code",
   "execution_count": null,
   "id": "af3fe3d3",
   "metadata": {},
   "outputs": [],
   "source": [
    "surf = Surface(kind='CatDejong', num_opts=21)"
   ]
  },
  {
   "cell_type": "code",
   "execution_count": null,
   "id": "e2c9906e",
   "metadata": {},
   "outputs": [],
   "source": [
    "surf.num_opts"
   ]
  },
  {
   "cell_type": "code",
   "execution_count": null,
   "id": "3da75442",
   "metadata": {},
   "outputs": [],
   "source": [
    "c = AbstractCont(\n",
    "    surface_type='CatCamel',\n",
    "    n_dims=2,\n",
    "    constraint_type='squares',\n",
    "    num_constraints=20,\n",
    "    constraint_params=[0.05, 0.1],\n",
    "    seed=100704,\n",
    ")"
   ]
  },
  {
   "cell_type": "code",
   "execution_count": null,
   "id": "9a70e45f",
   "metadata": {},
   "outputs": [],
   "source": [
    "c.estimate_feas_frac()"
   ]
  },
  {
   "cell_type": "code",
   "execution_count": null,
   "id": "6da04ae6",
   "metadata": {},
   "outputs": [],
   "source": [
    "plot_constr_surface_cat(c)"
   ]
  },
  {
   "cell_type": "code",
   "execution_count": null,
   "id": "2da4abe0",
   "metadata": {},
   "outputs": [],
   "source": []
  },
  {
   "cell_type": "code",
   "execution_count": null,
   "id": "caae836f",
   "metadata": {},
   "outputs": [],
   "source": []
  }
 ],
 "metadata": {
  "kernelspec": {
   "display_name": "atlas",
   "language": "python",
   "name": "atlas"
  },
  "language_info": {
   "codemirror_mode": {
    "name": "ipython",
    "version": 3
   },
   "file_extension": ".py",
   "mimetype": "text/x-python",
   "name": "python",
   "nbconvert_exporter": "python",
   "pygments_lexer": "ipython3",
   "version": "3.10.8"
  }
 },
 "nbformat": 4,
 "nbformat_minor": 5
}
