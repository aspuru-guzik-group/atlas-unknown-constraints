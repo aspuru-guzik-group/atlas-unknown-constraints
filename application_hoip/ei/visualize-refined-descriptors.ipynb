{
 "cells": [
  {
   "cell_type": "code",
   "execution_count": 2,
   "id": "7b125c81",
   "metadata": {},
   "outputs": [],
   "source": [
    "import pickle\n",
    "import numpy as np\n",
    "import pandas as pd\n",
    "\n",
    "import matplotlib.pyplot as plt\n",
    "import seaborn as sns\n"
   ]
  },
  {
   "cell_type": "code",
   "execution_count": 31,
   "id": "005c65f2",
   "metadata": {},
   "outputs": [
    {
     "data": {
      "text/plain": [
       "{'feature_0': {'descriptor_0': {'relevant_given_descriptors': array([5, 1, 4, 3, 2, 0]),\n",
       "   'given_descriptor_contributions': array([0.08472837, 0.03175521, 0.04224796, 0.03479625, 0.0326322 ,\n",
       "          0.03145268], dtype=float32)}},\n",
       " 'feature_1': {'descriptor_3': {'relevant_given_descriptors': array([1, 3]),\n",
       "   'given_descriptor_contributions': array([-0.14306971, -0.1607275 , -0.00416019,  1.1910428 ], dtype=float32)}},\n",
       " 'feature_2': {'descriptor_2': {'relevant_given_descriptors': array([1, 3, 2]),\n",
       "   'given_descriptor_contributions': array([-0.14684632, -0.2010132 ,  0.8833375 ,  0.25011864], dtype=float32)}}}"
      ]
     },
     "execution_count": 31,
     "metadata": {},
     "output_type": "execute_result"
    }
   ],
   "source": [
    "# load in the descriptor summaries\n",
    "\n",
    "summary_reg = pickle.load(open('dynamic_gryffin-fca-0.2/summary_regression.pkl', 'rb'))\n",
    "summary_cla = pickle.load(open('dynamic_gryffin-fca-0.2/summary_classification.pkl', 'rb'))\n",
    "summary_reg[2]"
   ]
  },
  {
   "cell_type": "code",
   "execution_count": null,
   "id": "adade260",
   "metadata": {},
   "outputs": [],
   "source": [
    "molcats_cla = []\n",
    "metals_cla = []\n",
    "halogen_cla = []\n",
    "\n",
    "for summ in summary_cla:\n",
    "    molcats_cla.append(summ['feature_0'][''])"
   ]
  },
  {
   "cell_type": "code",
   "execution_count": null,
   "id": "b6c502c4",
   "metadata": {},
   "outputs": [],
   "source": []
  },
  {
   "cell_type": "code",
   "execution_count": null,
   "id": "ad4d6023",
   "metadata": {},
   "outputs": [],
   "source": []
  }
 ],
 "metadata": {
  "kernelspec": {
   "display_name": "feas2",
   "language": "python",
   "name": "feas2"
  },
  "language_info": {
   "codemirror_mode": {
    "name": "ipython",
    "version": 3
   },
   "file_extension": ".py",
   "mimetype": "text/x-python",
   "name": "python",
   "nbconvert_exporter": "python",
   "pygments_lexer": "ipython3",
   "version": "3.7.10"
  }
 },
 "nbformat": 4,
 "nbformat_minor": 5
}
