{
 "cells": [
  {
   "cell_type": "code",
   "execution_count": 111,
   "id": "411b193e",
   "metadata": {},
   "outputs": [],
   "source": [
    "import pickle\n",
    "import numpy as np\n",
    "import pandas as pd\n",
    "import sklearn\n",
    "import matplotlib.pyplot as plt\n",
    "import seaborn as sns\n",
    "\n",
    "from sklearn.metrics import accuracy_score, roc_auc_score\n",
    "from sklearn.metrics import r2_score, mean_absolute_error, mean_squared_error\n",
    "from sklearn.model_selection import train_test_split\n",
    "\n",
    "from sklearn.linear_model import LinearRegression, LogisticRegression\n",
    "from sklearn.ensemble import RandomForestRegressor, RandomForestClassifier\n"
   ]
  },
  {
   "cell_type": "code",
   "execution_count": 55,
   "id": "b8a3425c",
   "metadata": {},
   "outputs": [],
   "source": [
    "# helper functions\n",
    "def get_descriptors(component, desc):\n",
    "    ''' generate a list of descritpors for the particular component\n",
    "    '''\n",
    "    desc_vec = []\n",
    "    for key in desc.keys():\n",
    "        desc_vec.append(desc[key][component])\n",
    "    return list(np.array(desc_vec).astype(np.float64))\n",
    "\n",
    "\n",
    "def make_dataset(df_lookup, desc_halogens, desc_metals, desc_molcats):\n",
    "    ''' generates the entire dataset\n",
    "    '''\n",
    "    desc_halogen_names = ['-'.join(['halogen', key]) for key in desc_halogens.keys()]\n",
    "    desc_metal_names = ['-'.join(['metals', key]) for key in desc_metals.keys()]\n",
    "    desc_molcat_names = ['-'.join(['molcats', key]) for key in desc_molcats.keys()]\n",
    "    \n",
    "    # is_feas = 0 (1) if (in)feasible\n",
    "    all_data = {'molcat': [], 'metal': [], 'halogen': [], 'is_feas': [], 'bandgap_obj': [], 'm_star_obj': []}\n",
    "    for desc_name in desc_molcat_names+desc_metal_names+desc_halogen_names:\n",
    "        all_data[desc_name] = []\n",
    "        \n",
    "    molcats = ['H3S', 'NH4', 'MS', 'MA', 'MP', 'FA', 'EA', 'G', 'AA', 'ED', 'tBA']\n",
    "    metals = ['Be', 'Mg', 'Ca', 'Sr', 'Ba', 'Cr', 'Mn', 'Fe', 'Co', 'Ni', 'Pd', 'Pt', 'Cu', 'Ag',\n",
    "              'Au', 'Zn', 'Cd', 'Hg', 'Ga', 'In', 'Tl', 'Si', 'Ge', 'Sn', 'Pb', 'Bi', 'S', 'Se', 'Te']\n",
    "    halogens = ['F', 'Cl', 'Br', 'I']\n",
    "\n",
    "        \n",
    "    for molcat in molcats:\n",
    "        for metal in metals:\n",
    "            for halogen in halogens:\n",
    "                match = df_lookup.loc[(df_lookup['molcat'] == molcat) &\n",
    "                           (df_lookup['metal'] == metal) &\n",
    "                           (df_lookup['halogen'] == halogen)]\n",
    "                assert len(match) in [1, 0]\n",
    "                if len(match)==0:\n",
    "                    bandgap_obj = np.nan\n",
    "                    m_star_obj = np.nan\n",
    "                    all_data['is_feas'].append(1)\n",
    "                    \n",
    "                elif len(match) == 1:\n",
    "                    bandgap_obj = np.abs(match.loc[:, 'bandgap'].to_numpy()[0] - 1.25)\n",
    "                    m_star_obj = match.loc[:, 'm_star'].to_numpy()[0]\n",
    "                    all_data['is_feas'].append(0)\n",
    "                    \n",
    "                else:\n",
    "                    raise ValueError()\n",
    "            \n",
    "#                 row = row.to_dict()\n",
    "#                 molcat=row['molcat']\n",
    "#                 metal=row['metal']\n",
    "#                 halogen=row['halogen']\n",
    "\n",
    "                desc_molcat = get_descriptors(molcat, desc_molcats)\n",
    "                desc_metal = get_descriptors(metal, desc_metals)\n",
    "                desc_halogen = get_descriptors(halogen, desc_halogens)\n",
    "\n",
    "                all_data['molcat'].append(molcat)\n",
    "                all_data['metal'].append(metal)\n",
    "                all_data['halogen'].append(halogen)\n",
    "\n",
    "                all_data['bandgap_obj'].append(bandgap_obj)\n",
    "                all_data['m_star_obj'].append(m_star_obj)\n",
    "\n",
    "                for key, val in zip(desc_molcat_names, desc_molcat):\n",
    "                    all_data[key].append(val)\n",
    "\n",
    "                for key, val in zip(desc_metal_names, desc_metal):\n",
    "                    all_data[key].append(val)\n",
    "\n",
    "                for key, val in zip(desc_halogen_names, desc_halogen):\n",
    "                    all_data[key].append(val )\n",
    "        \n",
    "    \n",
    "    return pd.DataFrame(all_data)"
   ]
  },
  {
   "cell_type": "code",
   "execution_count": 56,
   "id": "eb2559f3",
   "metadata": {},
   "outputs": [
    {
     "name": "stdout",
     "output_type": "stream",
     "text": [
      "(111, 10)\n"
     ]
    },
    {
     "data": {
      "text/html": [
       "<div>\n",
       "<style scoped>\n",
       "    .dataframe tbody tr th:only-of-type {\n",
       "        vertical-align: middle;\n",
       "    }\n",
       "\n",
       "    .dataframe tbody tr th {\n",
       "        vertical-align: top;\n",
       "    }\n",
       "\n",
       "    .dataframe thead th {\n",
       "        text-align: right;\n",
       "    }\n",
       "</style>\n",
       "<table border=\"1\" class=\"dataframe\">\n",
       "  <thead>\n",
       "    <tr style=\"text-align: right;\">\n",
       "      <th></th>\n",
       "      <th>E_hull</th>\n",
       "      <th>mu_mu_B</th>\n",
       "      <th>m_star</th>\n",
       "      <th>m_e_star</th>\n",
       "      <th>m_h_star</th>\n",
       "      <th>E_f</th>\n",
       "      <th>bandgap</th>\n",
       "      <th>molcat</th>\n",
       "      <th>metal</th>\n",
       "      <th>halogen</th>\n",
       "    </tr>\n",
       "  </thead>\n",
       "  <tbody>\n",
       "    <tr>\n",
       "      <th>0</th>\n",
       "      <td>0.0</td>\n",
       "      <td>0.0</td>\n",
       "      <td>7.11</td>\n",
       "      <td>7.14</td>\n",
       "      <td>&gt;1000</td>\n",
       "      <td>-0.565</td>\n",
       "      <td>2.54</td>\n",
       "      <td>H3S</td>\n",
       "      <td>In</td>\n",
       "      <td>Cl</td>\n",
       "    </tr>\n",
       "    <tr>\n",
       "      <th>1</th>\n",
       "      <td>0.0</td>\n",
       "      <td>20.0</td>\n",
       "      <td>44.46</td>\n",
       "      <td>&gt;1000</td>\n",
       "      <td>44.46</td>\n",
       "      <td>-0.467</td>\n",
       "      <td>1.52</td>\n",
       "      <td>MP</td>\n",
       "      <td>Mn</td>\n",
       "      <td>Cl</td>\n",
       "    </tr>\n",
       "    <tr>\n",
       "      <th>2</th>\n",
       "      <td>0.0</td>\n",
       "      <td>0.0</td>\n",
       "      <td>0.34</td>\n",
       "      <td>0.35</td>\n",
       "      <td>6.64</td>\n",
       "      <td>-1.056</td>\n",
       "      <td>4.00</td>\n",
       "      <td>NH4</td>\n",
       "      <td>Ca</td>\n",
       "      <td>Br</td>\n",
       "    </tr>\n",
       "    <tr>\n",
       "      <th>3</th>\n",
       "      <td>0.0</td>\n",
       "      <td>0.0</td>\n",
       "      <td>0.52</td>\n",
       "      <td>1.09</td>\n",
       "      <td>0.99</td>\n",
       "      <td>-0.415</td>\n",
       "      <td>3.06</td>\n",
       "      <td>MP</td>\n",
       "      <td>Ge</td>\n",
       "      <td>Cl</td>\n",
       "    </tr>\n",
       "    <tr>\n",
       "      <th>4</th>\n",
       "      <td>0.0</td>\n",
       "      <td>0.0</td>\n",
       "      <td>363.95</td>\n",
       "      <td>&gt;1000</td>\n",
       "      <td>417.06</td>\n",
       "      <td>-0.231</td>\n",
       "      <td>1.03</td>\n",
       "      <td>H3S</td>\n",
       "      <td>Te</td>\n",
       "      <td>Br</td>\n",
       "    </tr>\n",
       "  </tbody>\n",
       "</table>\n",
       "</div>"
      ],
      "text/plain": [
       "   E_hull  mu_mu_B  m_star          m_e_star          m_h_star    E_f  \\\n",
       "0     0.0      0.0    7.11              7.14             >1000 -0.565   \n",
       "1     0.0     20.0   44.46             >1000             44.46 -0.467   \n",
       "2     0.0      0.0    0.34              0.35              6.64 -1.056   \n",
       "3     0.0      0.0    0.52              1.09              0.99 -0.415   \n",
       "4     0.0      0.0  363.95             >1000            417.06 -0.231   \n",
       "\n",
       "   bandgap molcat metal halogen  \n",
       "0     2.54    H3S    In      Cl  \n",
       "1     1.52     MP    Mn      Cl  \n",
       "2     4.00    NH4    Ca      Br  \n",
       "3     3.06     MP    Ge      Cl  \n",
       "4     1.03    H3S    Te      Br  "
      ]
     },
     "execution_count": 56,
     "metadata": {},
     "output_type": "execute_result"
    }
   ],
   "source": [
    "# load in the reference data\n",
    "df_lookup = pd.read_csv('df_results.csv')\n",
    "print(df_lookup.shape)\n",
    "df_lookup.head()"
   ]
  },
  {
   "cell_type": "code",
   "execution_count": 57,
   "id": "d822cda4",
   "metadata": {},
   "outputs": [
    {
     "name": "stdout",
     "output_type": "stream",
     "text": [
      "HALOGENS :  4 4\n",
      "METALS :  4 29\n",
      "MOLCATS :  6 11\n"
     ]
    }
   ],
   "source": [
    "# load individual descriptor files\n",
    "# dictionaries with {'option_1': {'desc_1': val, 'desc_2': val, ...}, ...}\n",
    "\n",
    "desc_halogens = pickle.load(open('descriptors/desc_halogens.pkl', 'rb'))\n",
    "desc_metals = pickle.load(open('descriptors/desc_metals.pkl', 'rb'))\n",
    "desc_molcats = pickle.load(open('descriptors/desc_molcats.pkl', 'rb'))\n",
    "\n",
    "# number of descritpors, number of options\n",
    "print('HALOGENS : ', len(desc_halogens), len(desc_halogens['electron_affinity'])) \n",
    "print('METALS : ', len(desc_metals), len(desc_metals['electron_affinity'])) \n",
    "print('MOLCATS : ', len(desc_molcats), len(desc_molcats['mw'])) "
   ]
  },
  {
   "cell_type": "code",
   "execution_count": 58,
   "id": "8296f4ac",
   "metadata": {},
   "outputs": [],
   "source": [
    "# generate descriptors for all possible perovskites\n"
   ]
  },
  {
   "cell_type": "code",
   "execution_count": 59,
   "id": "a70e011a",
   "metadata": {},
   "outputs": [],
   "source": [
    "desc = get_descriptors('H3S', desc_molcats)"
   ]
  },
  {
   "cell_type": "code",
   "execution_count": 60,
   "id": "a673e86e",
   "metadata": {},
   "outputs": [],
   "source": [
    "df = make_dataset(df_lookup, desc_halogens, desc_metals, desc_molcats)"
   ]
  },
  {
   "cell_type": "code",
   "execution_count": 61,
   "id": "d1416d5d",
   "metadata": {},
   "outputs": [
    {
     "data": {
      "text/html": [
       "<div>\n",
       "<style scoped>\n",
       "    .dataframe tbody tr th:only-of-type {\n",
       "        vertical-align: middle;\n",
       "    }\n",
       "\n",
       "    .dataframe tbody tr th {\n",
       "        vertical-align: top;\n",
       "    }\n",
       "\n",
       "    .dataframe thead th {\n",
       "        text-align: right;\n",
       "    }\n",
       "</style>\n",
       "<table border=\"1\" class=\"dataframe\">\n",
       "  <thead>\n",
       "    <tr style=\"text-align: right;\">\n",
       "      <th></th>\n",
       "      <th>molcat</th>\n",
       "      <th>metal</th>\n",
       "      <th>halogen</th>\n",
       "      <th>is_feas</th>\n",
       "      <th>bandgap_obj</th>\n",
       "      <th>m_star_obj</th>\n",
       "      <th>molcats-scf_e</th>\n",
       "      <th>molcats-homo_e</th>\n",
       "      <th>molcats-lumo_e</th>\n",
       "      <th>molcats-dip_mom_norm</th>\n",
       "      <th>molcats-radius_2d</th>\n",
       "      <th>molcats-mw</th>\n",
       "      <th>metals-electron_affinity</th>\n",
       "      <th>metals-electronegativity</th>\n",
       "      <th>metals-ionization_energy</th>\n",
       "      <th>metals-total_mass</th>\n",
       "      <th>halogen-electron_affinity</th>\n",
       "      <th>halogen-electronegativity</th>\n",
       "      <th>halogen-ionization_energy</th>\n",
       "      <th>halogen-total_mass</th>\n",
       "    </tr>\n",
       "  </thead>\n",
       "  <tbody>\n",
       "    <tr>\n",
       "      <th>0</th>\n",
       "      <td>H3S</td>\n",
       "      <td>Be</td>\n",
       "      <td>F</td>\n",
       "      <td>1</td>\n",
       "      <td>NaN</td>\n",
       "      <td>NaN</td>\n",
       "      <td>-11942.468771</td>\n",
       "      <td>-15.883013</td>\n",
       "      <td>-6.655633</td>\n",
       "      <td>1.245348</td>\n",
       "      <td>0.0</td>\n",
       "      <td>34.994998</td>\n",
       "      <td>-0.500000</td>\n",
       "      <td>1.57</td>\n",
       "      <td>9.32269</td>\n",
       "      <td>9.01218</td>\n",
       "      <td>3.401190</td>\n",
       "      <td>3.98</td>\n",
       "      <td>17.42282</td>\n",
       "      <td>18.998403</td>\n",
       "    </tr>\n",
       "    <tr>\n",
       "      <th>1</th>\n",
       "      <td>H3S</td>\n",
       "      <td>Be</td>\n",
       "      <td>Cl</td>\n",
       "      <td>1</td>\n",
       "      <td>NaN</td>\n",
       "      <td>NaN</td>\n",
       "      <td>-11942.468771</td>\n",
       "      <td>-15.883013</td>\n",
       "      <td>-6.655633</td>\n",
       "      <td>1.245348</td>\n",
       "      <td>0.0</td>\n",
       "      <td>34.994998</td>\n",
       "      <td>-0.500000</td>\n",
       "      <td>1.57</td>\n",
       "      <td>9.32269</td>\n",
       "      <td>9.01218</td>\n",
       "      <td>3.612725</td>\n",
       "      <td>3.16</td>\n",
       "      <td>12.96764</td>\n",
       "      <td>35.453000</td>\n",
       "    </tr>\n",
       "    <tr>\n",
       "      <th>2</th>\n",
       "      <td>H3S</td>\n",
       "      <td>Be</td>\n",
       "      <td>Br</td>\n",
       "      <td>1</td>\n",
       "      <td>NaN</td>\n",
       "      <td>NaN</td>\n",
       "      <td>-11942.468771</td>\n",
       "      <td>-15.883013</td>\n",
       "      <td>-6.655633</td>\n",
       "      <td>1.245348</td>\n",
       "      <td>0.0</td>\n",
       "      <td>34.994998</td>\n",
       "      <td>-0.500000</td>\n",
       "      <td>1.57</td>\n",
       "      <td>9.32269</td>\n",
       "      <td>9.01218</td>\n",
       "      <td>3.363588</td>\n",
       "      <td>2.96</td>\n",
       "      <td>11.81381</td>\n",
       "      <td>79.904000</td>\n",
       "    </tr>\n",
       "    <tr>\n",
       "      <th>3</th>\n",
       "      <td>H3S</td>\n",
       "      <td>Be</td>\n",
       "      <td>I</td>\n",
       "      <td>1</td>\n",
       "      <td>NaN</td>\n",
       "      <td>NaN</td>\n",
       "      <td>-11942.468771</td>\n",
       "      <td>-15.883013</td>\n",
       "      <td>-6.655633</td>\n",
       "      <td>1.245348</td>\n",
       "      <td>0.0</td>\n",
       "      <td>34.994998</td>\n",
       "      <td>-0.500000</td>\n",
       "      <td>1.57</td>\n",
       "      <td>9.32269</td>\n",
       "      <td>9.01218</td>\n",
       "      <td>3.059047</td>\n",
       "      <td>2.66</td>\n",
       "      <td>10.45126</td>\n",
       "      <td>126.904500</td>\n",
       "    </tr>\n",
       "    <tr>\n",
       "      <th>4</th>\n",
       "      <td>H3S</td>\n",
       "      <td>Mg</td>\n",
       "      <td>F</td>\n",
       "      <td>1</td>\n",
       "      <td>NaN</td>\n",
       "      <td>NaN</td>\n",
       "      <td>-11942.468771</td>\n",
       "      <td>-15.883013</td>\n",
       "      <td>-6.655633</td>\n",
       "      <td>1.245348</td>\n",
       "      <td>0.0</td>\n",
       "      <td>34.994998</td>\n",
       "      <td>-0.400000</td>\n",
       "      <td>1.31</td>\n",
       "      <td>7.64624</td>\n",
       "      <td>24.30500</td>\n",
       "      <td>3.401190</td>\n",
       "      <td>3.98</td>\n",
       "      <td>17.42282</td>\n",
       "      <td>18.998403</td>\n",
       "    </tr>\n",
       "    <tr>\n",
       "      <th>...</th>\n",
       "      <td>...</td>\n",
       "      <td>...</td>\n",
       "      <td>...</td>\n",
       "      <td>...</td>\n",
       "      <td>...</td>\n",
       "      <td>...</td>\n",
       "      <td>...</td>\n",
       "      <td>...</td>\n",
       "      <td>...</td>\n",
       "      <td>...</td>\n",
       "      <td>...</td>\n",
       "      <td>...</td>\n",
       "      <td>...</td>\n",
       "      <td>...</td>\n",
       "      <td>...</td>\n",
       "      <td>...</td>\n",
       "      <td>...</td>\n",
       "      <td>...</td>\n",
       "      <td>...</td>\n",
       "      <td>...</td>\n",
       "    </tr>\n",
       "    <tr>\n",
       "      <th>1271</th>\n",
       "      <td>tBA</td>\n",
       "      <td>Se</td>\n",
       "      <td>I</td>\n",
       "      <td>1</td>\n",
       "      <td>NaN</td>\n",
       "      <td>NaN</td>\n",
       "      <td>-5823.944381</td>\n",
       "      <td>-14.192914</td>\n",
       "      <td>-5.117373</td>\n",
       "      <td>3.962000</td>\n",
       "      <td>1.0</td>\n",
       "      <td>74.096426</td>\n",
       "      <td>2.020605</td>\n",
       "      <td>2.55</td>\n",
       "      <td>9.75238</td>\n",
       "      <td>78.96000</td>\n",
       "      <td>3.059047</td>\n",
       "      <td>2.66</td>\n",
       "      <td>10.45126</td>\n",
       "      <td>126.904500</td>\n",
       "    </tr>\n",
       "    <tr>\n",
       "      <th>1272</th>\n",
       "      <td>tBA</td>\n",
       "      <td>Te</td>\n",
       "      <td>F</td>\n",
       "      <td>1</td>\n",
       "      <td>NaN</td>\n",
       "      <td>NaN</td>\n",
       "      <td>-5823.944381</td>\n",
       "      <td>-14.192914</td>\n",
       "      <td>-5.117373</td>\n",
       "      <td>3.962000</td>\n",
       "      <td>1.0</td>\n",
       "      <td>74.096426</td>\n",
       "      <td>1.970875</td>\n",
       "      <td>2.10</td>\n",
       "      <td>9.00960</td>\n",
       "      <td>127.60000</td>\n",
       "      <td>3.401190</td>\n",
       "      <td>3.98</td>\n",
       "      <td>17.42282</td>\n",
       "      <td>18.998403</td>\n",
       "    </tr>\n",
       "    <tr>\n",
       "      <th>1273</th>\n",
       "      <td>tBA</td>\n",
       "      <td>Te</td>\n",
       "      <td>Cl</td>\n",
       "      <td>1</td>\n",
       "      <td>NaN</td>\n",
       "      <td>NaN</td>\n",
       "      <td>-5823.944381</td>\n",
       "      <td>-14.192914</td>\n",
       "      <td>-5.117373</td>\n",
       "      <td>3.962000</td>\n",
       "      <td>1.0</td>\n",
       "      <td>74.096426</td>\n",
       "      <td>1.970875</td>\n",
       "      <td>2.10</td>\n",
       "      <td>9.00960</td>\n",
       "      <td>127.60000</td>\n",
       "      <td>3.612725</td>\n",
       "      <td>3.16</td>\n",
       "      <td>12.96764</td>\n",
       "      <td>35.453000</td>\n",
       "    </tr>\n",
       "    <tr>\n",
       "      <th>1274</th>\n",
       "      <td>tBA</td>\n",
       "      <td>Te</td>\n",
       "      <td>Br</td>\n",
       "      <td>1</td>\n",
       "      <td>NaN</td>\n",
       "      <td>NaN</td>\n",
       "      <td>-5823.944381</td>\n",
       "      <td>-14.192914</td>\n",
       "      <td>-5.117373</td>\n",
       "      <td>3.962000</td>\n",
       "      <td>1.0</td>\n",
       "      <td>74.096426</td>\n",
       "      <td>1.970875</td>\n",
       "      <td>2.10</td>\n",
       "      <td>9.00960</td>\n",
       "      <td>127.60000</td>\n",
       "      <td>3.363588</td>\n",
       "      <td>2.96</td>\n",
       "      <td>11.81381</td>\n",
       "      <td>79.904000</td>\n",
       "    </tr>\n",
       "    <tr>\n",
       "      <th>1275</th>\n",
       "      <td>tBA</td>\n",
       "      <td>Te</td>\n",
       "      <td>I</td>\n",
       "      <td>1</td>\n",
       "      <td>NaN</td>\n",
       "      <td>NaN</td>\n",
       "      <td>-5823.944381</td>\n",
       "      <td>-14.192914</td>\n",
       "      <td>-5.117373</td>\n",
       "      <td>3.962000</td>\n",
       "      <td>1.0</td>\n",
       "      <td>74.096426</td>\n",
       "      <td>1.970875</td>\n",
       "      <td>2.10</td>\n",
       "      <td>9.00960</td>\n",
       "      <td>127.60000</td>\n",
       "      <td>3.059047</td>\n",
       "      <td>2.66</td>\n",
       "      <td>10.45126</td>\n",
       "      <td>126.904500</td>\n",
       "    </tr>\n",
       "  </tbody>\n",
       "</table>\n",
       "<p>1276 rows × 20 columns</p>\n",
       "</div>"
      ],
      "text/plain": [
       "     molcat metal halogen  is_feas  bandgap_obj  m_star_obj  molcats-scf_e  \\\n",
       "0       H3S    Be       F        1          NaN         NaN  -11942.468771   \n",
       "1       H3S    Be      Cl        1          NaN         NaN  -11942.468771   \n",
       "2       H3S    Be      Br        1          NaN         NaN  -11942.468771   \n",
       "3       H3S    Be       I        1          NaN         NaN  -11942.468771   \n",
       "4       H3S    Mg       F        1          NaN         NaN  -11942.468771   \n",
       "...     ...   ...     ...      ...          ...         ...            ...   \n",
       "1271    tBA    Se       I        1          NaN         NaN   -5823.944381   \n",
       "1272    tBA    Te       F        1          NaN         NaN   -5823.944381   \n",
       "1273    tBA    Te      Cl        1          NaN         NaN   -5823.944381   \n",
       "1274    tBA    Te      Br        1          NaN         NaN   -5823.944381   \n",
       "1275    tBA    Te       I        1          NaN         NaN   -5823.944381   \n",
       "\n",
       "      molcats-homo_e  molcats-lumo_e  molcats-dip_mom_norm  molcats-radius_2d  \\\n",
       "0         -15.883013       -6.655633              1.245348                0.0   \n",
       "1         -15.883013       -6.655633              1.245348                0.0   \n",
       "2         -15.883013       -6.655633              1.245348                0.0   \n",
       "3         -15.883013       -6.655633              1.245348                0.0   \n",
       "4         -15.883013       -6.655633              1.245348                0.0   \n",
       "...              ...             ...                   ...                ...   \n",
       "1271      -14.192914       -5.117373              3.962000                1.0   \n",
       "1272      -14.192914       -5.117373              3.962000                1.0   \n",
       "1273      -14.192914       -5.117373              3.962000                1.0   \n",
       "1274      -14.192914       -5.117373              3.962000                1.0   \n",
       "1275      -14.192914       -5.117373              3.962000                1.0   \n",
       "\n",
       "      molcats-mw  metals-electron_affinity  metals-electronegativity  \\\n",
       "0      34.994998                 -0.500000                      1.57   \n",
       "1      34.994998                 -0.500000                      1.57   \n",
       "2      34.994998                 -0.500000                      1.57   \n",
       "3      34.994998                 -0.500000                      1.57   \n",
       "4      34.994998                 -0.400000                      1.31   \n",
       "...          ...                       ...                       ...   \n",
       "1271   74.096426                  2.020605                      2.55   \n",
       "1272   74.096426                  1.970875                      2.10   \n",
       "1273   74.096426                  1.970875                      2.10   \n",
       "1274   74.096426                  1.970875                      2.10   \n",
       "1275   74.096426                  1.970875                      2.10   \n",
       "\n",
       "      metals-ionization_energy  metals-total_mass  halogen-electron_affinity  \\\n",
       "0                      9.32269            9.01218                   3.401190   \n",
       "1                      9.32269            9.01218                   3.612725   \n",
       "2                      9.32269            9.01218                   3.363588   \n",
       "3                      9.32269            9.01218                   3.059047   \n",
       "4                      7.64624           24.30500                   3.401190   \n",
       "...                        ...                ...                        ...   \n",
       "1271                   9.75238           78.96000                   3.059047   \n",
       "1272                   9.00960          127.60000                   3.401190   \n",
       "1273                   9.00960          127.60000                   3.612725   \n",
       "1274                   9.00960          127.60000                   3.363588   \n",
       "1275                   9.00960          127.60000                   3.059047   \n",
       "\n",
       "      halogen-electronegativity  halogen-ionization_energy  halogen-total_mass  \n",
       "0                          3.98                   17.42282           18.998403  \n",
       "1                          3.16                   12.96764           35.453000  \n",
       "2                          2.96                   11.81381           79.904000  \n",
       "3                          2.66                   10.45126          126.904500  \n",
       "4                          3.98                   17.42282           18.998403  \n",
       "...                         ...                        ...                 ...  \n",
       "1271                       2.66                   10.45126          126.904500  \n",
       "1272                       3.98                   17.42282           18.998403  \n",
       "1273                       3.16                   12.96764           35.453000  \n",
       "1274                       2.96                   11.81381           79.904000  \n",
       "1275                       2.66                   10.45126          126.904500  \n",
       "\n",
       "[1276 rows x 20 columns]"
      ]
     },
     "execution_count": 61,
     "metadata": {},
     "output_type": "execute_result"
    }
   ],
   "source": [
    "df"
   ]
  },
  {
   "cell_type": "markdown",
   "id": "2b323028",
   "metadata": {},
   "source": [
    "## Feature importances for the feasibility classification problem\n",
    "\n",
    "Looks like we can have good performance classifying the feasibiltiy using our selected \n",
    "features --> using vanilla random forests from sklearn\n",
    "\n",
    "train acc: 1.0 test acc: 0.941\n",
    "\n",
    "train roc auc: 1.0  train roc auc: 0.893\n",
    "\n",
    "Looks like the descriptors of the metals are much more important for classifying the feasibility of the perovskites than are the features of the metals and molecular cations"
   ]
  },
  {
   "cell_type": "code",
   "execution_count": 92,
   "id": "69abf7c0",
   "metadata": {},
   "outputs": [
    {
     "name": "stdout",
     "output_type": "stream",
     "text": [
      "(1020, 14) (1020, 1)\n",
      "(256, 14) (256, 1)\n"
     ]
    }
   ],
   "source": [
    "# make classification dataset\n",
    "X_columns = df.iloc[:, 6:].columns\n",
    "X = df.iloc[:, 6:].values\n",
    "y = df.is_feas.values.reshape(-1, 1)\n",
    "\n",
    "X_train, X_test, y_train, y_test = train_test_split(X, y, test_size=0.2, random_state=100700, stratify=y)\n",
    "\n",
    "print(X_train.shape, y_train.shape)\n",
    "print(X_test.shape, y_test.shape)"
   ]
  },
  {
   "cell_type": "code",
   "execution_count": 93,
   "id": "fa219ad3",
   "metadata": {},
   "outputs": [
    {
     "name": "stderr",
     "output_type": "stream",
     "text": [
      "/opt/anaconda3/envs/feas2/lib/python3.7/site-packages/ipykernel_launcher.py:4: DataConversionWarning: A column-vector y was passed when a 1d array was expected. Please change the shape of y to (n_samples,), for example using ravel().\n",
      "  after removing the cwd from sys.path.\n"
     ]
    },
    {
     "data": {
      "text/plain": [
       "RandomForestClassifier()"
      ]
     },
     "execution_count": 93,
     "metadata": {},
     "output_type": "execute_result"
    }
   ],
   "source": [
    "# random forest model\n",
    "model = RandomForestClassifier()\n",
    "\n",
    "model.fit(X_train, y_train)\n",
    "\n",
    "pred_train = model.predict(X_train)\n",
    "pred_test = model.predict(X_test)"
   ]
  },
  {
   "cell_type": "code",
   "execution_count": 100,
   "id": "5d5250cb",
   "metadata": {},
   "outputs": [
    {
     "data": {
      "text/plain": [
       "array([[0.  , 1.  ],\n",
       "       [0.63, 0.37],\n",
       "       [0.05, 0.95],\n",
       "       ...,\n",
       "       [0.  , 1.  ],\n",
       "       [0.02, 0.98],\n",
       "       [0.  , 1.  ]])"
      ]
     },
     "execution_count": 100,
     "metadata": {},
     "output_type": "execute_result"
    }
   ],
   "source": [
    "pred_train = model.predict(X_train)\n",
    "prob_train = model.predict_proba(X_train)\n",
    "\n",
    "pred_test = model.predict(X_test)\n",
    "prob_test = model.predict_proba(X_test)\n",
    "prob_train"
   ]
  },
  {
   "cell_type": "code",
   "execution_count": 101,
   "id": "71499163",
   "metadata": {},
   "outputs": [
    {
     "name": "stdout",
     "output_type": "stream",
     "text": [
      "1.0 0.94140625\n",
      "1.0 0.8926767676767676\n"
     ]
    }
   ],
   "source": [
    "acc_train = accuracy_score(pred_train, y_train)\n",
    "acc_test = accuracy_score(pred_test, y_test)\n",
    "\n",
    "roc_train = roc_auc_score(y_train, prob_train[:, 1])\n",
    "roc_test = roc_auc_score(y_test, prob_test[:, 1])\n",
    "\n",
    "print(acc_train, acc_test)\n",
    "print(roc_train, roc_test)"
   ]
  },
  {
   "cell_type": "code",
   "execution_count": 81,
   "id": "1f9b2266",
   "metadata": {},
   "outputs": [
    {
     "name": "stdout",
     "output_type": "stream",
     "text": [
      "molcats-scf_e 0.058206882408973336\n",
      "molcats-homo_e 0.04340377121475221\n",
      "molcats-lumo_e 0.023311325836138944\n",
      "molcats-dip_mom_norm 0.06060799146992576\n",
      "molcats-radius_2d 0.020243335435953604\n",
      "molcats-mw 0.0449492079857951\n",
      "metals-electron_affinity 0.16733742371956403\n",
      "metals-electronegativity 0.14869229399013173\n",
      "metals-ionization_energy 0.13686751820523355\n",
      "metals-total_mass 0.12125671093947231\n",
      "halogen-electron_affinity 0.04072313866035502\n",
      "halogen-electronegativity 0.043366476180070695\n",
      "halogen-ionization_energy 0.04934461049597896\n",
      "halogen-total_mass 0.04168931345765479\n"
     ]
    }
   ],
   "source": [
    "feat_importances = model.feature_importances_\n",
    "\n",
    "# the metals seem to be much more important in determining the stability than do \n",
    "# either of the molecular cations or the halogens\n",
    "for name, val in zip(X_columns, feat_importances):\n",
    "    print(name, val)"
   ]
  },
  {
   "cell_type": "code",
   "execution_count": null,
   "id": "26db639f",
   "metadata": {},
   "outputs": [],
   "source": []
  },
  {
   "cell_type": "markdown",
   "id": "adb4ae11",
   "metadata": {},
   "source": [
    "## Feature importances for the regression problems\n"
   ]
  },
  {
   "cell_type": "code",
   "execution_count": 108,
   "id": "cd6bb54f",
   "metadata": {},
   "outputs": [
    {
     "name": "stdout",
     "output_type": "stream",
     "text": [
      "(111, 20)\n",
      "(111, 14) (111, 2)\n",
      "(88, 14) (88, 2)\n",
      "(23, 14) (23, 2)\n",
      "(88, 1) (23, 1)\n",
      "(88, 1) (23, 1)\n"
     ]
    }
   ],
   "source": [
    "# make regression datasets \n",
    "\n",
    "X_columns = df.iloc[:, 6:].columns\n",
    "df_reg = df[df.is_feas==0]\n",
    "print(df_reg.shape)\n",
    "X = df_reg.iloc[:, 6:].values\n",
    "y = df_reg[['bandgap_obj', 'm_star_obj']].values\n",
    "\n",
    "print(X.shape, y.shape)\n",
    "\n",
    "X_train, X_test, y_train, y_test = train_test_split(X, y, test_size=0.2, random_state=100700)\n",
    "\n",
    "print(X_train.shape, y_train.shape)\n",
    "print(X_test.shape, y_test.shape)\n",
    "\n",
    "y_b_train, y_m_train = y_train[:, 0].reshape(-1, 1), y_train[:, 1].reshape(-1, 1)\n",
    "y_b_test, y_m_test = y_test[:, 0].reshape(-1, 1), y_test[:, 1].reshape(-1, 1)\n",
    "\n",
    "\n",
    "print(y_b_train.shape, y_b_test.shape )\n",
    "print(y_m_train.shape, y_m_test.shape )"
   ]
  },
  {
   "cell_type": "code",
   "execution_count": 110,
   "id": "cd16408e",
   "metadata": {},
   "outputs": [
    {
     "name": "stderr",
     "output_type": "stream",
     "text": [
      "/opt/anaconda3/envs/feas2/lib/python3.7/site-packages/ipykernel_launcher.py:2: DataConversionWarning: A column-vector y was passed when a 1d array was expected. Please change the shape of y to (n_samples,), for example using ravel().\n",
      "  \n",
      "/opt/anaconda3/envs/feas2/lib/python3.7/site-packages/ipykernel_launcher.py:5: DataConversionWarning: A column-vector y was passed when a 1d array was expected. Please change the shape of y to (n_samples,), for example using ravel().\n",
      "  \"\"\"\n"
     ]
    },
    {
     "data": {
      "text/plain": [
       "RandomForestRegressor()"
      ]
     },
     "execution_count": 110,
     "metadata": {},
     "output_type": "execute_result"
    }
   ],
   "source": [
    "model_b = RandomForestRegressor()\n",
    "model_b.fit(X_train, y_b_train)\n",
    "\n",
    "model_m = RandomForestRegressor()\n",
    "model_m.fit(X_train, y_m_train)"
   ]
  },
  {
   "cell_type": "code",
   "execution_count": 113,
   "id": "58367455",
   "metadata": {},
   "outputs": [],
   "source": [
    "pred_b_train = model_b.predict(X_train)\n",
    "pred_b_test = model_b.predict(X_test)\n",
    "\n",
    "pred_m_train = model_m.predict(X_train)\n",
    "pred_m_test = model_m.predict(X_test)"
   ]
  },
  {
   "cell_type": "code",
   "execution_count": 114,
   "id": "f7f59d18",
   "metadata": {},
   "outputs": [],
   "source": [
    "mae_b_train = mean_absolute_error(y_b_train, pred_b_train)\n",
    "mae_b_test = mean_absolute_error(y_b_test, pred_b_test)\n",
    "\n",
    "r2_b_train = r2_score(y_b_train, pred_b_train)\n",
    "r2_b_test = r2_score(y_b_test, pred_b_test)\n",
    "\n",
    "\n",
    "mae_m_train = mean_absolute_error(y_m_train, pred_m_train)\n",
    "mae_m_test = mean_absolute_error(y_m_test, pred_m_test)\n",
    "\n",
    "r2_m_train = r2_score(y_m_train, pred_m_train)\n",
    "r2_m_test = r2_score(y_m_test, pred_m_test)"
   ]
  },
  {
   "cell_type": "code",
   "execution_count": 115,
   "id": "bd44537d",
   "metadata": {},
   "outputs": [
    {
     "name": "stdout",
     "output_type": "stream",
     "text": [
      "0.1412215909090908 0.41719565217391336\n",
      "0.9697819791395643 0.7040175083648696\n",
      "====================================================================================================\n",
      "11.518979545454537 26.63210869565215\n",
      "0.9425445601622963 -3.4057747242836864\n"
     ]
    }
   ],
   "source": [
    "print(mae_b_train, mae_b_test)\n",
    "print(r2_b_train, r2_b_test)\n",
    "print('='*100)\n",
    "print(mae_m_train, mae_m_test)\n",
    "print(r2_m_train, r2_m_test)"
   ]
  },
  {
   "cell_type": "code",
   "execution_count": 130,
   "id": "9bd8aa9f",
   "metadata": {},
   "outputs": [
    {
     "data": {
      "text/plain": [
       "(0.0, 100.0)"
      ]
     },
     "execution_count": 130,
     "metadata": {},
     "output_type": "execute_result"
    },
    {
     "data": {
      "image/png": "[encoded data removed]",
      "text/plain": [
       "<Figure size 432x288 with 1 Axes>"
      ]
     },
     "metadata": {
      "needs_background": "light"
     },
     "output_type": "display_data"
    }
   ],
   "source": [
    "plt.scatter(y_m_test, pred_m_test)\n",
    "plt.plot([0, 280], [0, 280])\n",
    "\n",
    "plt.scatter(y_m_train, pred_m_train)\n",
    "plt.plot([0, 280], [0, 280])\n",
    "\n",
    "plt.xlim(0, 100)\n",
    "plt.ylim(0, 100)"
   ]
  },
  {
   "cell_type": "code",
   "execution_count": null,
   "id": "fe76088e",
   "metadata": {},
   "outputs": [],
   "source": []
  },
  {
   "cell_type": "code",
   "execution_count": 120,
   "id": "0db02ed4",
   "metadata": {},
   "outputs": [
    {
     "data": {
      "text/plain": [
       "<AxesSubplot:xlabel='m_star_obj'>"
      ]
     },
     "execution_count": 120,
     "metadata": {},
     "output_type": "execute_result"
    },
    {
     "data": {
      "image/png": "[encoded data removed]",
      "text/plain": [
       "<Figure size 432x288 with 1 Axes>"
      ]
     },
     "metadata": {
      "needs_background": "light"
     },
     "output_type": "display_data"
    }
   ],
   "source": [
    "sns.distplot(df_reg['m_star_obj'], kde=False)\n",
    "sns.rugplot(df_reg['m_star_obj'] )"
   ]
  },
  {
   "cell_type": "code",
   "execution_count": 121,
   "id": "a34f6070",
   "metadata": {},
   "outputs": [
    {
     "data": {
      "text/html": [
       "<div>\n",
       "<style scoped>\n",
       "    .dataframe tbody tr th:only-of-type {\n",
       "        vertical-align: middle;\n",
       "    }\n",
       "\n",
       "    .dataframe tbody tr th {\n",
       "        vertical-align: top;\n",
       "    }\n",
       "\n",
       "    .dataframe thead th {\n",
       "        text-align: right;\n",
       "    }\n",
       "</style>\n",
       "<table border=\"1\" class=\"dataframe\">\n",
       "  <thead>\n",
       "    <tr style=\"text-align: right;\">\n",
       "      <th></th>\n",
       "      <th>molcat</th>\n",
       "      <th>metal</th>\n",
       "      <th>halogen</th>\n",
       "      <th>is_feas</th>\n",
       "      <th>bandgap_obj</th>\n",
       "      <th>m_star_obj</th>\n",
       "      <th>molcats-scf_e</th>\n",
       "      <th>molcats-homo_e</th>\n",
       "      <th>molcats-lumo_e</th>\n",
       "      <th>molcats-dip_mom_norm</th>\n",
       "      <th>molcats-radius_2d</th>\n",
       "      <th>molcats-mw</th>\n",
       "      <th>metals-electron_affinity</th>\n",
       "      <th>metals-electronegativity</th>\n",
       "      <th>metals-ionization_energy</th>\n",
       "      <th>metals-total_mass</th>\n",
       "      <th>halogen-electron_affinity</th>\n",
       "      <th>halogen-electronegativity</th>\n",
       "      <th>halogen-ionization_energy</th>\n",
       "      <th>halogen-total_mass</th>\n",
       "    </tr>\n",
       "  </thead>\n",
       "  <tbody>\n",
       "    <tr>\n",
       "      <th>114</th>\n",
       "      <td>H3S</td>\n",
       "      <td>Te</td>\n",
       "      <td>Br</td>\n",
       "      <td>0</td>\n",
       "      <td>0.22</td>\n",
       "      <td>363.95</td>\n",
       "      <td>-11942.468771</td>\n",
       "      <td>-15.883013</td>\n",
       "      <td>-6.655633</td>\n",
       "      <td>1.245348</td>\n",
       "      <td>0.0</td>\n",
       "      <td>34.994998</td>\n",
       "      <td>1.970875</td>\n",
       "      <td>2.10</td>\n",
       "      <td>9.0096</td>\n",
       "      <td>127.600</td>\n",
       "      <td>3.363588</td>\n",
       "      <td>2.96</td>\n",
       "      <td>11.81381</td>\n",
       "      <td>79.904</td>\n",
       "    </tr>\n",
       "    <tr>\n",
       "      <th>146</th>\n",
       "      <td>NH4</td>\n",
       "      <td>Fe</td>\n",
       "      <td>Br</td>\n",
       "      <td>0</td>\n",
       "      <td>1.26</td>\n",
       "      <td>1000.00</td>\n",
       "      <td>-1547.325209</td>\n",
       "      <td>-22.404494</td>\n",
       "      <td>-6.315490</td>\n",
       "      <td>0.000000</td>\n",
       "      <td>0.0</td>\n",
       "      <td>18.033826</td>\n",
       "      <td>0.153236</td>\n",
       "      <td>1.83</td>\n",
       "      <td>7.9024</td>\n",
       "      <td>55.847</td>\n",
       "      <td>3.363588</td>\n",
       "      <td>2.96</td>\n",
       "      <td>11.81381</td>\n",
       "      <td>79.904</td>\n",
       "    </tr>\n",
       "    <tr>\n",
       "      <th>494</th>\n",
       "      <td>MP</td>\n",
       "      <td>Fe</td>\n",
       "      <td>Br</td>\n",
       "      <td>0</td>\n",
       "      <td>1.26</td>\n",
       "      <td>1000.00</td>\n",
       "      <td>-10410.560772</td>\n",
       "      <td>-16.738539</td>\n",
       "      <td>-5.878476</td>\n",
       "      <td>0.795000</td>\n",
       "      <td>1.0</td>\n",
       "      <td>49.020163</td>\n",
       "      <td>0.153236</td>\n",
       "      <td>1.83</td>\n",
       "      <td>7.9024</td>\n",
       "      <td>55.847</td>\n",
       "      <td>3.363588</td>\n",
       "      <td>2.96</td>\n",
       "      <td>11.81381</td>\n",
       "      <td>79.904</td>\n",
       "    </tr>\n",
       "  </tbody>\n",
       "</table>\n",
       "</div>"
      ],
      "text/plain": [
       "    molcat metal halogen  is_feas  bandgap_obj  m_star_obj  molcats-scf_e  \\\n",
       "114    H3S    Te      Br        0         0.22      363.95  -11942.468771   \n",
       "146    NH4    Fe      Br        0         1.26     1000.00   -1547.325209   \n",
       "494     MP    Fe      Br        0         1.26     1000.00  -10410.560772   \n",
       "\n",
       "     molcats-homo_e  molcats-lumo_e  molcats-dip_mom_norm  molcats-radius_2d  \\\n",
       "114      -15.883013       -6.655633              1.245348                0.0   \n",
       "146      -22.404494       -6.315490              0.000000                0.0   \n",
       "494      -16.738539       -5.878476              0.795000                1.0   \n",
       "\n",
       "     molcats-mw  metals-electron_affinity  metals-electronegativity  \\\n",
       "114   34.994998                  1.970875                      2.10   \n",
       "146   18.033826                  0.153236                      1.83   \n",
       "494   49.020163                  0.153236                      1.83   \n",
       "\n",
       "     metals-ionization_energy  metals-total_mass  halogen-electron_affinity  \\\n",
       "114                    9.0096            127.600                   3.363588   \n",
       "146                    7.9024             55.847                   3.363588   \n",
       "494                    7.9024             55.847                   3.363588   \n",
       "\n",
       "     halogen-electronegativity  halogen-ionization_energy  halogen-total_mass  \n",
       "114                       2.96                   11.81381              79.904  \n",
       "146                       2.96                   11.81381              79.904  \n",
       "494                       2.96                   11.81381              79.904  "
      ]
     },
     "execution_count": 121,
     "metadata": {},
     "output_type": "execute_result"
    }
   ],
   "source": [
    "df_reg[df_reg.m_star_obj>200]"
   ]
  },
  {
   "cell_type": "code",
   "execution_count": 124,
   "id": "bf199251",
   "metadata": {},
   "outputs": [
    {
     "data": {
      "text/plain": [
       "(29.147747747747754, 1.27)"
      ]
     },
     "execution_count": 124,
     "metadata": {},
     "output_type": "execute_result"
    }
   ],
   "source": [
    "df_reg.m_star_obj.mean(), df_reg.m_star_obj.median()"
   ]
  },
  {
   "cell_type": "code",
   "execution_count": null,
   "id": "95980673",
   "metadata": {},
   "outputs": [],
   "source": []
  },
  {
   "cell_type": "code",
   "execution_count": null,
   "id": "21f108a6",
   "metadata": {},
   "outputs": [],
   "source": []
  },
  {
   "cell_type": "code",
   "execution_count": null,
   "id": "ed77cf5a",
   "metadata": {},
   "outputs": [],
   "source": []
  },
  {
   "cell_type": "code",
   "execution_count": 132,
   "id": "25c41cfb",
   "metadata": {},
   "outputs": [
    {
     "name": "stdout",
     "output_type": "stream",
     "text": [
      "molcats-scf_e 0.016301777649500773\n",
      "molcats-homo_e 0.030609773370820142\n",
      "molcats-lumo_e 0.01653468926809452\n",
      "molcats-dip_mom_norm 0.009687626801260374\n",
      "molcats-radius_2d 0.003523097801902956\n",
      "molcats-mw 0.018556641872786512\n",
      "metals-electron_affinity 0.0660572299731411\n",
      "metals-electronegativity 0.16445315273636232\n",
      "metals-ionization_energy 0.06192058739820325\n",
      "metals-total_mass 0.37743998555183356\n",
      "halogen-electron_affinity 0.054280399871541714\n",
      "halogen-electronegativity 0.04383378228038279\n",
      "halogen-ionization_energy 0.0460945566624163\n",
      "halogen-total_mass 0.09070669876175354\n"
     ]
    }
   ],
   "source": [
    "# feature importances for the bandgap predictions\n",
    "feat_importances_b = model_b.feature_importances_\n",
    "feat_importances_m = model_m.feature_importances_\n",
    "\n",
    "for name, val in zip(X_columns, feat_importances_b):\n",
    "    print(name, val)"
   ]
  },
  {
   "cell_type": "code",
   "execution_count": 133,
   "id": "50d57e18",
   "metadata": {},
   "outputs": [
    {
     "name": "stdout",
     "output_type": "stream",
     "text": [
      "molcats-scf_e 0.006733713528797282\n",
      "molcats-homo_e 0.012643437422242911\n",
      "molcats-lumo_e 0.009757124467490358\n",
      "molcats-dip_mom_norm 0.0024991217526024465\n",
      "molcats-radius_2d 0.023559374053330234\n",
      "molcats-mw 0.03366649626133195\n",
      "metals-electron_affinity 0.20521253054277233\n",
      "metals-electronegativity 0.15662698486428503\n",
      "metals-ionization_energy 0.2592639356162441\n",
      "metals-total_mass 0.24641684216259324\n",
      "halogen-electron_affinity 0.01478001697186136\n",
      "halogen-electronegativity 0.0020449273990802083\n",
      "halogen-ionization_energy 0.007466441798768816\n",
      "halogen-total_mass 0.019329053158599833\n"
     ]
    }
   ],
   "source": [
    "for name, val in zip(X_columns, feat_importances_m):\n",
    "    print(name, val)"
   ]
  },
  {
   "cell_type": "code",
   "execution_count": null,
   "id": "bd7e707f",
   "metadata": {},
   "outputs": [],
   "source": []
  }
 ],
 "metadata": {
  "kernelspec": {
   "display_name": "feas2",
   "language": "python",
   "name": "feas2"
  },
  "language_info": {
   "codemirror_mode": {
    "name": "ipython",
    "version": 3
   },
   "file_extension": ".py",
   "mimetype": "text/x-python",
   "name": "python",
   "nbconvert_exporter": "python",
   "pygments_lexer": "ipython3",
   "version": "3.7.10"
  }
 },
 "nbformat": 4,
 "nbformat_minor": 5
}
